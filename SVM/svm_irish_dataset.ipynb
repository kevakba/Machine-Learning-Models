{
 "cells": [
  {
   "cell_type": "markdown",
   "metadata": {},
   "source": [
    "# Problem Statement\n",
    "\n",
    "Aim of this exercise is to get initial insights of the Irish flowers dataset and develop a predictor model using Support Vector Classifier.\n",
    "\n",
    "\n",
    "### Methodology\n",
    "\n",
    "SVM development is divided into multiple steps as mentioned below,\n",
    "1. Data exploring and understanding: This step involves preliminary level data understanding and exploring.\n",
    "\n",
    "2. Data Cleaning: This step includes cleaning the existing data. We check the data for any missing values and treat them as per the requirements. We also need to look for constant value colulmns as that is not going to add any additional value to out analysis. Sometimes columns with very high proportion of any particular value also doesn't add any values. Hence, getting rid of them helps with further analysis. \n",
    "\n",
    "3. Data Visualization: This step involves visualizing our dataset and check for relationship amongst independent variables. We can also reduce some feature columns here but it should not be aggressive.\n",
    "\n",
    "4. Data Preparation: This step is mainly usefull for feeding in the data into the model. It involves steps like creating dummy variables, scaling etc. depending upond the data type. \n",
    "\n",
    "5. Train-test split: This step involves spliting the dataset into train and test parts.\n",
    "\n",
    "6. Model Development-validation and evaluaiton: This steps involves training the model and validate it. It involves evaluating the model using relevant matrics.\n",
    "    - Model development using default parameters for multi-class problem.\n",
    "    - Hyper-parameter tuning using GridsearchCV and model development.\n",
    "\n",
    "7. Conclusion/Recommendation: It involves drawing conclusions and recommendations to business."
   ]
  },
  {
   "cell_type": "markdown",
   "metadata": {},
   "source": [
    "### Import Dependancies"
   ]
  },
  {
   "cell_type": "code",
   "execution_count": 1,
   "metadata": {},
   "outputs": [],
   "source": [
    "import numpy as np\n",
    "import pandas as pd\n",
    "\n",
    "import matplotlib.pyplot as plt\n",
    "import seaborn as sns\n",
    "\n",
    "import warnings\n",
    "warnings.filterwarnings('ignore')\n",
    "\n",
    "\n",
    "from sklearn.model_selection import train_test_split\n",
    "from sklearn.preprocessing import MinMaxScaler\n",
    "from sklearn.model_selection import GridSearchCV\n",
    "from sklearn import svm\n",
    "\n",
    "from sklearn.metrics import confusion_matrix, accuracy_score, classification_report, roc_curve"
   ]
  },
  {
   "cell_type": "markdown",
   "metadata": {},
   "source": [
    "## Reading Dataset"
   ]
  },
  {
   "cell_type": "code",
   "execution_count": 2,
   "metadata": {},
   "outputs": [],
   "source": [
    "data = pd.read_csv('IRIS.csv')"
   ]
  },
  {
   "cell_type": "code",
   "execution_count": 3,
   "metadata": {},
   "outputs": [
    {
     "data": {
      "text/html": [
       "<div>\n",
       "<style scoped>\n",
       "    .dataframe tbody tr th:only-of-type {\n",
       "        vertical-align: middle;\n",
       "    }\n",
       "\n",
       "    .dataframe tbody tr th {\n",
       "        vertical-align: top;\n",
       "    }\n",
       "\n",
       "    .dataframe thead th {\n",
       "        text-align: right;\n",
       "    }\n",
       "</style>\n",
       "<table border=\"1\" class=\"dataframe\">\n",
       "  <thead>\n",
       "    <tr style=\"text-align: right;\">\n",
       "      <th></th>\n",
       "      <th>sepal_length</th>\n",
       "      <th>sepal_width</th>\n",
       "      <th>petal_length</th>\n",
       "      <th>petal_width</th>\n",
       "      <th>species</th>\n",
       "    </tr>\n",
       "  </thead>\n",
       "  <tbody>\n",
       "    <tr>\n",
       "      <th>0</th>\n",
       "      <td>5.1</td>\n",
       "      <td>3.5</td>\n",
       "      <td>1.4</td>\n",
       "      <td>0.2</td>\n",
       "      <td>Iris-setosa</td>\n",
       "    </tr>\n",
       "    <tr>\n",
       "      <th>1</th>\n",
       "      <td>4.9</td>\n",
       "      <td>3.0</td>\n",
       "      <td>1.4</td>\n",
       "      <td>0.2</td>\n",
       "      <td>Iris-setosa</td>\n",
       "    </tr>\n",
       "    <tr>\n",
       "      <th>2</th>\n",
       "      <td>4.7</td>\n",
       "      <td>3.2</td>\n",
       "      <td>1.3</td>\n",
       "      <td>0.2</td>\n",
       "      <td>Iris-setosa</td>\n",
       "    </tr>\n",
       "    <tr>\n",
       "      <th>3</th>\n",
       "      <td>4.6</td>\n",
       "      <td>3.1</td>\n",
       "      <td>1.5</td>\n",
       "      <td>0.2</td>\n",
       "      <td>Iris-setosa</td>\n",
       "    </tr>\n",
       "    <tr>\n",
       "      <th>4</th>\n",
       "      <td>5.0</td>\n",
       "      <td>3.6</td>\n",
       "      <td>1.4</td>\n",
       "      <td>0.2</td>\n",
       "      <td>Iris-setosa</td>\n",
       "    </tr>\n",
       "    <tr>\n",
       "      <th>...</th>\n",
       "      <td>...</td>\n",
       "      <td>...</td>\n",
       "      <td>...</td>\n",
       "      <td>...</td>\n",
       "      <td>...</td>\n",
       "    </tr>\n",
       "    <tr>\n",
       "      <th>145</th>\n",
       "      <td>6.7</td>\n",
       "      <td>3.0</td>\n",
       "      <td>5.2</td>\n",
       "      <td>2.3</td>\n",
       "      <td>Iris-virginica</td>\n",
       "    </tr>\n",
       "    <tr>\n",
       "      <th>146</th>\n",
       "      <td>6.3</td>\n",
       "      <td>2.5</td>\n",
       "      <td>5.0</td>\n",
       "      <td>1.9</td>\n",
       "      <td>Iris-virginica</td>\n",
       "    </tr>\n",
       "    <tr>\n",
       "      <th>147</th>\n",
       "      <td>6.5</td>\n",
       "      <td>3.0</td>\n",
       "      <td>5.2</td>\n",
       "      <td>2.0</td>\n",
       "      <td>Iris-virginica</td>\n",
       "    </tr>\n",
       "    <tr>\n",
       "      <th>148</th>\n",
       "      <td>6.2</td>\n",
       "      <td>3.4</td>\n",
       "      <td>5.4</td>\n",
       "      <td>2.3</td>\n",
       "      <td>Iris-virginica</td>\n",
       "    </tr>\n",
       "    <tr>\n",
       "      <th>149</th>\n",
       "      <td>5.9</td>\n",
       "      <td>3.0</td>\n",
       "      <td>5.1</td>\n",
       "      <td>1.8</td>\n",
       "      <td>Iris-virginica</td>\n",
       "    </tr>\n",
       "  </tbody>\n",
       "</table>\n",
       "<p>150 rows × 5 columns</p>\n",
       "</div>"
      ],
      "text/plain": [
       "     sepal_length  sepal_width  petal_length  petal_width         species\n",
       "0             5.1          3.5           1.4          0.2     Iris-setosa\n",
       "1             4.9          3.0           1.4          0.2     Iris-setosa\n",
       "2             4.7          3.2           1.3          0.2     Iris-setosa\n",
       "3             4.6          3.1           1.5          0.2     Iris-setosa\n",
       "4             5.0          3.6           1.4          0.2     Iris-setosa\n",
       "..            ...          ...           ...          ...             ...\n",
       "145           6.7          3.0           5.2          2.3  Iris-virginica\n",
       "146           6.3          2.5           5.0          1.9  Iris-virginica\n",
       "147           6.5          3.0           5.2          2.0  Iris-virginica\n",
       "148           6.2          3.4           5.4          2.3  Iris-virginica\n",
       "149           5.9          3.0           5.1          1.8  Iris-virginica\n",
       "\n",
       "[150 rows x 5 columns]"
      ]
     },
     "execution_count": 3,
     "metadata": {},
     "output_type": "execute_result"
    }
   ],
   "source": [
    "data"
   ]
  },
  {
   "cell_type": "code",
   "execution_count": 4,
   "metadata": {},
   "outputs": [
    {
     "name": "stdout",
     "output_type": "stream",
     "text": [
      "<class 'pandas.core.frame.DataFrame'>\n",
      "RangeIndex: 150 entries, 0 to 149\n",
      "Data columns (total 5 columns):\n",
      " #   Column        Non-Null Count  Dtype  \n",
      "---  ------        --------------  -----  \n",
      " 0   sepal_length  150 non-null    float64\n",
      " 1   sepal_width   150 non-null    float64\n",
      " 2   petal_length  150 non-null    float64\n",
      " 3   petal_width   150 non-null    float64\n",
      " 4   species       150 non-null    object \n",
      "dtypes: float64(4), object(1)\n",
      "memory usage: 6.0+ KB\n"
     ]
    }
   ],
   "source": [
    "# Data overview\n",
    "\n",
    "data.info()"
   ]
  },
  {
   "cell_type": "markdown",
   "metadata": {},
   "source": [
    "Observation,\n",
    "- Data is having 4 feature columns and 1 class column.\n",
    "- Data is having 150 entries without any null value.\n",
    "- Dtype for feature columns is flaot64."
   ]
  },
  {
   "cell_type": "markdown",
   "metadata": {},
   "source": [
    "## 1. Data Exploration and Understanding"
   ]
  },
  {
   "cell_type": "code",
   "execution_count": 5,
   "metadata": {},
   "outputs": [
    {
     "data": {
      "text/plain": [
       "<AxesSubplot:xlabel='sepal_length'>"
      ]
     },
     "execution_count": 5,
     "metadata": {},
     "output_type": "execute_result"
    },
    {
     "data": {
      "image/png": "[encoded data removed]",
      "text/plain": [
       "<Figure size 504x504 with 2 Axes>"
      ]
     },
     "metadata": {
      "needs_background": "light"
     },
     "output_type": "display_data"
    }
   ],
   "source": [
    "# sepal_length: length of sepal\n",
    "\n",
    "plt.subplots(figsize=(7,7))\n",
    "plt.subplot(2,1,1)\n",
    "sns.distplot(data.sepal_length)\n",
    "plt.subplot(2,1,2)\n",
    "sns.boxplot(data.sepal_length)"
   ]
  },
  {
   "cell_type": "markdown",
   "metadata": {},
   "source": [
    "- Sepal length is having range from 4 to 8. \n",
    "- The median value for sepal length is 5.8 units. \n",
    "- We don't observe any outlier in the sepal length."
   ]
  },
  {
   "cell_type": "code",
   "execution_count": 6,
   "metadata": {},
   "outputs": [
    {
     "data": {
      "text/plain": [
       "<AxesSubplot:xlabel='sepal_width'>"
      ]
     },
     "execution_count": 6,
     "metadata": {},
     "output_type": "execute_result"
    },
    {
     "data": {
      "image/png": "[encoded data removed]",
      "text/plain": [
       "<Figure size 504x504 with 2 Axes>"
      ]
     },
     "metadata": {
      "needs_background": "light"
     },
     "output_type": "display_data"
    }
   ],
   "source": [
    "# sepal_width: width of sepal\n",
    "\n",
    "plt.subplots(figsize=(7,7))\n",
    "plt.subplot(2,1,1)\n",
    "sns.distplot(data.sepal_width)\n",
    "plt.subplot(2,1,2)\n",
    "sns.boxplot(data.sepal_width)"
   ]
  },
  {
   "cell_type": "markdown",
   "metadata": {},
   "source": [
    "- Sepal width is having range from 1.5 to 5. \n",
    "- The median value for sepal width is 3 units. \n",
    "- We can see few outliers in the sepal width on both sides."
   ]
  },
  {
   "cell_type": "code",
   "execution_count": 7,
   "metadata": {},
   "outputs": [
    {
     "data": {
      "text/plain": [
       "<AxesSubplot:xlabel='petal_length'>"
      ]
     },
     "execution_count": 7,
     "metadata": {},
     "output_type": "execute_result"
    },
    {
     "data": {
      "image/png": "[encoded data removed]",
      "text/plain": [
       "<Figure size 504x504 with 2 Axes>"
      ]
     },
     "metadata": {
      "needs_background": "light"
     },
     "output_type": "display_data"
    }
   ],
   "source": [
    "# petal_length: length of petal\n",
    "\n",
    "plt.subplots(figsize=(7,7))\n",
    "plt.subplot(2,1,1)\n",
    "sns.distplot(data.petal_length)\n",
    "plt.subplot(2,1,2)\n",
    "sns.boxplot(data.petal_length)"
   ]
  },
  {
   "cell_type": "markdown",
   "metadata": {},
   "source": [
    "- petal length is having range from 1.5 to 7.\n",
    "- The median value for petal length is 4.5 units.\n",
    "- The distribution of petal length is not normal. "
   ]
  },
  {
   "cell_type": "code",
   "execution_count": 8,
   "metadata": {},
   "outputs": [
    {
     "data": {
      "text/plain": [
       "<AxesSubplot:xlabel='petal_width'>"
      ]
     },
     "execution_count": 8,
     "metadata": {},
     "output_type": "execute_result"
    },
    {
     "data": {
      "image/png": "[encoded data removed]",
      "text/plain": [
       "<Figure size 504x504 with 2 Axes>"
      ]
     },
     "metadata": {
      "needs_background": "light"
     },
     "output_type": "display_data"
    }
   ],
   "source": [
    "# petal_width: width of petal\n",
    "\n",
    "plt.subplots(figsize=(7,7))\n",
    "plt.subplot(2,1,1)\n",
    "sns.distplot(data.petal_width)\n",
    "plt.subplot(2,1,2)\n",
    "sns.boxplot(data.petal_width)"
   ]
  },
  {
   "cell_type": "markdown",
   "metadata": {},
   "source": [
    "- petal width is having range from 0.2 to 2.5.\n",
    "- The median value for petal width is 1.3 units.\n",
    "- The distribution of petal width is not normal."
   ]
  },
  {
   "cell_type": "code",
   "execution_count": 9,
   "metadata": {},
   "outputs": [
    {
     "data": {
      "text/plain": [
       "Iris-setosa        50\n",
       "Iris-virginica     50\n",
       "Iris-versicolor    50\n",
       "Name: species, dtype: int64"
      ]
     },
     "execution_count": 9,
     "metadata": {},
     "output_type": "execute_result"
    }
   ],
   "source": [
    "# Species\n",
    "\n",
    "data.species.value_counts()"
   ]
  },
  {
   "cell_type": "markdown",
   "metadata": {},
   "source": [
    "- There are three classes in species variable.\n",
    "- Class distribution in uniform."
   ]
  },
  {
   "cell_type": "markdown",
   "metadata": {},
   "source": [
    "## 2. Data Cleaning"
   ]
  },
  {
   "cell_type": "markdown",
   "metadata": {},
   "source": [
    "The data is already clean and clear. Hence, we do not need any form of data cleaning step here."
   ]
  },
  {
   "cell_type": "markdown",
   "metadata": {},
   "source": [
    "## 3. Data Visualization"
   ]
  },
  {
   "cell_type": "code",
   "execution_count": 10,
   "metadata": {},
   "outputs": [
    {
     "data": {
      "text/plain": [
       "<AxesSubplot:>"
      ]
     },
     "execution_count": 10,
     "metadata": {},
     "output_type": "execute_result"
    },
    {
     "data": {
      "image/png": "[encoded data removed]",
      "text/plain": [
       "<Figure size 432x432 with 2 Axes>"
      ]
     },
     "metadata": {
      "needs_background": "light"
     },
     "output_type": "display_data"
    }
   ],
   "source": [
    "# Pearson's correlation\n",
    "\n",
    "# heatmap\n",
    "plt.subplots(figsize=(6,6))\n",
    "sns.heatmap(data.corr(), annot=True, cmap='YlGnBu')"
   ]
  },
  {
   "cell_type": "code",
   "execution_count": 11,
   "metadata": {},
   "outputs": [
    {
     "data": {
      "text/plain": [
       "<seaborn.axisgrid.PairGrid at 0x7fed4e23cb10>"
      ]
     },
     "execution_count": 11,
     "metadata": {},
     "output_type": "execute_result"
    },
    {
     "data": {
      "image/png": "[encoded data removed]",
      "text/plain": [
       "<Figure size 720x720 with 20 Axes>"
      ]
     },
     "metadata": {
      "needs_background": "light"
     },
     "output_type": "display_data"
    }
   ],
   "source": [
    "# pairplot: Visualizing scatter plot between numeric columns\n",
    "\n",
    "sns.pairplot(data)"
   ]
  },
  {
   "cell_type": "markdown",
   "metadata": {},
   "source": [
    "Observations,\n",
    "- petal_length and petal_width are having very high correlation of 0.96. We can drop petal_width.\n",
    "- sepal_width is having negative correlation with sepal_length, petal_length and petal_width.\n",
    "- Similar correlation can be observed in pairplot as well."
   ]
  },
  {
   "cell_type": "code",
   "execution_count": 12,
   "metadata": {},
   "outputs": [],
   "source": [
    "# Dropping 'petal_width'\n",
    "\n",
    "data = data.drop('petal_width', axis=1)"
   ]
  },
  {
   "cell_type": "markdown",
   "metadata": {},
   "source": [
    "## 4. Data Preparation"
   ]
  },
  {
   "cell_type": "code",
   "execution_count": 13,
   "metadata": {},
   "outputs": [],
   "source": [
    "# mapping species column to integer values\n",
    "\n",
    "data.species = data.species.map({'Iris-virginica': 0, 'Iris-setosa': 1, 'Iris-versicolor': 2})"
   ]
  },
  {
   "cell_type": "code",
   "execution_count": 14,
   "metadata": {},
   "outputs": [],
   "source": [
    "# splitting into X and y\n",
    "\n",
    "X = data.drop('species', axis=1)\n",
    "y = data['species'].astype('int64')"
   ]
  },
  {
   "cell_type": "markdown",
   "metadata": {},
   "source": [
    "## 5. Train-Test split"
   ]
  },
  {
   "cell_type": "code",
   "execution_count": 15,
   "metadata": {},
   "outputs": [],
   "source": [
    "# train-test split\n",
    "\n",
    "X_train, X_test, y_train, y_test = train_test_split(X, y, \n",
    "                                     train_size = 0.7, \n",
    "                                     test_size = 0.3, \n",
    "                                     random_state = 100)"
   ]
  },
  {
   "cell_type": "markdown",
   "metadata": {},
   "source": [
    "Note: Here are not using 'stratify' parameter of train_test_split function as datset is uniformaly distrubited amongs various classes. This parameters should be used when dataset is having skewed distribution amongs various classes."
   ]
  },
  {
   "cell_type": "markdown",
   "metadata": {},
   "source": [
    "#### Scaling the features"
   ]
  },
  {
   "cell_type": "code",
   "execution_count": 16,
   "metadata": {},
   "outputs": [],
   "source": [
    "# Minmax scaling\n",
    "\n",
    "# instantiating the scalers\n",
    "scaler_X = MinMaxScaler()\n",
    "\n",
    "X_train = pd.DataFrame(scaler_X.fit_transform(X_train), index=X_train.index, columns=X_train.columns)\n",
    "X_test = pd.DataFrame(scaler_X.transform(X_test), index=X_test.index, columns=X_test.columns)"
   ]
  },
  {
   "cell_type": "markdown",
   "metadata": {},
   "source": [
    "## 6. Model Development - Validation and Evaluation"
   ]
  },
  {
   "cell_type": "code",
   "execution_count": 17,
   "metadata": {},
   "outputs": [
    {
     "data": {
      "text/plain": [
       "SVC(C=1.0, break_ties=False, cache_size=200, class_weight=None, coef0=0.0,\n",
       "    decision_function_shape='ovo', degree=3, gamma='scale', kernel='rbf',\n",
       "    max_iter=-1, probability=False, random_state=None, shrinking=True,\n",
       "    tol=0.001, verbose=False)"
      ]
     },
     "execution_count": 17,
     "metadata": {},
     "output_type": "execute_result"
    }
   ],
   "source": [
    "# SVC classifier: using 'ovo' strategy for multiclass problem\n",
    "# kernel: 'rbf' is radial basis function kernel.\n",
    "\n",
    "model = svm.SVC(decision_function_shape='ovo')\n",
    "\n",
    "model.fit(X_train, y_train)"
   ]
  },
  {
   "cell_type": "code",
   "execution_count": 18,
   "metadata": {},
   "outputs": [],
   "source": [
    "# Making prediction\n",
    "\n",
    "y_train_pred = model.predict(X_train)\n",
    "y_test_pred = model.predict(X_test)"
   ]
  },
  {
   "cell_type": "markdown",
   "metadata": {},
   "source": [
    "#### Accuracy comparison between Train and Test sets"
   ]
  },
  {
   "cell_type": "code",
   "execution_count": 19,
   "metadata": {},
   "outputs": [
    {
     "name": "stdout",
     "output_type": "stream",
     "text": [
      "Train accuracy: 0.94\n",
      "Test accuracy: 0.93\n"
     ]
    }
   ],
   "source": [
    "# Accuracy check\n",
    "\n",
    "print('Train accuracy:', round(accuracy_score(y_train, y_train_pred),2))\n",
    "print('Test accuracy:', round(accuracy_score(y_test, y_test_pred),2))"
   ]
  },
  {
   "cell_type": "markdown",
   "metadata": {},
   "source": [
    "It can be observed that both train and test accuracies are almost same. Hence model is performing good on the dataset."
   ]
  },
  {
   "cell_type": "markdown",
   "metadata": {},
   "source": [
    "#### Confusion Matrix"
   ]
  },
  {
   "cell_type": "markdown",
   "metadata": {},
   "source": [
    "Confusion matrix for multiclass classification:\n",
    "\n",
    "<img src=\"files/CM.png\">\n",
    "\n",
    "- All the correctly predicted labels would appear along the diagonal of the matrix.\n",
    "- For successfull classification the confusion matrix should be diagonally sparse."
   ]
  },
  {
   "cell_type": "code",
   "execution_count": 20,
   "metadata": {},
   "outputs": [
    {
     "data": {
      "text/plain": [
       "Text(0.5, 1.0, 'Test set')"
      ]
     },
     "execution_count": 20,
     "metadata": {},
     "output_type": "execute_result"
    },
    {
     "data": {
      "image/png": "[encoded data removed]",
      "text/plain": [
       "<Figure size 864x360 with 4 Axes>"
      ]
     },
     "metadata": {
      "needs_background": "light"
     },
     "output_type": "display_data"
    }
   ],
   "source": [
    "# confusion matrix: train  and test sets\n",
    "\n",
    "plt.subplots(figsize=(12,5))\n",
    "ax1 = plt.subplot(1,2,1)\n",
    "cm = confusion_matrix(y_train, y_train_pred)\n",
    "sns.heatmap(cm, annot=True, cmap='YlGnBu')\n",
    "ax1.set_title('Train set')\n",
    "\n",
    "\n",
    "ax2 = plt.subplot(1,2,2)\n",
    "cm = confusion_matrix(y_test, y_test_pred)\n",
    "sns.heatmap(cm, annot=True, cmap='YlGnBu')\n",
    "ax2.set_title('Test set')"
   ]
  },
  {
   "cell_type": "markdown",
   "metadata": {},
   "source": [
    "We can observe that,\n",
    "- confusion matrix for trainset is diagonally sparse. \n",
    "- We have only 6 incorrect predictions out 105 train data entries.\n",
    "- We have only 3 incorrect predictions out 45 test data entries."
   ]
  },
  {
   "cell_type": "markdown",
   "metadata": {},
   "source": [
    "#### Classification report"
   ]
  },
  {
   "cell_type": "markdown",
   "metadata": {},
   "source": [
    "- Classification report shows derived parameters from confusion matrix viz precision, recall, f-score and support(true occurence belong to the class) for each sub-class.\n",
    "- It also includes corresponding macro and weghted average values as well. "
   ]
  },
  {
   "cell_type": "code",
   "execution_count": 21,
   "metadata": {},
   "outputs": [
    {
     "name": "stdout",
     "output_type": "stream",
     "text": [
      "              precision    recall  f1-score   support\n",
      "\n",
      "           0       0.96      0.84      0.90        32\n",
      "           1       1.00      1.00      1.00        34\n",
      "           2       0.88      0.97      0.93        39\n",
      "\n",
      "    accuracy                           0.94       105\n",
      "   macro avg       0.95      0.94      0.94       105\n",
      "weighted avg       0.95      0.94      0.94       105\n",
      "\n"
     ]
    }
   ],
   "source": [
    "# classification report\n",
    "\n",
    "print(classification_report(y_train, y_train_pred))"
   ]
  },
  {
   "cell_type": "markdown",
   "metadata": {},
   "source": [
    "Observations as per classification report,\n",
    "- f1-score summarizes both precision and recall scores. f1 values are acceptable for each class.\n",
    "- macro and weighted average for all the class is ~0.95 which is good."
   ]
  },
  {
   "cell_type": "code",
   "execution_count": 22,
   "metadata": {},
   "outputs": [
    {
     "name": "stdout",
     "output_type": "stream",
     "text": [
      "              precision    recall  f1-score   support\n",
      "\n",
      "           0       1.00      0.83      0.91        18\n",
      "           1       1.00      1.00      1.00        16\n",
      "           2       0.79      1.00      0.88        11\n",
      "\n",
      "    accuracy                           0.93        45\n",
      "   macro avg       0.93      0.94      0.93        45\n",
      "weighted avg       0.95      0.93      0.93        45\n",
      "\n"
     ]
    }
   ],
   "source": [
    "print(classification_report(y_test, y_test_pred))"
   ]
  },
  {
   "cell_type": "markdown",
   "metadata": {},
   "source": [
    "The above classification report for test data states that there isn't any overfitting with the model. The model is performing really well on the dataset. "
   ]
  },
  {
   "cell_type": "markdown",
   "metadata": {},
   "source": [
    "#### Hype-parameter tuning"
   ]
  },
  {
   "cell_type": "markdown",
   "metadata": {},
   "source": [
    "Hyper-parameter to tune:\n",
    "\n",
    "C: Regularization parameter and the strength of the regularization is inversely proportional to C\n",
    "gamma: Kernel coefficient for ‘rbf’, ‘poly’ and ‘sigmoid’. Larger value of gamma promotes more curvature in decision boundry.\n",
    "\n",
    "For choosing C we generally choose the value like 0.001, 0.01, 0.1, 1, 10, 100\n",
    "and same for Gamma 0.001, 0.01, 0.1, 1, 10, 100\n",
    "\n",
    "\n",
    "For more reading:\n",
    "https://medium.com/@myselfaman12345/c-and-gamma-in-svm-e6cee48626be#:~:text=Gamma%20high%20means%20more%20curvature,Gamma%20low%20means%20less%20curvature.&text=C%20is%20a%20hypermeter%20which,weight%20of%20the%20decision%20boundary.\n"
   ]
  },
  {
   "cell_type": "code",
   "execution_count": 23,
   "metadata": {
    "scrolled": true
   },
   "outputs": [
    {
     "name": "stdout",
     "output_type": "stream",
     "text": [
      "Fitting 5 folds for each of 64 candidates, totalling 320 fits\n"
     ]
    },
    {
     "name": "stderr",
     "output_type": "stream",
     "text": [
      "[Parallel(n_jobs=1)]: Using backend SequentialBackend with 1 concurrent workers.\n",
      "[Parallel(n_jobs=1)]: Done 320 out of 320 | elapsed:    1.4s finished\n"
     ]
    },
    {
     "data": {
      "text/plain": [
       "GridSearchCV(cv=5, error_score=nan,\n",
       "             estimator=SVC(C=1.0, break_ties=False, cache_size=200,\n",
       "                           class_weight=None, coef0=0.0,\n",
       "                           decision_function_shape='ovr', degree=3,\n",
       "                           gamma='scale', kernel='rbf', max_iter=-1,\n",
       "                           probability=False, random_state=None, shrinking=True,\n",
       "                           tol=0.001, verbose=False),\n",
       "             iid='deprecated', n_jobs=None,\n",
       "             param_grid={'C': [0.0001, 0.001, 0.01, 0.1, 1, 10, 100, 1000],\n",
       "                         'gamma': [0.0001, 0.001, 0.01, 0.1, 1, 10, 100, 1000]},\n",
       "             pre_dispatch='2*n_jobs', refit=True, return_train_score=True,\n",
       "             scoring='accuracy', verbose=1)"
      ]
     },
     "execution_count": 23,
     "metadata": {},
     "output_type": "execute_result"
    }
   ],
   "source": [
    "# parameters grid\n",
    "params = {'C': [0.0001, 0.001, 0.01, 0.1, 1, 10, 100, 1000],\n",
    "         'gamma': [0.0001, 0.001, 0.01, 0.1, 1, 10, 100, 1000]}\n",
    "\n",
    "model2 = svm.SVC()\n",
    "\n",
    "# cross validation\n",
    "folds = 5\n",
    "model_cv = GridSearchCV(estimator = model2, \n",
    "                        param_grid = params, \n",
    "                        scoring= 'accuracy',  \n",
    "                        cv = folds, \n",
    "                        return_train_score=True,\n",
    "                        verbose = 1)    \n",
    "\n",
    "\n",
    "model_cv.fit(X_train, y_train) "
   ]
  },
  {
   "cell_type": "code",
   "execution_count": 24,
   "metadata": {
    "scrolled": true
   },
   "outputs": [
    {
     "data": {
      "text/html": [
       "<div>\n",
       "<style scoped>\n",
       "    .dataframe tbody tr th:only-of-type {\n",
       "        vertical-align: middle;\n",
       "    }\n",
       "\n",
       "    .dataframe tbody tr th {\n",
       "        vertical-align: top;\n",
       "    }\n",
       "\n",
       "    .dataframe thead th {\n",
       "        text-align: right;\n",
       "    }\n",
       "</style>\n",
       "<table border=\"1\" class=\"dataframe\">\n",
       "  <thead>\n",
       "    <tr style=\"text-align: right;\">\n",
       "      <th></th>\n",
       "      <th>mean_fit_time</th>\n",
       "      <th>std_fit_time</th>\n",
       "      <th>mean_score_time</th>\n",
       "      <th>std_score_time</th>\n",
       "      <th>param_C</th>\n",
       "      <th>param_gamma</th>\n",
       "      <th>params</th>\n",
       "      <th>split0_test_score</th>\n",
       "      <th>split1_test_score</th>\n",
       "      <th>split2_test_score</th>\n",
       "      <th>...</th>\n",
       "      <th>mean_test_score</th>\n",
       "      <th>std_test_score</th>\n",
       "      <th>rank_test_score</th>\n",
       "      <th>split0_train_score</th>\n",
       "      <th>split1_train_score</th>\n",
       "      <th>split2_train_score</th>\n",
       "      <th>split3_train_score</th>\n",
       "      <th>split4_train_score</th>\n",
       "      <th>mean_train_score</th>\n",
       "      <th>std_train_score</th>\n",
       "    </tr>\n",
       "  </thead>\n",
       "  <tbody>\n",
       "    <tr>\n",
       "      <th>0</th>\n",
       "      <td>0.002699</td>\n",
       "      <td>0.000633</td>\n",
       "      <td>0.002031</td>\n",
       "      <td>0.001577</td>\n",
       "      <td>0.0001</td>\n",
       "      <td>0.0001</td>\n",
       "      <td>{'C': 0.0001, 'gamma': 0.0001}</td>\n",
       "      <td>0.380952</td>\n",
       "      <td>0.380952</td>\n",
       "      <td>0.380952</td>\n",
       "      <td>...</td>\n",
       "      <td>0.371429</td>\n",
       "      <td>0.019048</td>\n",
       "      <td>30</td>\n",
       "      <td>0.369048</td>\n",
       "      <td>0.369048</td>\n",
       "      <td>0.369048</td>\n",
       "      <td>0.380952</td>\n",
       "      <td>0.369048</td>\n",
       "      <td>0.371429</td>\n",
       "      <td>0.004762</td>\n",
       "    </tr>\n",
       "    <tr>\n",
       "      <th>1</th>\n",
       "      <td>0.001751</td>\n",
       "      <td>0.000026</td>\n",
       "      <td>0.000929</td>\n",
       "      <td>0.000020</td>\n",
       "      <td>0.0001</td>\n",
       "      <td>0.0010</td>\n",
       "      <td>{'C': 0.0001, 'gamma': 0.001}</td>\n",
       "      <td>0.380952</td>\n",
       "      <td>0.380952</td>\n",
       "      <td>0.380952</td>\n",
       "      <td>...</td>\n",
       "      <td>0.371429</td>\n",
       "      <td>0.019048</td>\n",
       "      <td>30</td>\n",
       "      <td>0.369048</td>\n",
       "      <td>0.369048</td>\n",
       "      <td>0.369048</td>\n",
       "      <td>0.380952</td>\n",
       "      <td>0.369048</td>\n",
       "      <td>0.371429</td>\n",
       "      <td>0.004762</td>\n",
       "    </tr>\n",
       "    <tr>\n",
       "      <th>2</th>\n",
       "      <td>0.001796</td>\n",
       "      <td>0.000067</td>\n",
       "      <td>0.001090</td>\n",
       "      <td>0.000208</td>\n",
       "      <td>0.0001</td>\n",
       "      <td>0.0100</td>\n",
       "      <td>{'C': 0.0001, 'gamma': 0.01}</td>\n",
       "      <td>0.380952</td>\n",
       "      <td>0.380952</td>\n",
       "      <td>0.380952</td>\n",
       "      <td>...</td>\n",
       "      <td>0.371429</td>\n",
       "      <td>0.019048</td>\n",
       "      <td>30</td>\n",
       "      <td>0.369048</td>\n",
       "      <td>0.369048</td>\n",
       "      <td>0.369048</td>\n",
       "      <td>0.380952</td>\n",
       "      <td>0.369048</td>\n",
       "      <td>0.371429</td>\n",
       "      <td>0.004762</td>\n",
       "    </tr>\n",
       "    <tr>\n",
       "      <th>3</th>\n",
       "      <td>0.001761</td>\n",
       "      <td>0.000091</td>\n",
       "      <td>0.000945</td>\n",
       "      <td>0.000056</td>\n",
       "      <td>0.0001</td>\n",
       "      <td>0.1000</td>\n",
       "      <td>{'C': 0.0001, 'gamma': 0.1}</td>\n",
       "      <td>0.380952</td>\n",
       "      <td>0.380952</td>\n",
       "      <td>0.380952</td>\n",
       "      <td>...</td>\n",
       "      <td>0.371429</td>\n",
       "      <td>0.019048</td>\n",
       "      <td>30</td>\n",
       "      <td>0.369048</td>\n",
       "      <td>0.369048</td>\n",
       "      <td>0.369048</td>\n",
       "      <td>0.380952</td>\n",
       "      <td>0.369048</td>\n",
       "      <td>0.371429</td>\n",
       "      <td>0.004762</td>\n",
       "    </tr>\n",
       "    <tr>\n",
       "      <th>4</th>\n",
       "      <td>0.001762</td>\n",
       "      <td>0.000037</td>\n",
       "      <td>0.000954</td>\n",
       "      <td>0.000054</td>\n",
       "      <td>0.0001</td>\n",
       "      <td>1</td>\n",
       "      <td>{'C': 0.0001, 'gamma': 1}</td>\n",
       "      <td>0.380952</td>\n",
       "      <td>0.380952</td>\n",
       "      <td>0.380952</td>\n",
       "      <td>...</td>\n",
       "      <td>0.371429</td>\n",
       "      <td>0.019048</td>\n",
       "      <td>30</td>\n",
       "      <td>0.369048</td>\n",
       "      <td>0.369048</td>\n",
       "      <td>0.369048</td>\n",
       "      <td>0.380952</td>\n",
       "      <td>0.369048</td>\n",
       "      <td>0.371429</td>\n",
       "      <td>0.004762</td>\n",
       "    </tr>\n",
       "    <tr>\n",
       "      <th>...</th>\n",
       "      <td>...</td>\n",
       "      <td>...</td>\n",
       "      <td>...</td>\n",
       "      <td>...</td>\n",
       "      <td>...</td>\n",
       "      <td>...</td>\n",
       "      <td>...</td>\n",
       "      <td>...</td>\n",
       "      <td>...</td>\n",
       "      <td>...</td>\n",
       "      <td>...</td>\n",
       "      <td>...</td>\n",
       "      <td>...</td>\n",
       "      <td>...</td>\n",
       "      <td>...</td>\n",
       "      <td>...</td>\n",
       "      <td>...</td>\n",
       "      <td>...</td>\n",
       "      <td>...</td>\n",
       "      <td>...</td>\n",
       "      <td>...</td>\n",
       "    </tr>\n",
       "    <tr>\n",
       "      <th>59</th>\n",
       "      <td>0.001621</td>\n",
       "      <td>0.000038</td>\n",
       "      <td>0.000932</td>\n",
       "      <td>0.000038</td>\n",
       "      <td>1000</td>\n",
       "      <td>0.1000</td>\n",
       "      <td>{'C': 1000, 'gamma': 0.1}</td>\n",
       "      <td>1.000000</td>\n",
       "      <td>0.952381</td>\n",
       "      <td>0.904762</td>\n",
       "      <td>...</td>\n",
       "      <td>0.952381</td>\n",
       "      <td>0.030117</td>\n",
       "      <td>2</td>\n",
       "      <td>0.952381</td>\n",
       "      <td>0.976190</td>\n",
       "      <td>0.964286</td>\n",
       "      <td>0.952381</td>\n",
       "      <td>0.964286</td>\n",
       "      <td>0.961905</td>\n",
       "      <td>0.008909</td>\n",
       "    </tr>\n",
       "    <tr>\n",
       "      <th>60</th>\n",
       "      <td>0.001699</td>\n",
       "      <td>0.000083</td>\n",
       "      <td>0.000901</td>\n",
       "      <td>0.000031</td>\n",
       "      <td>1000</td>\n",
       "      <td>1</td>\n",
       "      <td>{'C': 1000, 'gamma': 1}</td>\n",
       "      <td>1.000000</td>\n",
       "      <td>0.952381</td>\n",
       "      <td>0.857143</td>\n",
       "      <td>...</td>\n",
       "      <td>0.952381</td>\n",
       "      <td>0.052164</td>\n",
       "      <td>2</td>\n",
       "      <td>0.976190</td>\n",
       "      <td>0.988095</td>\n",
       "      <td>0.988095</td>\n",
       "      <td>0.964286</td>\n",
       "      <td>0.976190</td>\n",
       "      <td>0.978571</td>\n",
       "      <td>0.008909</td>\n",
       "    </tr>\n",
       "    <tr>\n",
       "      <th>61</th>\n",
       "      <td>0.001754</td>\n",
       "      <td>0.000109</td>\n",
       "      <td>0.000927</td>\n",
       "      <td>0.000071</td>\n",
       "      <td>1000</td>\n",
       "      <td>10</td>\n",
       "      <td>{'C': 1000, 'gamma': 10}</td>\n",
       "      <td>0.904762</td>\n",
       "      <td>0.952381</td>\n",
       "      <td>0.904762</td>\n",
       "      <td>...</td>\n",
       "      <td>0.933333</td>\n",
       "      <td>0.038095</td>\n",
       "      <td>8</td>\n",
       "      <td>0.988095</td>\n",
       "      <td>1.000000</td>\n",
       "      <td>1.000000</td>\n",
       "      <td>0.988095</td>\n",
       "      <td>0.988095</td>\n",
       "      <td>0.992857</td>\n",
       "      <td>0.005832</td>\n",
       "    </tr>\n",
       "    <tr>\n",
       "      <th>62</th>\n",
       "      <td>0.001926</td>\n",
       "      <td>0.000031</td>\n",
       "      <td>0.000906</td>\n",
       "      <td>0.000005</td>\n",
       "      <td>1000</td>\n",
       "      <td>100</td>\n",
       "      <td>{'C': 1000, 'gamma': 100}</td>\n",
       "      <td>0.809524</td>\n",
       "      <td>0.904762</td>\n",
       "      <td>0.904762</td>\n",
       "      <td>...</td>\n",
       "      <td>0.895238</td>\n",
       "      <td>0.046657</td>\n",
       "      <td>15</td>\n",
       "      <td>1.000000</td>\n",
       "      <td>1.000000</td>\n",
       "      <td>1.000000</td>\n",
       "      <td>1.000000</td>\n",
       "      <td>1.000000</td>\n",
       "      <td>1.000000</td>\n",
       "      <td>0.000000</td>\n",
       "    </tr>\n",
       "    <tr>\n",
       "      <th>63</th>\n",
       "      <td>0.002029</td>\n",
       "      <td>0.000035</td>\n",
       "      <td>0.000959</td>\n",
       "      <td>0.000048</td>\n",
       "      <td>1000</td>\n",
       "      <td>1000</td>\n",
       "      <td>{'C': 1000, 'gamma': 1000}</td>\n",
       "      <td>0.476190</td>\n",
       "      <td>0.523810</td>\n",
       "      <td>0.523810</td>\n",
       "      <td>...</td>\n",
       "      <td>0.552381</td>\n",
       "      <td>0.064594</td>\n",
       "      <td>25</td>\n",
       "      <td>1.000000</td>\n",
       "      <td>1.000000</td>\n",
       "      <td>1.000000</td>\n",
       "      <td>1.000000</td>\n",
       "      <td>1.000000</td>\n",
       "      <td>1.000000</td>\n",
       "      <td>0.000000</td>\n",
       "    </tr>\n",
       "  </tbody>\n",
       "</table>\n",
       "<p>64 rows × 22 columns</p>\n",
       "</div>"
      ],
      "text/plain": [
       "    mean_fit_time  std_fit_time  mean_score_time  std_score_time param_C  \\\n",
       "0        0.002699      0.000633         0.002031        0.001577  0.0001   \n",
       "1        0.001751      0.000026         0.000929        0.000020  0.0001   \n",
       "2        0.001796      0.000067         0.001090        0.000208  0.0001   \n",
       "3        0.001761      0.000091         0.000945        0.000056  0.0001   \n",
       "4        0.001762      0.000037         0.000954        0.000054  0.0001   \n",
       "..            ...           ...              ...             ...     ...   \n",
       "59       0.001621      0.000038         0.000932        0.000038    1000   \n",
       "60       0.001699      0.000083         0.000901        0.000031    1000   \n",
       "61       0.001754      0.000109         0.000927        0.000071    1000   \n",
       "62       0.001926      0.000031         0.000906        0.000005    1000   \n",
       "63       0.002029      0.000035         0.000959        0.000048    1000   \n",
       "\n",
       "   param_gamma                          params  split0_test_score  \\\n",
       "0       0.0001  {'C': 0.0001, 'gamma': 0.0001}           0.380952   \n",
       "1       0.0010   {'C': 0.0001, 'gamma': 0.001}           0.380952   \n",
       "2       0.0100    {'C': 0.0001, 'gamma': 0.01}           0.380952   \n",
       "3       0.1000     {'C': 0.0001, 'gamma': 0.1}           0.380952   \n",
       "4            1       {'C': 0.0001, 'gamma': 1}           0.380952   \n",
       "..         ...                             ...                ...   \n",
       "59      0.1000       {'C': 1000, 'gamma': 0.1}           1.000000   \n",
       "60           1         {'C': 1000, 'gamma': 1}           1.000000   \n",
       "61          10        {'C': 1000, 'gamma': 10}           0.904762   \n",
       "62         100       {'C': 1000, 'gamma': 100}           0.809524   \n",
       "63        1000      {'C': 1000, 'gamma': 1000}           0.476190   \n",
       "\n",
       "    split1_test_score  split2_test_score  ...  mean_test_score  \\\n",
       "0            0.380952           0.380952  ...         0.371429   \n",
       "1            0.380952           0.380952  ...         0.371429   \n",
       "2            0.380952           0.380952  ...         0.371429   \n",
       "3            0.380952           0.380952  ...         0.371429   \n",
       "4            0.380952           0.380952  ...         0.371429   \n",
       "..                ...                ...  ...              ...   \n",
       "59           0.952381           0.904762  ...         0.952381   \n",
       "60           0.952381           0.857143  ...         0.952381   \n",
       "61           0.952381           0.904762  ...         0.933333   \n",
       "62           0.904762           0.904762  ...         0.895238   \n",
       "63           0.523810           0.523810  ...         0.552381   \n",
       "\n",
       "    std_test_score  rank_test_score  split0_train_score  split1_train_score  \\\n",
       "0         0.019048               30            0.369048            0.369048   \n",
       "1         0.019048               30            0.369048            0.369048   \n",
       "2         0.019048               30            0.369048            0.369048   \n",
       "3         0.019048               30            0.369048            0.369048   \n",
       "4         0.019048               30            0.369048            0.369048   \n",
       "..             ...              ...                 ...                 ...   \n",
       "59        0.030117                2            0.952381            0.976190   \n",
       "60        0.052164                2            0.976190            0.988095   \n",
       "61        0.038095                8            0.988095            1.000000   \n",
       "62        0.046657               15            1.000000            1.000000   \n",
       "63        0.064594               25            1.000000            1.000000   \n",
       "\n",
       "    split2_train_score  split3_train_score  split4_train_score  \\\n",
       "0             0.369048            0.380952            0.369048   \n",
       "1             0.369048            0.380952            0.369048   \n",
       "2             0.369048            0.380952            0.369048   \n",
       "3             0.369048            0.380952            0.369048   \n",
       "4             0.369048            0.380952            0.369048   \n",
       "..                 ...                 ...                 ...   \n",
       "59            0.964286            0.952381            0.964286   \n",
       "60            0.988095            0.964286            0.976190   \n",
       "61            1.000000            0.988095            0.988095   \n",
       "62            1.000000            1.000000            1.000000   \n",
       "63            1.000000            1.000000            1.000000   \n",
       "\n",
       "    mean_train_score  std_train_score  \n",
       "0           0.371429         0.004762  \n",
       "1           0.371429         0.004762  \n",
       "2           0.371429         0.004762  \n",
       "3           0.371429         0.004762  \n",
       "4           0.371429         0.004762  \n",
       "..               ...              ...  \n",
       "59          0.961905         0.008909  \n",
       "60          0.978571         0.008909  \n",
       "61          0.992857         0.005832  \n",
       "62          1.000000         0.000000  \n",
       "63          1.000000         0.000000  \n",
       "\n",
       "[64 rows x 22 columns]"
      ]
     },
     "execution_count": 24,
     "metadata": {},
     "output_type": "execute_result"
    }
   ],
   "source": [
    "# Checking performance variation with parameter value\n",
    "\n",
    "cv_res = pd.DataFrame(model_cv.cv_results_)\n",
    "cv_res"
   ]
  },
  {
   "cell_type": "code",
   "execution_count": 25,
   "metadata": {
    "scrolled": true
   },
   "outputs": [
    {
     "data": {
      "text/plain": [
       "<AxesSubplot:xlabel='param_C', ylabel='mean_test_score'>"
      ]
     },
     "execution_count": 25,
     "metadata": {},
     "output_type": "execute_result"
    },
    {
     "data": {
      "image/png": "[encoded data removed]",
      "text/plain": [
       "<Figure size 432x288 with 1 Axes>"
      ]
     },
     "metadata": {
      "needs_background": "light"
     },
     "output_type": "display_data"
    }
   ],
   "source": [
    "# plotting cv test accuracy Vs C parameter value\n",
    "\n",
    "# pivot table around param_C\n",
    "table_C = pd.pivot_table(data = cv_res, values='mean_test_score', index='param_C').reset_index()\n",
    "\n",
    "sns.lineplot(x=table_C.param_C, y= table_C.mean_test_score)"
   ]
  },
  {
   "cell_type": "code",
   "execution_count": 26,
   "metadata": {},
   "outputs": [
    {
     "data": {
      "text/plain": [
       "<AxesSubplot:xlabel='param_gamma', ylabel='mean_test_score'>"
      ]
     },
     "execution_count": 26,
     "metadata": {},
     "output_type": "execute_result"
    },
    {
     "data": {
      "image/png": "[encoded data removed]",
      "text/plain": [
       "<Figure size 432x288 with 1 Axes>"
      ]
     },
     "metadata": {
      "needs_background": "light"
     },
     "output_type": "display_data"
    }
   ],
   "source": [
    "# plotting cv test accuracy Vs gamma parameter value\n",
    "\n",
    "# pivot table around param_gamma\n",
    "table_gamma = pd.pivot_table(data = cv_res, values='mean_test_score', index='param_gamma').reset_index()\n",
    "\n",
    "sns.lineplot(x=table_gamma.param_gamma, y= table_gamma.mean_test_score)"
   ]
  },
  {
   "cell_type": "markdown",
   "metadata": {},
   "source": [
    "- Higher value of C means less regularization and better CV accuracy.\n",
    "- CV accuracy increases first and then reduces with Gamma."
   ]
  },
  {
   "cell_type": "code",
   "execution_count": 27,
   "metadata": {},
   "outputs": [
    {
     "data": {
      "text/plain": [
       "{'C': 100, 'gamma': 1}"
      ]
     },
     "execution_count": 27,
     "metadata": {},
     "output_type": "execute_result"
    }
   ],
   "source": [
    "# best parameter as per grid search CV\n",
    "\n",
    "model_cv.best_params_"
   ]
  },
  {
   "cell_type": "code",
   "execution_count": 28,
   "metadata": {},
   "outputs": [
    {
     "data": {
      "text/plain": [
       "SVC(C=100, break_ties=False, cache_size=200, class_weight=None, coef0=0.0,\n",
       "    decision_function_shape='ovr', degree=3, gamma=1, kernel='rbf', max_iter=-1,\n",
       "    probability=False, random_state=None, shrinking=True, tol=0.001,\n",
       "    verbose=False)"
      ]
     },
     "execution_count": 28,
     "metadata": {},
     "output_type": "execute_result"
    }
   ],
   "source": [
    "# building model using best parameter values\n",
    "\n",
    "model3 = svm.SVC(C = model_cv.best_params_['C'],\n",
    "                 gamma = model_cv.best_params_['gamma'] )\n",
    "\n",
    "model3.fit(X_train, y_train)"
   ]
  },
  {
   "cell_type": "code",
   "execution_count": 29,
   "metadata": {},
   "outputs": [],
   "source": [
    "# Making prediction\n",
    "\n",
    "y_train_pred = model3.predict(X_train)\n",
    "y_test_pred = model3.predict(X_test)"
   ]
  },
  {
   "cell_type": "code",
   "execution_count": 30,
   "metadata": {},
   "outputs": [
    {
     "name": "stdout",
     "output_type": "stream",
     "text": [
      "Train accuracy: 0.97\n",
      "Test accuracy: 0.96\n"
     ]
    }
   ],
   "source": [
    "# Accuracy check\n",
    "\n",
    "print('Train accuracy:', round(accuracy_score(y_train, y_train_pred),2))\n",
    "print('Test accuracy:', round(accuracy_score(y_test, y_test_pred),2))"
   ]
  },
  {
   "cell_type": "code",
   "execution_count": 31,
   "metadata": {},
   "outputs": [
    {
     "data": {
      "text/plain": [
       "Text(0.5, 1.0, 'Test set')"
      ]
     },
     "execution_count": 31,
     "metadata": {},
     "output_type": "execute_result"
    },
    {
     "data": {
      "image/png": "[encoded data removed]",
      "text/plain": [
       "<Figure size 864x360 with 4 Axes>"
      ]
     },
     "metadata": {
      "needs_background": "light"
     },
     "output_type": "display_data"
    }
   ],
   "source": [
    "# confusion matrix: train  and test sets\n",
    "\n",
    "plt.subplots(figsize=(12,5))\n",
    "ax1 = plt.subplot(1,2,1)\n",
    "cm = confusion_matrix(y_train, y_train_pred)\n",
    "sns.heatmap(cm, annot=True, cmap='YlGnBu')\n",
    "ax1.set_title('Train set')\n",
    "\n",
    "\n",
    "ax2 = plt.subplot(1,2,2)\n",
    "cm = confusion_matrix(y_test, y_test_pred)\n",
    "sns.heatmap(cm, annot=True, cmap='YlGnBu')\n",
    "ax2.set_title('Test set')"
   ]
  },
  {
   "cell_type": "code",
   "execution_count": 32,
   "metadata": {},
   "outputs": [
    {
     "name": "stdout",
     "output_type": "stream",
     "text": [
      "              precision    recall  f1-score   support\n",
      "\n",
      "           0       0.97      0.94      0.95        32\n",
      "           1       1.00      1.00      1.00        34\n",
      "           2       0.95      0.97      0.96        39\n",
      "\n",
      "    accuracy                           0.97       105\n",
      "   macro avg       0.97      0.97      0.97       105\n",
      "weighted avg       0.97      0.97      0.97       105\n",
      "\n"
     ]
    }
   ],
   "source": [
    "# classification report: train\n",
    "\n",
    "print(classification_report(y_train, y_train_pred))"
   ]
  },
  {
   "cell_type": "code",
   "execution_count": 33,
   "metadata": {},
   "outputs": [
    {
     "name": "stdout",
     "output_type": "stream",
     "text": [
      "              precision    recall  f1-score   support\n",
      "\n",
      "           0       0.94      0.94      0.94        18\n",
      "           1       1.00      1.00      1.00        16\n",
      "           2       0.91      0.91      0.91        11\n",
      "\n",
      "    accuracy                           0.96        45\n",
      "   macro avg       0.95      0.95      0.95        45\n",
      "weighted avg       0.96      0.96      0.96        45\n",
      "\n"
     ]
    }
   ],
   "source": [
    "# classification report; test\n",
    "\n",
    "print(classification_report(y_test, y_test_pred))"
   ]
  },
  {
   "cell_type": "markdown",
   "metadata": {},
   "source": [
    "Observation,\n",
    "\n",
    "- We can see there is considerable improvement in train-test accuracies or other derived matrices after using best parameters from grid search CV. "
   ]
  },
  {
   "cell_type": "markdown",
   "metadata": {},
   "source": [
    "## 7. Conclusion"
   ]
  },
  {
   "cell_type": "markdown",
   "metadata": {},
   "source": [
    "- SVM algorithm is resulting in the ~0.96 accuracy on Iris dataset.\n",
    "- Precision-recall and f1 score values are near to 0.95.\n",
    "- SVM algorithm is capable of solving very complex problems (e.g text classification). Hence, getting good performance on Irish dataset is not an eye opener."
   ]
  },
  {
   "cell_type": "markdown",
   "metadata": {},
   "source": [
    "------"
   ]
  }
 ],
 "metadata": {
  "kernelspec": {
   "display_name": "Python 3",
   "language": "python",
   "name": "python3"
  },
  "language_info": {
   "codemirror_mode": {
    "name": "ipython",
    "version": 3
   },
   "file_extension": ".py",
   "mimetype": "text/x-python",
   "name": "python",
   "nbconvert_exporter": "python",
   "pygments_lexer": "ipython3",
   "version": "3.7.6"
  }
 },
 "nbformat": 4,
 "nbformat_minor": 4
}
