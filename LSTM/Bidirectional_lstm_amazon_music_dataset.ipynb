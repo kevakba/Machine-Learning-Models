{
  "cells": [
    {
      "cell_type": "markdown",
      "source": [
        "Here, I have demostrated the usage of bi-directional [LSTM](https://colah.github.io/posts/2015-08-Understanding-LSTMs/) in performing the sentiment analysis on the Amazon music reviews dataset."
      ],
      "metadata": {
        "id": "Ax9DsApy58MY"
      }
    },
    {
      "cell_type": "code",
      "execution_count": 1,
      "metadata": {
        "id": "kJD7I4Q1PTV2"
      },
      "outputs": [],
      "source": [
        "# importing libraries\n",
        "\n",
        "import numpy as np\n",
        "import pandas as pd\n",
        "\n",
        "from tensorflow import keras\n",
        "from tensorflow.keras import layers\n",
        "\n",
        "import matplotlib.pyplot as plt\n"
      ]
    },
    {
      "cell_type": "code",
      "source": [
        "# loading dataset\n",
        "df = pd.read_csv('/content/Musical_instruments_reviews.csv')"
      ],
      "metadata": {
        "id": "eT4OpoHxSCCC"
      },
      "execution_count": 2,
      "outputs": []
    },
    {
      "cell_type": "markdown",
      "source": [
        "### EDA"
      ],
      "metadata": {
        "id": "RamGZQbO-AgF"
      }
    },
    {
      "cell_type": "code",
      "source": [
        "df.shape"
      ],
      "metadata": {
        "colab": {
          "base_uri": "https://localhost:8080/"
        },
        "id": "wx4QhpTPSLXd",
        "outputId": "4e6cd04f-820c-422d-91d5-fe11d453abd6"
      },
      "execution_count": 3,
      "outputs": [
        {
          "output_type": "execute_result",
          "data": {
            "text/plain": [
              "(10261, 9)"
            ]
          },
          "metadata": {},
          "execution_count": 3
        }
      ]
    },
    {
      "cell_type": "markdown",
      "source": [
        "The dataset has around 10k different entries and 9 different columns. Lets visualize them and see what analysis can be done on the same."
      ],
      "metadata": {
        "id": "HPJUHglj6ird"
      }
    },
    {
      "cell_type": "code",
      "source": [
        "df.head()"
      ],
      "metadata": {
        "colab": {
          "base_uri": "https://localhost:8080/",
          "height": 337
        },
        "id": "1rQLSvjaSB_d",
        "outputId": "a88e934c-f9f3-4283-9a72-231a4b088220"
      },
      "execution_count": 4,
      "outputs": [
        {
          "output_type": "execute_result",
          "data": {
            "text/plain": [
              "       reviewerID        asin  \\\n",
              "0  A2IBPI20UZIR0U  1384719342   \n",
              "1  A14VAT5EAX3D9S  1384719342   \n",
              "2  A195EZSQDW3E21  1384719342   \n",
              "3  A2C00NNG1ZQQG2  1384719342   \n",
              "4   A94QU4C90B1AX  1384719342   \n",
              "\n",
              "                                       reviewerName   helpful  \\\n",
              "0  cassandra tu \"Yeah, well, that's just like, u...    [0, 0]   \n",
              "1                                              Jake  [13, 14]   \n",
              "2                     Rick Bennette \"Rick Bennette\"    [1, 1]   \n",
              "3                         RustyBill \"Sunday Rocker\"    [0, 0]   \n",
              "4                                     SEAN MASLANKA    [0, 0]   \n",
              "\n",
              "                                          reviewText  overall  \\\n",
              "0  Not much to write about here, but it does exac...      5.0   \n",
              "1  The product does exactly as it should and is q...      5.0   \n",
              "2  The primary job of this device is to block the...      5.0   \n",
              "3  Nice windscreen protects my MXL mic and preven...      5.0   \n",
              "4  This pop filter is great. It looks and perform...      5.0   \n",
              "\n",
              "                                 summary  unixReviewTime   reviewTime  \n",
              "0                                   good      1393545600  02 28, 2014  \n",
              "1                                   Jake      1363392000  03 16, 2013  \n",
              "2                   It Does The Job Well      1377648000  08 28, 2013  \n",
              "3          GOOD WINDSCREEN FOR THE MONEY      1392336000  02 14, 2014  \n",
              "4  No more pops when I record my vocals.      1392940800  02 21, 2014  "
            ],
            "text/html": [
              "\n",
              "  <div id=\"df-4eb11c9b-0fbe-450c-97e7-413958f8fa52\">\n",
              "    <div class=\"colab-df-container\">\n",
              "      <div>\n",
              "<style scoped>\n",
              "    .dataframe tbody tr th:only-of-type {\n",
              "        vertical-align: middle;\n",
              "    }\n",
              "\n",
              "    .dataframe tbody tr th {\n",
              "        vertical-align: top;\n",
              "    }\n",
              "\n",
              "    .dataframe thead th {\n",
              "        text-align: right;\n",
              "    }\n",
              "</style>\n",
              "<table border=\"1\" class=\"dataframe\">\n",
              "  <thead>\n",
              "    <tr style=\"text-align: right;\">\n",
              "      <th></th>\n",
              "      <th>reviewerID</th>\n",
              "      <th>asin</th>\n",
              "      <th>reviewerName</th>\n",
              "      <th>helpful</th>\n",
              "      <th>reviewText</th>\n",
              "      <th>overall</th>\n",
              "      <th>summary</th>\n",
              "      <th>unixReviewTime</th>\n",
              "      <th>reviewTime</th>\n",
              "    </tr>\n",
              "  </thead>\n",
              "  <tbody>\n",
              "    <tr>\n",
              "      <th>0</th>\n",
              "      <td>A2IBPI20UZIR0U</td>\n",
              "      <td>1384719342</td>\n",
              "      <td>cassandra tu \"Yeah, well, that's just like, u...</td>\n",
              "      <td>[0, 0]</td>\n",
              "      <td>Not much to write about here, but it does exac...</td>\n",
              "      <td>5.0</td>\n",
              "      <td>good</td>\n",
              "      <td>1393545600</td>\n",
              "      <td>02 28, 2014</td>\n",
              "    </tr>\n",
              "    <tr>\n",
              "      <th>1</th>\n",
              "      <td>A14VAT5EAX3D9S</td>\n",
              "      <td>1384719342</td>\n",
              "      <td>Jake</td>\n",
              "      <td>[13, 14]</td>\n",
              "      <td>The product does exactly as it should and is q...</td>\n",
              "      <td>5.0</td>\n",
              "      <td>Jake</td>\n",
              "      <td>1363392000</td>\n",
              "      <td>03 16, 2013</td>\n",
              "    </tr>\n",
              "    <tr>\n",
              "      <th>2</th>\n",
              "      <td>A195EZSQDW3E21</td>\n",
              "      <td>1384719342</td>\n",
              "      <td>Rick Bennette \"Rick Bennette\"</td>\n",
              "      <td>[1, 1]</td>\n",
              "      <td>The primary job of this device is to block the...</td>\n",
              "      <td>5.0</td>\n",
              "      <td>It Does The Job Well</td>\n",
              "      <td>1377648000</td>\n",
              "      <td>08 28, 2013</td>\n",
              "    </tr>\n",
              "    <tr>\n",
              "      <th>3</th>\n",
              "      <td>A2C00NNG1ZQQG2</td>\n",
              "      <td>1384719342</td>\n",
              "      <td>RustyBill \"Sunday Rocker\"</td>\n",
              "      <td>[0, 0]</td>\n",
              "      <td>Nice windscreen protects my MXL mic and preven...</td>\n",
              "      <td>5.0</td>\n",
              "      <td>GOOD WINDSCREEN FOR THE MONEY</td>\n",
              "      <td>1392336000</td>\n",
              "      <td>02 14, 2014</td>\n",
              "    </tr>\n",
              "    <tr>\n",
              "      <th>4</th>\n",
              "      <td>A94QU4C90B1AX</td>\n",
              "      <td>1384719342</td>\n",
              "      <td>SEAN MASLANKA</td>\n",
              "      <td>[0, 0]</td>\n",
              "      <td>This pop filter is great. It looks and perform...</td>\n",
              "      <td>5.0</td>\n",
              "      <td>No more pops when I record my vocals.</td>\n",
              "      <td>1392940800</td>\n",
              "      <td>02 21, 2014</td>\n",
              "    </tr>\n",
              "  </tbody>\n",
              "</table>\n",
              "</div>\n",
              "      <button class=\"colab-df-convert\" onclick=\"convertToInteractive('df-4eb11c9b-0fbe-450c-97e7-413958f8fa52')\"\n",
              "              title=\"Convert this dataframe to an interactive table.\"\n",
              "              style=\"display:none;\">\n",
              "        \n",
              "  <svg xmlns=\"http://www.w3.org/2000/svg\" height=\"24px\"viewBox=\"0 0 24 24\"\n",
              "       width=\"24px\">\n",
              "    <path d=\"M0 0h24v24H0V0z\" fill=\"none\"/>\n",
              "    <path d=\"M18.56 5.44l.94 2.06.94-2.06 2.06-.94-2.06-.94-.94-2.06-.94 2.06-2.06.94zm-11 1L8.5 8.5l.94-2.06 2.06-.94-2.06-.94L8.5 2.5l-.94 2.06-2.06.94zm10 10l.94 2.06.94-2.06 2.06-.94-2.06-.94-.94-2.06-.94 2.06-2.06.94z\"/><path d=\"M17.41 7.96l-1.37-1.37c-.4-.4-.92-.59-1.43-.59-.52 0-1.04.2-1.43.59L10.3 9.45l-7.72 7.72c-.78.78-.78 2.05 0 2.83L4 21.41c.39.39.9.59 1.41.59.51 0 1.02-.2 1.41-.59l7.78-7.78 2.81-2.81c.8-.78.8-2.07 0-2.86zM5.41 20L4 18.59l7.72-7.72 1.47 1.35L5.41 20z\"/>\n",
              "  </svg>\n",
              "      </button>\n",
              "      \n",
              "  <style>\n",
              "    .colab-df-container {\n",
              "      display:flex;\n",
              "      flex-wrap:wrap;\n",
              "      gap: 12px;\n",
              "    }\n",
              "\n",
              "    .colab-df-convert {\n",
              "      background-color: #E8F0FE;\n",
              "      border: none;\n",
              "      border-radius: 50%;\n",
              "      cursor: pointer;\n",
              "      display: none;\n",
              "      fill: #1967D2;\n",
              "      height: 32px;\n",
              "      padding: 0 0 0 0;\n",
              "      width: 32px;\n",
              "    }\n",
              "\n",
              "    .colab-df-convert:hover {\n",
              "      background-color: #E2EBFA;\n",
              "      box-shadow: 0px 1px 2px rgba(60, 64, 67, 0.3), 0px 1px 3px 1px rgba(60, 64, 67, 0.15);\n",
              "      fill: #174EA6;\n",
              "    }\n",
              "\n",
              "    [theme=dark] .colab-df-convert {\n",
              "      background-color: #3B4455;\n",
              "      fill: #D2E3FC;\n",
              "    }\n",
              "\n",
              "    [theme=dark] .colab-df-convert:hover {\n",
              "      background-color: #434B5C;\n",
              "      box-shadow: 0px 1px 3px 1px rgba(0, 0, 0, 0.15);\n",
              "      filter: drop-shadow(0px 1px 2px rgba(0, 0, 0, 0.3));\n",
              "      fill: #FFFFFF;\n",
              "    }\n",
              "  </style>\n",
              "\n",
              "      <script>\n",
              "        const buttonEl =\n",
              "          document.querySelector('#df-4eb11c9b-0fbe-450c-97e7-413958f8fa52 button.colab-df-convert');\n",
              "        buttonEl.style.display =\n",
              "          google.colab.kernel.accessAllowed ? 'block' : 'none';\n",
              "\n",
              "        async function convertToInteractive(key) {\n",
              "          const element = document.querySelector('#df-4eb11c9b-0fbe-450c-97e7-413958f8fa52');\n",
              "          const dataTable =\n",
              "            await google.colab.kernel.invokeFunction('convertToInteractive',\n",
              "                                                     [key], {});\n",
              "          if (!dataTable) return;\n",
              "\n",
              "          const docLinkHtml = 'Like what you see? Visit the ' +\n",
              "            '<a target=\"_blank\" href=https://colab.research.google.com/notebooks/data_table.ipynb>data table notebook</a>'\n",
              "            + ' to learn more about interactive tables.';\n",
              "          element.innerHTML = '';\n",
              "          dataTable['output_type'] = 'display_data';\n",
              "          await google.colab.output.renderOutput(dataTable, element);\n",
              "          const docLink = document.createElement('div');\n",
              "          docLink.innerHTML = docLinkHtml;\n",
              "          element.appendChild(docLink);\n",
              "        }\n",
              "      </script>\n",
              "    </div>\n",
              "  </div>\n",
              "  "
            ]
          },
          "metadata": {},
          "execution_count": 4
        }
      ]
    },
    {
      "cell_type": "code",
      "source": [
        "plt.figure(figsize=(7,5))\n",
        "df.overall.value_counts().plot.bar()\n",
        "plt.show()"
      ],
      "metadata": {
        "colab": {
          "base_uri": "https://localhost:8080/",
          "height": 326
        },
        "id": "xoOXBeuc60Iq",
        "outputId": "8a60eee6-15e2-4946-ccd0-4e36ad6fcf28"
      },
      "execution_count": 5,
      "outputs": [
        {
          "output_type": "display_data",
          "data": {
            "text/plain": [
              "<Figure size 504x360 with 1 Axes>"
            ],
            "image/png": "[encoded data removed]"
          },
          "metadata": {
            "needs_background": "light"
          }
        }
      ]
    },
    {
      "cell_type": "markdown",
      "source": [
        "From the above, we note that the distribution of the ratings provided by different users is right skewed. <br>\n",
        "Creating sentiment column by following rule:<br>\n",
        "sentiment :   1 if overall>=4.0 <br>\n",
        "\n",
        ">> 0 otherwise "
      ],
      "metadata": {
        "id": "oD_AgPzm7em5"
      }
    },
    {
      "cell_type": "code",
      "source": [
        "df['sentiment'] = df.overall.apply(lambda x : 1 if x>=4 else 0)"
      ],
      "metadata": {
        "id": "LJKdUWc-72Hp"
      },
      "execution_count": 6,
      "outputs": []
    },
    {
      "cell_type": "markdown",
      "source": [
        "We would use `reviewText` and `sentiment` columns for our further processing."
      ],
      "metadata": {
        "id": "uA8109k26tCh"
      }
    },
    {
      "cell_type": "code",
      "source": [
        "df2 = df[['reviewText', 'sentiment']]"
      ],
      "metadata": {
        "id": "QU7WSzz2SBo2"
      },
      "execution_count": 7,
      "outputs": []
    },
    {
      "cell_type": "code",
      "source": [
        "plt.figure(figsize=(7,5))\n",
        "df2.sentiment.value_counts().plot.bar()\n",
        "plt.show()"
      ],
      "metadata": {
        "colab": {
          "base_uri": "https://localhost:8080/",
          "height": 316
        },
        "id": "fUWVCVUX8DuK",
        "outputId": "3df774ff-75a0-4a09-f5a3-261fc127c7a6"
      },
      "execution_count": 8,
      "outputs": [
        {
          "output_type": "display_data",
          "data": {
            "text/plain": [
              "<Figure size 504x360 with 1 Axes>"
            ],
            "image/png": "[encoded data removed]"
          },
          "metadata": {
            "needs_background": "light"
          }
        }
      ]
    },
    {
      "cell_type": "markdown",
      "source": [
        "Now out target column is not that skewed distributed and we can performn our model traininng without the fear of class imbalance."
      ],
      "metadata": {
        "id": "K76plbBN8yP7"
      }
    },
    {
      "cell_type": "markdown",
      "source": [
        "### Text preprocessing"
      ],
      "metadata": {
        "id": "2xd-Wl6cWtxh"
      }
    },
    {
      "cell_type": "code",
      "source": [
        "df.reviewText"
      ],
      "metadata": {
        "colab": {
          "base_uri": "https://localhost:8080/"
        },
        "id": "8DyvBf17S4w7",
        "outputId": "d624c3a3-608f-4e18-8a84-1cc5009b458d"
      },
      "execution_count": 9,
      "outputs": [
        {
          "output_type": "execute_result",
          "data": {
            "text/plain": [
              "0        Not much to write about here, but it does exac...\n",
              "1        The product does exactly as it should and is q...\n",
              "2        The primary job of this device is to block the...\n",
              "3        Nice windscreen protects my MXL mic and preven...\n",
              "4        This pop filter is great. It looks and perform...\n",
              "                               ...                        \n",
              "10256              Great, just as expected.  Thank to all.\n",
              "10257    I've been thinking about trying the Nanoweb st...\n",
              "10258    I have tried coated strings in the past ( incl...\n",
              "10259    Well, MADE by Elixir and DEVELOPED with Taylor...\n",
              "10260    These strings are really quite good, but I wou...\n",
              "Name: reviewText, Length: 10261, dtype: object"
            ]
          },
          "metadata": {},
          "execution_count": 9
        }
      ]
    },
    {
      "cell_type": "code",
      "source": [
        "# getting the pandas series into a list\n",
        "reviews = [i for i in df.reviewText]"
      ],
      "metadata": {
        "id": "XCvtRq1qUOsj"
      },
      "execution_count": 10,
      "outputs": []
    },
    {
      "cell_type": "markdown",
      "source": [
        "1. Tokenize"
      ],
      "metadata": {
        "id": "IMmTec4SYNRg"
      }
    },
    {
      "cell_type": "code",
      "source": [
        "reviews = [str(rev).lower().split(' ') for rev in reviews]"
      ],
      "metadata": {
        "id": "rO3ovQPOUvqL"
      },
      "execution_count": 11,
      "outputs": []
    },
    {
      "cell_type": "markdown",
      "source": [
        "2. Truncating the reviews to maxlen (i.e. 200)"
      ],
      "metadata": {
        "id": "7Tx_7SZFctN-"
      }
    },
    {
      "cell_type": "code",
      "source": [
        "maxlen = 200\n",
        "reviews = [rev[:maxlen] for rev in reviews]"
      ],
      "metadata": {
        "id": "1WnjTEREbjfy"
      },
      "execution_count": 12,
      "outputs": []
    },
    {
      "cell_type": "markdown",
      "source": [
        "3. Encoding the words to numbers. We set the maximum number of feature to max_features (i.e. 10,000)."
      ],
      "metadata": {
        "id": "AXfCWpzxc3QO"
      }
    },
    {
      "cell_type": "code",
      "source": [
        "max_features=10000\n",
        "reviews = [keras.preprocessing.text.one_hot(' '.join(rev), max_features) for rev in reviews]"
      ],
      "metadata": {
        "id": "z8-t9sM9bjdc"
      },
      "execution_count": 13,
      "outputs": []
    },
    {
      "cell_type": "markdown",
      "source": [
        "4. zero padding the sentences"
      ],
      "metadata": {
        "id": "mLIWxbwMhJ1-"
      }
    },
    {
      "cell_type": "code",
      "source": [
        "reviews = [[0]*(maxlen-len(r))+ r[:maxlen] for r in reviews]"
      ],
      "metadata": {
        "id": "fgBOZiPpghs6"
      },
      "execution_count": 14,
      "outputs": []
    },
    {
      "cell_type": "markdown",
      "source": [
        "5. Sanity check on the length of the inputs"
      ],
      "metadata": {
        "id": "TxpFVTt2hRJ2"
      }
    },
    {
      "cell_type": "code",
      "source": [
        "set([len(r) for r in reviews])"
      ],
      "metadata": {
        "colab": {
          "base_uri": "https://localhost:8080/"
        },
        "id": "oyesFm0VhIWk",
        "outputId": "5b60bd9d-f908-43fd-d10c-e45676373495"
      },
      "execution_count": 15,
      "outputs": [
        {
          "output_type": "execute_result",
          "data": {
            "text/plain": [
              "{200}"
            ]
          },
          "metadata": {},
          "execution_count": 15
        }
      ]
    },
    {
      "cell_type": "markdown",
      "source": [
        "## Train-Validation-Test split "
      ],
      "metadata": {
        "id": "qHo43qsfhaY3"
      }
    },
    {
      "cell_type": "code",
      "source": [
        "df2['encoded_rev'] = reviews"
      ],
      "metadata": {
        "colab": {
          "base_uri": "https://localhost:8080/"
        },
        "id": "wfQYX1mWhaEy",
        "outputId": "b010e12c-8057-40d9-b8cb-db737c90a4ca"
      },
      "execution_count": 16,
      "outputs": [
        {
          "output_type": "stream",
          "name": "stderr",
          "text": [
            "/usr/local/lib/python3.7/dist-packages/ipykernel_launcher.py:1: SettingWithCopyWarning: \n",
            "A value is trying to be set on a copy of a slice from a DataFrame.\n",
            "Try using .loc[row_indexer,col_indexer] = value instead\n",
            "\n",
            "See the caveats in the documentation: https://pandas.pydata.org/pandas-docs/stable/user_guide/indexing.html#returning-a-view-versus-a-copy\n",
            "  \"\"\"Entry point for launching an IPython kernel.\n"
          ]
        }
      ]
    },
    {
      "cell_type": "code",
      "source": [
        "df2.head()"
      ],
      "metadata": {
        "colab": {
          "base_uri": "https://localhost:8080/",
          "height": 206
        },
        "id": "oHvkIG6ShaB-",
        "outputId": "c93f6c72-80cc-4ea0-d9f2-5041916986d5"
      },
      "execution_count": 17,
      "outputs": [
        {
          "output_type": "execute_result",
          "data": {
            "text/plain": [
              "                                          reviewText  sentiment  \\\n",
              "0  Not much to write about here, but it does exac...          1   \n",
              "1  The product does exactly as it should and is q...          1   \n",
              "2  The primary job of this device is to block the...          1   \n",
              "3  Nice windscreen protects my MXL mic and preven...          1   \n",
              "4  This pop filter is great. It looks and perform...          1   \n",
              "\n",
              "                                         encoded_rev  \n",
              "0  [0, 0, 0, 0, 0, 0, 0, 0, 0, 0, 0, 0, 0, 0, 0, ...  \n",
              "1  [0, 0, 0, 0, 0, 0, 0, 0, 0, 0, 0, 0, 0, 0, 0, ...  \n",
              "2  [0, 0, 0, 0, 0, 0, 0, 0, 0, 0, 0, 0, 0, 0, 0, ...  \n",
              "3  [0, 0, 0, 0, 0, 0, 0, 0, 0, 0, 0, 0, 0, 0, 0, ...  \n",
              "4  [0, 0, 0, 0, 0, 0, 0, 0, 0, 0, 0, 0, 0, 0, 0, ...  "
            ],
            "text/html": [
              "\n",
              "  <div id=\"df-c96f6468-3b3d-4e73-b7ea-1ac26b97fe0a\">\n",
              "    <div class=\"colab-df-container\">\n",
              "      <div>\n",
              "<style scoped>\n",
              "    .dataframe tbody tr th:only-of-type {\n",
              "        vertical-align: middle;\n",
              "    }\n",
              "\n",
              "    .dataframe tbody tr th {\n",
              "        vertical-align: top;\n",
              "    }\n",
              "\n",
              "    .dataframe thead th {\n",
              "        text-align: right;\n",
              "    }\n",
              "</style>\n",
              "<table border=\"1\" class=\"dataframe\">\n",
              "  <thead>\n",
              "    <tr style=\"text-align: right;\">\n",
              "      <th></th>\n",
              "      <th>reviewText</th>\n",
              "      <th>sentiment</th>\n",
              "      <th>encoded_rev</th>\n",
              "    </tr>\n",
              "  </thead>\n",
              "  <tbody>\n",
              "    <tr>\n",
              "      <th>0</th>\n",
              "      <td>Not much to write about here, but it does exac...</td>\n",
              "      <td>1</td>\n",
              "      <td>[0, 0, 0, 0, 0, 0, 0, 0, 0, 0, 0, 0, 0, 0, 0, ...</td>\n",
              "    </tr>\n",
              "    <tr>\n",
              "      <th>1</th>\n",
              "      <td>The product does exactly as it should and is q...</td>\n",
              "      <td>1</td>\n",
              "      <td>[0, 0, 0, 0, 0, 0, 0, 0, 0, 0, 0, 0, 0, 0, 0, ...</td>\n",
              "    </tr>\n",
              "    <tr>\n",
              "      <th>2</th>\n",
              "      <td>The primary job of this device is to block the...</td>\n",
              "      <td>1</td>\n",
              "      <td>[0, 0, 0, 0, 0, 0, 0, 0, 0, 0, 0, 0, 0, 0, 0, ...</td>\n",
              "    </tr>\n",
              "    <tr>\n",
              "      <th>3</th>\n",
              "      <td>Nice windscreen protects my MXL mic and preven...</td>\n",
              "      <td>1</td>\n",
              "      <td>[0, 0, 0, 0, 0, 0, 0, 0, 0, 0, 0, 0, 0, 0, 0, ...</td>\n",
              "    </tr>\n",
              "    <tr>\n",
              "      <th>4</th>\n",
              "      <td>This pop filter is great. It looks and perform...</td>\n",
              "      <td>1</td>\n",
              "      <td>[0, 0, 0, 0, 0, 0, 0, 0, 0, 0, 0, 0, 0, 0, 0, ...</td>\n",
              "    </tr>\n",
              "  </tbody>\n",
              "</table>\n",
              "</div>\n",
              "      <button class=\"colab-df-convert\" onclick=\"convertToInteractive('df-c96f6468-3b3d-4e73-b7ea-1ac26b97fe0a')\"\n",
              "              title=\"Convert this dataframe to an interactive table.\"\n",
              "              style=\"display:none;\">\n",
              "        \n",
              "  <svg xmlns=\"http://www.w3.org/2000/svg\" height=\"24px\"viewBox=\"0 0 24 24\"\n",
              "       width=\"24px\">\n",
              "    <path d=\"M0 0h24v24H0V0z\" fill=\"none\"/>\n",
              "    <path d=\"M18.56 5.44l.94 2.06.94-2.06 2.06-.94-2.06-.94-.94-2.06-.94 2.06-2.06.94zm-11 1L8.5 8.5l.94-2.06 2.06-.94-2.06-.94L8.5 2.5l-.94 2.06-2.06.94zm10 10l.94 2.06.94-2.06 2.06-.94-2.06-.94-.94-2.06-.94 2.06-2.06.94z\"/><path d=\"M17.41 7.96l-1.37-1.37c-.4-.4-.92-.59-1.43-.59-.52 0-1.04.2-1.43.59L10.3 9.45l-7.72 7.72c-.78.78-.78 2.05 0 2.83L4 21.41c.39.39.9.59 1.41.59.51 0 1.02-.2 1.41-.59l7.78-7.78 2.81-2.81c.8-.78.8-2.07 0-2.86zM5.41 20L4 18.59l7.72-7.72 1.47 1.35L5.41 20z\"/>\n",
              "  </svg>\n",
              "      </button>\n",
              "      \n",
              "  <style>\n",
              "    .colab-df-container {\n",
              "      display:flex;\n",
              "      flex-wrap:wrap;\n",
              "      gap: 12px;\n",
              "    }\n",
              "\n",
              "    .colab-df-convert {\n",
              "      background-color: #E8F0FE;\n",
              "      border: none;\n",
              "      border-radius: 50%;\n",
              "      cursor: pointer;\n",
              "      display: none;\n",
              "      fill: #1967D2;\n",
              "      height: 32px;\n",
              "      padding: 0 0 0 0;\n",
              "      width: 32px;\n",
              "    }\n",
              "\n",
              "    .colab-df-convert:hover {\n",
              "      background-color: #E2EBFA;\n",
              "      box-shadow: 0px 1px 2px rgba(60, 64, 67, 0.3), 0px 1px 3px 1px rgba(60, 64, 67, 0.15);\n",
              "      fill: #174EA6;\n",
              "    }\n",
              "\n",
              "    [theme=dark] .colab-df-convert {\n",
              "      background-color: #3B4455;\n",
              "      fill: #D2E3FC;\n",
              "    }\n",
              "\n",
              "    [theme=dark] .colab-df-convert:hover {\n",
              "      background-color: #434B5C;\n",
              "      box-shadow: 0px 1px 3px 1px rgba(0, 0, 0, 0.15);\n",
              "      filter: drop-shadow(0px 1px 2px rgba(0, 0, 0, 0.3));\n",
              "      fill: #FFFFFF;\n",
              "    }\n",
              "  </style>\n",
              "\n",
              "      <script>\n",
              "        const buttonEl =\n",
              "          document.querySelector('#df-c96f6468-3b3d-4e73-b7ea-1ac26b97fe0a button.colab-df-convert');\n",
              "        buttonEl.style.display =\n",
              "          google.colab.kernel.accessAllowed ? 'block' : 'none';\n",
              "\n",
              "        async function convertToInteractive(key) {\n",
              "          const element = document.querySelector('#df-c96f6468-3b3d-4e73-b7ea-1ac26b97fe0a');\n",
              "          const dataTable =\n",
              "            await google.colab.kernel.invokeFunction('convertToInteractive',\n",
              "                                                     [key], {});\n",
              "          if (!dataTable) return;\n",
              "\n",
              "          const docLinkHtml = 'Like what you see? Visit the ' +\n",
              "            '<a target=\"_blank\" href=https://colab.research.google.com/notebooks/data_table.ipynb>data table notebook</a>'\n",
              "            + ' to learn more about interactive tables.';\n",
              "          element.innerHTML = '';\n",
              "          dataTable['output_type'] = 'display_data';\n",
              "          await google.colab.output.renderOutput(dataTable, element);\n",
              "          const docLink = document.createElement('div');\n",
              "          docLink.innerHTML = docLinkHtml;\n",
              "          element.appendChild(docLink);\n",
              "        }\n",
              "      </script>\n",
              "    </div>\n",
              "  </div>\n",
              "  "
            ]
          },
          "metadata": {},
          "execution_count": 17
        }
      ]
    },
    {
      "cell_type": "code",
      "source": [
        "Train = df2[:int(df2.shape[0]*.9)]\n",
        "\n",
        "x_train = np.vstack(Train.encoded_rev)\n",
        "y_train = np.vstack(Train.sentiment)"
      ],
      "metadata": {
        "id": "7OCh-RsYhZ_b"
      },
      "execution_count": 18,
      "outputs": []
    },
    {
      "cell_type": "code",
      "source": [
        "Val = df2[int(df2.shape[0]*.9) : int(df2.shape[0]*.95)]\n",
        "\n",
        "x_val = np.vstack(Val.encoded_rev)\n",
        "y_val = np.vstack(Val.sentiment)"
      ],
      "metadata": {
        "id": "8TVskTDyh1-v"
      },
      "execution_count": 19,
      "outputs": []
    },
    {
      "cell_type": "code",
      "source": [
        "Test = df2[int(df2.shape[0]*.95):]\n",
        "\n",
        "x_test = np.vstack(Test.encoded_rev)\n",
        "y_test = np.vstack(Test.sentiment)"
      ],
      "metadata": {
        "id": "xADQJJcqh18K"
      },
      "execution_count": 20,
      "outputs": []
    },
    {
      "cell_type": "markdown",
      "metadata": {
        "id": "qUvpkZIBPTV4"
      },
      "source": [
        "## Build the model"
      ]
    },
    {
      "cell_type": "code",
      "execution_count": 21,
      "metadata": {
        "id": "KLkraGXnPTV4",
        "outputId": "0ebe291c-5d75-43a2-a5fd-0dd3eff4fdf7",
        "colab": {
          "base_uri": "https://localhost:8080/"
        }
      },
      "outputs": [
        {
          "output_type": "stream",
          "name": "stdout",
          "text": [
            "Model: \"model\"\n",
            "_________________________________________________________________\n",
            " Layer (type)                Output Shape              Param #   \n",
            "=================================================================\n",
            " input_1 (InputLayer)        [(None, 200)]             0         \n",
            "                                                                 \n",
            " embedding (Embedding)       (None, 200, 128)          1280000   \n",
            "                                                                 \n",
            " bidirectional (Bidirectiona  (None, 200, 64)          41216     \n",
            " l)                                                              \n",
            "                                                                 \n",
            " bidirectional_1 (Bidirectio  (None, 64)               24832     \n",
            " nal)                                                            \n",
            "                                                                 \n",
            " dense (Dense)               (None, 1)                 65        \n",
            "                                                                 \n",
            "=================================================================\n",
            "Total params: 1,346,113\n",
            "Trainable params: 1,346,113\n",
            "Non-trainable params: 0\n",
            "_________________________________________________________________\n"
          ]
        }
      ],
      "source": [
        "# Input for variable-length sequences of integers\n",
        "inputs = keras.Input(shape=(200,), dtype=\"int32\")\n",
        "\n",
        "# Embed each integer in a 128-dimensional vector\n",
        "x = layers.Embedding(max_features, 128)(inputs)\n",
        "# Add 2 bidirectional LSTMs\n",
        "x = layers.Bidirectional(layers.LSTM(32, return_sequences=True))(x)\n",
        "x = layers.Bidirectional(layers.LSTM(32))(x)\n",
        "# Add a classifier\n",
        "outputs = layers.Dense(1, activation='sigmoid')(x)\n",
        "model = keras.Model(inputs, outputs)\n",
        "model.summary()\n"
      ]
    },
    {
      "cell_type": "markdown",
      "metadata": {
        "id": "amWt_pxsPTV5"
      },
      "source": [
        "## Train and evaluate the model\n"
      ]
    },
    {
      "cell_type": "markdown",
      "source": [
        "Since our target class is imbalanced, we give class weightage while model tranining so that model do not fit on only one class."
      ],
      "metadata": {
        "id": "7iA-dcudDAYj"
      }
    },
    {
      "cell_type": "code",
      "source": [
        "class_weight = {0: len(y_train)/sum(y_train==0), 1: len(y_train)/sum(y_train==1)}\n"
      ],
      "metadata": {
        "id": "3R0X-oFeBSlv"
      },
      "execution_count": 22,
      "outputs": []
    },
    {
      "cell_type": "code",
      "execution_count": 23,
      "metadata": {
        "id": "CoRe5p-YPTV5",
        "outputId": "398ee15b-1b51-45aa-9969-00cbd18b1253",
        "colab": {
          "base_uri": "https://localhost:8080/"
        }
      },
      "outputs": [
        {
          "output_type": "stream",
          "name": "stdout",
          "text": [
            "Epoch 1/20\n",
            "289/289 [==============================] - 25s 48ms/step - loss: 1.2683 - binary_accuracy: 0.6357 - val_loss: 0.6650 - val_binary_accuracy: 0.6140\n",
            "Epoch 2/20\n",
            "289/289 [==============================] - 9s 30ms/step - loss: 0.8420 - binary_accuracy: 0.8062 - val_loss: 0.7325 - val_binary_accuracy: 0.6082\n",
            "Epoch 3/20\n",
            "289/289 [==============================] - 9s 31ms/step - loss: 0.5289 - binary_accuracy: 0.8874 - val_loss: 0.5738 - val_binary_accuracy: 0.7875\n",
            "Epoch 4/20\n",
            "289/289 [==============================] - 9s 31ms/step - loss: 0.2949 - binary_accuracy: 0.9389 - val_loss: 0.6322 - val_binary_accuracy: 0.7622\n",
            "Epoch 5/20\n",
            "289/289 [==============================] - 9s 31ms/step - loss: 0.1978 - binary_accuracy: 0.9649 - val_loss: 0.6604 - val_binary_accuracy: 0.8129\n",
            "Epoch 6/20\n",
            "289/289 [==============================] - 9s 31ms/step - loss: 0.1537 - binary_accuracy: 0.9715 - val_loss: 0.5917 - val_binary_accuracy: 0.8519\n",
            "Epoch 7/20\n",
            "289/289 [==============================] - 9s 30ms/step - loss: 0.1251 - binary_accuracy: 0.9766 - val_loss: 0.6395 - val_binary_accuracy: 0.8285\n",
            "Epoch 8/20\n",
            "289/289 [==============================] - 9s 31ms/step - loss: 0.0778 - binary_accuracy: 0.9871 - val_loss: 0.6572 - val_binary_accuracy: 0.8421\n",
            "Epoch 9/20\n",
            "289/289 [==============================] - 9s 31ms/step - loss: 0.0607 - binary_accuracy: 0.9907 - val_loss: 0.7816 - val_binary_accuracy: 0.8285\n",
            "Epoch 10/20\n",
            "289/289 [==============================] - 9s 31ms/step - loss: 0.0640 - binary_accuracy: 0.9896 - val_loss: 0.6727 - val_binary_accuracy: 0.8674\n",
            "Epoch 11/20\n",
            "289/289 [==============================] - 10s 33ms/step - loss: 0.0453 - binary_accuracy: 0.9926 - val_loss: 0.7336 - val_binary_accuracy: 0.8577\n",
            "Epoch 12/20\n",
            "289/289 [==============================] - 9s 32ms/step - loss: 0.0426 - binary_accuracy: 0.9946 - val_loss: 0.9336 - val_binary_accuracy: 0.8129\n",
            "Epoch 13/20\n",
            "289/289 [==============================] - 9s 31ms/step - loss: 0.0682 - binary_accuracy: 0.9871 - val_loss: 0.9313 - val_binary_accuracy: 0.8070\n",
            "Epoch 14/20\n",
            "289/289 [==============================] - 9s 31ms/step - loss: 0.0542 - binary_accuracy: 0.9890 - val_loss: 0.7282 - val_binary_accuracy: 0.8363\n",
            "Epoch 15/20\n",
            "289/289 [==============================] - 9s 31ms/step - loss: 0.0313 - binary_accuracy: 0.9945 - val_loss: 0.9495 - val_binary_accuracy: 0.8090\n",
            "Epoch 16/20\n",
            "289/289 [==============================] - 9s 30ms/step - loss: 0.0154 - binary_accuracy: 0.9973 - val_loss: 0.9325 - val_binary_accuracy: 0.8285\n",
            "Epoch 17/20\n",
            "289/289 [==============================] - 9s 30ms/step - loss: 0.0100 - binary_accuracy: 0.9983 - val_loss: 0.9609 - val_binary_accuracy: 0.8285\n",
            "Epoch 18/20\n",
            "289/289 [==============================] - 9s 30ms/step - loss: 0.0013 - binary_accuracy: 0.9999 - val_loss: 1.0431 - val_binary_accuracy: 0.8382\n",
            "Epoch 19/20\n",
            "289/289 [==============================] - 9s 30ms/step - loss: 4.3873e-04 - binary_accuracy: 1.0000 - val_loss: 1.0742 - val_binary_accuracy: 0.8421\n",
            "Epoch 20/20\n",
            "289/289 [==============================] - 9s 30ms/step - loss: 3.0899e-04 - binary_accuracy: 1.0000 - val_loss: 1.1049 - val_binary_accuracy: 0.8441\n"
          ]
        },
        {
          "output_type": "execute_result",
          "data": {
            "text/plain": [
              "<keras.callbacks.History at 0x7ff0f216fa90>"
            ]
          },
          "metadata": {},
          "execution_count": 23
        }
      ],
      "source": [
        "model.compile(\"adam\", \"binary_crossentropy\", metrics='binary_accuracy')\n",
        "\n",
        "model.fit(x_train, y_train, batch_size=32, epochs=20, validation_data=(x_val, y_val), class_weight=class_weight)"
      ]
    },
    {
      "cell_type": "code",
      "source": [
        "pred = model.predict(x_test)"
      ],
      "metadata": {
        "id": "c9elVnN-P0B6"
      },
      "execution_count": 24,
      "outputs": []
    },
    {
      "cell_type": "code",
      "source": [
        "round_pred = [round(pred[i][0]) for i in range(len(pred))]"
      ],
      "metadata": {
        "id": "C95pQnEIqeFd"
      },
      "execution_count": 25,
      "outputs": []
    },
    {
      "cell_type": "code",
      "source": [
        "y_act = [int(i[0]) for i in y_test]"
      ],
      "metadata": {
        "id": "fd8ApebbqoJO"
      },
      "execution_count": 26,
      "outputs": []
    },
    {
      "cell_type": "code",
      "source": [
        "count = 0\n",
        "for a,p in zip(y_act, round_pred):\n",
        "  # print(act, pred)\n",
        "  if a==p:\n",
        "    count+=1\n",
        "\n",
        "print('The obtained model accuracy is %f on the test dataset'%(count/len(y_act)*100))"
      ],
      "metadata": {
        "colab": {
          "base_uri": "https://localhost:8080/"
        },
        "id": "jzTk5txGq-OT",
        "outputId": "71fbd102-8149-454e-89ba-d4a23668989d"
      },
      "execution_count": 27,
      "outputs": [
        {
          "output_type": "stream",
          "name": "stdout",
          "text": [
            "The obtained model accuracy is 80.155642 on the test dataset\n"
          ]
        }
      ]
    },
    {
      "cell_type": "markdown",
      "source": [
        "## Conclusion:\n",
        "From the above, we conclude that we can obtained good performance on the review text features with bi-directional LSTM. Further performance enhancement could be done by tweaking the model's hyperparameters. \n"
      ],
      "metadata": {
        "id": "0sk8pCWt-URs"
      }
    }
  ],
  "metadata": {
    "colab": {
      "collapsed_sections": [],
      "name": "Bidirectional_lstm_amazon_music_dataset",
      "provenance": []
    },
    "kernelspec": {
      "display_name": "Python 3",
      "language": "python",
      "name": "python3"
    },
    "language_info": {
      "codemirror_mode": {
        "name": "ipython",
        "version": 3
      },
      "file_extension": ".py",
      "mimetype": "text/x-python",
      "name": "python",
      "nbconvert_exporter": "python",
      "pygments_lexer": "ipython3",
      "version": "3.7.0"
    },
    "accelerator": "GPU",
    "gpuClass": "standard"
  },
  "nbformat": 4,
  "nbformat_minor": 0
}