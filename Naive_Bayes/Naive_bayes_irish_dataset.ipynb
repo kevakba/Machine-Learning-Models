{
 "cells": [
  {
   "cell_type": "markdown",
   "metadata": {},
   "source": [
    "# Problem Statement\n",
    "\n",
    "Aim of this exercise is to get initial insights of the Irish flowers dataset and develop a predictor model using Niave Bayes algorithm.\n",
    "\n",
    "Naive Bayes algorithm works on the bayes theorem. It is having a naive assumption that each feature is independent of others for the given class of output.. In real world that assumption is not valid but still this algorithm works on many complex problems and gives good performance.\n",
    "\n",
    "P(A|B)= P(B|A) * P(A) /P (B)\n",
    "\n",
    "Naive Bayes algorithm is generally used when the dataset is quite small or if we have very small training data. Also multiclass classification is quite a trivial problem in naive bayes unlike in SVC. That is because naive bayes simply compares relative conditional probability of each class and simply assigns it highest valued class label.\n",
    "\n",
    "### Methodology\n",
    "\n",
    "Naive Bayes model development is divided into multiple steps as mentioned below,\n",
    "1. Data exploring and understanding: This step involves preliminary level data understanding and exploring.\n",
    "\n",
    "2. Data Cleaning: This step includes cleaning the existing data. We check the data for any missing values and treat them as per the requirements. We also need to look for constant value colulmns as that is not going to add any additional value to out analysis. Sometimes columns with very high proportion of any particular value also doesn't add any values. Hence, getting rid of them helps with further analysis. \n",
    "\n",
    "3. Data Visualization: This step involves visualizing our dataset and check for relationship amongst independent variables. We can also reduce some feature columns here but it should not be aggressive.\n",
    "\n",
    "4. Data Preparation: This step is mainly usefull for feeding in the data into the model. It involves steps like creating dummy variables, scaling etc. depending upond the data type. \n",
    "\n",
    "5. Train-test split: This step involves spliting the dataset into train and test parts.\n",
    "\n",
    "6. Model Development-validation and evaluaiton: This steps involves training the model and validate it. It involves evaluating the model using relevant matrics.\n",
    "\n",
    "7. Conclusion/Recommendation: It involves drawing conclusions and recommendations to business."
   ]
  },
  {
   "cell_type": "markdown",
   "metadata": {},
   "source": [
    "### Import Dependancies"
   ]
  },
  {
   "cell_type": "code",
   "execution_count": 1,
   "metadata": {},
   "outputs": [],
   "source": [
    "import numpy as np\n",
    "import pandas as pd\n",
    "\n",
    "import matplotlib.pyplot as plt\n",
    "import seaborn as sns\n",
    "\n",
    "import warnings\n",
    "warnings.filterwarnings('ignore')\n",
    "\n",
    "\n",
    "from sklearn.model_selection import train_test_split\n",
    "from sklearn.preprocessing import MinMaxScaler\n",
    "from sklearn.naive_bayes import GaussianNB\n",
    "from sklearn.model_selection import GridSearchCV\n",
    "\n",
    "from sklearn.metrics import confusion_matrix, accuracy_score, classification_report, roc_curve"
   ]
  },
  {
   "cell_type": "markdown",
   "metadata": {},
   "source": [
    "## Reading Dataset"
   ]
  },
  {
   "cell_type": "code",
   "execution_count": 2,
   "metadata": {},
   "outputs": [],
   "source": [
    "data = pd.read_csv('IRIS.csv')"
   ]
  },
  {
   "cell_type": "code",
   "execution_count": 3,
   "metadata": {},
   "outputs": [
    {
     "data": {
      "text/html": [
       "<div>\n",
       "<style scoped>\n",
       "    .dataframe tbody tr th:only-of-type {\n",
       "        vertical-align: middle;\n",
       "    }\n",
       "\n",
       "    .dataframe tbody tr th {\n",
       "        vertical-align: top;\n",
       "    }\n",
       "\n",
       "    .dataframe thead th {\n",
       "        text-align: right;\n",
       "    }\n",
       "</style>\n",
       "<table border=\"1\" class=\"dataframe\">\n",
       "  <thead>\n",
       "    <tr style=\"text-align: right;\">\n",
       "      <th></th>\n",
       "      <th>sepal_length</th>\n",
       "      <th>sepal_width</th>\n",
       "      <th>petal_length</th>\n",
       "      <th>petal_width</th>\n",
       "      <th>species</th>\n",
       "    </tr>\n",
       "  </thead>\n",
       "  <tbody>\n",
       "    <tr>\n",
       "      <th>0</th>\n",
       "      <td>5.1</td>\n",
       "      <td>3.5</td>\n",
       "      <td>1.4</td>\n",
       "      <td>0.2</td>\n",
       "      <td>Iris-setosa</td>\n",
       "    </tr>\n",
       "    <tr>\n",
       "      <th>1</th>\n",
       "      <td>4.9</td>\n",
       "      <td>3.0</td>\n",
       "      <td>1.4</td>\n",
       "      <td>0.2</td>\n",
       "      <td>Iris-setosa</td>\n",
       "    </tr>\n",
       "    <tr>\n",
       "      <th>2</th>\n",
       "      <td>4.7</td>\n",
       "      <td>3.2</td>\n",
       "      <td>1.3</td>\n",
       "      <td>0.2</td>\n",
       "      <td>Iris-setosa</td>\n",
       "    </tr>\n",
       "    <tr>\n",
       "      <th>3</th>\n",
       "      <td>4.6</td>\n",
       "      <td>3.1</td>\n",
       "      <td>1.5</td>\n",
       "      <td>0.2</td>\n",
       "      <td>Iris-setosa</td>\n",
       "    </tr>\n",
       "    <tr>\n",
       "      <th>4</th>\n",
       "      <td>5.0</td>\n",
       "      <td>3.6</td>\n",
       "      <td>1.4</td>\n",
       "      <td>0.2</td>\n",
       "      <td>Iris-setosa</td>\n",
       "    </tr>\n",
       "    <tr>\n",
       "      <th>...</th>\n",
       "      <td>...</td>\n",
       "      <td>...</td>\n",
       "      <td>...</td>\n",
       "      <td>...</td>\n",
       "      <td>...</td>\n",
       "    </tr>\n",
       "    <tr>\n",
       "      <th>145</th>\n",
       "      <td>6.7</td>\n",
       "      <td>3.0</td>\n",
       "      <td>5.2</td>\n",
       "      <td>2.3</td>\n",
       "      <td>Iris-virginica</td>\n",
       "    </tr>\n",
       "    <tr>\n",
       "      <th>146</th>\n",
       "      <td>6.3</td>\n",
       "      <td>2.5</td>\n",
       "      <td>5.0</td>\n",
       "      <td>1.9</td>\n",
       "      <td>Iris-virginica</td>\n",
       "    </tr>\n",
       "    <tr>\n",
       "      <th>147</th>\n",
       "      <td>6.5</td>\n",
       "      <td>3.0</td>\n",
       "      <td>5.2</td>\n",
       "      <td>2.0</td>\n",
       "      <td>Iris-virginica</td>\n",
       "    </tr>\n",
       "    <tr>\n",
       "      <th>148</th>\n",
       "      <td>6.2</td>\n",
       "      <td>3.4</td>\n",
       "      <td>5.4</td>\n",
       "      <td>2.3</td>\n",
       "      <td>Iris-virginica</td>\n",
       "    </tr>\n",
       "    <tr>\n",
       "      <th>149</th>\n",
       "      <td>5.9</td>\n",
       "      <td>3.0</td>\n",
       "      <td>5.1</td>\n",
       "      <td>1.8</td>\n",
       "      <td>Iris-virginica</td>\n",
       "    </tr>\n",
       "  </tbody>\n",
       "</table>\n",
       "<p>150 rows × 5 columns</p>\n",
       "</div>"
      ],
      "text/plain": [
       "     sepal_length  sepal_width  petal_length  petal_width         species\n",
       "0             5.1          3.5           1.4          0.2     Iris-setosa\n",
       "1             4.9          3.0           1.4          0.2     Iris-setosa\n",
       "2             4.7          3.2           1.3          0.2     Iris-setosa\n",
       "3             4.6          3.1           1.5          0.2     Iris-setosa\n",
       "4             5.0          3.6           1.4          0.2     Iris-setosa\n",
       "..            ...          ...           ...          ...             ...\n",
       "145           6.7          3.0           5.2          2.3  Iris-virginica\n",
       "146           6.3          2.5           5.0          1.9  Iris-virginica\n",
       "147           6.5          3.0           5.2          2.0  Iris-virginica\n",
       "148           6.2          3.4           5.4          2.3  Iris-virginica\n",
       "149           5.9          3.0           5.1          1.8  Iris-virginica\n",
       "\n",
       "[150 rows x 5 columns]"
      ]
     },
     "execution_count": 3,
     "metadata": {},
     "output_type": "execute_result"
    }
   ],
   "source": [
    "data"
   ]
  },
  {
   "cell_type": "code",
   "execution_count": 4,
   "metadata": {},
   "outputs": [
    {
     "name": "stdout",
     "output_type": "stream",
     "text": [
      "<class 'pandas.core.frame.DataFrame'>\n",
      "RangeIndex: 150 entries, 0 to 149\n",
      "Data columns (total 5 columns):\n",
      " #   Column        Non-Null Count  Dtype  \n",
      "---  ------        --------------  -----  \n",
      " 0   sepal_length  150 non-null    float64\n",
      " 1   sepal_width   150 non-null    float64\n",
      " 2   petal_length  150 non-null    float64\n",
      " 3   petal_width   150 non-null    float64\n",
      " 4   species       150 non-null    object \n",
      "dtypes: float64(4), object(1)\n",
      "memory usage: 6.0+ KB\n"
     ]
    }
   ],
   "source": [
    "# Data overview\n",
    "\n",
    "data.info()"
   ]
  },
  {
   "cell_type": "markdown",
   "metadata": {},
   "source": [
    "Observation,\n",
    "- Data is having 4 feature columns and 1 class column.\n",
    "- Data is having 150 entries without any null value.\n",
    "- Dtype for feature columns is flaot64."
   ]
  },
  {
   "cell_type": "markdown",
   "metadata": {},
   "source": [
    "## 1. Data Exploration and Understanding"
   ]
  },
  {
   "cell_type": "code",
   "execution_count": 5,
   "metadata": {},
   "outputs": [
    {
     "data": {
      "text/plain": [
       "<AxesSubplot:xlabel='sepal_length'>"
      ]
     },
     "execution_count": 5,
     "metadata": {},
     "output_type": "execute_result"
    },
    {
     "data": {
      "image/png": "[encoded data removed]",
      "text/plain": [
       "<Figure size 504x504 with 2 Axes>"
      ]
     },
     "metadata": {
      "needs_background": "light"
     },
     "output_type": "display_data"
    }
   ],
   "source": [
    "# sepal_length: length of sepal\n",
    "\n",
    "plt.subplots(figsize=(7,7))\n",
    "plt.subplot(2,1,1)\n",
    "sns.distplot(data.sepal_length)\n",
    "plt.subplot(2,1,2)\n",
    "sns.boxplot(data.sepal_length)"
   ]
  },
  {
   "cell_type": "markdown",
   "metadata": {},
   "source": [
    "- Sepal length is having range from 4 to 8. \n",
    "- The median value for sepal length is 5.8 units. \n",
    "- We don't observe any outlier in the sepal length."
   ]
  },
  {
   "cell_type": "code",
   "execution_count": 6,
   "metadata": {},
   "outputs": [
    {
     "data": {
      "text/plain": [
       "<AxesSubplot:xlabel='sepal_width'>"
      ]
     },
     "execution_count": 6,
     "metadata": {},
     "output_type": "execute_result"
    },
    {
     "data": {
      "image/png": "[encoded data removed]",
      "text/plain": [
       "<Figure size 504x504 with 2 Axes>"
      ]
     },
     "metadata": {
      "needs_background": "light"
     },
     "output_type": "display_data"
    }
   ],
   "source": [
    "# sepal_width: width of sepal\n",
    "\n",
    "plt.subplots(figsize=(7,7))\n",
    "plt.subplot(2,1,1)\n",
    "sns.distplot(data.sepal_width)\n",
    "plt.subplot(2,1,2)\n",
    "sns.boxplot(data.sepal_width)"
   ]
  },
  {
   "cell_type": "markdown",
   "metadata": {},
   "source": [
    "- Sepal width is having range from 1.5 to 5. \n",
    "- The median value for sepal width is 3 units. \n",
    "- We can see few outliers in the sepal width on both sides."
   ]
  },
  {
   "cell_type": "code",
   "execution_count": 7,
   "metadata": {},
   "outputs": [
    {
     "data": {
      "text/plain": [
       "<AxesSubplot:xlabel='petal_length'>"
      ]
     },
     "execution_count": 7,
     "metadata": {},
     "output_type": "execute_result"
    },
    {
     "data": {
      "image/png": "[encoded data removed]",
      "text/plain": [
       "<Figure size 504x504 with 2 Axes>"
      ]
     },
     "metadata": {
      "needs_background": "light"
     },
     "output_type": "display_data"
    }
   ],
   "source": [
    "# petal_length: length of petal\n",
    "\n",
    "plt.subplots(figsize=(7,7))\n",
    "plt.subplot(2,1,1)\n",
    "sns.distplot(data.petal_length)\n",
    "plt.subplot(2,1,2)\n",
    "sns.boxplot(data.petal_length)"
   ]
  },
  {
   "cell_type": "markdown",
   "metadata": {},
   "source": [
    "- petal length is having range from 1.5 to 7.\n",
    "- The median value for petal length is 4.5 units.\n",
    "- The distribution of petal length is not normal. "
   ]
  },
  {
   "cell_type": "code",
   "execution_count": 8,
   "metadata": {},
   "outputs": [
    {
     "data": {
      "text/plain": [
       "<AxesSubplot:xlabel='petal_width'>"
      ]
     },
     "execution_count": 8,
     "metadata": {},
     "output_type": "execute_result"
    },
    {
     "data": {
      "image/png": "[encoded data removed]",
      "text/plain": [
       "<Figure size 504x504 with 2 Axes>"
      ]
     },
     "metadata": {
      "needs_background": "light"
     },
     "output_type": "display_data"
    }
   ],
   "source": [
    "# petal_width: width of petal\n",
    "\n",
    "plt.subplots(figsize=(7,7))\n",
    "plt.subplot(2,1,1)\n",
    "sns.distplot(data.petal_width)\n",
    "plt.subplot(2,1,2)\n",
    "sns.boxplot(data.petal_width)"
   ]
  },
  {
   "cell_type": "markdown",
   "metadata": {},
   "source": [
    "- petal width is having range from 0.2 to 2.5.\n",
    "- The median value for petal width is 1.3 units.\n",
    "- The distribution of petal width is not normal."
   ]
  },
  {
   "cell_type": "code",
   "execution_count": 9,
   "metadata": {},
   "outputs": [
    {
     "data": {
      "text/plain": [
       "Iris-versicolor    50\n",
       "Iris-setosa        50\n",
       "Iris-virginica     50\n",
       "Name: species, dtype: int64"
      ]
     },
     "execution_count": 9,
     "metadata": {},
     "output_type": "execute_result"
    }
   ],
   "source": [
    "# Species\n",
    "\n",
    "data.species.value_counts()"
   ]
  },
  {
   "cell_type": "markdown",
   "metadata": {},
   "source": [
    "- There are three classes in species variable.\n",
    "- Class distribution in uniform."
   ]
  },
  {
   "cell_type": "markdown",
   "metadata": {},
   "source": [
    "## 2. Data Cleaning"
   ]
  },
  {
   "cell_type": "markdown",
   "metadata": {},
   "source": [
    "The data is already clean and clear. Hence, we do not need any form of data cleaning step here."
   ]
  },
  {
   "cell_type": "markdown",
   "metadata": {},
   "source": [
    "## 3. Data Visualization"
   ]
  },
  {
   "cell_type": "code",
   "execution_count": 10,
   "metadata": {},
   "outputs": [
    {
     "data": {
      "text/plain": [
       "<AxesSubplot:>"
      ]
     },
     "execution_count": 10,
     "metadata": {},
     "output_type": "execute_result"
    },
    {
     "data": {
      "image/png": "[encoded data removed]",
      "text/plain": [
       "<Figure size 432x432 with 2 Axes>"
      ]
     },
     "metadata": {
      "needs_background": "light"
     },
     "output_type": "display_data"
    }
   ],
   "source": [
    "# Pearson's correlation\n",
    "\n",
    "# heatmap\n",
    "plt.subplots(figsize=(6,6))\n",
    "sns.heatmap(data.corr(), annot=True, cmap='YlGnBu')"
   ]
  },
  {
   "cell_type": "code",
   "execution_count": 11,
   "metadata": {},
   "outputs": [
    {
     "data": {
      "text/plain": [
       "<seaborn.axisgrid.PairGrid at 0x7f9d339caf10>"
      ]
     },
     "execution_count": 11,
     "metadata": {},
     "output_type": "execute_result"
    },
    {
     "data": {
      "image/png": "[encoded data removed]",
      "text/plain": [
       "<Figure size 720x720 with 20 Axes>"
      ]
     },
     "metadata": {
      "needs_background": "light"
     },
     "output_type": "display_data"
    }
   ],
   "source": [
    "# pairplot: Visualizing scatter plot between numeric columns\n",
    "\n",
    "sns.pairplot(data)"
   ]
  },
  {
   "cell_type": "markdown",
   "metadata": {},
   "source": [
    "Observations,\n",
    "- petal_length and petal_width are having very high correlation of 0.96. We can drop petal_width.\n",
    "- sepal_width is having negative correlation with sepal_length, petal_length and petal_width.\n",
    "- Similar correlation can be observed in pairplot as well."
   ]
  },
  {
   "cell_type": "code",
   "execution_count": 12,
   "metadata": {},
   "outputs": [],
   "source": [
    "# Dropping 'petal_width'\n",
    "\n",
    "data = data.drop('petal_width', axis=1)"
   ]
  },
  {
   "cell_type": "markdown",
   "metadata": {},
   "source": [
    "## 4. Data Preparation"
   ]
  },
  {
   "cell_type": "code",
   "execution_count": 13,
   "metadata": {},
   "outputs": [],
   "source": [
    "# mapping species column to integer values\n",
    "\n",
    "data.species = data.species.map({'Iris-virginica': 0, 'Iris-setosa': 1, 'Iris-versicolor': 2})"
   ]
  },
  {
   "cell_type": "code",
   "execution_count": 14,
   "metadata": {},
   "outputs": [],
   "source": [
    "# splitting into X and y\n",
    "\n",
    "X = data.drop('species', axis=1)\n",
    "y = data['species'].astype('int64')"
   ]
  },
  {
   "cell_type": "markdown",
   "metadata": {},
   "source": [
    "## 5. Train-Test split"
   ]
  },
  {
   "cell_type": "code",
   "execution_count": 15,
   "metadata": {},
   "outputs": [],
   "source": [
    "# train-test split\n",
    "\n",
    "X_train, X_test, y_train, y_test = train_test_split(X, y, \n",
    "                                     train_size = 0.7, \n",
    "                                     test_size = 0.3, \n",
    "                                     random_state = 100)"
   ]
  },
  {
   "cell_type": "markdown",
   "metadata": {},
   "source": [
    "Note: Here are not using 'stratify' parameter of train_test_split function as datset is uniformaly distrubited amongs various classes. This parameters should be used when dataset is having skewed distribution amongs various classes."
   ]
  },
  {
   "cell_type": "markdown",
   "metadata": {},
   "source": [
    "#### Scaling the features"
   ]
  },
  {
   "cell_type": "code",
   "execution_count": 16,
   "metadata": {},
   "outputs": [],
   "source": [
    "# Minmax scaling\n",
    "\n",
    "# instantiating the scalers\n",
    "scaler_X = MinMaxScaler()\n",
    "\n",
    "X_train = pd.DataFrame(scaler_X.fit_transform(X_train), index=X_train.index, columns=X_train.columns)\n",
    "X_test = pd.DataFrame(scaler_X.transform(X_test), index=X_test.index, columns=X_test.columns)"
   ]
  },
  {
   "cell_type": "markdown",
   "metadata": {},
   "source": [
    "## 6. Model Development - Validation and Evaluation"
   ]
  },
  {
   "cell_type": "markdown",
   "metadata": {},
   "source": [
    "Here, we are going to use gaussian naive bayes classifier becasue each feature in having continuous and Gaussian/Naormal distribition. There are other types of Niave Bayes classifiers and their applicability dependes upon the kind of feature space we are dealing with.\n",
    "\n",
    "More reading:\n",
    "https://scikit-learn.org/stable/modules/naive_bayes.html#gaussian-naive-bayes"
   ]
  },
  {
   "cell_type": "code",
   "execution_count": 17,
   "metadata": {},
   "outputs": [
    {
     "data": {
      "text/plain": [
       "GaussianNB(priors=None, var_smoothing=1e-09)"
      ]
     },
     "execution_count": 17,
     "metadata": {},
     "output_type": "execute_result"
    }
   ],
   "source": [
    "# Gaussian Naive bayes classifier\n",
    "\n",
    "model = GaussianNB()\n",
    "\n",
    "model.fit(X_train, y_train)"
   ]
  },
  {
   "cell_type": "code",
   "execution_count": 18,
   "metadata": {},
   "outputs": [],
   "source": [
    "# Making prediction\n",
    "\n",
    "y_train_pred = model.predict(X_train)\n",
    "y_test_pred = model.predict(X_test)"
   ]
  },
  {
   "cell_type": "markdown",
   "metadata": {},
   "source": [
    "#### Accuracy comparison between Train and Test sets"
   ]
  },
  {
   "cell_type": "code",
   "execution_count": 19,
   "metadata": {},
   "outputs": [
    {
     "name": "stdout",
     "output_type": "stream",
     "text": [
      "Train accuracy: 0.88\n",
      "Test accuracy: 0.89\n"
     ]
    }
   ],
   "source": [
    "# Accuracy check\n",
    "\n",
    "print('Train accuracy:', round(accuracy_score(y_train, y_train_pred),2))\n",
    "print('Test accuracy:', round(accuracy_score(y_test, y_test_pred),2))"
   ]
  },
  {
   "cell_type": "markdown",
   "metadata": {},
   "source": [
    "It can be observed that both train and test accuracies are almost same. Hence model is performing good on the dataset."
   ]
  },
  {
   "cell_type": "markdown",
   "metadata": {},
   "source": [
    "#### Confusion Matrix"
   ]
  },
  {
   "cell_type": "markdown",
   "metadata": {},
   "source": [
    "Confusion matrix for multiclass classification:\n",
    "\n",
    "<img src=\"files/CM.png\">\n",
    "\n",
    "- All the correctly predicted labels would appear along the diagonal of the matrix.\n",
    "- For successfull classification the confusion matrix should be diagonally sparse."
   ]
  },
  {
   "cell_type": "code",
   "execution_count": 20,
   "metadata": {},
   "outputs": [
    {
     "data": {
      "text/plain": [
       "Text(0.5, 1.0, 'Test set')"
      ]
     },
     "execution_count": 20,
     "metadata": {},
     "output_type": "execute_result"
    },
    {
     "data": {
      "image/png": "[encoded data removed]",
      "text/plain": [
       "<Figure size 864x360 with 4 Axes>"
      ]
     },
     "metadata": {
      "needs_background": "light"
     },
     "output_type": "display_data"
    }
   ],
   "source": [
    "# confusion matrix: train  and test sets\n",
    "\n",
    "plt.subplots(figsize=(12,5))\n",
    "ax1 = plt.subplot(1,2,1)\n",
    "cm = confusion_matrix(y_train, y_train_pred)\n",
    "sns.heatmap(cm, annot=True, cmap='YlGnBu')\n",
    "ax1.set_title('Train set')\n",
    "\n",
    "\n",
    "ax2 = plt.subplot(1,2,2)\n",
    "cm = confusion_matrix(y_test, y_test_pred)\n",
    "sns.heatmap(cm, annot=True, cmap='YlGnBu')\n",
    "ax2.set_title('Test set')"
   ]
  },
  {
   "cell_type": "markdown",
   "metadata": {},
   "source": [
    "We can observe that,\n",
    "- confusion matrix for trainset is diagonally sparse. \n",
    "- We have only 13 incorrect predictions out 105 train data entries.\n",
    "- We have only 5 incorrect predictions out 45 test data entries."
   ]
  },
  {
   "cell_type": "markdown",
   "metadata": {},
   "source": [
    "#### Classification report"
   ]
  },
  {
   "cell_type": "markdown",
   "metadata": {},
   "source": [
    "- Classification report shows derived parameters from confusion matrix viz precision, recall, f-score and support(true occurence belong to the class) for each sub-class.\n",
    "- It also includes corresponding macro and weghted average values as well. "
   ]
  },
  {
   "cell_type": "code",
   "execution_count": 21,
   "metadata": {},
   "outputs": [
    {
     "name": "stdout",
     "output_type": "stream",
     "text": [
      "              precision    recall  f1-score   support\n",
      "\n",
      "           0       0.83      0.75      0.79        32\n",
      "           1       1.00      1.00      1.00        34\n",
      "           2       0.81      0.87      0.84        39\n",
      "\n",
      "    accuracy                           0.88       105\n",
      "   macro avg       0.88      0.87      0.88       105\n",
      "weighted avg       0.88      0.88      0.88       105\n",
      "\n"
     ]
    }
   ],
   "source": [
    "# classification report\n",
    "\n",
    "print(classification_report(y_train, y_train_pred))"
   ]
  },
  {
   "cell_type": "markdown",
   "metadata": {},
   "source": [
    "Observations as per classification report,\n",
    "- f1-score summarizes both precision and recall scores. f1 values are acceptable for each class.\n",
    "- macro and weighted average for all the class is 0.88 which is good."
   ]
  },
  {
   "cell_type": "code",
   "execution_count": 22,
   "metadata": {},
   "outputs": [
    {
     "name": "stdout",
     "output_type": "stream",
     "text": [
      "              precision    recall  f1-score   support\n",
      "\n",
      "           0       0.93      0.78      0.85        18\n",
      "           1       1.00      1.00      1.00        16\n",
      "           2       0.71      0.91      0.80        11\n",
      "\n",
      "    accuracy                           0.89        45\n",
      "   macro avg       0.88      0.90      0.88        45\n",
      "weighted avg       0.90      0.89      0.89        45\n",
      "\n"
     ]
    }
   ],
   "source": [
    "print(classification_report(y_test, y_test_pred))"
   ]
  },
  {
   "cell_type": "markdown",
   "metadata": {},
   "source": [
    "The above classification report for test data states that there isn't any overfitting with the model. The model is performing really well on the dataset. One reason bihind that is the gaussian naive bayes classifier is much more capable algorithm."
   ]
  },
  {
   "cell_type": "markdown",
   "metadata": {},
   "source": [
    "#### Hype-parameter tuning"
   ]
  },
  {
   "cell_type": "markdown",
   "metadata": {},
   "source": [
    "Hyper-parameter to tune:\n",
    "\n",
    "\n",
    "var_smoothing: Variance smoothing is a variant of Laplace smoothing in the sense that the 'var_smoothing' parameter specifies the portion of the largest variance of all features to be added to variances for calculation stability."
   ]
  },
  {
   "cell_type": "code",
   "execution_count": 23,
   "metadata": {
    "scrolled": true
   },
   "outputs": [
    {
     "name": "stdout",
     "output_type": "stream",
     "text": [
      "Fitting 5 folds for each of 100 candidates, totalling 500 fits\n"
     ]
    },
    {
     "name": "stderr",
     "output_type": "stream",
     "text": [
      "[Parallel(n_jobs=1)]: Using backend SequentialBackend with 1 concurrent workers.\n",
      "[Parallel(n_jobs=1)]: Done 500 out of 500 | elapsed:    2.1s finished\n"
     ]
    },
    {
     "data": {
      "text/plain": [
       "GridSearchCV(cv=5, error_score=nan,\n",
       "             estimator=GaussianNB(priors=None, var_smoothing=1e-09),\n",
       "             iid='deprecated', n_jobs=None,\n",
       "             param_grid={'var_smoothing': array([1.00000000e+00, 7.39072203e-01, 5.46227722e-01, 4.03701726e-01,\n",
       "       2.98364724e-01, 2.20513074e-01, 1.62975083e-01, 1.20450354e-01,\n",
       "       8.90215085e-02, 6.57933225e-02, 4.86260158e-02, 3.59381366e-02,\n",
       "       2.65608778e-02, 1.9...\n",
       "       3.12571585e-11, 2.31012970e-11, 1.70735265e-11, 1.26185688e-11,\n",
       "       9.32603347e-12, 6.89261210e-12, 5.09413801e-12, 3.76493581e-12,\n",
       "       2.78255940e-12, 2.05651231e-12, 1.51991108e-12, 1.12332403e-12,\n",
       "       8.30217568e-13, 6.13590727e-13, 4.53487851e-13, 3.35160265e-13,\n",
       "       2.47707636e-13, 1.83073828e-13, 1.35304777e-13, 1.00000000e-13])},\n",
       "             pre_dispatch='2*n_jobs', refit=True, return_train_score=True,\n",
       "             scoring='accuracy', verbose=1)"
      ]
     },
     "execution_count": 23,
     "metadata": {},
     "output_type": "execute_result"
    }
   ],
   "source": [
    "# parameters grid\n",
    "params = {'var_smoothing': np.logspace(0,-13, num=100)}\n",
    "\n",
    "model2 = GaussianNB()\n",
    "\n",
    "# cross validation\n",
    "folds = 5\n",
    "model_cv = GridSearchCV(estimator = model2, \n",
    "                        param_grid = params, \n",
    "                        scoring= 'accuracy',  \n",
    "                        cv = folds, \n",
    "                        return_train_score=True,\n",
    "                        verbose = 1)    \n",
    "\n",
    "\n",
    "model_cv.fit(X_train, y_train) "
   ]
  },
  {
   "cell_type": "code",
   "execution_count": 24,
   "metadata": {
    "scrolled": true
   },
   "outputs": [
    {
     "data": {
      "text/html": [
       "<div>\n",
       "<style scoped>\n",
       "    .dataframe tbody tr th:only-of-type {\n",
       "        vertical-align: middle;\n",
       "    }\n",
       "\n",
       "    .dataframe tbody tr th {\n",
       "        vertical-align: top;\n",
       "    }\n",
       "\n",
       "    .dataframe thead th {\n",
       "        text-align: right;\n",
       "    }\n",
       "</style>\n",
       "<table border=\"1\" class=\"dataframe\">\n",
       "  <thead>\n",
       "    <tr style=\"text-align: right;\">\n",
       "      <th></th>\n",
       "      <th>mean_fit_time</th>\n",
       "      <th>std_fit_time</th>\n",
       "      <th>mean_score_time</th>\n",
       "      <th>std_score_time</th>\n",
       "      <th>param_var_smoothing</th>\n",
       "      <th>params</th>\n",
       "      <th>split0_test_score</th>\n",
       "      <th>split1_test_score</th>\n",
       "      <th>split2_test_score</th>\n",
       "      <th>split3_test_score</th>\n",
       "      <th>...</th>\n",
       "      <th>mean_test_score</th>\n",
       "      <th>std_test_score</th>\n",
       "      <th>rank_test_score</th>\n",
       "      <th>split0_train_score</th>\n",
       "      <th>split1_train_score</th>\n",
       "      <th>split2_train_score</th>\n",
       "      <th>split3_train_score</th>\n",
       "      <th>split4_train_score</th>\n",
       "      <th>mean_train_score</th>\n",
       "      <th>std_train_score</th>\n",
       "    </tr>\n",
       "  </thead>\n",
       "  <tbody>\n",
       "    <tr>\n",
       "      <th>0</th>\n",
       "      <td>0.002894</td>\n",
       "      <td>0.001018</td>\n",
       "      <td>0.001902</td>\n",
       "      <td>0.001457</td>\n",
       "      <td>1.000000</td>\n",
       "      <td>{'var_smoothing': 1.0}</td>\n",
       "      <td>0.904762</td>\n",
       "      <td>0.809524</td>\n",
       "      <td>0.857143</td>\n",
       "      <td>0.857143</td>\n",
       "      <td>...</td>\n",
       "      <td>0.857143</td>\n",
       "      <td>0.030117</td>\n",
       "      <td>100</td>\n",
       "      <td>0.869048</td>\n",
       "      <td>0.892857</td>\n",
       "      <td>0.869048</td>\n",
       "      <td>0.869048</td>\n",
       "      <td>0.833333</td>\n",
       "      <td>0.866667</td>\n",
       "      <td>0.019048</td>\n",
       "    </tr>\n",
       "    <tr>\n",
       "      <th>1</th>\n",
       "      <td>0.001724</td>\n",
       "      <td>0.000049</td>\n",
       "      <td>0.001001</td>\n",
       "      <td>0.000083</td>\n",
       "      <td>0.739072</td>\n",
       "      <td>{'var_smoothing': 0.7390722033525778}</td>\n",
       "      <td>0.904762</td>\n",
       "      <td>0.809524</td>\n",
       "      <td>0.857143</td>\n",
       "      <td>0.904762</td>\n",
       "      <td>...</td>\n",
       "      <td>0.885714</td>\n",
       "      <td>0.048562</td>\n",
       "      <td>10</td>\n",
       "      <td>0.869048</td>\n",
       "      <td>0.880952</td>\n",
       "      <td>0.857143</td>\n",
       "      <td>0.869048</td>\n",
       "      <td>0.833333</td>\n",
       "      <td>0.861905</td>\n",
       "      <td>0.016148</td>\n",
       "    </tr>\n",
       "    <tr>\n",
       "      <th>2</th>\n",
       "      <td>0.001844</td>\n",
       "      <td>0.000119</td>\n",
       "      <td>0.001024</td>\n",
       "      <td>0.000070</td>\n",
       "      <td>0.546228</td>\n",
       "      <td>{'var_smoothing': 0.5462277217684341}</td>\n",
       "      <td>0.904762</td>\n",
       "      <td>0.761905</td>\n",
       "      <td>0.857143</td>\n",
       "      <td>0.904762</td>\n",
       "      <td>...</td>\n",
       "      <td>0.876190</td>\n",
       "      <td>0.064594</td>\n",
       "      <td>96</td>\n",
       "      <td>0.869048</td>\n",
       "      <td>0.880952</td>\n",
       "      <td>0.869048</td>\n",
       "      <td>0.869048</td>\n",
       "      <td>0.845238</td>\n",
       "      <td>0.866667</td>\n",
       "      <td>0.011664</td>\n",
       "    </tr>\n",
       "    <tr>\n",
       "      <th>3</th>\n",
       "      <td>0.001832</td>\n",
       "      <td>0.000166</td>\n",
       "      <td>0.001009</td>\n",
       "      <td>0.000088</td>\n",
       "      <td>0.403702</td>\n",
       "      <td>{'var_smoothing': 0.4037017258596554}</td>\n",
       "      <td>0.904762</td>\n",
       "      <td>0.809524</td>\n",
       "      <td>0.809524</td>\n",
       "      <td>0.857143</td>\n",
       "      <td>...</td>\n",
       "      <td>0.866667</td>\n",
       "      <td>0.055533</td>\n",
       "      <td>99</td>\n",
       "      <td>0.857143</td>\n",
       "      <td>0.892857</td>\n",
       "      <td>0.880952</td>\n",
       "      <td>0.880952</td>\n",
       "      <td>0.857143</td>\n",
       "      <td>0.873810</td>\n",
       "      <td>0.014286</td>\n",
       "    </tr>\n",
       "    <tr>\n",
       "      <th>4</th>\n",
       "      <td>0.001771</td>\n",
       "      <td>0.000045</td>\n",
       "      <td>0.000968</td>\n",
       "      <td>0.000022</td>\n",
       "      <td>0.298365</td>\n",
       "      <td>{'var_smoothing': 0.29836472402833386}</td>\n",
       "      <td>0.952381</td>\n",
       "      <td>0.809524</td>\n",
       "      <td>0.809524</td>\n",
       "      <td>0.857143</td>\n",
       "      <td>...</td>\n",
       "      <td>0.876190</td>\n",
       "      <td>0.064594</td>\n",
       "      <td>96</td>\n",
       "      <td>0.857143</td>\n",
       "      <td>0.892857</td>\n",
       "      <td>0.880952</td>\n",
       "      <td>0.880952</td>\n",
       "      <td>0.869048</td>\n",
       "      <td>0.876190</td>\n",
       "      <td>0.012141</td>\n",
       "    </tr>\n",
       "    <tr>\n",
       "      <th>...</th>\n",
       "      <td>...</td>\n",
       "      <td>...</td>\n",
       "      <td>...</td>\n",
       "      <td>...</td>\n",
       "      <td>...</td>\n",
       "      <td>...</td>\n",
       "      <td>...</td>\n",
       "      <td>...</td>\n",
       "      <td>...</td>\n",
       "      <td>...</td>\n",
       "      <td>...</td>\n",
       "      <td>...</td>\n",
       "      <td>...</td>\n",
       "      <td>...</td>\n",
       "      <td>...</td>\n",
       "      <td>...</td>\n",
       "      <td>...</td>\n",
       "      <td>...</td>\n",
       "      <td>...</td>\n",
       "      <td>...</td>\n",
       "      <td>...</td>\n",
       "    </tr>\n",
       "    <tr>\n",
       "      <th>95</th>\n",
       "      <td>0.001719</td>\n",
       "      <td>0.000023</td>\n",
       "      <td>0.001018</td>\n",
       "      <td>0.000081</td>\n",
       "      <td>0.000000</td>\n",
       "      <td>{'var_smoothing': 3.351602650938834e-13}</td>\n",
       "      <td>0.952381</td>\n",
       "      <td>0.809524</td>\n",
       "      <td>0.857143</td>\n",
       "      <td>0.857143</td>\n",
       "      <td>...</td>\n",
       "      <td>0.885714</td>\n",
       "      <td>0.057143</td>\n",
       "      <td>10</td>\n",
       "      <td>0.892857</td>\n",
       "      <td>0.892857</td>\n",
       "      <td>0.892857</td>\n",
       "      <td>0.892857</td>\n",
       "      <td>0.892857</td>\n",
       "      <td>0.892857</td>\n",
       "      <td>0.000000</td>\n",
       "    </tr>\n",
       "    <tr>\n",
       "      <th>96</th>\n",
       "      <td>0.001755</td>\n",
       "      <td>0.000049</td>\n",
       "      <td>0.000965</td>\n",
       "      <td>0.000009</td>\n",
       "      <td>0.000000</td>\n",
       "      <td>{'var_smoothing': 2.4770763559917037e-13}</td>\n",
       "      <td>0.952381</td>\n",
       "      <td>0.809524</td>\n",
       "      <td>0.857143</td>\n",
       "      <td>0.857143</td>\n",
       "      <td>...</td>\n",
       "      <td>0.885714</td>\n",
       "      <td>0.057143</td>\n",
       "      <td>10</td>\n",
       "      <td>0.892857</td>\n",
       "      <td>0.892857</td>\n",
       "      <td>0.892857</td>\n",
       "      <td>0.892857</td>\n",
       "      <td>0.892857</td>\n",
       "      <td>0.892857</td>\n",
       "      <td>0.000000</td>\n",
       "    </tr>\n",
       "    <tr>\n",
       "      <th>97</th>\n",
       "      <td>0.001747</td>\n",
       "      <td>0.000082</td>\n",
       "      <td>0.000967</td>\n",
       "      <td>0.000019</td>\n",
       "      <td>0.000000</td>\n",
       "      <td>{'var_smoothing': 1.8307382802953623e-13}</td>\n",
       "      <td>0.952381</td>\n",
       "      <td>0.809524</td>\n",
       "      <td>0.857143</td>\n",
       "      <td>0.857143</td>\n",
       "      <td>...</td>\n",
       "      <td>0.885714</td>\n",
       "      <td>0.057143</td>\n",
       "      <td>10</td>\n",
       "      <td>0.892857</td>\n",
       "      <td>0.892857</td>\n",
       "      <td>0.892857</td>\n",
       "      <td>0.892857</td>\n",
       "      <td>0.892857</td>\n",
       "      <td>0.892857</td>\n",
       "      <td>0.000000</td>\n",
       "    </tr>\n",
       "    <tr>\n",
       "      <th>98</th>\n",
       "      <td>0.001706</td>\n",
       "      <td>0.000050</td>\n",
       "      <td>0.000957</td>\n",
       "      <td>0.000024</td>\n",
       "      <td>0.000000</td>\n",
       "      <td>{'var_smoothing': 1.353047774579802e-13}</td>\n",
       "      <td>0.952381</td>\n",
       "      <td>0.809524</td>\n",
       "      <td>0.857143</td>\n",
       "      <td>0.857143</td>\n",
       "      <td>...</td>\n",
       "      <td>0.885714</td>\n",
       "      <td>0.057143</td>\n",
       "      <td>10</td>\n",
       "      <td>0.892857</td>\n",
       "      <td>0.892857</td>\n",
       "      <td>0.892857</td>\n",
       "      <td>0.892857</td>\n",
       "      <td>0.892857</td>\n",
       "      <td>0.892857</td>\n",
       "      <td>0.000000</td>\n",
       "    </tr>\n",
       "    <tr>\n",
       "      <th>99</th>\n",
       "      <td>0.001726</td>\n",
       "      <td>0.000055</td>\n",
       "      <td>0.000993</td>\n",
       "      <td>0.000049</td>\n",
       "      <td>0.000000</td>\n",
       "      <td>{'var_smoothing': 1e-13}</td>\n",
       "      <td>0.952381</td>\n",
       "      <td>0.809524</td>\n",
       "      <td>0.857143</td>\n",
       "      <td>0.857143</td>\n",
       "      <td>...</td>\n",
       "      <td>0.885714</td>\n",
       "      <td>0.057143</td>\n",
       "      <td>10</td>\n",
       "      <td>0.892857</td>\n",
       "      <td>0.892857</td>\n",
       "      <td>0.892857</td>\n",
       "      <td>0.892857</td>\n",
       "      <td>0.892857</td>\n",
       "      <td>0.892857</td>\n",
       "      <td>0.000000</td>\n",
       "    </tr>\n",
       "  </tbody>\n",
       "</table>\n",
       "<p>100 rows × 21 columns</p>\n",
       "</div>"
      ],
      "text/plain": [
       "    mean_fit_time  std_fit_time  mean_score_time  std_score_time  \\\n",
       "0        0.002894      0.001018         0.001902        0.001457   \n",
       "1        0.001724      0.000049         0.001001        0.000083   \n",
       "2        0.001844      0.000119         0.001024        0.000070   \n",
       "3        0.001832      0.000166         0.001009        0.000088   \n",
       "4        0.001771      0.000045         0.000968        0.000022   \n",
       "..            ...           ...              ...             ...   \n",
       "95       0.001719      0.000023         0.001018        0.000081   \n",
       "96       0.001755      0.000049         0.000965        0.000009   \n",
       "97       0.001747      0.000082         0.000967        0.000019   \n",
       "98       0.001706      0.000050         0.000957        0.000024   \n",
       "99       0.001726      0.000055         0.000993        0.000049   \n",
       "\n",
       "   param_var_smoothing                                     params  \\\n",
       "0             1.000000                     {'var_smoothing': 1.0}   \n",
       "1             0.739072      {'var_smoothing': 0.7390722033525778}   \n",
       "2             0.546228      {'var_smoothing': 0.5462277217684341}   \n",
       "3             0.403702      {'var_smoothing': 0.4037017258596554}   \n",
       "4             0.298365     {'var_smoothing': 0.29836472402833386}   \n",
       "..                 ...                                        ...   \n",
       "95            0.000000   {'var_smoothing': 3.351602650938834e-13}   \n",
       "96            0.000000  {'var_smoothing': 2.4770763559917037e-13}   \n",
       "97            0.000000  {'var_smoothing': 1.8307382802953623e-13}   \n",
       "98            0.000000   {'var_smoothing': 1.353047774579802e-13}   \n",
       "99            0.000000                   {'var_smoothing': 1e-13}   \n",
       "\n",
       "    split0_test_score  split1_test_score  split2_test_score  \\\n",
       "0            0.904762           0.809524           0.857143   \n",
       "1            0.904762           0.809524           0.857143   \n",
       "2            0.904762           0.761905           0.857143   \n",
       "3            0.904762           0.809524           0.809524   \n",
       "4            0.952381           0.809524           0.809524   \n",
       "..                ...                ...                ...   \n",
       "95           0.952381           0.809524           0.857143   \n",
       "96           0.952381           0.809524           0.857143   \n",
       "97           0.952381           0.809524           0.857143   \n",
       "98           0.952381           0.809524           0.857143   \n",
       "99           0.952381           0.809524           0.857143   \n",
       "\n",
       "    split3_test_score  ...  mean_test_score  std_test_score  rank_test_score  \\\n",
       "0            0.857143  ...         0.857143        0.030117              100   \n",
       "1            0.904762  ...         0.885714        0.048562               10   \n",
       "2            0.904762  ...         0.876190        0.064594               96   \n",
       "3            0.857143  ...         0.866667        0.055533               99   \n",
       "4            0.857143  ...         0.876190        0.064594               96   \n",
       "..                ...  ...              ...             ...              ...   \n",
       "95           0.857143  ...         0.885714        0.057143               10   \n",
       "96           0.857143  ...         0.885714        0.057143               10   \n",
       "97           0.857143  ...         0.885714        0.057143               10   \n",
       "98           0.857143  ...         0.885714        0.057143               10   \n",
       "99           0.857143  ...         0.885714        0.057143               10   \n",
       "\n",
       "    split0_train_score  split1_train_score  split2_train_score  \\\n",
       "0             0.869048            0.892857            0.869048   \n",
       "1             0.869048            0.880952            0.857143   \n",
       "2             0.869048            0.880952            0.869048   \n",
       "3             0.857143            0.892857            0.880952   \n",
       "4             0.857143            0.892857            0.880952   \n",
       "..                 ...                 ...                 ...   \n",
       "95            0.892857            0.892857            0.892857   \n",
       "96            0.892857            0.892857            0.892857   \n",
       "97            0.892857            0.892857            0.892857   \n",
       "98            0.892857            0.892857            0.892857   \n",
       "99            0.892857            0.892857            0.892857   \n",
       "\n",
       "    split3_train_score  split4_train_score  mean_train_score  std_train_score  \n",
       "0             0.869048            0.833333          0.866667         0.019048  \n",
       "1             0.869048            0.833333          0.861905         0.016148  \n",
       "2             0.869048            0.845238          0.866667         0.011664  \n",
       "3             0.880952            0.857143          0.873810         0.014286  \n",
       "4             0.880952            0.869048          0.876190         0.012141  \n",
       "..                 ...                 ...               ...              ...  \n",
       "95            0.892857            0.892857          0.892857         0.000000  \n",
       "96            0.892857            0.892857          0.892857         0.000000  \n",
       "97            0.892857            0.892857          0.892857         0.000000  \n",
       "98            0.892857            0.892857          0.892857         0.000000  \n",
       "99            0.892857            0.892857          0.892857         0.000000  \n",
       "\n",
       "[100 rows x 21 columns]"
      ]
     },
     "execution_count": 24,
     "metadata": {},
     "output_type": "execute_result"
    }
   ],
   "source": [
    "# Checking performance variation with parameter value\n",
    "\n",
    "cv_res = pd.DataFrame(model_cv.cv_results_)\n",
    "cv_res"
   ]
  },
  {
   "cell_type": "code",
   "execution_count": 25,
   "metadata": {},
   "outputs": [
    {
     "data": {
      "text/plain": [
       "<AxesSubplot:xlabel='param_var_smoothing', ylabel='mean_test_score'>"
      ]
     },
     "execution_count": 25,
     "metadata": {},
     "output_type": "execute_result"
    },
    {
     "data": {
      "image/png": "[encoded data removed]",
      "text/plain": [
       "<Figure size 432x288 with 1 Axes>"
      ]
     },
     "metadata": {
      "needs_background": "light"
     },
     "output_type": "display_data"
    }
   ],
   "source": [
    "# plotting cv test accuracy Vs var_smoothing parameter value\n",
    "\n",
    "sns.lineplot(x=cv_res.param_var_smoothing, y= cv_res.mean_test_score)"
   ]
  },
  {
   "cell_type": "code",
   "execution_count": 26,
   "metadata": {},
   "outputs": [
    {
     "data": {
      "text/plain": [
       "{'var_smoothing': 0.03593813663804626}"
      ]
     },
     "execution_count": 26,
     "metadata": {},
     "output_type": "execute_result"
    }
   ],
   "source": [
    "# best parameter as per grid search CV\n",
    "\n",
    "model_cv.best_params_"
   ]
  },
  {
   "cell_type": "code",
   "execution_count": 27,
   "metadata": {},
   "outputs": [
    {
     "data": {
      "text/plain": [
       "GaussianNB(priors=None, var_smoothing=0.03593813663804626)"
      ]
     },
     "execution_count": 27,
     "metadata": {},
     "output_type": "execute_result"
    }
   ],
   "source": [
    "# building model using best parameter values\n",
    "\n",
    "model3 = GaussianNB(var_smoothing = model_cv.best_params_['var_smoothing'])\n",
    "model3.fit(X_train, y_train)"
   ]
  },
  {
   "cell_type": "code",
   "execution_count": 28,
   "metadata": {},
   "outputs": [],
   "source": [
    "# Making prediction\n",
    "\n",
    "y_train_pred = model3.predict(X_train)\n",
    "y_test_pred = model3.predict(X_test)"
   ]
  },
  {
   "cell_type": "code",
   "execution_count": 29,
   "metadata": {},
   "outputs": [
    {
     "name": "stdout",
     "output_type": "stream",
     "text": [
      "Train accuracy: 0.89\n",
      "Test accuracy: 0.89\n"
     ]
    }
   ],
   "source": [
    "# Accuracy check\n",
    "\n",
    "print('Train accuracy:', round(accuracy_score(y_train, y_train_pred),2))\n",
    "print('Test accuracy:', round(accuracy_score(y_test, y_test_pred),2))"
   ]
  },
  {
   "cell_type": "code",
   "execution_count": 30,
   "metadata": {},
   "outputs": [
    {
     "data": {
      "text/plain": [
       "Text(0.5, 1.0, 'Test set')"
      ]
     },
     "execution_count": 30,
     "metadata": {},
     "output_type": "execute_result"
    },
    {
     "data": {
      "image/png": "[encoded data removed]",
      "text/plain": [
       "<Figure size 864x360 with 4 Axes>"
      ]
     },
     "metadata": {
      "needs_background": "light"
     },
     "output_type": "display_data"
    }
   ],
   "source": [
    "# confusion matrix: train  and test sets\n",
    "\n",
    "plt.subplots(figsize=(12,5))\n",
    "ax1 = plt.subplot(1,2,1)\n",
    "cm = confusion_matrix(y_train, y_train_pred)\n",
    "sns.heatmap(cm, annot=True, cmap='YlGnBu')\n",
    "ax1.set_title('Train set')\n",
    "\n",
    "\n",
    "ax2 = plt.subplot(1,2,2)\n",
    "cm = confusion_matrix(y_test, y_test_pred)\n",
    "sns.heatmap(cm, annot=True, cmap='YlGnBu')\n",
    "ax2.set_title('Test set')"
   ]
  },
  {
   "cell_type": "code",
   "execution_count": 31,
   "metadata": {},
   "outputs": [
    {
     "name": "stdout",
     "output_type": "stream",
     "text": [
      "              precision    recall  f1-score   support\n",
      "\n",
      "           0       0.86      0.75      0.80        32\n",
      "           1       1.00      1.00      1.00        34\n",
      "           2       0.81      0.90      0.85        39\n",
      "\n",
      "    accuracy                           0.89       105\n",
      "   macro avg       0.89      0.88      0.88       105\n",
      "weighted avg       0.89      0.89      0.88       105\n",
      "\n"
     ]
    }
   ],
   "source": [
    "# classification report\n",
    "\n",
    "print(classification_report(y_train, y_train_pred))"
   ]
  },
  {
   "cell_type": "markdown",
   "metadata": {},
   "source": [
    "Observation,\n",
    "\n",
    "- there isnt any considerable improvement in train-test accuracies or other derived matrices after using best parameters from grid search CV. "
   ]
  },
  {
   "cell_type": "markdown",
   "metadata": {},
   "source": [
    "## 7. Conclusion"
   ]
  },
  {
   "cell_type": "markdown",
   "metadata": {},
   "source": [
    "- Gaussian Naive Bayes algorithm is resulting in the ~0.89 accuracy on Iris dataset.\n",
    "- Precision-recall and f1 score values are near to 0.9.\n",
    "- Naive Bayes algorithm is capable of solving very complex problems (e.g text classification) and dealing with too large or small datasets. Hence, getting good performance on Irish dataset is not an eye opener."
   ]
  },
  {
   "cell_type": "markdown",
   "metadata": {},
   "source": [
    "------"
   ]
  }
 ],
 "metadata": {
  "kernelspec": {
   "display_name": "Python 3",
   "language": "python",
   "name": "python3"
  },
  "language_info": {
   "codemirror_mode": {
    "name": "ipython",
    "version": 3
   },
   "file_extension": ".py",
   "mimetype": "text/x-python",
   "name": "python",
   "nbconvert_exporter": "python",
   "pygments_lexer": "ipython3",
   "version": "3.7.6"
  }
 },
 "nbformat": 4,
 "nbformat_minor": 4
}
