{
 "cells": [
  {
   "cell_type": "markdown",
   "metadata": {},
   "source": [
    "# Problem Statement\n",
    "\n",
    "Aim of this exercise is to get initial insights of the dataset and develop a predictor model using logistic regression algorithm.\n",
    "\n",
    "### Methodology\n",
    "\n",
    "Logistic regresion model development is divided into multiple stpes as mentioned below,\n",
    "1. Data exploring and understanding: This step involves preliminary level data understanding and exploring.\n",
    "\n",
    "2. Data Cleaning: This step includes cleaning the existing data. We check the data for any missing values and treat them as per the requirements. We also need to look for constant value colulmns as that is not going to add any additional value to out analysis. Sometimes columns with very high proportion of any particular value also doesn't add any values. Hence, getting rid of them helps with further analysis. \n",
    "\n",
    "3. Data Visualization: This step involves visualizing our dataset and check for relationship amongst independent variables. We can also reduce some feature columns here but it should not be aggressive.\n",
    "\n",
    "4. Data Preparation: This step is mainly usefull for feeding in the data into the model. It involves steps like creating dummy variables, scaling etc. depending upond the data type. \n",
    "\n",
    "5. Train-test split: This step involves spliting the dataset into train and test parts.\n",
    "\n",
    "6. Model Development-validation and evaluaiton: This steps involves training the model and validate it. It involves evaluating the model using relevant matrics.\n",
    "    - Model development using all the feature columns.\n",
    "    - RFE to reduce number of features.\n",
    "    - Manually reducing the features using p value and VIF for each feature.\n",
    "    - Confusion Matrix\n",
    "    - Sensitivity Vs Specificity and Precision Vs Recall trade-offs\n",
    "    - ROC curve\n",
    "    - Evaluation on test dataset\n",
    "    - Feature importance\n",
    "\n",
    "7. Conclusion/Recommendation: It involves drawing conclusions and recommendations to business."
   ]
  },
  {
   "cell_type": "markdown",
   "metadata": {},
   "source": [
    "### Importing Dependancies"
   ]
  },
  {
   "cell_type": "code",
   "execution_count": 1,
   "metadata": {},
   "outputs": [],
   "source": [
    "import pandas as pd\n",
    "import numpy as np\n",
    "\n",
    "import matplotlib.pyplot as plt\n",
    "import seaborn as sns\n",
    "\n",
    "import warnings\n",
    "warnings.filterwarnings('ignore')\n",
    "\n",
    "from sklearn.model_selection import train_test_split\n",
    "from sklearn.preprocessing import MinMaxScaler\n",
    "\n",
    "from sklearn.linear_model import LogisticRegression\n",
    "from sklearn.feature_selection import RFE\n",
    "from sklearn.metrics import roc_auc_score, confusion_matrix, accuracy_score, log_loss, plot_roc_curve\n",
    "from sklearn.model_selection import GridSearchCV\n",
    "\n",
    "import statsmodels.api as sm\n",
    "from statsmodels.stats.outliers_influence import variance_inflation_factor"
   ]
  },
  {
   "cell_type": "markdown",
   "metadata": {},
   "source": [
    "### Reading Dataset"
   ]
  },
  {
   "cell_type": "code",
   "execution_count": 2,
   "metadata": {},
   "outputs": [
    {
     "data": {
      "text/html": [
       "<div>\n",
       "<style scoped>\n",
       "    .dataframe tbody tr th:only-of-type {\n",
       "        vertical-align: middle;\n",
       "    }\n",
       "\n",
       "    .dataframe tbody tr th {\n",
       "        vertical-align: top;\n",
       "    }\n",
       "\n",
       "    .dataframe thead th {\n",
       "        text-align: right;\n",
       "    }\n",
       "</style>\n",
       "<table border=\"1\" class=\"dataframe\">\n",
       "  <thead>\n",
       "    <tr style=\"text-align: right;\">\n",
       "      <th></th>\n",
       "      <th>age</th>\n",
       "      <th>sex</th>\n",
       "      <th>cp</th>\n",
       "      <th>trestbps</th>\n",
       "      <th>chol</th>\n",
       "      <th>fbs</th>\n",
       "      <th>restecg</th>\n",
       "      <th>thalach</th>\n",
       "      <th>exang</th>\n",
       "      <th>oldpeak</th>\n",
       "      <th>slope</th>\n",
       "      <th>ca</th>\n",
       "      <th>thal</th>\n",
       "      <th>target</th>\n",
       "    </tr>\n",
       "  </thead>\n",
       "  <tbody>\n",
       "    <tr>\n",
       "      <th>0</th>\n",
       "      <td>63</td>\n",
       "      <td>1</td>\n",
       "      <td>3</td>\n",
       "      <td>145</td>\n",
       "      <td>233</td>\n",
       "      <td>1</td>\n",
       "      <td>0</td>\n",
       "      <td>150</td>\n",
       "      <td>0</td>\n",
       "      <td>2.3</td>\n",
       "      <td>0</td>\n",
       "      <td>0</td>\n",
       "      <td>1</td>\n",
       "      <td>1</td>\n",
       "    </tr>\n",
       "    <tr>\n",
       "      <th>1</th>\n",
       "      <td>37</td>\n",
       "      <td>1</td>\n",
       "      <td>2</td>\n",
       "      <td>130</td>\n",
       "      <td>250</td>\n",
       "      <td>0</td>\n",
       "      <td>1</td>\n",
       "      <td>187</td>\n",
       "      <td>0</td>\n",
       "      <td>3.5</td>\n",
       "      <td>0</td>\n",
       "      <td>0</td>\n",
       "      <td>2</td>\n",
       "      <td>1</td>\n",
       "    </tr>\n",
       "    <tr>\n",
       "      <th>2</th>\n",
       "      <td>41</td>\n",
       "      <td>0</td>\n",
       "      <td>1</td>\n",
       "      <td>130</td>\n",
       "      <td>204</td>\n",
       "      <td>0</td>\n",
       "      <td>0</td>\n",
       "      <td>172</td>\n",
       "      <td>0</td>\n",
       "      <td>1.4</td>\n",
       "      <td>2</td>\n",
       "      <td>0</td>\n",
       "      <td>2</td>\n",
       "      <td>1</td>\n",
       "    </tr>\n",
       "    <tr>\n",
       "      <th>3</th>\n",
       "      <td>56</td>\n",
       "      <td>1</td>\n",
       "      <td>1</td>\n",
       "      <td>120</td>\n",
       "      <td>236</td>\n",
       "      <td>0</td>\n",
       "      <td>1</td>\n",
       "      <td>178</td>\n",
       "      <td>0</td>\n",
       "      <td>0.8</td>\n",
       "      <td>2</td>\n",
       "      <td>0</td>\n",
       "      <td>2</td>\n",
       "      <td>1</td>\n",
       "    </tr>\n",
       "    <tr>\n",
       "      <th>4</th>\n",
       "      <td>57</td>\n",
       "      <td>0</td>\n",
       "      <td>0</td>\n",
       "      <td>120</td>\n",
       "      <td>354</td>\n",
       "      <td>0</td>\n",
       "      <td>1</td>\n",
       "      <td>163</td>\n",
       "      <td>1</td>\n",
       "      <td>0.6</td>\n",
       "      <td>2</td>\n",
       "      <td>0</td>\n",
       "      <td>2</td>\n",
       "      <td>1</td>\n",
       "    </tr>\n",
       "    <tr>\n",
       "      <th>...</th>\n",
       "      <td>...</td>\n",
       "      <td>...</td>\n",
       "      <td>...</td>\n",
       "      <td>...</td>\n",
       "      <td>...</td>\n",
       "      <td>...</td>\n",
       "      <td>...</td>\n",
       "      <td>...</td>\n",
       "      <td>...</td>\n",
       "      <td>...</td>\n",
       "      <td>...</td>\n",
       "      <td>...</td>\n",
       "      <td>...</td>\n",
       "      <td>...</td>\n",
       "    </tr>\n",
       "    <tr>\n",
       "      <th>298</th>\n",
       "      <td>57</td>\n",
       "      <td>0</td>\n",
       "      <td>0</td>\n",
       "      <td>140</td>\n",
       "      <td>241</td>\n",
       "      <td>0</td>\n",
       "      <td>1</td>\n",
       "      <td>123</td>\n",
       "      <td>1</td>\n",
       "      <td>0.2</td>\n",
       "      <td>1</td>\n",
       "      <td>0</td>\n",
       "      <td>3</td>\n",
       "      <td>0</td>\n",
       "    </tr>\n",
       "    <tr>\n",
       "      <th>299</th>\n",
       "      <td>45</td>\n",
       "      <td>1</td>\n",
       "      <td>3</td>\n",
       "      <td>110</td>\n",
       "      <td>264</td>\n",
       "      <td>0</td>\n",
       "      <td>1</td>\n",
       "      <td>132</td>\n",
       "      <td>0</td>\n",
       "      <td>1.2</td>\n",
       "      <td>1</td>\n",
       "      <td>0</td>\n",
       "      <td>3</td>\n",
       "      <td>0</td>\n",
       "    </tr>\n",
       "    <tr>\n",
       "      <th>300</th>\n",
       "      <td>68</td>\n",
       "      <td>1</td>\n",
       "      <td>0</td>\n",
       "      <td>144</td>\n",
       "      <td>193</td>\n",
       "      <td>1</td>\n",
       "      <td>1</td>\n",
       "      <td>141</td>\n",
       "      <td>0</td>\n",
       "      <td>3.4</td>\n",
       "      <td>1</td>\n",
       "      <td>2</td>\n",
       "      <td>3</td>\n",
       "      <td>0</td>\n",
       "    </tr>\n",
       "    <tr>\n",
       "      <th>301</th>\n",
       "      <td>57</td>\n",
       "      <td>1</td>\n",
       "      <td>0</td>\n",
       "      <td>130</td>\n",
       "      <td>131</td>\n",
       "      <td>0</td>\n",
       "      <td>1</td>\n",
       "      <td>115</td>\n",
       "      <td>1</td>\n",
       "      <td>1.2</td>\n",
       "      <td>1</td>\n",
       "      <td>1</td>\n",
       "      <td>3</td>\n",
       "      <td>0</td>\n",
       "    </tr>\n",
       "    <tr>\n",
       "      <th>302</th>\n",
       "      <td>57</td>\n",
       "      <td>0</td>\n",
       "      <td>1</td>\n",
       "      <td>130</td>\n",
       "      <td>236</td>\n",
       "      <td>0</td>\n",
       "      <td>0</td>\n",
       "      <td>174</td>\n",
       "      <td>0</td>\n",
       "      <td>0.0</td>\n",
       "      <td>1</td>\n",
       "      <td>1</td>\n",
       "      <td>2</td>\n",
       "      <td>0</td>\n",
       "    </tr>\n",
       "  </tbody>\n",
       "</table>\n",
       "<p>303 rows × 14 columns</p>\n",
       "</div>"
      ],
      "text/plain": [
       "     age  sex  cp  trestbps  chol  fbs  restecg  thalach  exang  oldpeak  \\\n",
       "0     63    1   3       145   233    1        0      150      0      2.3   \n",
       "1     37    1   2       130   250    0        1      187      0      3.5   \n",
       "2     41    0   1       130   204    0        0      172      0      1.4   \n",
       "3     56    1   1       120   236    0        1      178      0      0.8   \n",
       "4     57    0   0       120   354    0        1      163      1      0.6   \n",
       "..   ...  ...  ..       ...   ...  ...      ...      ...    ...      ...   \n",
       "298   57    0   0       140   241    0        1      123      1      0.2   \n",
       "299   45    1   3       110   264    0        1      132      0      1.2   \n",
       "300   68    1   0       144   193    1        1      141      0      3.4   \n",
       "301   57    1   0       130   131    0        1      115      1      1.2   \n",
       "302   57    0   1       130   236    0        0      174      0      0.0   \n",
       "\n",
       "     slope  ca  thal  target  \n",
       "0        0   0     1       1  \n",
       "1        0   0     2       1  \n",
       "2        2   0     2       1  \n",
       "3        2   0     2       1  \n",
       "4        2   0     2       1  \n",
       "..     ...  ..   ...     ...  \n",
       "298      1   0     3       0  \n",
       "299      1   0     3       0  \n",
       "300      1   2     3       0  \n",
       "301      1   1     3       0  \n",
       "302      1   1     2       0  \n",
       "\n",
       "[303 rows x 14 columns]"
      ]
     },
     "execution_count": 2,
     "metadata": {},
     "output_type": "execute_result"
    }
   ],
   "source": [
    "data = pd.read_csv('heart.csv')\n",
    "data"
   ]
  },
  {
   "cell_type": "markdown",
   "metadata": {},
   "source": [
    "It can be observed that dataset is having 14 columns, which includes 1 target column.\n",
    "\n",
    "1. age\n",
    "2. sex: 1=male, 0=female\n",
    "3. cp: chest pain type (4 values)\n",
    "4. trestbps: resting blood pressure\n",
    "5. chol: serum cholestoral in mg/dl\n",
    "6. fbs: fasting blood sugar > 120 mg/dl\n",
    "7. restecg: resting electrocardiographic results (values 0,1,2)\n",
    "8. thalach: maximum heart rate achieved\n",
    "9. exang: exercise induced angina (1 = yes; 0 = no)\n",
    "10. oldpeak: oldpeak = ST depression induced by exercise relative to rest\n",
    "11. slope: the slope of the peak exercise ST segment\n",
    "12. ca: number of major vessels (0-3) colored by flourosopy\n",
    "13. thal: 0 = Not available ,1 = fixed defect; 2 = normal; 3 = reversable defect\n",
    "14. target: 1=yes, 0=no"
   ]
  },
  {
   "cell_type": "code",
   "execution_count": 3,
   "metadata": {},
   "outputs": [
    {
     "name": "stdout",
     "output_type": "stream",
     "text": [
      "<class 'pandas.core.frame.DataFrame'>\n",
      "RangeIndex: 303 entries, 0 to 302\n",
      "Data columns (total 14 columns):\n",
      " #   Column    Non-Null Count  Dtype  \n",
      "---  ------    --------------  -----  \n",
      " 0   age       303 non-null    int64  \n",
      " 1   sex       303 non-null    int64  \n",
      " 2   cp        303 non-null    int64  \n",
      " 3   trestbps  303 non-null    int64  \n",
      " 4   chol      303 non-null    int64  \n",
      " 5   fbs       303 non-null    int64  \n",
      " 6   restecg   303 non-null    int64  \n",
      " 7   thalach   303 non-null    int64  \n",
      " 8   exang     303 non-null    int64  \n",
      " 9   oldpeak   303 non-null    float64\n",
      " 10  slope     303 non-null    int64  \n",
      " 11  ca        303 non-null    int64  \n",
      " 12  thal      303 non-null    int64  \n",
      " 13  target    303 non-null    int64  \n",
      "dtypes: float64(1), int64(13)\n",
      "memory usage: 33.3 KB\n"
     ]
    }
   ],
   "source": [
    "# Data overview\n",
    "\n",
    "data.info()"
   ]
  },
  {
   "cell_type": "markdown",
   "metadata": {},
   "source": [
    "It can be observed that,\n",
    "- data is having no null values.  \n",
    "- all the columns are of int64 type except one which is float64. However, we may need to change some of these columns to categorical."
   ]
  },
  {
   "cell_type": "markdown",
   "metadata": {},
   "source": [
    "## 1. Data Exploring and understanding"
   ]
  },
  {
   "cell_type": "code",
   "execution_count": 4,
   "metadata": {
    "scrolled": false
   },
   "outputs": [
    {
     "data": {
      "text/plain": [
       "<AxesSubplot:xlabel='age', ylabel='Density'>"
      ]
     },
     "execution_count": 4,
     "metadata": {},
     "output_type": "execute_result"
    },
    {
     "data": {
      "image/png": "[encoded data removed]",
      "text/plain": [
       "<Figure size 432x288 with 1 Axes>"
      ]
     },
     "metadata": {
      "needs_background": "light"
     },
     "output_type": "display_data"
    }
   ],
   "source": [
    "# age: Checking the distribution of age\n",
    "\n",
    "\n",
    "sns.distplot(data.age)"
   ]
  },
  {
   "cell_type": "markdown",
   "metadata": {},
   "source": [
    "The age is verying from 20s to 70s. Most of the people belong the the bracket of 40 to 65."
   ]
  },
  {
   "cell_type": "code",
   "execution_count": 5,
   "metadata": {},
   "outputs": [
    {
     "data": {
      "text/plain": [
       "1    207\n",
       "0     96\n",
       "Name: sex, dtype: int64"
      ]
     },
     "execution_count": 5,
     "metadata": {},
     "output_type": "execute_result"
    }
   ],
   "source": [
    "# Gender\n",
    "\n",
    "data.sex.value_counts()"
   ]
  },
  {
   "cell_type": "markdown",
   "metadata": {},
   "source": [
    "Data is having 2:1 share of male to female."
   ]
  },
  {
   "cell_type": "code",
   "execution_count": 6,
   "metadata": {},
   "outputs": [
    {
     "data": {
      "text/plain": [
       "0    143\n",
       "2     87\n",
       "1     50\n",
       "3     23\n",
       "Name: cp, dtype: int64"
      ]
     },
     "execution_count": 6,
     "metadata": {},
     "output_type": "execute_result"
    }
   ],
   "source": [
    "# cp: Chest pain\n",
    "\n",
    "data.cp.value_counts()"
   ]
  },
  {
   "cell_type": "code",
   "execution_count": 7,
   "metadata": {
    "scrolled": true
   },
   "outputs": [
    {
     "data": {
      "text/plain": [
       "<AxesSubplot:xlabel='trestbps', ylabel='Density'>"
      ]
     },
     "execution_count": 7,
     "metadata": {},
     "output_type": "execute_result"
    },
    {
     "data": {
      "image/png": "[encoded data removed]",
      "text/plain": [
       "<Figure size 432x288 with 1 Axes>"
      ]
     },
     "metadata": {
      "needs_background": "light"
     },
     "output_type": "display_data"
    }
   ],
   "source": [
    "# trestbps: resting blood pressure: Checking the distribution\n",
    "\n",
    "sns.distplot(data.trestbps)"
   ]
  },
  {
   "cell_type": "markdown",
   "metadata": {},
   "source": [
    "The resting blood pressure for most of the people is in the range of 100 to 150"
   ]
  },
  {
   "cell_type": "code",
   "execution_count": 8,
   "metadata": {
    "scrolled": false
   },
   "outputs": [
    {
     "data": {
      "text/plain": [
       "<AxesSubplot:xlabel='chol', ylabel='Density'>"
      ]
     },
     "execution_count": 8,
     "metadata": {},
     "output_type": "execute_result"
    },
    {
     "data": {
      "image/png": "[encoded data removed]",
      "text/plain": [
       "<Figure size 432x288 with 1 Axes>"
      ]
     },
     "metadata": {
      "needs_background": "light"
     },
     "output_type": "display_data"
    }
   ],
   "source": [
    "# chol: cholestrol: Checking the distribution\n",
    "\n",
    "sns.distplot(data.chol)"
   ]
  },
  {
   "cell_type": "markdown",
   "metadata": {},
   "source": [
    "Cholestrol level is mainly ranging from 200 to 300."
   ]
  },
  {
   "cell_type": "code",
   "execution_count": 9,
   "metadata": {},
   "outputs": [
    {
     "data": {
      "text/plain": [
       "0    258\n",
       "1     45\n",
       "Name: fbs, dtype: int64"
      ]
     },
     "execution_count": 9,
     "metadata": {},
     "output_type": "execute_result"
    }
   ],
   "source": [
    "# fbs: fasting blood sugar (1 if fasting blood sugar > 120 mg/dl or 0)\n",
    "\n",
    "data.fbs.value_counts()"
   ]
  },
  {
   "cell_type": "code",
   "execution_count": 10,
   "metadata": {},
   "outputs": [
    {
     "data": {
      "text/plain": [
       "1    152\n",
       "0    147\n",
       "2      4\n",
       "Name: restecg, dtype: int64"
      ]
     },
     "execution_count": 10,
     "metadata": {},
     "output_type": "execute_result"
    }
   ],
   "source": [
    "# restecg: resting electrocardiographic results (values 0,1,2)\n",
    "\n",
    "data.restecg.value_counts()"
   ]
  },
  {
   "cell_type": "markdown",
   "metadata": {},
   "source": [
    "It can be observed that frequency for category 2 is vary less. However we are not going to drop as there can be some usefull information present in those data entries."
   ]
  },
  {
   "cell_type": "code",
   "execution_count": 11,
   "metadata": {},
   "outputs": [
    {
     "data": {
      "text/plain": [
       "<AxesSubplot:xlabel='thalach', ylabel='Density'>"
      ]
     },
     "execution_count": 11,
     "metadata": {},
     "output_type": "execute_result"
    },
    {
     "data": {
      "image/png": "[encoded data removed]",
      "text/plain": [
       "<Figure size 432x288 with 1 Axes>"
      ]
     },
     "metadata": {
      "needs_background": "light"
     },
     "output_type": "display_data"
    }
   ],
   "source": [
    "# thatach: maximum heart rate achieved\n",
    "# Checking the distribution\n",
    "\n",
    "sns.distplot(data.thalach)"
   ]
  },
  {
   "cell_type": "markdown",
   "metadata": {},
   "source": [
    "Max achieved heart rate is from 75 to 200. A significant numbers have the heart rate around 160."
   ]
  },
  {
   "cell_type": "code",
   "execution_count": 12,
   "metadata": {},
   "outputs": [
    {
     "data": {
      "text/plain": [
       "0    204\n",
       "1     99\n",
       "Name: exang, dtype: int64"
      ]
     },
     "execution_count": 12,
     "metadata": {},
     "output_type": "execute_result"
    }
   ],
   "source": [
    "# exang: exercise induced angina (1 = yes; 0 = no)\n",
    "\n",
    "data.exang.value_counts()"
   ]
  },
  {
   "cell_type": "code",
   "execution_count": 13,
   "metadata": {},
   "outputs": [
    {
     "data": {
      "text/plain": [
       "<AxesSubplot:xlabel='oldpeak', ylabel='Density'>"
      ]
     },
     "execution_count": 13,
     "metadata": {},
     "output_type": "execute_result"
    },
    {
     "data": {
      "image/png": "[encoded data removed]",
      "text/plain": [
       "<Figure size 432x288 with 1 Axes>"
      ]
     },
     "metadata": {
      "needs_background": "light"
     },
     "output_type": "display_data"
    }
   ],
   "source": [
    "# oldpeak: oldpeak = ST depression induced by exercise relative to rest\n",
    "# Checking the distribution\n",
    "\n",
    "\n",
    "sns.distplot(data.oldpeak)"
   ]
  },
  {
   "cell_type": "markdown",
   "metadata": {},
   "source": [
    "oldpeak value is near null for most of the dataset."
   ]
  },
  {
   "cell_type": "code",
   "execution_count": 14,
   "metadata": {},
   "outputs": [
    {
     "data": {
      "text/plain": [
       "2    142\n",
       "1    140\n",
       "0     21\n",
       "Name: slope, dtype: int64"
      ]
     },
     "execution_count": 14,
     "metadata": {},
     "output_type": "execute_result"
    }
   ],
   "source": [
    "# slope: the slope of the peak exercise ST segment\n",
    "\n",
    "data.slope.value_counts()"
   ]
  },
  {
   "cell_type": "code",
   "execution_count": 15,
   "metadata": {},
   "outputs": [
    {
     "data": {
      "text/plain": [
       "0    175\n",
       "1     65\n",
       "2     38\n",
       "3     20\n",
       "4      5\n",
       "Name: ca, dtype: int64"
      ]
     },
     "execution_count": 15,
     "metadata": {},
     "output_type": "execute_result"
    }
   ],
   "source": [
    "# ca: number of major vessels (0-3) colored by flourosopy\n",
    "\n",
    "data.ca.value_counts()"
   ]
  },
  {
   "cell_type": "code",
   "execution_count": 16,
   "metadata": {},
   "outputs": [
    {
     "data": {
      "text/plain": [
       "2    166\n",
       "3    117\n",
       "1     18\n",
       "0      2\n",
       "Name: thal, dtype: int64"
      ]
     },
     "execution_count": 16,
     "metadata": {},
     "output_type": "execute_result"
    }
   ],
   "source": [
    "# thal: 0 = Not available ,1 = fixed defect; 2 = normal; 3 = reversable defect\n",
    "\n",
    "data.thal.value_counts()"
   ]
  },
  {
   "cell_type": "markdown",
   "metadata": {},
   "source": [
    "Two entries have 0 thal value that means data is unavailable. There rows can be dropped while making model."
   ]
  },
  {
   "cell_type": "code",
   "execution_count": 17,
   "metadata": {},
   "outputs": [
    {
     "data": {
      "text/plain": [
       "1    165\n",
       "0    138\n",
       "Name: target, dtype: int64"
      ]
     },
     "execution_count": 17,
     "metadata": {},
     "output_type": "execute_result"
    }
   ],
   "source": [
    "# target: 1=yes, 0=no\n",
    "\n",
    "data.target.value_counts()"
   ]
  },
  {
   "cell_type": "markdown",
   "metadata": {},
   "source": [
    "There target (dependent) variable is having quite uniform distribution. It helps both in EDA as well as model building."
   ]
  },
  {
   "cell_type": "markdown",
   "metadata": {},
   "source": [
    "## 2. Data Cleaning"
   ]
  },
  {
   "cell_type": "code",
   "execution_count": 18,
   "metadata": {},
   "outputs": [],
   "source": [
    "# Dropping entires with 0 value for 'thal'\n",
    "\n",
    "data = data.drop(data[data.thal==0].index)"
   ]
  },
  {
   "cell_type": "code",
   "execution_count": 19,
   "metadata": {},
   "outputs": [],
   "source": [
    "# Mapping categorical columns to appropriate object values\n",
    "\n",
    "data.sex = data.sex.map({0:'female', 1:'male'})\n",
    "data.cp = data.cp.map({0:'cat_0', 1:'cat_1', 2:'cat_2', 3:'cat_3'})\n",
    "data.fbs = data.fbs.map({0:'no', 1:'yes'})\n",
    "data.restecg = data.restecg.map({0:'val_0', 1:'val_1', 2:'val_2'})\n",
    "data.exang = data.exang.map({0:'no', 1:'yes'})\n",
    "data.slope = data.slope.map({0:'up', 1:'flat', 2:'down'})\n",
    "data.thal = data.thal.map({1:'fixed_defect', 2:'normal', 3:'rev_defect'})\n",
    "data.ca = data.ca.map({0:'0_ves', 1:'1_ves', 2:'2_ves', 3:'3_ves', 4:'4_ves'})\n",
    "data.target = data.target.astype('object')"
   ]
  },
  {
   "cell_type": "markdown",
   "metadata": {},
   "source": [
    "## 3. Data Visualization"
   ]
  },
  {
   "cell_type": "code",
   "execution_count": 20,
   "metadata": {
    "scrolled": false
   },
   "outputs": [
    {
     "data": {
      "text/plain": [
       "<AxesSubplot:>"
      ]
     },
     "execution_count": 20,
     "metadata": {},
     "output_type": "execute_result"
    },
    {
     "data": {
      "image/png": "[encoded data removed]",
      "text/plain": [
       "<Figure size 432x432 with 2 Axes>"
      ]
     },
     "metadata": {
      "needs_background": "light"
     },
     "output_type": "display_data"
    }
   ],
   "source": [
    "# Pearson's correlation\n",
    "\n",
    "# numeric columns\n",
    "num_cols = data.select_dtypes(include=('int64', 'float64')).columns\n",
    "\n",
    "\n",
    "# heatmap\n",
    "plt.subplots(figsize=(6,6))\n",
    "sns.heatmap(data[num_cols].corr(), annot=True, cmap='YlGnBu')"
   ]
  },
  {
   "cell_type": "markdown",
   "metadata": {},
   "source": [
    "Observation,\n",
    "- There isn't any strong observable relationship between numeric columns as per heatmap."
   ]
  },
  {
   "cell_type": "code",
   "execution_count": 21,
   "metadata": {
    "scrolled": true
   },
   "outputs": [
    {
     "data": {
      "text/plain": [
       "<seaborn.axisgrid.PairGrid at 0x7fd661931a50>"
      ]
     },
     "execution_count": 21,
     "metadata": {},
     "output_type": "execute_result"
    },
    {
     "data": {
      "image/png": "[encoded data removed]",
      "text/plain": [
       "<Figure size 900x900 with 30 Axes>"
      ]
     },
     "metadata": {
      "needs_background": "light"
     },
     "output_type": "display_data"
    }
   ],
   "source": [
    "# pairplot: Visualizing scatter plot between numeric columns\n",
    "\n",
    "sns.pairplot(data[num_cols])"
   ]
  },
  {
   "cell_type": "markdown",
   "metadata": {},
   "source": [
    "Observations,\n",
    "- slight negative correlation can be observed between 'age' and 'thalach'.\n",
    "- 'age' is having slight positive relation with 'chol'."
   ]
  },
  {
   "cell_type": "code",
   "execution_count": 22,
   "metadata": {
    "scrolled": true
   },
   "outputs": [
    {
     "data": {
      "image/png": "[encoded data removed]",
      "text/plain": [
       "<Figure size 1080x1800 with 8 Axes>"
      ]
     },
     "metadata": {
      "needs_background": "light"
     },
     "output_type": "display_data"
    }
   ],
   "source": [
    "# countplot: categorical columns Vs dependent variable (price)\n",
    "\n",
    "cat_cols = data.select_dtypes(include = 'object').columns\n",
    "cat_cols = cat_cols.drop('target')  #dropping target column\n",
    "\n",
    "plt.subplots(figsize=(15,25))\n",
    "i = 1\n",
    "\n",
    "for col in cat_cols:\n",
    "    plt.subplot(int(len(cat_cols)/2)+1, 2 , i)\n",
    "    sns.countplot(x=col, hue='target', data=data)\n",
    "    i = i + 1"
   ]
  },
  {
   "cell_type": "markdown",
   "metadata": {},
   "source": [
    "Observations,\n",
    "- Higher fraction of heart patients amongst female.\n",
    "- Cat_0 chest pain is safer as compared to other categories.\n",
    "- restecg with categories 0 and 1 are more frequent.\n",
    "- absence of exang tend to increase the chances of having heart problem.\n",
    "- slop with category down have increased chances of having heart disease.\n",
    "- normal thal tends to results into heart problem as compared to other categories of thal."
   ]
  },
  {
   "cell_type": "markdown",
   "metadata": {},
   "source": [
    "## 4. Data Preparation"
   ]
  },
  {
   "cell_type": "code",
   "execution_count": 23,
   "metadata": {},
   "outputs": [
    {
     "name": "stdout",
     "output_type": "stream",
     "text": [
      "<class 'pandas.core.frame.DataFrame'>\n",
      "Int64Index: 301 entries, 0 to 302\n",
      "Data columns (total 14 columns):\n",
      " #   Column    Non-Null Count  Dtype  \n",
      "---  ------    --------------  -----  \n",
      " 0   age       301 non-null    int64  \n",
      " 1   sex       301 non-null    object \n",
      " 2   cp        301 non-null    object \n",
      " 3   trestbps  301 non-null    int64  \n",
      " 4   chol      301 non-null    int64  \n",
      " 5   fbs       301 non-null    object \n",
      " 6   restecg   301 non-null    object \n",
      " 7   thalach   301 non-null    int64  \n",
      " 8   exang     301 non-null    object \n",
      " 9   oldpeak   301 non-null    float64\n",
      " 10  slope     301 non-null    object \n",
      " 11  ca        301 non-null    object \n",
      " 12  thal      301 non-null    object \n",
      " 13  target    301 non-null    object \n",
      "dtypes: float64(1), int64(4), object(9)\n",
      "memory usage: 43.4+ KB\n"
     ]
    }
   ],
   "source": [
    "# data overview\n",
    "\n",
    "data.info()"
   ]
  },
  {
   "cell_type": "code",
   "execution_count": 24,
   "metadata": {},
   "outputs": [],
   "source": [
    "# Creating dummy variables for categorical datatype\n",
    "\n",
    "dummies = pd.get_dummies(data[cat_cols], drop_first=True)"
   ]
  },
  {
   "cell_type": "code",
   "execution_count": 25,
   "metadata": {},
   "outputs": [
    {
     "data": {
      "text/html": [
       "<div>\n",
       "<style scoped>\n",
       "    .dataframe tbody tr th:only-of-type {\n",
       "        vertical-align: middle;\n",
       "    }\n",
       "\n",
       "    .dataframe tbody tr th {\n",
       "        vertical-align: top;\n",
       "    }\n",
       "\n",
       "    .dataframe thead th {\n",
       "        text-align: right;\n",
       "    }\n",
       "</style>\n",
       "<table border=\"1\" class=\"dataframe\">\n",
       "  <thead>\n",
       "    <tr style=\"text-align: right;\">\n",
       "      <th></th>\n",
       "      <th>age</th>\n",
       "      <th>trestbps</th>\n",
       "      <th>chol</th>\n",
       "      <th>thalach</th>\n",
       "      <th>oldpeak</th>\n",
       "      <th>sex_male</th>\n",
       "      <th>cp_cat_1</th>\n",
       "      <th>cp_cat_2</th>\n",
       "      <th>cp_cat_3</th>\n",
       "      <th>fbs_yes</th>\n",
       "      <th>...</th>\n",
       "      <th>exang_yes</th>\n",
       "      <th>slope_flat</th>\n",
       "      <th>slope_up</th>\n",
       "      <th>ca_1_ves</th>\n",
       "      <th>ca_2_ves</th>\n",
       "      <th>ca_3_ves</th>\n",
       "      <th>ca_4_ves</th>\n",
       "      <th>thal_normal</th>\n",
       "      <th>thal_rev_defect</th>\n",
       "      <th>target</th>\n",
       "    </tr>\n",
       "  </thead>\n",
       "  <tbody>\n",
       "    <tr>\n",
       "      <th>0</th>\n",
       "      <td>63</td>\n",
       "      <td>145</td>\n",
       "      <td>233</td>\n",
       "      <td>150</td>\n",
       "      <td>2.3</td>\n",
       "      <td>1</td>\n",
       "      <td>0</td>\n",
       "      <td>0</td>\n",
       "      <td>1</td>\n",
       "      <td>1</td>\n",
       "      <td>...</td>\n",
       "      <td>0</td>\n",
       "      <td>0</td>\n",
       "      <td>1</td>\n",
       "      <td>0</td>\n",
       "      <td>0</td>\n",
       "      <td>0</td>\n",
       "      <td>0</td>\n",
       "      <td>0</td>\n",
       "      <td>0</td>\n",
       "      <td>1</td>\n",
       "    </tr>\n",
       "    <tr>\n",
       "      <th>1</th>\n",
       "      <td>37</td>\n",
       "      <td>130</td>\n",
       "      <td>250</td>\n",
       "      <td>187</td>\n",
       "      <td>3.5</td>\n",
       "      <td>1</td>\n",
       "      <td>0</td>\n",
       "      <td>1</td>\n",
       "      <td>0</td>\n",
       "      <td>0</td>\n",
       "      <td>...</td>\n",
       "      <td>0</td>\n",
       "      <td>0</td>\n",
       "      <td>1</td>\n",
       "      <td>0</td>\n",
       "      <td>0</td>\n",
       "      <td>0</td>\n",
       "      <td>0</td>\n",
       "      <td>1</td>\n",
       "      <td>0</td>\n",
       "      <td>1</td>\n",
       "    </tr>\n",
       "    <tr>\n",
       "      <th>2</th>\n",
       "      <td>41</td>\n",
       "      <td>130</td>\n",
       "      <td>204</td>\n",
       "      <td>172</td>\n",
       "      <td>1.4</td>\n",
       "      <td>0</td>\n",
       "      <td>1</td>\n",
       "      <td>0</td>\n",
       "      <td>0</td>\n",
       "      <td>0</td>\n",
       "      <td>...</td>\n",
       "      <td>0</td>\n",
       "      <td>0</td>\n",
       "      <td>0</td>\n",
       "      <td>0</td>\n",
       "      <td>0</td>\n",
       "      <td>0</td>\n",
       "      <td>0</td>\n",
       "      <td>1</td>\n",
       "      <td>0</td>\n",
       "      <td>1</td>\n",
       "    </tr>\n",
       "    <tr>\n",
       "      <th>3</th>\n",
       "      <td>56</td>\n",
       "      <td>120</td>\n",
       "      <td>236</td>\n",
       "      <td>178</td>\n",
       "      <td>0.8</td>\n",
       "      <td>1</td>\n",
       "      <td>1</td>\n",
       "      <td>0</td>\n",
       "      <td>0</td>\n",
       "      <td>0</td>\n",
       "      <td>...</td>\n",
       "      <td>0</td>\n",
       "      <td>0</td>\n",
       "      <td>0</td>\n",
       "      <td>0</td>\n",
       "      <td>0</td>\n",
       "      <td>0</td>\n",
       "      <td>0</td>\n",
       "      <td>1</td>\n",
       "      <td>0</td>\n",
       "      <td>1</td>\n",
       "    </tr>\n",
       "    <tr>\n",
       "      <th>4</th>\n",
       "      <td>57</td>\n",
       "      <td>120</td>\n",
       "      <td>354</td>\n",
       "      <td>163</td>\n",
       "      <td>0.6</td>\n",
       "      <td>0</td>\n",
       "      <td>0</td>\n",
       "      <td>0</td>\n",
       "      <td>0</td>\n",
       "      <td>0</td>\n",
       "      <td>...</td>\n",
       "      <td>1</td>\n",
       "      <td>0</td>\n",
       "      <td>0</td>\n",
       "      <td>0</td>\n",
       "      <td>0</td>\n",
       "      <td>0</td>\n",
       "      <td>0</td>\n",
       "      <td>1</td>\n",
       "      <td>0</td>\n",
       "      <td>1</td>\n",
       "    </tr>\n",
       "  </tbody>\n",
       "</table>\n",
       "<p>5 rows × 22 columns</p>\n",
       "</div>"
      ],
      "text/plain": [
       "   age  trestbps  chol  thalach  oldpeak  sex_male  cp_cat_1  cp_cat_2  \\\n",
       "0   63       145   233      150      2.3         1         0         0   \n",
       "1   37       130   250      187      3.5         1         0         1   \n",
       "2   41       130   204      172      1.4         0         1         0   \n",
       "3   56       120   236      178      0.8         1         1         0   \n",
       "4   57       120   354      163      0.6         0         0         0   \n",
       "\n",
       "   cp_cat_3  fbs_yes  ...  exang_yes  slope_flat  slope_up  ca_1_ves  \\\n",
       "0         1        1  ...          0           0         1         0   \n",
       "1         0        0  ...          0           0         1         0   \n",
       "2         0        0  ...          0           0         0         0   \n",
       "3         0        0  ...          0           0         0         0   \n",
       "4         0        0  ...          1           0         0         0   \n",
       "\n",
       "   ca_2_ves  ca_3_ves  ca_4_ves  thal_normal  thal_rev_defect  target  \n",
       "0         0         0         0            0                0       1  \n",
       "1         0         0         0            1                0       1  \n",
       "2         0         0         0            1                0       1  \n",
       "3         0         0         0            1                0       1  \n",
       "4         0         0         0            1                0       1  \n",
       "\n",
       "[5 rows x 22 columns]"
      ]
     },
     "execution_count": 25,
     "metadata": {},
     "output_type": "execute_result"
    }
   ],
   "source": [
    "# combinng dummies with numeric columns and target \n",
    "\n",
    "data1 = pd.concat([data[num_cols], dummies, data['target']], axis=1)\n",
    "data1.head()"
   ]
  },
  {
   "cell_type": "code",
   "execution_count": 26,
   "metadata": {},
   "outputs": [],
   "source": [
    "# splitting into X and y\n",
    "\n",
    "X = data1.drop('target', axis=1)\n",
    "y = data1['target'].astype('int64')"
   ]
  },
  {
   "cell_type": "markdown",
   "metadata": {},
   "source": [
    "## 5. Train-Test split"
   ]
  },
  {
   "cell_type": "code",
   "execution_count": 27,
   "metadata": {},
   "outputs": [],
   "source": [
    "# train-test split\n",
    "\n",
    "X_train, X_test, y_train, y_test = train_test_split(X, y, \n",
    "                                     train_size = 0.7, \n",
    "                                     test_size = 0.3, \n",
    "                                     random_state = 100,\n",
    "                                     stratify=y)"
   ]
  },
  {
   "cell_type": "markdown",
   "metadata": {},
   "source": [
    "#### Rescaling the dataset"
   ]
  },
  {
   "cell_type": "code",
   "execution_count": 28,
   "metadata": {},
   "outputs": [],
   "source": [
    "# Minmax scaling\n",
    "\n",
    "# instantiating the scalers\n",
    "scaler_X = MinMaxScaler()\n",
    "\n",
    "X_train = pd.DataFrame(scaler_X.fit_transform(X_train), index=X_train.index, columns=X_train.columns)\n",
    "X_test = pd.DataFrame(scaler_X.transform(X_test), index=X_test.index, columns=X_test.columns)\n"
   ]
  },
  {
   "cell_type": "markdown",
   "metadata": {},
   "source": [
    "## 6. Model Development - Validation and Evaluation"
   ]
  },
  {
   "cell_type": "markdown",
   "metadata": {},
   "source": [
    "#### Model development using all the features"
   ]
  },
  {
   "cell_type": "code",
   "execution_count": 29,
   "metadata": {
    "scrolled": true
   },
   "outputs": [
    {
     "data": {
      "text/html": [
       "<table class=\"simpletable\">\n",
       "<caption>Generalized Linear Model Regression Results</caption>\n",
       "<tr>\n",
       "  <th>Dep. Variable:</th>        <td>target</td>      <th>  No. Observations:  </th>  <td>   210</td> \n",
       "</tr>\n",
       "<tr>\n",
       "  <th>Model:</th>                  <td>GLM</td>       <th>  Df Residuals:      </th>  <td>   188</td> \n",
       "</tr>\n",
       "<tr>\n",
       "  <th>Model Family:</th>        <td>Binomial</td>     <th>  Df Model:          </th>  <td>    21</td> \n",
       "</tr>\n",
       "<tr>\n",
       "  <th>Link Function:</th>         <td>logit</td>      <th>  Scale:             </th> <td>  1.0000</td>\n",
       "</tr>\n",
       "<tr>\n",
       "  <th>Method:</th>                <td>IRLS</td>       <th>  Log-Likelihood:    </th> <td> -65.260</td>\n",
       "</tr>\n",
       "<tr>\n",
       "  <th>Date:</th>            <td>Sat, 06 Feb 2021</td> <th>  Deviance:          </th> <td>  130.52</td>\n",
       "</tr>\n",
       "<tr>\n",
       "  <th>Time:</th>                <td>14:32:23</td>     <th>  Pearson chi2:      </th>  <td>  387.</td> \n",
       "</tr>\n",
       "<tr>\n",
       "  <th>No. Iterations:</th>         <td>20</td>        <th>                     </th>     <td> </td>   \n",
       "</tr>\n",
       "<tr>\n",
       "  <th>Covariance Type:</th>     <td>nonrobust</td>    <th>                     </th>     <td> </td>   \n",
       "</tr>\n",
       "</table>\n",
       "<table class=\"simpletable\">\n",
       "<tr>\n",
       "         <td></td>            <th>coef</th>     <th>std err</th>      <th>z</th>      <th>P>|z|</th>  <th>[0.025</th>    <th>0.975]</th>  \n",
       "</tr>\n",
       "<tr>\n",
       "  <th>const</th>           <td>    2.9945</td> <td>    1.877</td> <td>    1.595</td> <td> 0.111</td> <td>   -0.685</td> <td>    6.674</td>\n",
       "</tr>\n",
       "<tr>\n",
       "  <th>age</th>             <td>    1.4955</td> <td>    1.433</td> <td>    1.044</td> <td> 0.296</td> <td>   -1.312</td> <td>    4.303</td>\n",
       "</tr>\n",
       "<tr>\n",
       "  <th>trestbps</th>        <td>   -2.8007</td> <td>    1.203</td> <td>   -2.327</td> <td> 0.020</td> <td>   -5.159</td> <td>   -0.442</td>\n",
       "</tr>\n",
       "<tr>\n",
       "  <th>chol</th>            <td>   -2.4016</td> <td>    2.127</td> <td>   -1.129</td> <td> 0.259</td> <td>   -6.570</td> <td>    1.766</td>\n",
       "</tr>\n",
       "<tr>\n",
       "  <th>thalach</th>         <td>    2.6887</td> <td>    1.862</td> <td>    1.444</td> <td> 0.149</td> <td>   -0.960</td> <td>    6.338</td>\n",
       "</tr>\n",
       "<tr>\n",
       "  <th>oldpeak</th>         <td>   -0.6428</td> <td>    1.804</td> <td>   -0.356</td> <td> 0.722</td> <td>   -4.178</td> <td>    2.893</td>\n",
       "</tr>\n",
       "<tr>\n",
       "  <th>sex_male</th>        <td>   -1.7795</td> <td>    0.704</td> <td>   -2.529</td> <td> 0.011</td> <td>   -3.159</td> <td>   -0.400</td>\n",
       "</tr>\n",
       "<tr>\n",
       "  <th>cp_cat_1</th>        <td>    1.0564</td> <td>    0.815</td> <td>    1.295</td> <td> 0.195</td> <td>   -0.542</td> <td>    2.655</td>\n",
       "</tr>\n",
       "<tr>\n",
       "  <th>cp_cat_2</th>        <td>    1.5092</td> <td>    0.579</td> <td>    2.607</td> <td> 0.009</td> <td>    0.375</td> <td>    2.644</td>\n",
       "</tr>\n",
       "<tr>\n",
       "  <th>cp_cat_3</th>        <td>    1.6847</td> <td>    0.923</td> <td>    1.826</td> <td> 0.068</td> <td>   -0.124</td> <td>    3.493</td>\n",
       "</tr>\n",
       "<tr>\n",
       "  <th>fbs_yes</th>         <td>    1.1533</td> <td>    0.725</td> <td>    1.591</td> <td> 0.112</td> <td>   -0.268</td> <td>    2.574</td>\n",
       "</tr>\n",
       "<tr>\n",
       "  <th>restecg_val_1</th>   <td>    0.3735</td> <td>    0.492</td> <td>    0.759</td> <td> 0.448</td> <td>   -0.592</td> <td>    1.338</td>\n",
       "</tr>\n",
       "<tr>\n",
       "  <th>restecg_val_2</th>   <td>   -0.6908</td> <td>    2.645</td> <td>   -0.261</td> <td> 0.794</td> <td>   -5.875</td> <td>    4.493</td>\n",
       "</tr>\n",
       "<tr>\n",
       "  <th>exang_yes</th>       <td>   -0.9836</td> <td>    0.553</td> <td>   -1.779</td> <td> 0.075</td> <td>   -2.067</td> <td>    0.100</td>\n",
       "</tr>\n",
       "<tr>\n",
       "  <th>slope_flat</th>      <td>   -1.3901</td> <td>    0.608</td> <td>   -2.286</td> <td> 0.022</td> <td>   -2.582</td> <td>   -0.198</td>\n",
       "</tr>\n",
       "<tr>\n",
       "  <th>slope_up</th>        <td>   -1.3716</td> <td>    1.198</td> <td>   -1.145</td> <td> 0.252</td> <td>   -3.719</td> <td>    0.976</td>\n",
       "</tr>\n",
       "<tr>\n",
       "  <th>ca_1_ves</th>        <td>   -2.6038</td> <td>    0.610</td> <td>   -4.271</td> <td> 0.000</td> <td>   -3.799</td> <td>   -1.409</td>\n",
       "</tr>\n",
       "<tr>\n",
       "  <th>ca_2_ves</th>        <td>   -3.5919</td> <td>    1.042</td> <td>   -3.448</td> <td> 0.001</td> <td>   -5.634</td> <td>   -1.550</td>\n",
       "</tr>\n",
       "<tr>\n",
       "  <th>ca_3_ves</th>        <td>   -3.1378</td> <td>    1.179</td> <td>   -2.661</td> <td> 0.008</td> <td>   -5.449</td> <td>   -0.826</td>\n",
       "</tr>\n",
       "<tr>\n",
       "  <th>ca_4_ves</th>        <td>   17.9918</td> <td> 1.69e+04</td> <td>    0.001</td> <td> 0.999</td> <td> -3.3e+04</td> <td> 3.31e+04</td>\n",
       "</tr>\n",
       "<tr>\n",
       "  <th>thal_normal</th>     <td>   -0.1340</td> <td>    0.973</td> <td>   -0.138</td> <td> 0.890</td> <td>   -2.041</td> <td>    1.773</td>\n",
       "</tr>\n",
       "<tr>\n",
       "  <th>thal_rev_defect</th> <td>   -1.5293</td> <td>    0.905</td> <td>   -1.690</td> <td> 0.091</td> <td>   -3.302</td> <td>    0.244</td>\n",
       "</tr>\n",
       "</table>"
      ],
      "text/plain": [
       "<class 'statsmodels.iolib.summary.Summary'>\n",
       "\"\"\"\n",
       "                 Generalized Linear Model Regression Results                  \n",
       "==============================================================================\n",
       "Dep. Variable:                 target   No. Observations:                  210\n",
       "Model:                            GLM   Df Residuals:                      188\n",
       "Model Family:                Binomial   Df Model:                           21\n",
       "Link Function:                  logit   Scale:                          1.0000\n",
       "Method:                          IRLS   Log-Likelihood:                -65.260\n",
       "Date:                Sat, 06 Feb 2021   Deviance:                       130.52\n",
       "Time:                        14:32:23   Pearson chi2:                     387.\n",
       "No. Iterations:                    20                                         \n",
       "Covariance Type:            nonrobust                                         \n",
       "===================================================================================\n",
       "                      coef    std err          z      P>|z|      [0.025      0.975]\n",
       "-----------------------------------------------------------------------------------\n",
       "const               2.9945      1.877      1.595      0.111      -0.685       6.674\n",
       "age                 1.4955      1.433      1.044      0.296      -1.312       4.303\n",
       "trestbps           -2.8007      1.203     -2.327      0.020      -5.159      -0.442\n",
       "chol               -2.4016      2.127     -1.129      0.259      -6.570       1.766\n",
       "thalach             2.6887      1.862      1.444      0.149      -0.960       6.338\n",
       "oldpeak            -0.6428      1.804     -0.356      0.722      -4.178       2.893\n",
       "sex_male           -1.7795      0.704     -2.529      0.011      -3.159      -0.400\n",
       "cp_cat_1            1.0564      0.815      1.295      0.195      -0.542       2.655\n",
       "cp_cat_2            1.5092      0.579      2.607      0.009       0.375       2.644\n",
       "cp_cat_3            1.6847      0.923      1.826      0.068      -0.124       3.493\n",
       "fbs_yes             1.1533      0.725      1.591      0.112      -0.268       2.574\n",
       "restecg_val_1       0.3735      0.492      0.759      0.448      -0.592       1.338\n",
       "restecg_val_2      -0.6908      2.645     -0.261      0.794      -5.875       4.493\n",
       "exang_yes          -0.9836      0.553     -1.779      0.075      -2.067       0.100\n",
       "slope_flat         -1.3901      0.608     -2.286      0.022      -2.582      -0.198\n",
       "slope_up           -1.3716      1.198     -1.145      0.252      -3.719       0.976\n",
       "ca_1_ves           -2.6038      0.610     -4.271      0.000      -3.799      -1.409\n",
       "ca_2_ves           -3.5919      1.042     -3.448      0.001      -5.634      -1.550\n",
       "ca_3_ves           -3.1378      1.179     -2.661      0.008      -5.449      -0.826\n",
       "ca_4_ves           17.9918   1.69e+04      0.001      0.999    -3.3e+04    3.31e+04\n",
       "thal_normal        -0.1340      0.973     -0.138      0.890      -2.041       1.773\n",
       "thal_rev_defect    -1.5293      0.905     -1.690      0.091      -3.302       0.244\n",
       "===================================================================================\n",
       "\"\"\""
      ]
     },
     "execution_count": 29,
     "metadata": {},
     "output_type": "execute_result"
    }
   ],
   "source": [
    "# Logistic regression model using statsmodels Generalized linear model\n",
    "\n",
    "lm1 = sm.GLM(y_train,(sm.add_constant(X_train)), family = sm.families.Binomial())\n",
    "lm1.fit().summary()"
   ]
  },
  {
   "cell_type": "markdown",
   "metadata": {},
   "source": [
    "Observation,\n",
    "- Many features with p values above 0.05. This indicates they aren't significant in this model.\n",
    "- Next we would use RFE to eliminate features aggressively."
   ]
  },
  {
   "cell_type": "markdown",
   "metadata": {},
   "source": [
    "#### RFE to reduce number of features"
   ]
  },
  {
   "cell_type": "code",
   "execution_count": 30,
   "metadata": {},
   "outputs": [],
   "source": [
    "# RFE\n",
    "\n",
    "lm2 = LogisticRegression()\n",
    "rfe = RFE(lm2, 15)             # running RFE with 15 variables as output\n",
    "rfe = rfe.fit(X_train, y_train)"
   ]
  },
  {
   "cell_type": "code",
   "execution_count": 31,
   "metadata": {},
   "outputs": [
    {
     "data": {
      "text/plain": [
       "[('age', False, 7),\n",
       " ('trestbps', True, 1),\n",
       " ('chol', False, 4),\n",
       " ('thalach', True, 1),\n",
       " ('oldpeak', True, 1),\n",
       " ('sex_male', True, 1),\n",
       " ('cp_cat_1', True, 1),\n",
       " ('cp_cat_2', True, 1),\n",
       " ('cp_cat_3', True, 1),\n",
       " ('fbs_yes', False, 2),\n",
       " ('restecg_val_1', True, 1),\n",
       " ('restecg_val_2', False, 5),\n",
       " ('exang_yes', True, 1),\n",
       " ('slope_flat', True, 1),\n",
       " ('slope_up', False, 3),\n",
       " ('ca_1_ves', True, 1),\n",
       " ('ca_2_ves', True, 1),\n",
       " ('ca_3_ves', True, 1),\n",
       " ('ca_4_ves', False, 6),\n",
       " ('thal_normal', True, 1),\n",
       " ('thal_rev_defect', True, 1)]"
      ]
     },
     "execution_count": 31,
     "metadata": {},
     "output_type": "execute_result"
    }
   ],
   "source": [
    "# Feature importance understanding\n",
    "\n",
    "list(zip(X_train.columns, rfe.support_, rfe.ranking_))"
   ]
  },
  {
   "cell_type": "code",
   "execution_count": 32,
   "metadata": {},
   "outputs": [],
   "source": [
    "# Dropping unimportant features\n",
    "\n",
    "X_train = X_train[X_train.columns[rfe.support_]]\n",
    "X_test = X_test[X_test.columns[rfe.support_]]"
   ]
  },
  {
   "cell_type": "markdown",
   "metadata": {},
   "source": [
    "We would be using combination of p values, VIFs and accuracy (since the model is having uniform target values distribution) to manually drop the features and check its performance."
   ]
  },
  {
   "cell_type": "markdown",
   "metadata": {},
   "source": [
    "#### Manually reducing the number of features using p value and VIF"
   ]
  },
  {
   "cell_type": "code",
   "execution_count": 33,
   "metadata": {
    "scrolled": true
   },
   "outputs": [
    {
     "data": {
      "text/html": [
       "<table class=\"simpletable\">\n",
       "<caption>Generalized Linear Model Regression Results</caption>\n",
       "<tr>\n",
       "  <th>Dep. Variable:</th>        <td>target</td>      <th>  No. Observations:  </th>  <td>   210</td> \n",
       "</tr>\n",
       "<tr>\n",
       "  <th>Model:</th>                  <td>GLM</td>       <th>  Df Residuals:      </th>  <td>   194</td> \n",
       "</tr>\n",
       "<tr>\n",
       "  <th>Model Family:</th>        <td>Binomial</td>     <th>  Df Model:          </th>  <td>    15</td> \n",
       "</tr>\n",
       "<tr>\n",
       "  <th>Link Function:</th>         <td>logit</td>      <th>  Scale:             </th> <td>  1.0000</td>\n",
       "</tr>\n",
       "<tr>\n",
       "  <th>Method:</th>                <td>IRLS</td>       <th>  Log-Likelihood:    </th> <td> -68.093</td>\n",
       "</tr>\n",
       "<tr>\n",
       "  <th>Date:</th>            <td>Sat, 06 Feb 2021</td> <th>  Deviance:          </th> <td>  136.19</td>\n",
       "</tr>\n",
       "<tr>\n",
       "  <th>Time:</th>                <td>14:32:23</td>     <th>  Pearson chi2:      </th>  <td>  321.</td> \n",
       "</tr>\n",
       "<tr>\n",
       "  <th>No. Iterations:</th>          <td>6</td>        <th>                     </th>     <td> </td>   \n",
       "</tr>\n",
       "<tr>\n",
       "  <th>Covariance Type:</th>     <td>nonrobust</td>    <th>                     </th>     <td> </td>   \n",
       "</tr>\n",
       "</table>\n",
       "<table class=\"simpletable\">\n",
       "<tr>\n",
       "         <td></td>            <th>coef</th>     <th>std err</th>      <th>z</th>      <th>P>|z|</th>  <th>[0.025</th>    <th>0.975]</th>  \n",
       "</tr>\n",
       "<tr>\n",
       "  <th>const</th>           <td>    2.6252</td> <td>    1.575</td> <td>    1.667</td> <td> 0.095</td> <td>   -0.461</td> <td>    5.711</td>\n",
       "</tr>\n",
       "<tr>\n",
       "  <th>trestbps</th>        <td>   -2.0285</td> <td>    1.078</td> <td>   -1.881</td> <td> 0.060</td> <td>   -4.142</td> <td>    0.085</td>\n",
       "</tr>\n",
       "<tr>\n",
       "  <th>thalach</th>         <td>    2.0477</td> <td>    1.696</td> <td>    1.208</td> <td> 0.227</td> <td>   -1.275</td> <td>    5.371</td>\n",
       "</tr>\n",
       "<tr>\n",
       "  <th>oldpeak</th>         <td>   -2.0039</td> <td>    1.560</td> <td>   -1.285</td> <td> 0.199</td> <td>   -5.061</td> <td>    1.054</td>\n",
       "</tr>\n",
       "<tr>\n",
       "  <th>sex_male</th>        <td>   -1.3210</td> <td>    0.632</td> <td>   -2.089</td> <td> 0.037</td> <td>   -2.561</td> <td>   -0.081</td>\n",
       "</tr>\n",
       "<tr>\n",
       "  <th>cp_cat_1</th>        <td>    0.8908</td> <td>    0.775</td> <td>    1.149</td> <td> 0.251</td> <td>   -0.629</td> <td>    2.411</td>\n",
       "</tr>\n",
       "<tr>\n",
       "  <th>cp_cat_2</th>        <td>    1.7533</td> <td>    0.565</td> <td>    3.101</td> <td> 0.002</td> <td>    0.645</td> <td>    2.861</td>\n",
       "</tr>\n",
       "<tr>\n",
       "  <th>cp_cat_3</th>        <td>    1.5951</td> <td>    0.869</td> <td>    1.836</td> <td> 0.066</td> <td>   -0.107</td> <td>    3.298</td>\n",
       "</tr>\n",
       "<tr>\n",
       "  <th>restecg_val_1</th>   <td>    0.4916</td> <td>    0.470</td> <td>    1.046</td> <td> 0.295</td> <td>   -0.429</td> <td>    1.412</td>\n",
       "</tr>\n",
       "<tr>\n",
       "  <th>exang_yes</th>       <td>   -1.0086</td> <td>    0.536</td> <td>   -1.883</td> <td> 0.060</td> <td>   -2.059</td> <td>    0.041</td>\n",
       "</tr>\n",
       "<tr>\n",
       "  <th>slope_flat</th>      <td>   -0.9724</td> <td>    0.527</td> <td>   -1.845</td> <td> 0.065</td> <td>   -2.005</td> <td>    0.061</td>\n",
       "</tr>\n",
       "<tr>\n",
       "  <th>ca_1_ves</th>        <td>   -2.2590</td> <td>    0.565</td> <td>   -4.002</td> <td> 0.000</td> <td>   -3.365</td> <td>   -1.153</td>\n",
       "</tr>\n",
       "<tr>\n",
       "  <th>ca_2_ves</th>        <td>   -2.8958</td> <td>    0.956</td> <td>   -3.030</td> <td> 0.002</td> <td>   -4.769</td> <td>   -1.023</td>\n",
       "</tr>\n",
       "<tr>\n",
       "  <th>ca_3_ves</th>        <td>   -2.6036</td> <td>    1.067</td> <td>   -2.440</td> <td> 0.015</td> <td>   -4.695</td> <td>   -0.512</td>\n",
       "</tr>\n",
       "<tr>\n",
       "  <th>thal_normal</th>     <td>   -0.0943</td> <td>    0.928</td> <td>   -0.102</td> <td> 0.919</td> <td>   -1.914</td> <td>    1.725</td>\n",
       "</tr>\n",
       "<tr>\n",
       "  <th>thal_rev_defect</th> <td>   -1.6112</td> <td>    0.867</td> <td>   -1.859</td> <td> 0.063</td> <td>   -3.310</td> <td>    0.087</td>\n",
       "</tr>\n",
       "</table>"
      ],
      "text/plain": [
       "<class 'statsmodels.iolib.summary.Summary'>\n",
       "\"\"\"\n",
       "                 Generalized Linear Model Regression Results                  \n",
       "==============================================================================\n",
       "Dep. Variable:                 target   No. Observations:                  210\n",
       "Model:                            GLM   Df Residuals:                      194\n",
       "Model Family:                Binomial   Df Model:                           15\n",
       "Link Function:                  logit   Scale:                          1.0000\n",
       "Method:                          IRLS   Log-Likelihood:                -68.093\n",
       "Date:                Sat, 06 Feb 2021   Deviance:                       136.19\n",
       "Time:                        14:32:23   Pearson chi2:                     321.\n",
       "No. Iterations:                     6                                         \n",
       "Covariance Type:            nonrobust                                         \n",
       "===================================================================================\n",
       "                      coef    std err          z      P>|z|      [0.025      0.975]\n",
       "-----------------------------------------------------------------------------------\n",
       "const               2.6252      1.575      1.667      0.095      -0.461       5.711\n",
       "trestbps           -2.0285      1.078     -1.881      0.060      -4.142       0.085\n",
       "thalach             2.0477      1.696      1.208      0.227      -1.275       5.371\n",
       "oldpeak            -2.0039      1.560     -1.285      0.199      -5.061       1.054\n",
       "sex_male           -1.3210      0.632     -2.089      0.037      -2.561      -0.081\n",
       "cp_cat_1            0.8908      0.775      1.149      0.251      -0.629       2.411\n",
       "cp_cat_2            1.7533      0.565      3.101      0.002       0.645       2.861\n",
       "cp_cat_3            1.5951      0.869      1.836      0.066      -0.107       3.298\n",
       "restecg_val_1       0.4916      0.470      1.046      0.295      -0.429       1.412\n",
       "exang_yes          -1.0086      0.536     -1.883      0.060      -2.059       0.041\n",
       "slope_flat         -0.9724      0.527     -1.845      0.065      -2.005       0.061\n",
       "ca_1_ves           -2.2590      0.565     -4.002      0.000      -3.365      -1.153\n",
       "ca_2_ves           -2.8958      0.956     -3.030      0.002      -4.769      -1.023\n",
       "ca_3_ves           -2.6036      1.067     -2.440      0.015      -4.695      -0.512\n",
       "thal_normal        -0.0943      0.928     -0.102      0.919      -1.914       1.725\n",
       "thal_rev_defect    -1.6112      0.867     -1.859      0.063      -3.310       0.087\n",
       "===================================================================================\n",
       "\"\"\""
      ]
     },
     "execution_count": 33,
     "metadata": {},
     "output_type": "execute_result"
    }
   ],
   "source": [
    "# model iteration 2\n",
    "\n",
    "X_train_sm = sm.add_constant(X_train)\n",
    "lm2 = sm.GLM(y_train, X_train_sm, family = sm.families.Binomial())\n",
    "res2 = lm2.fit()\n",
    "res2.summary()"
   ]
  },
  {
   "cell_type": "markdown",
   "metadata": {},
   "source": [
    "Observations,\n",
    "- Stil many features with p score above 0.05, which makes them insignificant."
   ]
  },
  {
   "cell_type": "code",
   "execution_count": 34,
   "metadata": {},
   "outputs": [
    {
     "name": "stdout",
     "output_type": "stream",
     "text": [
      "     target  predict   ID\n",
      "240       0        0  240\n",
      "255       0        0  255\n",
      "73        1        1   73\n",
      "41        1        1   41\n",
      "290       0        0  290\n",
      " \n",
      "accuracy: 0.862\n"
     ]
    }
   ],
   "source": [
    "# Checking accuracy of model\n",
    "\n",
    "# predicting and assigning value 1 if probabiliy is >0.5 else 0\n",
    "y_train_pred = res2.predict(X_train_sm).apply(lambda x: 1 if x>0.5 else 0)   \n",
    "y_train_pred_df = pd.DataFrame({'target':y_train.values, 'predict':y_train_pred})\n",
    "y_train_pred_df['ID'] = y_train.index\n",
    "print(y_train_pred_df.head())\n",
    "\n",
    "print(' ')\n",
    "\n",
    "# Checking model accuracy\n",
    "print('accuracy:', round(accuracy_score(y_train_pred_df.target, y_train_pred_df.predict), 3))"
   ]
  },
  {
   "cell_type": "code",
   "execution_count": 35,
   "metadata": {},
   "outputs": [],
   "source": [
    "# creating vif function\n",
    "\n",
    "def get_VIF_table(X):\n",
    "    vif = pd.DataFrame()\n",
    "    vif['Features'] = X.columns\n",
    "    vif['VIF'] = [variance_inflation_factor(X.values, i) for i in range(X.shape[1])]\n",
    "    vif['VIF'] = round(vif['VIF'], 2)\n",
    "    vif = vif.sort_values(by = \"VIF\", ascending = False)\n",
    "    return vif"
   ]
  },
  {
   "cell_type": "code",
   "execution_count": 36,
   "metadata": {
    "scrolled": true
   },
   "outputs": [
    {
     "data": {
      "text/html": [
       "<div>\n",
       "<style scoped>\n",
       "    .dataframe tbody tr th:only-of-type {\n",
       "        vertical-align: middle;\n",
       "    }\n",
       "\n",
       "    .dataframe tbody tr th {\n",
       "        vertical-align: top;\n",
       "    }\n",
       "\n",
       "    .dataframe thead th {\n",
       "        text-align: right;\n",
       "    }\n",
       "</style>\n",
       "<table border=\"1\" class=\"dataframe\">\n",
       "  <thead>\n",
       "    <tr style=\"text-align: right;\">\n",
       "      <th></th>\n",
       "      <th>Features</th>\n",
       "      <th>VIF</th>\n",
       "    </tr>\n",
       "  </thead>\n",
       "  <tbody>\n",
       "    <tr>\n",
       "      <th>1</th>\n",
       "      <td>thalach</td>\n",
       "      <td>10.11</td>\n",
       "    </tr>\n",
       "    <tr>\n",
       "      <th>13</th>\n",
       "      <td>thal_normal</td>\n",
       "      <td>6.61</td>\n",
       "    </tr>\n",
       "    <tr>\n",
       "      <th>0</th>\n",
       "      <td>trestbps</td>\n",
       "      <td>5.37</td>\n",
       "    </tr>\n",
       "    <tr>\n",
       "      <th>14</th>\n",
       "      <td>thal_rev_defect</td>\n",
       "      <td>5.30</td>\n",
       "    </tr>\n",
       "    <tr>\n",
       "      <th>3</th>\n",
       "      <td>sex_male</td>\n",
       "      <td>3.82</td>\n",
       "    </tr>\n",
       "    <tr>\n",
       "      <th>2</th>\n",
       "      <td>oldpeak</td>\n",
       "      <td>2.30</td>\n",
       "    </tr>\n",
       "    <tr>\n",
       "      <th>5</th>\n",
       "      <td>cp_cat_2</td>\n",
       "      <td>2.20</td>\n",
       "    </tr>\n",
       "    <tr>\n",
       "      <th>7</th>\n",
       "      <td>restecg_val_1</td>\n",
       "      <td>2.17</td>\n",
       "    </tr>\n",
       "    <tr>\n",
       "      <th>9</th>\n",
       "      <td>slope_flat</td>\n",
       "      <td>2.16</td>\n",
       "    </tr>\n",
       "    <tr>\n",
       "      <th>8</th>\n",
       "      <td>exang_yes</td>\n",
       "      <td>2.07</td>\n",
       "    </tr>\n",
       "    <tr>\n",
       "      <th>4</th>\n",
       "      <td>cp_cat_1</td>\n",
       "      <td>1.71</td>\n",
       "    </tr>\n",
       "    <tr>\n",
       "      <th>10</th>\n",
       "      <td>ca_1_ves</td>\n",
       "      <td>1.45</td>\n",
       "    </tr>\n",
       "    <tr>\n",
       "      <th>6</th>\n",
       "      <td>cp_cat_3</td>\n",
       "      <td>1.36</td>\n",
       "    </tr>\n",
       "    <tr>\n",
       "      <th>11</th>\n",
       "      <td>ca_2_ves</td>\n",
       "      <td>1.31</td>\n",
       "    </tr>\n",
       "    <tr>\n",
       "      <th>12</th>\n",
       "      <td>ca_3_ves</td>\n",
       "      <td>1.27</td>\n",
       "    </tr>\n",
       "  </tbody>\n",
       "</table>\n",
       "</div>"
      ],
      "text/plain": [
       "           Features    VIF\n",
       "1           thalach  10.11\n",
       "13      thal_normal   6.61\n",
       "0          trestbps   5.37\n",
       "14  thal_rev_defect   5.30\n",
       "3          sex_male   3.82\n",
       "2           oldpeak   2.30\n",
       "5          cp_cat_2   2.20\n",
       "7     restecg_val_1   2.17\n",
       "9        slope_flat   2.16\n",
       "8         exang_yes   2.07\n",
       "4          cp_cat_1   1.71\n",
       "10         ca_1_ves   1.45\n",
       "6          cp_cat_3   1.36\n",
       "11         ca_2_ves   1.31\n",
       "12         ca_3_ves   1.27"
      ]
     },
     "execution_count": 36,
     "metadata": {},
     "output_type": "execute_result"
    }
   ],
   "source": [
    "get_VIF_table(X_train)"
   ]
  },
  {
   "cell_type": "code",
   "execution_count": 37,
   "metadata": {},
   "outputs": [],
   "source": [
    "# Dropping 'thalach': higher p value and VIF\n",
    "\n",
    "X_train = X_train.drop('thalach', axis=1)\n",
    "X_test = X_test.drop('thalach', axis=1)"
   ]
  },
  {
   "cell_type": "code",
   "execution_count": 38,
   "metadata": {},
   "outputs": [
    {
     "data": {
      "text/html": [
       "<table class=\"simpletable\">\n",
       "<caption>Generalized Linear Model Regression Results</caption>\n",
       "<tr>\n",
       "  <th>Dep. Variable:</th>        <td>target</td>      <th>  No. Observations:  </th>  <td>   210</td> \n",
       "</tr>\n",
       "<tr>\n",
       "  <th>Model:</th>                  <td>GLM</td>       <th>  Df Residuals:      </th>  <td>   195</td> \n",
       "</tr>\n",
       "<tr>\n",
       "  <th>Model Family:</th>        <td>Binomial</td>     <th>  Df Model:          </th>  <td>    14</td> \n",
       "</tr>\n",
       "<tr>\n",
       "  <th>Link Function:</th>         <td>logit</td>      <th>  Scale:             </th> <td>  1.0000</td>\n",
       "</tr>\n",
       "<tr>\n",
       "  <th>Method:</th>                <td>IRLS</td>       <th>  Log-Likelihood:    </th> <td> -68.858</td>\n",
       "</tr>\n",
       "<tr>\n",
       "  <th>Date:</th>            <td>Sat, 06 Feb 2021</td> <th>  Deviance:          </th> <td>  137.72</td>\n",
       "</tr>\n",
       "<tr>\n",
       "  <th>Time:</th>                <td>14:32:23</td>     <th>  Pearson chi2:      </th>  <td>  309.</td> \n",
       "</tr>\n",
       "<tr>\n",
       "  <th>No. Iterations:</th>          <td>6</td>        <th>                     </th>     <td> </td>   \n",
       "</tr>\n",
       "<tr>\n",
       "  <th>Covariance Type:</th>     <td>nonrobust</td>    <th>                     </th>     <td> </td>   \n",
       "</tr>\n",
       "</table>\n",
       "<table class=\"simpletable\">\n",
       "<tr>\n",
       "         <td></td>            <th>coef</th>     <th>std err</th>      <th>z</th>      <th>P>|z|</th>  <th>[0.025</th>    <th>0.975]</th>  \n",
       "</tr>\n",
       "<tr>\n",
       "  <th>const</th>           <td>    3.6009</td> <td>    1.375</td> <td>    2.618</td> <td> 0.009</td> <td>    0.905</td> <td>    6.297</td>\n",
       "</tr>\n",
       "<tr>\n",
       "  <th>trestbps</th>        <td>   -1.8796</td> <td>    1.063</td> <td>   -1.768</td> <td> 0.077</td> <td>   -3.963</td> <td>    0.204</td>\n",
       "</tr>\n",
       "<tr>\n",
       "  <th>oldpeak</th>         <td>   -2.5207</td> <td>    1.494</td> <td>   -1.687</td> <td> 0.092</td> <td>   -5.448</td> <td>    0.407</td>\n",
       "</tr>\n",
       "<tr>\n",
       "  <th>sex_male</th>        <td>   -1.1300</td> <td>    0.602</td> <td>   -1.877</td> <td> 0.060</td> <td>   -2.310</td> <td>    0.050</td>\n",
       "</tr>\n",
       "<tr>\n",
       "  <th>cp_cat_1</th>        <td>    0.9738</td> <td>    0.760</td> <td>    1.280</td> <td> 0.200</td> <td>   -0.517</td> <td>    2.464</td>\n",
       "</tr>\n",
       "<tr>\n",
       "  <th>cp_cat_2</th>        <td>    1.8048</td> <td>    0.563</td> <td>    3.207</td> <td> 0.001</td> <td>    0.702</td> <td>    2.908</td>\n",
       "</tr>\n",
       "<tr>\n",
       "  <th>cp_cat_3</th>        <td>    1.5640</td> <td>    0.863</td> <td>    1.812</td> <td> 0.070</td> <td>   -0.127</td> <td>    3.255</td>\n",
       "</tr>\n",
       "<tr>\n",
       "  <th>restecg_val_1</th>   <td>    0.4436</td> <td>    0.465</td> <td>    0.955</td> <td> 0.340</td> <td>   -0.467</td> <td>    1.354</td>\n",
       "</tr>\n",
       "<tr>\n",
       "  <th>exang_yes</th>       <td>   -1.1155</td> <td>    0.525</td> <td>   -2.124</td> <td> 0.034</td> <td>   -2.145</td> <td>   -0.086</td>\n",
       "</tr>\n",
       "<tr>\n",
       "  <th>slope_flat</th>      <td>   -1.1408</td> <td>    0.508</td> <td>   -2.248</td> <td> 0.025</td> <td>   -2.136</td> <td>   -0.146</td>\n",
       "</tr>\n",
       "<tr>\n",
       "  <th>ca_1_ves</th>        <td>   -2.3311</td> <td>    0.556</td> <td>   -4.192</td> <td> 0.000</td> <td>   -3.421</td> <td>   -1.241</td>\n",
       "</tr>\n",
       "<tr>\n",
       "  <th>ca_2_ves</th>        <td>   -2.8418</td> <td>    0.955</td> <td>   -2.974</td> <td> 0.003</td> <td>   -4.714</td> <td>   -0.969</td>\n",
       "</tr>\n",
       "<tr>\n",
       "  <th>ca_3_ves</th>        <td>   -2.8408</td> <td>    1.075</td> <td>   -2.643</td> <td> 0.008</td> <td>   -4.947</td> <td>   -0.734</td>\n",
       "</tr>\n",
       "<tr>\n",
       "  <th>thal_normal</th>     <td>    0.1313</td> <td>    0.888</td> <td>    0.148</td> <td> 0.883</td> <td>   -1.610</td> <td>    1.873</td>\n",
       "</tr>\n",
       "<tr>\n",
       "  <th>thal_rev_defect</th> <td>   -1.4868</td> <td>    0.844</td> <td>   -1.761</td> <td> 0.078</td> <td>   -3.142</td> <td>    0.168</td>\n",
       "</tr>\n",
       "</table>"
      ],
      "text/plain": [
       "<class 'statsmodels.iolib.summary.Summary'>\n",
       "\"\"\"\n",
       "                 Generalized Linear Model Regression Results                  \n",
       "==============================================================================\n",
       "Dep. Variable:                 target   No. Observations:                  210\n",
       "Model:                            GLM   Df Residuals:                      195\n",
       "Model Family:                Binomial   Df Model:                           14\n",
       "Link Function:                  logit   Scale:                          1.0000\n",
       "Method:                          IRLS   Log-Likelihood:                -68.858\n",
       "Date:                Sat, 06 Feb 2021   Deviance:                       137.72\n",
       "Time:                        14:32:23   Pearson chi2:                     309.\n",
       "No. Iterations:                     6                                         \n",
       "Covariance Type:            nonrobust                                         \n",
       "===================================================================================\n",
       "                      coef    std err          z      P>|z|      [0.025      0.975]\n",
       "-----------------------------------------------------------------------------------\n",
       "const               3.6009      1.375      2.618      0.009       0.905       6.297\n",
       "trestbps           -1.8796      1.063     -1.768      0.077      -3.963       0.204\n",
       "oldpeak            -2.5207      1.494     -1.687      0.092      -5.448       0.407\n",
       "sex_male           -1.1300      0.602     -1.877      0.060      -2.310       0.050\n",
       "cp_cat_1            0.9738      0.760      1.280      0.200      -0.517       2.464\n",
       "cp_cat_2            1.8048      0.563      3.207      0.001       0.702       2.908\n",
       "cp_cat_3            1.5640      0.863      1.812      0.070      -0.127       3.255\n",
       "restecg_val_1       0.4436      0.465      0.955      0.340      -0.467       1.354\n",
       "exang_yes          -1.1155      0.525     -2.124      0.034      -2.145      -0.086\n",
       "slope_flat         -1.1408      0.508     -2.248      0.025      -2.136      -0.146\n",
       "ca_1_ves           -2.3311      0.556     -4.192      0.000      -3.421      -1.241\n",
       "ca_2_ves           -2.8418      0.955     -2.974      0.003      -4.714      -0.969\n",
       "ca_3_ves           -2.8408      1.075     -2.643      0.008      -4.947      -0.734\n",
       "thal_normal         0.1313      0.888      0.148      0.883      -1.610       1.873\n",
       "thal_rev_defect    -1.4868      0.844     -1.761      0.078      -3.142       0.168\n",
       "===================================================================================\n",
       "\"\"\""
      ]
     },
     "execution_count": 38,
     "metadata": {},
     "output_type": "execute_result"
    }
   ],
   "source": [
    "# model iteration 3\n",
    "\n",
    "X_train_sm = sm.add_constant(X_train)\n",
    "lm3 = sm.GLM(y_train, X_train_sm, family = sm.families.Binomial())\n",
    "res3 = lm3.fit()\n",
    "res3.summary()"
   ]
  },
  {
   "cell_type": "code",
   "execution_count": 39,
   "metadata": {},
   "outputs": [
    {
     "name": "stdout",
     "output_type": "stream",
     "text": [
      "     target  predict   ID\n",
      "240       0        0  240\n",
      "255       0        0  255\n",
      "73        1        1   73\n",
      "41        1        1   41\n",
      "290       0        0  290\n",
      " \n",
      "accuracy: 0.862\n"
     ]
    }
   ],
   "source": [
    "# Checking accuracy of model\n",
    "\n",
    "# predicting and assigning value 1 if probabiliy is >0.5 else 0\n",
    "y_train_pred = res3.predict(X_train_sm).apply(lambda x: 1 if x>0.5 else 0)   \n",
    "y_train_pred_df = pd.DataFrame({'target':y_train.values, 'predict':y_train_pred})\n",
    "y_train_pred_df['ID'] = y_train.index\n",
    "print(y_train_pred_df.head())\n",
    "\n",
    "print(' ')\n",
    "\n",
    "# Checking model accuracy\n",
    "print('accuracy:', round(accuracy_score(y_train_pred_df.target, y_train_pred_df.predict), 3))"
   ]
  },
  {
   "cell_type": "markdown",
   "metadata": {},
   "source": [
    "We do not see any improvement in model accuracy, but there is improvements in p values."
   ]
  },
  {
   "cell_type": "code",
   "execution_count": 40,
   "metadata": {},
   "outputs": [
    {
     "data": {
      "text/html": [
       "<div>\n",
       "<style scoped>\n",
       "    .dataframe tbody tr th:only-of-type {\n",
       "        vertical-align: middle;\n",
       "    }\n",
       "\n",
       "    .dataframe tbody tr th {\n",
       "        vertical-align: top;\n",
       "    }\n",
       "\n",
       "    .dataframe thead th {\n",
       "        text-align: right;\n",
       "    }\n",
       "</style>\n",
       "<table border=\"1\" class=\"dataframe\">\n",
       "  <thead>\n",
       "    <tr style=\"text-align: right;\">\n",
       "      <th></th>\n",
       "      <th>Features</th>\n",
       "      <th>VIF</th>\n",
       "    </tr>\n",
       "  </thead>\n",
       "  <tbody>\n",
       "    <tr>\n",
       "      <th>0</th>\n",
       "      <td>trestbps</td>\n",
       "      <td>4.97</td>\n",
       "    </tr>\n",
       "    <tr>\n",
       "      <th>12</th>\n",
       "      <td>thal_normal</td>\n",
       "      <td>4.12</td>\n",
       "    </tr>\n",
       "    <tr>\n",
       "      <th>13</th>\n",
       "      <td>thal_rev_defect</td>\n",
       "      <td>4.09</td>\n",
       "    </tr>\n",
       "    <tr>\n",
       "      <th>2</th>\n",
       "      <td>sex_male</td>\n",
       "      <td>3.56</td>\n",
       "    </tr>\n",
       "    <tr>\n",
       "      <th>1</th>\n",
       "      <td>oldpeak</td>\n",
       "      <td>2.27</td>\n",
       "    </tr>\n",
       "    <tr>\n",
       "      <th>6</th>\n",
       "      <td>restecg_val_1</td>\n",
       "      <td>2.14</td>\n",
       "    </tr>\n",
       "    <tr>\n",
       "      <th>8</th>\n",
       "      <td>slope_flat</td>\n",
       "      <td>2.14</td>\n",
       "    </tr>\n",
       "    <tr>\n",
       "      <th>4</th>\n",
       "      <td>cp_cat_2</td>\n",
       "      <td>2.13</td>\n",
       "    </tr>\n",
       "    <tr>\n",
       "      <th>7</th>\n",
       "      <td>exang_yes</td>\n",
       "      <td>2.04</td>\n",
       "    </tr>\n",
       "    <tr>\n",
       "      <th>3</th>\n",
       "      <td>cp_cat_1</td>\n",
       "      <td>1.64</td>\n",
       "    </tr>\n",
       "    <tr>\n",
       "      <th>9</th>\n",
       "      <td>ca_1_ves</td>\n",
       "      <td>1.44</td>\n",
       "    </tr>\n",
       "    <tr>\n",
       "      <th>5</th>\n",
       "      <td>cp_cat_3</td>\n",
       "      <td>1.36</td>\n",
       "    </tr>\n",
       "    <tr>\n",
       "      <th>10</th>\n",
       "      <td>ca_2_ves</td>\n",
       "      <td>1.29</td>\n",
       "    </tr>\n",
       "    <tr>\n",
       "      <th>11</th>\n",
       "      <td>ca_3_ves</td>\n",
       "      <td>1.26</td>\n",
       "    </tr>\n",
       "  </tbody>\n",
       "</table>\n",
       "</div>"
      ],
      "text/plain": [
       "           Features   VIF\n",
       "0          trestbps  4.97\n",
       "12      thal_normal  4.12\n",
       "13  thal_rev_defect  4.09\n",
       "2          sex_male  3.56\n",
       "1           oldpeak  2.27\n",
       "6     restecg_val_1  2.14\n",
       "8        slope_flat  2.14\n",
       "4          cp_cat_2  2.13\n",
       "7         exang_yes  2.04\n",
       "3          cp_cat_1  1.64\n",
       "9          ca_1_ves  1.44\n",
       "5          cp_cat_3  1.36\n",
       "10         ca_2_ves  1.29\n",
       "11         ca_3_ves  1.26"
      ]
     },
     "execution_count": 40,
     "metadata": {},
     "output_type": "execute_result"
    }
   ],
   "source": [
    "get_VIF_table(X_train)"
   ]
  },
  {
   "cell_type": "code",
   "execution_count": 41,
   "metadata": {},
   "outputs": [],
   "source": [
    "# Dropping 'thal_normal': higher p value\n",
    "\n",
    "X_train = X_train.drop('thal_normal', axis=1)\n",
    "X_test = X_test.drop('thal_normal', axis=1)"
   ]
  },
  {
   "cell_type": "code",
   "execution_count": 42,
   "metadata": {},
   "outputs": [
    {
     "data": {
      "text/html": [
       "<table class=\"simpletable\">\n",
       "<caption>Generalized Linear Model Regression Results</caption>\n",
       "<tr>\n",
       "  <th>Dep. Variable:</th>        <td>target</td>      <th>  No. Observations:  </th>  <td>   210</td> \n",
       "</tr>\n",
       "<tr>\n",
       "  <th>Model:</th>                  <td>GLM</td>       <th>  Df Residuals:      </th>  <td>   196</td> \n",
       "</tr>\n",
       "<tr>\n",
       "  <th>Model Family:</th>        <td>Binomial</td>     <th>  Df Model:          </th>  <td>    13</td> \n",
       "</tr>\n",
       "<tr>\n",
       "  <th>Link Function:</th>         <td>logit</td>      <th>  Scale:             </th> <td>  1.0000</td>\n",
       "</tr>\n",
       "<tr>\n",
       "  <th>Method:</th>                <td>IRLS</td>       <th>  Log-Likelihood:    </th> <td> -68.869</td>\n",
       "</tr>\n",
       "<tr>\n",
       "  <th>Date:</th>            <td>Sat, 06 Feb 2021</td> <th>  Deviance:          </th> <td>  137.74</td>\n",
       "</tr>\n",
       "<tr>\n",
       "  <th>Time:</th>                <td>14:32:23</td>     <th>  Pearson chi2:      </th>  <td>  309.</td> \n",
       "</tr>\n",
       "<tr>\n",
       "  <th>No. Iterations:</th>          <td>6</td>        <th>                     </th>     <td> </td>   \n",
       "</tr>\n",
       "<tr>\n",
       "  <th>Covariance Type:</th>     <td>nonrobust</td>    <th>                     </th>     <td> </td>   \n",
       "</tr>\n",
       "</table>\n",
       "<table class=\"simpletable\">\n",
       "<tr>\n",
       "         <td></td>            <th>coef</th>     <th>std err</th>      <th>z</th>      <th>P>|z|</th>  <th>[0.025</th>    <th>0.975]</th>  \n",
       "</tr>\n",
       "<tr>\n",
       "  <th>const</th>           <td>    3.7563</td> <td>    0.891</td> <td>    4.214</td> <td> 0.000</td> <td>    2.009</td> <td>    5.503</td>\n",
       "</tr>\n",
       "<tr>\n",
       "  <th>trestbps</th>        <td>   -1.8942</td> <td>    1.059</td> <td>   -1.789</td> <td> 0.074</td> <td>   -3.969</td> <td>    0.181</td>\n",
       "</tr>\n",
       "<tr>\n",
       "  <th>oldpeak</th>         <td>   -2.5700</td> <td>    1.458</td> <td>   -1.762</td> <td> 0.078</td> <td>   -5.428</td> <td>    0.288</td>\n",
       "</tr>\n",
       "<tr>\n",
       "  <th>sex_male</th>        <td>   -1.1607</td> <td>    0.565</td> <td>   -2.053</td> <td> 0.040</td> <td>   -2.269</td> <td>   -0.053</td>\n",
       "</tr>\n",
       "<tr>\n",
       "  <th>cp_cat_1</th>        <td>    0.9816</td> <td>    0.758</td> <td>    1.295</td> <td> 0.195</td> <td>   -0.504</td> <td>    2.467</td>\n",
       "</tr>\n",
       "<tr>\n",
       "  <th>cp_cat_2</th>        <td>    1.8180</td> <td>    0.555</td> <td>    3.273</td> <td> 0.001</td> <td>    0.729</td> <td>    2.907</td>\n",
       "</tr>\n",
       "<tr>\n",
       "  <th>cp_cat_3</th>        <td>    1.5905</td> <td>    0.846</td> <td>    1.881</td> <td> 0.060</td> <td>   -0.067</td> <td>    3.248</td>\n",
       "</tr>\n",
       "<tr>\n",
       "  <th>restecg_val_1</th>   <td>    0.4289</td> <td>    0.453</td> <td>    0.946</td> <td> 0.344</td> <td>   -0.460</td> <td>    1.317</td>\n",
       "</tr>\n",
       "<tr>\n",
       "  <th>exang_yes</th>       <td>   -1.1177</td> <td>    0.524</td> <td>   -2.133</td> <td> 0.033</td> <td>   -2.145</td> <td>   -0.091</td>\n",
       "</tr>\n",
       "<tr>\n",
       "  <th>slope_flat</th>      <td>   -1.1604</td> <td>    0.491</td> <td>   -2.365</td> <td> 0.018</td> <td>   -2.122</td> <td>   -0.199</td>\n",
       "</tr>\n",
       "<tr>\n",
       "  <th>ca_1_ves</th>        <td>   -2.3344</td> <td>    0.556</td> <td>   -4.198</td> <td> 0.000</td> <td>   -3.424</td> <td>   -1.245</td>\n",
       "</tr>\n",
       "<tr>\n",
       "  <th>ca_2_ves</th>        <td>   -2.8404</td> <td>    0.954</td> <td>   -2.978</td> <td> 0.003</td> <td>   -4.710</td> <td>   -0.971</td>\n",
       "</tr>\n",
       "<tr>\n",
       "  <th>ca_3_ves</th>        <td>   -2.8448</td> <td>    1.072</td> <td>   -2.653</td> <td> 0.008</td> <td>   -4.947</td> <td>   -0.743</td>\n",
       "</tr>\n",
       "<tr>\n",
       "  <th>thal_rev_defect</th> <td>   -1.5907</td> <td>    0.468</td> <td>   -3.396</td> <td> 0.001</td> <td>   -2.509</td> <td>   -0.673</td>\n",
       "</tr>\n",
       "</table>"
      ],
      "text/plain": [
       "<class 'statsmodels.iolib.summary.Summary'>\n",
       "\"\"\"\n",
       "                 Generalized Linear Model Regression Results                  \n",
       "==============================================================================\n",
       "Dep. Variable:                 target   No. Observations:                  210\n",
       "Model:                            GLM   Df Residuals:                      196\n",
       "Model Family:                Binomial   Df Model:                           13\n",
       "Link Function:                  logit   Scale:                          1.0000\n",
       "Method:                          IRLS   Log-Likelihood:                -68.869\n",
       "Date:                Sat, 06 Feb 2021   Deviance:                       137.74\n",
       "Time:                        14:32:23   Pearson chi2:                     309.\n",
       "No. Iterations:                     6                                         \n",
       "Covariance Type:            nonrobust                                         \n",
       "===================================================================================\n",
       "                      coef    std err          z      P>|z|      [0.025      0.975]\n",
       "-----------------------------------------------------------------------------------\n",
       "const               3.7563      0.891      4.214      0.000       2.009       5.503\n",
       "trestbps           -1.8942      1.059     -1.789      0.074      -3.969       0.181\n",
       "oldpeak            -2.5700      1.458     -1.762      0.078      -5.428       0.288\n",
       "sex_male           -1.1607      0.565     -2.053      0.040      -2.269      -0.053\n",
       "cp_cat_1            0.9816      0.758      1.295      0.195      -0.504       2.467\n",
       "cp_cat_2            1.8180      0.555      3.273      0.001       0.729       2.907\n",
       "cp_cat_3            1.5905      0.846      1.881      0.060      -0.067       3.248\n",
       "restecg_val_1       0.4289      0.453      0.946      0.344      -0.460       1.317\n",
       "exang_yes          -1.1177      0.524     -2.133      0.033      -2.145      -0.091\n",
       "slope_flat         -1.1604      0.491     -2.365      0.018      -2.122      -0.199\n",
       "ca_1_ves           -2.3344      0.556     -4.198      0.000      -3.424      -1.245\n",
       "ca_2_ves           -2.8404      0.954     -2.978      0.003      -4.710      -0.971\n",
       "ca_3_ves           -2.8448      1.072     -2.653      0.008      -4.947      -0.743\n",
       "thal_rev_defect    -1.5907      0.468     -3.396      0.001      -2.509      -0.673\n",
       "===================================================================================\n",
       "\"\"\""
      ]
     },
     "execution_count": 42,
     "metadata": {},
     "output_type": "execute_result"
    }
   ],
   "source": [
    "# model iteration 4\n",
    "\n",
    "X_train_sm = sm.add_constant(X_train)\n",
    "lm4 = sm.GLM(y_train, X_train_sm, family = sm.families.Binomial())\n",
    "res4 = lm4.fit()\n",
    "res4.summary()"
   ]
  },
  {
   "cell_type": "code",
   "execution_count": 43,
   "metadata": {},
   "outputs": [
    {
     "name": "stdout",
     "output_type": "stream",
     "text": [
      "     target  predict   ID\n",
      "240       0        0  240\n",
      "255       0        0  255\n",
      "73        1        1   73\n",
      "41        1        1   41\n",
      "290       0        0  290\n",
      " \n",
      "accuracy: 0.862\n"
     ]
    }
   ],
   "source": [
    "# Checking accuracy of model\n",
    "\n",
    "# predicting and assigning value 1 if probabiliy is >0.5 else 0\n",
    "y_train_pred = res4.predict(X_train_sm).apply(lambda x: 1 if x>0.5 else 0)   \n",
    "y_train_pred_df = pd.DataFrame({'target':y_train.values, 'predict':y_train_pred})\n",
    "y_train_pred_df['ID'] = y_train.index\n",
    "print(y_train_pred_df.head())\n",
    "\n",
    "print(' ')\n",
    "\n",
    "# Checking model accuracy\n",
    "print('accuracy:', round(accuracy_score(y_train_pred_df.target, y_train_pred_df.predict), 3))"
   ]
  },
  {
   "cell_type": "code",
   "execution_count": 44,
   "metadata": {},
   "outputs": [
    {
     "data": {
      "text/html": [
       "<div>\n",
       "<style scoped>\n",
       "    .dataframe tbody tr th:only-of-type {\n",
       "        vertical-align: middle;\n",
       "    }\n",
       "\n",
       "    .dataframe tbody tr th {\n",
       "        vertical-align: top;\n",
       "    }\n",
       "\n",
       "    .dataframe thead th {\n",
       "        text-align: right;\n",
       "    }\n",
       "</style>\n",
       "<table border=\"1\" class=\"dataframe\">\n",
       "  <thead>\n",
       "    <tr style=\"text-align: right;\">\n",
       "      <th></th>\n",
       "      <th>Features</th>\n",
       "      <th>VIF</th>\n",
       "    </tr>\n",
       "  </thead>\n",
       "  <tbody>\n",
       "    <tr>\n",
       "      <th>0</th>\n",
       "      <td>trestbps</td>\n",
       "      <td>4.02</td>\n",
       "    </tr>\n",
       "    <tr>\n",
       "      <th>2</th>\n",
       "      <td>sex_male</td>\n",
       "      <td>3.45</td>\n",
       "    </tr>\n",
       "    <tr>\n",
       "      <th>1</th>\n",
       "      <td>oldpeak</td>\n",
       "      <td>2.27</td>\n",
       "    </tr>\n",
       "    <tr>\n",
       "      <th>12</th>\n",
       "      <td>thal_rev_defect</td>\n",
       "      <td>2.14</td>\n",
       "    </tr>\n",
       "    <tr>\n",
       "      <th>8</th>\n",
       "      <td>slope_flat</td>\n",
       "      <td>2.13</td>\n",
       "    </tr>\n",
       "    <tr>\n",
       "      <th>6</th>\n",
       "      <td>restecg_val_1</td>\n",
       "      <td>2.01</td>\n",
       "    </tr>\n",
       "    <tr>\n",
       "      <th>7</th>\n",
       "      <td>exang_yes</td>\n",
       "      <td>2.01</td>\n",
       "    </tr>\n",
       "    <tr>\n",
       "      <th>4</th>\n",
       "      <td>cp_cat_2</td>\n",
       "      <td>1.87</td>\n",
       "    </tr>\n",
       "    <tr>\n",
       "      <th>3</th>\n",
       "      <td>cp_cat_1</td>\n",
       "      <td>1.51</td>\n",
       "    </tr>\n",
       "    <tr>\n",
       "      <th>9</th>\n",
       "      <td>ca_1_ves</td>\n",
       "      <td>1.42</td>\n",
       "    </tr>\n",
       "    <tr>\n",
       "      <th>5</th>\n",
       "      <td>cp_cat_3</td>\n",
       "      <td>1.34</td>\n",
       "    </tr>\n",
       "    <tr>\n",
       "      <th>10</th>\n",
       "      <td>ca_2_ves</td>\n",
       "      <td>1.29</td>\n",
       "    </tr>\n",
       "    <tr>\n",
       "      <th>11</th>\n",
       "      <td>ca_3_ves</td>\n",
       "      <td>1.26</td>\n",
       "    </tr>\n",
       "  </tbody>\n",
       "</table>\n",
       "</div>"
      ],
      "text/plain": [
       "           Features   VIF\n",
       "0          trestbps  4.02\n",
       "2          sex_male  3.45\n",
       "1           oldpeak  2.27\n",
       "12  thal_rev_defect  2.14\n",
       "8        slope_flat  2.13\n",
       "6     restecg_val_1  2.01\n",
       "7         exang_yes  2.01\n",
       "4          cp_cat_2  1.87\n",
       "3          cp_cat_1  1.51\n",
       "9          ca_1_ves  1.42\n",
       "5          cp_cat_3  1.34\n",
       "10         ca_2_ves  1.29\n",
       "11         ca_3_ves  1.26"
      ]
     },
     "execution_count": 44,
     "metadata": {},
     "output_type": "execute_result"
    }
   ],
   "source": [
    "get_VIF_table(X_train)"
   ]
  },
  {
   "cell_type": "code",
   "execution_count": 45,
   "metadata": {},
   "outputs": [],
   "source": [
    "# Dropping 'restecg_val_1': higher p value\n",
    "\n",
    "X_train = X_train.drop('restecg_val_1', axis=1)\n",
    "X_test = X_test.drop('restecg_val_1', axis=1)"
   ]
  },
  {
   "cell_type": "code",
   "execution_count": 46,
   "metadata": {},
   "outputs": [
    {
     "data": {
      "text/html": [
       "<table class=\"simpletable\">\n",
       "<caption>Generalized Linear Model Regression Results</caption>\n",
       "<tr>\n",
       "  <th>Dep. Variable:</th>        <td>target</td>      <th>  No. Observations:  </th>  <td>   210</td> \n",
       "</tr>\n",
       "<tr>\n",
       "  <th>Model:</th>                  <td>GLM</td>       <th>  Df Residuals:      </th>  <td>   197</td> \n",
       "</tr>\n",
       "<tr>\n",
       "  <th>Model Family:</th>        <td>Binomial</td>     <th>  Df Model:          </th>  <td>    12</td> \n",
       "</tr>\n",
       "<tr>\n",
       "  <th>Link Function:</th>         <td>logit</td>      <th>  Scale:             </th> <td>  1.0000</td>\n",
       "</tr>\n",
       "<tr>\n",
       "  <th>Method:</th>                <td>IRLS</td>       <th>  Log-Likelihood:    </th> <td> -69.317</td>\n",
       "</tr>\n",
       "<tr>\n",
       "  <th>Date:</th>            <td>Sat, 06 Feb 2021</td> <th>  Deviance:          </th> <td>  138.63</td>\n",
       "</tr>\n",
       "<tr>\n",
       "  <th>Time:</th>                <td>14:32:23</td>     <th>  Pearson chi2:      </th>  <td>  315.</td> \n",
       "</tr>\n",
       "<tr>\n",
       "  <th>No. Iterations:</th>          <td>6</td>        <th>                     </th>     <td> </td>   \n",
       "</tr>\n",
       "<tr>\n",
       "  <th>Covariance Type:</th>     <td>nonrobust</td>    <th>                     </th>     <td> </td>   \n",
       "</tr>\n",
       "</table>\n",
       "<table class=\"simpletable\">\n",
       "<tr>\n",
       "         <td></td>            <th>coef</th>     <th>std err</th>      <th>z</th>      <th>P>|z|</th>  <th>[0.025</th>    <th>0.975]</th>  \n",
       "</tr>\n",
       "<tr>\n",
       "  <th>const</th>           <td>    4.0400</td> <td>    0.848</td> <td>    4.767</td> <td> 0.000</td> <td>    2.379</td> <td>    5.701</td>\n",
       "</tr>\n",
       "<tr>\n",
       "  <th>trestbps</th>        <td>   -1.9919</td> <td>    1.041</td> <td>   -1.913</td> <td> 0.056</td> <td>   -4.033</td> <td>    0.049</td>\n",
       "</tr>\n",
       "<tr>\n",
       "  <th>oldpeak</th>         <td>   -2.5800</td> <td>    1.442</td> <td>   -1.789</td> <td> 0.074</td> <td>   -5.406</td> <td>    0.246</td>\n",
       "</tr>\n",
       "<tr>\n",
       "  <th>sex_male</th>        <td>   -1.1845</td> <td>    0.565</td> <td>   -2.098</td> <td> 0.036</td> <td>   -2.291</td> <td>   -0.078</td>\n",
       "</tr>\n",
       "<tr>\n",
       "  <th>cp_cat_1</th>        <td>    1.0144</td> <td>    0.756</td> <td>    1.341</td> <td> 0.180</td> <td>   -0.468</td> <td>    2.497</td>\n",
       "</tr>\n",
       "<tr>\n",
       "  <th>cp_cat_2</th>        <td>    1.8688</td> <td>    0.554</td> <td>    3.375</td> <td> 0.001</td> <td>    0.783</td> <td>    2.954</td>\n",
       "</tr>\n",
       "<tr>\n",
       "  <th>cp_cat_3</th>        <td>    1.5379</td> <td>    0.832</td> <td>    1.849</td> <td> 0.064</td> <td>   -0.092</td> <td>    3.168</td>\n",
       "</tr>\n",
       "<tr>\n",
       "  <th>exang_yes</th>       <td>   -1.0891</td> <td>    0.520</td> <td>   -2.096</td> <td> 0.036</td> <td>   -2.108</td> <td>   -0.071</td>\n",
       "</tr>\n",
       "<tr>\n",
       "  <th>slope_flat</th>      <td>   -1.2413</td> <td>    0.483</td> <td>   -2.573</td> <td> 0.010</td> <td>   -2.187</td> <td>   -0.296</td>\n",
       "</tr>\n",
       "<tr>\n",
       "  <th>ca_1_ves</th>        <td>   -2.3581</td> <td>    0.556</td> <td>   -4.242</td> <td> 0.000</td> <td>   -3.448</td> <td>   -1.268</td>\n",
       "</tr>\n",
       "<tr>\n",
       "  <th>ca_2_ves</th>        <td>   -2.7427</td> <td>    0.920</td> <td>   -2.981</td> <td> 0.003</td> <td>   -4.546</td> <td>   -0.939</td>\n",
       "</tr>\n",
       "<tr>\n",
       "  <th>ca_3_ves</th>        <td>   -2.9823</td> <td>    1.101</td> <td>   -2.709</td> <td> 0.007</td> <td>   -5.140</td> <td>   -0.825</td>\n",
       "</tr>\n",
       "<tr>\n",
       "  <th>thal_rev_defect</th> <td>   -1.5627</td> <td>    0.465</td> <td>   -3.361</td> <td> 0.001</td> <td>   -2.474</td> <td>   -0.651</td>\n",
       "</tr>\n",
       "</table>"
      ],
      "text/plain": [
       "<class 'statsmodels.iolib.summary.Summary'>\n",
       "\"\"\"\n",
       "                 Generalized Linear Model Regression Results                  \n",
       "==============================================================================\n",
       "Dep. Variable:                 target   No. Observations:                  210\n",
       "Model:                            GLM   Df Residuals:                      197\n",
       "Model Family:                Binomial   Df Model:                           12\n",
       "Link Function:                  logit   Scale:                          1.0000\n",
       "Method:                          IRLS   Log-Likelihood:                -69.317\n",
       "Date:                Sat, 06 Feb 2021   Deviance:                       138.63\n",
       "Time:                        14:32:23   Pearson chi2:                     315.\n",
       "No. Iterations:                     6                                         \n",
       "Covariance Type:            nonrobust                                         \n",
       "===================================================================================\n",
       "                      coef    std err          z      P>|z|      [0.025      0.975]\n",
       "-----------------------------------------------------------------------------------\n",
       "const               4.0400      0.848      4.767      0.000       2.379       5.701\n",
       "trestbps           -1.9919      1.041     -1.913      0.056      -4.033       0.049\n",
       "oldpeak            -2.5800      1.442     -1.789      0.074      -5.406       0.246\n",
       "sex_male           -1.1845      0.565     -2.098      0.036      -2.291      -0.078\n",
       "cp_cat_1            1.0144      0.756      1.341      0.180      -0.468       2.497\n",
       "cp_cat_2            1.8688      0.554      3.375      0.001       0.783       2.954\n",
       "cp_cat_3            1.5379      0.832      1.849      0.064      -0.092       3.168\n",
       "exang_yes          -1.0891      0.520     -2.096      0.036      -2.108      -0.071\n",
       "slope_flat         -1.2413      0.483     -2.573      0.010      -2.187      -0.296\n",
       "ca_1_ves           -2.3581      0.556     -4.242      0.000      -3.448      -1.268\n",
       "ca_2_ves           -2.7427      0.920     -2.981      0.003      -4.546      -0.939\n",
       "ca_3_ves           -2.9823      1.101     -2.709      0.007      -5.140      -0.825\n",
       "thal_rev_defect    -1.5627      0.465     -3.361      0.001      -2.474      -0.651\n",
       "===================================================================================\n",
       "\"\"\""
      ]
     },
     "execution_count": 46,
     "metadata": {},
     "output_type": "execute_result"
    }
   ],
   "source": [
    "# model iteration 5\n",
    "\n",
    "X_train_sm = sm.add_constant(X_train)\n",
    "lm5 = sm.GLM(y_train, X_train_sm, family = sm.families.Binomial())\n",
    "res5 = lm5.fit()\n",
    "res5.summary()"
   ]
  },
  {
   "cell_type": "code",
   "execution_count": 47,
   "metadata": {},
   "outputs": [
    {
     "name": "stdout",
     "output_type": "stream",
     "text": [
      "     target  predict   ID\n",
      "240       0        0  240\n",
      "255       0        0  255\n",
      "73        1        1   73\n",
      "41        1        1   41\n",
      "290       0        0  290\n",
      " \n",
      "accuracy: 0.867\n"
     ]
    }
   ],
   "source": [
    "# Checking accuracy of model\n",
    "\n",
    "# predicting and assigning value 1 if probabiliy is >0.5 else 0\n",
    "y_train_pred = res5.predict(X_train_sm).apply(lambda x: 1 if x>0.5 else 0)   \n",
    "y_train_pred_df = pd.DataFrame({'target':y_train.values, 'predict':y_train_pred})\n",
    "y_train_pred_df['ID'] = y_train.index\n",
    "print(y_train_pred_df.head())\n",
    "\n",
    "print(' ')\n",
    "\n",
    "# Checking model accuracy\n",
    "print('accuracy:', round(accuracy_score(y_train_pred_df.target, y_train_pred_df.predict), 3))"
   ]
  },
  {
   "cell_type": "code",
   "execution_count": 48,
   "metadata": {},
   "outputs": [
    {
     "data": {
      "text/html": [
       "<div>\n",
       "<style scoped>\n",
       "    .dataframe tbody tr th:only-of-type {\n",
       "        vertical-align: middle;\n",
       "    }\n",
       "\n",
       "    .dataframe tbody tr th {\n",
       "        vertical-align: top;\n",
       "    }\n",
       "\n",
       "    .dataframe thead th {\n",
       "        text-align: right;\n",
       "    }\n",
       "</style>\n",
       "<table border=\"1\" class=\"dataframe\">\n",
       "  <thead>\n",
       "    <tr style=\"text-align: right;\">\n",
       "      <th></th>\n",
       "      <th>Features</th>\n",
       "      <th>VIF</th>\n",
       "    </tr>\n",
       "  </thead>\n",
       "  <tbody>\n",
       "    <tr>\n",
       "      <th>0</th>\n",
       "      <td>trestbps</td>\n",
       "      <td>3.94</td>\n",
       "    </tr>\n",
       "    <tr>\n",
       "      <th>2</th>\n",
       "      <td>sex_male</td>\n",
       "      <td>3.35</td>\n",
       "    </tr>\n",
       "    <tr>\n",
       "      <th>1</th>\n",
       "      <td>oldpeak</td>\n",
       "      <td>2.27</td>\n",
       "    </tr>\n",
       "    <tr>\n",
       "      <th>11</th>\n",
       "      <td>thal_rev_defect</td>\n",
       "      <td>2.13</td>\n",
       "    </tr>\n",
       "    <tr>\n",
       "      <th>7</th>\n",
       "      <td>slope_flat</td>\n",
       "      <td>2.11</td>\n",
       "    </tr>\n",
       "    <tr>\n",
       "      <th>6</th>\n",
       "      <td>exang_yes</td>\n",
       "      <td>1.99</td>\n",
       "    </tr>\n",
       "    <tr>\n",
       "      <th>4</th>\n",
       "      <td>cp_cat_2</td>\n",
       "      <td>1.72</td>\n",
       "    </tr>\n",
       "    <tr>\n",
       "      <th>3</th>\n",
       "      <td>cp_cat_1</td>\n",
       "      <td>1.43</td>\n",
       "    </tr>\n",
       "    <tr>\n",
       "      <th>8</th>\n",
       "      <td>ca_1_ves</td>\n",
       "      <td>1.42</td>\n",
       "    </tr>\n",
       "    <tr>\n",
       "      <th>5</th>\n",
       "      <td>cp_cat_3</td>\n",
       "      <td>1.34</td>\n",
       "    </tr>\n",
       "    <tr>\n",
       "      <th>9</th>\n",
       "      <td>ca_2_ves</td>\n",
       "      <td>1.28</td>\n",
       "    </tr>\n",
       "    <tr>\n",
       "      <th>10</th>\n",
       "      <td>ca_3_ves</td>\n",
       "      <td>1.25</td>\n",
       "    </tr>\n",
       "  </tbody>\n",
       "</table>\n",
       "</div>"
      ],
      "text/plain": [
       "           Features   VIF\n",
       "0          trestbps  3.94\n",
       "2          sex_male  3.35\n",
       "1           oldpeak  2.27\n",
       "11  thal_rev_defect  2.13\n",
       "7        slope_flat  2.11\n",
       "6         exang_yes  1.99\n",
       "4          cp_cat_2  1.72\n",
       "3          cp_cat_1  1.43\n",
       "8          ca_1_ves  1.42\n",
       "5          cp_cat_3  1.34\n",
       "9          ca_2_ves  1.28\n",
       "10         ca_3_ves  1.25"
      ]
     },
     "execution_count": 48,
     "metadata": {},
     "output_type": "execute_result"
    }
   ],
   "source": [
    "get_VIF_table(X_train)"
   ]
  },
  {
   "cell_type": "code",
   "execution_count": 49,
   "metadata": {},
   "outputs": [],
   "source": [
    "# Dropping 'cp_cat_1': higher p value\n",
    "\n",
    "X_train = X_train.drop('cp_cat_1', axis=1)\n",
    "X_test = X_test.drop('cp_cat_1', axis=1)"
   ]
  },
  {
   "cell_type": "code",
   "execution_count": 50,
   "metadata": {
    "scrolled": false
   },
   "outputs": [
    {
     "data": {
      "text/html": [
       "<table class=\"simpletable\">\n",
       "<caption>Generalized Linear Model Regression Results</caption>\n",
       "<tr>\n",
       "  <th>Dep. Variable:</th>        <td>target</td>      <th>  No. Observations:  </th>  <td>   210</td> \n",
       "</tr>\n",
       "<tr>\n",
       "  <th>Model:</th>                  <td>GLM</td>       <th>  Df Residuals:      </th>  <td>   198</td> \n",
       "</tr>\n",
       "<tr>\n",
       "  <th>Model Family:</th>        <td>Binomial</td>     <th>  Df Model:          </th>  <td>    11</td> \n",
       "</tr>\n",
       "<tr>\n",
       "  <th>Link Function:</th>         <td>logit</td>      <th>  Scale:             </th> <td>  1.0000</td>\n",
       "</tr>\n",
       "<tr>\n",
       "  <th>Method:</th>                <td>IRLS</td>       <th>  Log-Likelihood:    </th> <td> -70.280</td>\n",
       "</tr>\n",
       "<tr>\n",
       "  <th>Date:</th>            <td>Sat, 06 Feb 2021</td> <th>  Deviance:          </th> <td>  140.56</td>\n",
       "</tr>\n",
       "<tr>\n",
       "  <th>Time:</th>                <td>14:32:24</td>     <th>  Pearson chi2:      </th>  <td>  345.</td> \n",
       "</tr>\n",
       "<tr>\n",
       "  <th>No. Iterations:</th>          <td>6</td>        <th>                     </th>     <td> </td>   \n",
       "</tr>\n",
       "<tr>\n",
       "  <th>Covariance Type:</th>     <td>nonrobust</td>    <th>                     </th>     <td> </td>   \n",
       "</tr>\n",
       "</table>\n",
       "<table class=\"simpletable\">\n",
       "<tr>\n",
       "         <td></td>            <th>coef</th>     <th>std err</th>      <th>z</th>      <th>P>|z|</th>  <th>[0.025</th>    <th>0.975]</th>  \n",
       "</tr>\n",
       "<tr>\n",
       "  <th>const</th>           <td>    4.3920</td> <td>    0.826</td> <td>    5.318</td> <td> 0.000</td> <td>    2.773</td> <td>    6.011</td>\n",
       "</tr>\n",
       "<tr>\n",
       "  <th>trestbps</th>        <td>   -2.0430</td> <td>    1.048</td> <td>   -1.950</td> <td> 0.051</td> <td>   -4.097</td> <td>    0.011</td>\n",
       "</tr>\n",
       "<tr>\n",
       "  <th>oldpeak</th>         <td>   -2.9080</td> <td>    1.435</td> <td>   -2.027</td> <td> 0.043</td> <td>   -5.720</td> <td>   -0.096</td>\n",
       "</tr>\n",
       "<tr>\n",
       "  <th>sex_male</th>        <td>   -1.0913</td> <td>    0.561</td> <td>   -1.945</td> <td> 0.052</td> <td>   -2.191</td> <td>    0.008</td>\n",
       "</tr>\n",
       "<tr>\n",
       "  <th>cp_cat_2</th>        <td>    1.6368</td> <td>    0.532</td> <td>    3.078</td> <td> 0.002</td> <td>    0.594</td> <td>    2.679</td>\n",
       "</tr>\n",
       "<tr>\n",
       "  <th>cp_cat_3</th>        <td>    1.3206</td> <td>    0.814</td> <td>    1.623</td> <td> 0.105</td> <td>   -0.274</td> <td>    2.916</td>\n",
       "</tr>\n",
       "<tr>\n",
       "  <th>exang_yes</th>       <td>   -1.2791</td> <td>    0.500</td> <td>   -2.556</td> <td> 0.011</td> <td>   -2.260</td> <td>   -0.298</td>\n",
       "</tr>\n",
       "<tr>\n",
       "  <th>slope_flat</th>      <td>   -1.2744</td> <td>    0.479</td> <td>   -2.662</td> <td> 0.008</td> <td>   -2.213</td> <td>   -0.336</td>\n",
       "</tr>\n",
       "<tr>\n",
       "  <th>ca_1_ves</th>        <td>   -2.3742</td> <td>    0.555</td> <td>   -4.280</td> <td> 0.000</td> <td>   -3.461</td> <td>   -1.287</td>\n",
       "</tr>\n",
       "<tr>\n",
       "  <th>ca_2_ves</th>        <td>   -2.9189</td> <td>    0.912</td> <td>   -3.202</td> <td> 0.001</td> <td>   -4.706</td> <td>   -1.132</td>\n",
       "</tr>\n",
       "<tr>\n",
       "  <th>ca_3_ves</th>        <td>   -3.1300</td> <td>    1.112</td> <td>   -2.815</td> <td> 0.005</td> <td>   -5.309</td> <td>   -0.951</td>\n",
       "</tr>\n",
       "<tr>\n",
       "  <th>thal_rev_defect</th> <td>   -1.6320</td> <td>    0.457</td> <td>   -3.569</td> <td> 0.000</td> <td>   -2.528</td> <td>   -0.736</td>\n",
       "</tr>\n",
       "</table>"
      ],
      "text/plain": [
       "<class 'statsmodels.iolib.summary.Summary'>\n",
       "\"\"\"\n",
       "                 Generalized Linear Model Regression Results                  \n",
       "==============================================================================\n",
       "Dep. Variable:                 target   No. Observations:                  210\n",
       "Model:                            GLM   Df Residuals:                      198\n",
       "Model Family:                Binomial   Df Model:                           11\n",
       "Link Function:                  logit   Scale:                          1.0000\n",
       "Method:                          IRLS   Log-Likelihood:                -70.280\n",
       "Date:                Sat, 06 Feb 2021   Deviance:                       140.56\n",
       "Time:                        14:32:24   Pearson chi2:                     345.\n",
       "No. Iterations:                     6                                         \n",
       "Covariance Type:            nonrobust                                         \n",
       "===================================================================================\n",
       "                      coef    std err          z      P>|z|      [0.025      0.975]\n",
       "-----------------------------------------------------------------------------------\n",
       "const               4.3920      0.826      5.318      0.000       2.773       6.011\n",
       "trestbps           -2.0430      1.048     -1.950      0.051      -4.097       0.011\n",
       "oldpeak            -2.9080      1.435     -2.027      0.043      -5.720      -0.096\n",
       "sex_male           -1.0913      0.561     -1.945      0.052      -2.191       0.008\n",
       "cp_cat_2            1.6368      0.532      3.078      0.002       0.594       2.679\n",
       "cp_cat_3            1.3206      0.814      1.623      0.105      -0.274       2.916\n",
       "exang_yes          -1.2791      0.500     -2.556      0.011      -2.260      -0.298\n",
       "slope_flat         -1.2744      0.479     -2.662      0.008      -2.213      -0.336\n",
       "ca_1_ves           -2.3742      0.555     -4.280      0.000      -3.461      -1.287\n",
       "ca_2_ves           -2.9189      0.912     -3.202      0.001      -4.706      -1.132\n",
       "ca_3_ves           -3.1300      1.112     -2.815      0.005      -5.309      -0.951\n",
       "thal_rev_defect    -1.6320      0.457     -3.569      0.000      -2.528      -0.736\n",
       "===================================================================================\n",
       "\"\"\""
      ]
     },
     "execution_count": 50,
     "metadata": {},
     "output_type": "execute_result"
    }
   ],
   "source": [
    "# model iteration 6\n",
    "\n",
    "X_train_sm = sm.add_constant(X_train)\n",
    "lm6 = sm.GLM(y_train, X_train_sm, family = sm.families.Binomial())\n",
    "res6 = lm6.fit()\n",
    "res6.summary()"
   ]
  },
  {
   "cell_type": "code",
   "execution_count": 51,
   "metadata": {},
   "outputs": [
    {
     "name": "stdout",
     "output_type": "stream",
     "text": [
      "     target  predict   ID\n",
      "240       0        0  240\n",
      "255       0        0  255\n",
      "73        1        1   73\n",
      "41        1        1   41\n",
      "290       0        0  290\n",
      " \n",
      "accuracy: 0.862\n"
     ]
    }
   ],
   "source": [
    "# Checking accuracy of model\n",
    "\n",
    "# predicting and assigning value 1 if probabiliy is >0.5 else 0\n",
    "y_train_pred = res6.predict(X_train_sm).apply(lambda x: 1 if x>0.5 else 0)   \n",
    "y_train_pred_df = pd.DataFrame({'target':y_train.values, 'predict':y_train_pred})\n",
    "y_train_pred_df['ID'] = y_train.index\n",
    "print(y_train_pred_df.head())\n",
    "\n",
    "print(' ')\n",
    "\n",
    "# Checking model accuracy\n",
    "print('accuracy:', round(accuracy_score(y_train_pred_df.target, y_train_pred_df.predict), 3))"
   ]
  },
  {
   "cell_type": "code",
   "execution_count": 52,
   "metadata": {},
   "outputs": [
    {
     "data": {
      "text/html": [
       "<div>\n",
       "<style scoped>\n",
       "    .dataframe tbody tr th:only-of-type {\n",
       "        vertical-align: middle;\n",
       "    }\n",
       "\n",
       "    .dataframe tbody tr th {\n",
       "        vertical-align: top;\n",
       "    }\n",
       "\n",
       "    .dataframe thead th {\n",
       "        text-align: right;\n",
       "    }\n",
       "</style>\n",
       "<table border=\"1\" class=\"dataframe\">\n",
       "  <thead>\n",
       "    <tr style=\"text-align: right;\">\n",
       "      <th></th>\n",
       "      <th>Features</th>\n",
       "      <th>VIF</th>\n",
       "    </tr>\n",
       "  </thead>\n",
       "  <tbody>\n",
       "    <tr>\n",
       "      <th>0</th>\n",
       "      <td>trestbps</td>\n",
       "      <td>3.64</td>\n",
       "    </tr>\n",
       "    <tr>\n",
       "      <th>2</th>\n",
       "      <td>sex_male</td>\n",
       "      <td>2.88</td>\n",
       "    </tr>\n",
       "    <tr>\n",
       "      <th>1</th>\n",
       "      <td>oldpeak</td>\n",
       "      <td>2.24</td>\n",
       "    </tr>\n",
       "    <tr>\n",
       "      <th>6</th>\n",
       "      <td>slope_flat</td>\n",
       "      <td>2.11</td>\n",
       "    </tr>\n",
       "    <tr>\n",
       "      <th>10</th>\n",
       "      <td>thal_rev_defect</td>\n",
       "      <td>2.10</td>\n",
       "    </tr>\n",
       "    <tr>\n",
       "      <th>5</th>\n",
       "      <td>exang_yes</td>\n",
       "      <td>1.89</td>\n",
       "    </tr>\n",
       "    <tr>\n",
       "      <th>3</th>\n",
       "      <td>cp_cat_2</td>\n",
       "      <td>1.54</td>\n",
       "    </tr>\n",
       "    <tr>\n",
       "      <th>7</th>\n",
       "      <td>ca_1_ves</td>\n",
       "      <td>1.42</td>\n",
       "    </tr>\n",
       "    <tr>\n",
       "      <th>4</th>\n",
       "      <td>cp_cat_3</td>\n",
       "      <td>1.27</td>\n",
       "    </tr>\n",
       "    <tr>\n",
       "      <th>8</th>\n",
       "      <td>ca_2_ves</td>\n",
       "      <td>1.26</td>\n",
       "    </tr>\n",
       "    <tr>\n",
       "      <th>9</th>\n",
       "      <td>ca_3_ves</td>\n",
       "      <td>1.24</td>\n",
       "    </tr>\n",
       "  </tbody>\n",
       "</table>\n",
       "</div>"
      ],
      "text/plain": [
       "           Features   VIF\n",
       "0          trestbps  3.64\n",
       "2          sex_male  2.88\n",
       "1           oldpeak  2.24\n",
       "6        slope_flat  2.11\n",
       "10  thal_rev_defect  2.10\n",
       "5         exang_yes  1.89\n",
       "3          cp_cat_2  1.54\n",
       "7          ca_1_ves  1.42\n",
       "4          cp_cat_3  1.27\n",
       "8          ca_2_ves  1.26\n",
       "9          ca_3_ves  1.24"
      ]
     },
     "execution_count": 52,
     "metadata": {},
     "output_type": "execute_result"
    }
   ],
   "source": [
    "get_VIF_table(X_train)"
   ]
  },
  {
   "cell_type": "code",
   "execution_count": 53,
   "metadata": {},
   "outputs": [],
   "source": [
    "# Dropping 'cp_cat_3': higher p value\n",
    "\n",
    "X_train = X_train.drop('cp_cat_3', axis=1)\n",
    "X_test = X_test.drop('cp_cat_3', axis=1)"
   ]
  },
  {
   "cell_type": "code",
   "execution_count": 54,
   "metadata": {},
   "outputs": [
    {
     "data": {
      "text/html": [
       "<table class=\"simpletable\">\n",
       "<caption>Generalized Linear Model Regression Results</caption>\n",
       "<tr>\n",
       "  <th>Dep. Variable:</th>        <td>target</td>      <th>  No. Observations:  </th>  <td>   210</td> \n",
       "</tr>\n",
       "<tr>\n",
       "  <th>Model:</th>                  <td>GLM</td>       <th>  Df Residuals:      </th>  <td>   199</td> \n",
       "</tr>\n",
       "<tr>\n",
       "  <th>Model Family:</th>        <td>Binomial</td>     <th>  Df Model:          </th>  <td>    10</td> \n",
       "</tr>\n",
       "<tr>\n",
       "  <th>Link Function:</th>         <td>logit</td>      <th>  Scale:             </th> <td>  1.0000</td>\n",
       "</tr>\n",
       "<tr>\n",
       "  <th>Method:</th>                <td>IRLS</td>       <th>  Log-Likelihood:    </th> <td> -71.667</td>\n",
       "</tr>\n",
       "<tr>\n",
       "  <th>Date:</th>            <td>Sat, 06 Feb 2021</td> <th>  Deviance:          </th> <td>  143.33</td>\n",
       "</tr>\n",
       "<tr>\n",
       "  <th>Time:</th>                <td>14:32:24</td>     <th>  Pearson chi2:      </th>  <td>  313.</td> \n",
       "</tr>\n",
       "<tr>\n",
       "  <th>No. Iterations:</th>          <td>6</td>        <th>                     </th>     <td> </td>   \n",
       "</tr>\n",
       "<tr>\n",
       "  <th>Covariance Type:</th>     <td>nonrobust</td>    <th>                     </th>     <td> </td>   \n",
       "</tr>\n",
       "</table>\n",
       "<table class=\"simpletable\">\n",
       "<tr>\n",
       "         <td></td>            <th>coef</th>     <th>std err</th>      <th>z</th>      <th>P>|z|</th>  <th>[0.025</th>    <th>0.975]</th>  \n",
       "</tr>\n",
       "<tr>\n",
       "  <th>const</th>           <td>    4.1889</td> <td>    0.800</td> <td>    5.236</td> <td> 0.000</td> <td>    2.621</td> <td>    5.757</td>\n",
       "</tr>\n",
       "<tr>\n",
       "  <th>trestbps</th>        <td>   -1.6355</td> <td>    1.008</td> <td>   -1.623</td> <td> 0.105</td> <td>   -3.611</td> <td>    0.340</td>\n",
       "</tr>\n",
       "<tr>\n",
       "  <th>oldpeak</th>         <td>   -2.6097</td> <td>    1.405</td> <td>   -1.858</td> <td> 0.063</td> <td>   -5.363</td> <td>    0.143</td>\n",
       "</tr>\n",
       "<tr>\n",
       "  <th>sex_male</th>        <td>   -0.9195</td> <td>    0.538</td> <td>   -1.708</td> <td> 0.088</td> <td>   -1.974</td> <td>    0.135</td>\n",
       "</tr>\n",
       "<tr>\n",
       "  <th>cp_cat_2</th>        <td>    1.4184</td> <td>    0.508</td> <td>    2.790</td> <td> 0.005</td> <td>    0.422</td> <td>    2.415</td>\n",
       "</tr>\n",
       "<tr>\n",
       "  <th>exang_yes</th>       <td>   -1.4406</td> <td>    0.486</td> <td>   -2.967</td> <td> 0.003</td> <td>   -2.392</td> <td>   -0.489</td>\n",
       "</tr>\n",
       "<tr>\n",
       "  <th>slope_flat</th>      <td>   -1.1131</td> <td>    0.459</td> <td>   -2.425</td> <td> 0.015</td> <td>   -2.013</td> <td>   -0.214</td>\n",
       "</tr>\n",
       "<tr>\n",
       "  <th>ca_1_ves</th>        <td>   -2.3334</td> <td>    0.552</td> <td>   -4.225</td> <td> 0.000</td> <td>   -3.416</td> <td>   -1.251</td>\n",
       "</tr>\n",
       "<tr>\n",
       "  <th>ca_2_ves</th>        <td>   -2.4637</td> <td>    0.787</td> <td>   -3.129</td> <td> 0.002</td> <td>   -4.007</td> <td>   -0.921</td>\n",
       "</tr>\n",
       "<tr>\n",
       "  <th>ca_3_ves</th>        <td>   -3.1696</td> <td>    1.076</td> <td>   -2.946</td> <td> 0.003</td> <td>   -5.278</td> <td>   -1.061</td>\n",
       "</tr>\n",
       "<tr>\n",
       "  <th>thal_rev_defect</th> <td>   -1.6584</td> <td>    0.451</td> <td>   -3.676</td> <td> 0.000</td> <td>   -2.543</td> <td>   -0.774</td>\n",
       "</tr>\n",
       "</table>"
      ],
      "text/plain": [
       "<class 'statsmodels.iolib.summary.Summary'>\n",
       "\"\"\"\n",
       "                 Generalized Linear Model Regression Results                  \n",
       "==============================================================================\n",
       "Dep. Variable:                 target   No. Observations:                  210\n",
       "Model:                            GLM   Df Residuals:                      199\n",
       "Model Family:                Binomial   Df Model:                           10\n",
       "Link Function:                  logit   Scale:                          1.0000\n",
       "Method:                          IRLS   Log-Likelihood:                -71.667\n",
       "Date:                Sat, 06 Feb 2021   Deviance:                       143.33\n",
       "Time:                        14:32:24   Pearson chi2:                     313.\n",
       "No. Iterations:                     6                                         \n",
       "Covariance Type:            nonrobust                                         \n",
       "===================================================================================\n",
       "                      coef    std err          z      P>|z|      [0.025      0.975]\n",
       "-----------------------------------------------------------------------------------\n",
       "const               4.1889      0.800      5.236      0.000       2.621       5.757\n",
       "trestbps           -1.6355      1.008     -1.623      0.105      -3.611       0.340\n",
       "oldpeak            -2.6097      1.405     -1.858      0.063      -5.363       0.143\n",
       "sex_male           -0.9195      0.538     -1.708      0.088      -1.974       0.135\n",
       "cp_cat_2            1.4184      0.508      2.790      0.005       0.422       2.415\n",
       "exang_yes          -1.4406      0.486     -2.967      0.003      -2.392      -0.489\n",
       "slope_flat         -1.1131      0.459     -2.425      0.015      -2.013      -0.214\n",
       "ca_1_ves           -2.3334      0.552     -4.225      0.000      -3.416      -1.251\n",
       "ca_2_ves           -2.4637      0.787     -3.129      0.002      -4.007      -0.921\n",
       "ca_3_ves           -3.1696      1.076     -2.946      0.003      -5.278      -1.061\n",
       "thal_rev_defect    -1.6584      0.451     -3.676      0.000      -2.543      -0.774\n",
       "===================================================================================\n",
       "\"\"\""
      ]
     },
     "execution_count": 54,
     "metadata": {},
     "output_type": "execute_result"
    }
   ],
   "source": [
    "# model iteration 7\n",
    "\n",
    "X_train_sm = sm.add_constant(X_train)\n",
    "lm7 = sm.GLM(y_train, X_train_sm, family = sm.families.Binomial())\n",
    "res7 = lm7.fit()\n",
    "res7.summary()"
   ]
  },
  {
   "cell_type": "code",
   "execution_count": 55,
   "metadata": {},
   "outputs": [
    {
     "name": "stdout",
     "output_type": "stream",
     "text": [
      "     target  predict   ID\n",
      "240       0        0  240\n",
      "255       0        0  255\n",
      "73        1        1   73\n",
      "41        1        1   41\n",
      "290       0        0  290\n",
      " \n",
      "accuracy: 0.852\n"
     ]
    }
   ],
   "source": [
    "# Checking accuracy of model\n",
    "\n",
    "# predicting and assigning value 1 if probabiliy is >0.5 else 0\n",
    "y_train_pred = res7.predict(X_train_sm).apply(lambda x: 1 if x>0.5 else 0)   \n",
    "y_train_pred_df = pd.DataFrame({'target':y_train.values, 'predict':y_train_pred})\n",
    "y_train_pred_df['ID'] = y_train.index\n",
    "print(y_train_pred_df.head())\n",
    "\n",
    "print(' ')\n",
    "\n",
    "# Checking model accuracy\n",
    "print('accuracy:', round(accuracy_score(y_train_pred_df.target, y_train_pred_df.predict), 3))"
   ]
  },
  {
   "cell_type": "code",
   "execution_count": 56,
   "metadata": {},
   "outputs": [
    {
     "data": {
      "text/html": [
       "<div>\n",
       "<style scoped>\n",
       "    .dataframe tbody tr th:only-of-type {\n",
       "        vertical-align: middle;\n",
       "    }\n",
       "\n",
       "    .dataframe tbody tr th {\n",
       "        vertical-align: top;\n",
       "    }\n",
       "\n",
       "    .dataframe thead th {\n",
       "        text-align: right;\n",
       "    }\n",
       "</style>\n",
       "<table border=\"1\" class=\"dataframe\">\n",
       "  <thead>\n",
       "    <tr style=\"text-align: right;\">\n",
       "      <th></th>\n",
       "      <th>Features</th>\n",
       "      <th>VIF</th>\n",
       "    </tr>\n",
       "  </thead>\n",
       "  <tbody>\n",
       "    <tr>\n",
       "      <th>0</th>\n",
       "      <td>trestbps</td>\n",
       "      <td>3.46</td>\n",
       "    </tr>\n",
       "    <tr>\n",
       "      <th>2</th>\n",
       "      <td>sex_male</td>\n",
       "      <td>2.82</td>\n",
       "    </tr>\n",
       "    <tr>\n",
       "      <th>1</th>\n",
       "      <td>oldpeak</td>\n",
       "      <td>2.23</td>\n",
       "    </tr>\n",
       "    <tr>\n",
       "      <th>5</th>\n",
       "      <td>slope_flat</td>\n",
       "      <td>2.09</td>\n",
       "    </tr>\n",
       "    <tr>\n",
       "      <th>9</th>\n",
       "      <td>thal_rev_defect</td>\n",
       "      <td>2.08</td>\n",
       "    </tr>\n",
       "    <tr>\n",
       "      <th>4</th>\n",
       "      <td>exang_yes</td>\n",
       "      <td>1.79</td>\n",
       "    </tr>\n",
       "    <tr>\n",
       "      <th>3</th>\n",
       "      <td>cp_cat_2</td>\n",
       "      <td>1.45</td>\n",
       "    </tr>\n",
       "    <tr>\n",
       "      <th>6</th>\n",
       "      <td>ca_1_ves</td>\n",
       "      <td>1.42</td>\n",
       "    </tr>\n",
       "    <tr>\n",
       "      <th>7</th>\n",
       "      <td>ca_2_ves</td>\n",
       "      <td>1.25</td>\n",
       "    </tr>\n",
       "    <tr>\n",
       "      <th>8</th>\n",
       "      <td>ca_3_ves</td>\n",
       "      <td>1.23</td>\n",
       "    </tr>\n",
       "  </tbody>\n",
       "</table>\n",
       "</div>"
      ],
      "text/plain": [
       "          Features   VIF\n",
       "0         trestbps  3.46\n",
       "2         sex_male  2.82\n",
       "1          oldpeak  2.23\n",
       "5       slope_flat  2.09\n",
       "9  thal_rev_defect  2.08\n",
       "4        exang_yes  1.79\n",
       "3         cp_cat_2  1.45\n",
       "6         ca_1_ves  1.42\n",
       "7         ca_2_ves  1.25\n",
       "8         ca_3_ves  1.23"
      ]
     },
     "execution_count": 56,
     "metadata": {},
     "output_type": "execute_result"
    }
   ],
   "source": [
    "get_VIF_table(X_train)"
   ]
  },
  {
   "cell_type": "markdown",
   "metadata": {},
   "source": [
    "Observation,\n",
    "- VIF of each feature is below 5 that means all the features are independent.\n",
    "- p values for most of the feature is belowe 0.05 except a few which are not quite far from 0.05.\n",
    "- We would proceed with these feature set to check the model performance on other matrices."
   ]
  },
  {
   "cell_type": "markdown",
   "metadata": {},
   "source": [
    "#### Confusion Matrix"
   ]
  },
  {
   "cell_type": "code",
   "execution_count": 57,
   "metadata": {},
   "outputs": [
    {
     "data": {
      "text/plain": [
       "array([[ 79,  17],\n",
       "       [ 14, 100]])"
      ]
     },
     "execution_count": 57,
     "metadata": {},
     "output_type": "execute_result"
    }
   ],
   "source": [
    "# Confusion Matrix\n",
    "\n",
    "cm = confusion_matrix(y_train, y_train_pred)\n",
    "cm"
   ]
  },
  {
   "cell_type": "code",
   "execution_count": 58,
   "metadata": {},
   "outputs": [
    {
     "name": "stdout",
     "output_type": "stream",
     "text": [
      "sensitivity: 0.88\n",
      "specificity: 0.82\n",
      "precision: 0.85\n",
      "Recall: 0.88\n"
     ]
    }
   ],
   "source": [
    "TP = cm[1,1] # true positive \n",
    "TN = cm[0,0] # true negatives\n",
    "FP = cm[0,1] # false positives\n",
    "FN = cm[1,0] # false negatives\n",
    "\n",
    "\n",
    "# sensitivity \n",
    "print('sensitivity:', round(TP / float(TP+FN),2))\n",
    "\n",
    "\n",
    "# specificity\n",
    "print('specificity:', round(TN / float(TN+FP),2))\n",
    "\n",
    "#precision\n",
    "print('precision:', round(TP/float(TP+FP),2))\n",
    "\n",
    "# recall\n",
    "print('Recall:', round(TP / float(TP+FN),2))"
   ]
  },
  {
   "cell_type": "markdown",
   "metadata": {},
   "source": [
    "#### Sensitivity Vs Specificity and Precision Vs Recall Trade-offs"
   ]
  },
  {
   "cell_type": "code",
   "execution_count": 59,
   "metadata": {
    "scrolled": false
   },
   "outputs": [
    {
     "data": {
      "text/html": [
       "<div>\n",
       "<style scoped>\n",
       "    .dataframe tbody tr th:only-of-type {\n",
       "        vertical-align: middle;\n",
       "    }\n",
       "\n",
       "    .dataframe tbody tr th {\n",
       "        vertical-align: top;\n",
       "    }\n",
       "\n",
       "    .dataframe thead th {\n",
       "        text-align: right;\n",
       "    }\n",
       "</style>\n",
       "<table border=\"1\" class=\"dataframe\">\n",
       "  <thead>\n",
       "    <tr style=\"text-align: right;\">\n",
       "      <th></th>\n",
       "      <th>target</th>\n",
       "      <th>prob</th>\n",
       "      <th>0.1</th>\n",
       "      <th>0.2</th>\n",
       "      <th>0.3</th>\n",
       "      <th>0.4</th>\n",
       "      <th>0.5</th>\n",
       "      <th>0.6</th>\n",
       "      <th>0.7</th>\n",
       "      <th>0.8</th>\n",
       "      <th>0.9</th>\n",
       "    </tr>\n",
       "  </thead>\n",
       "  <tbody>\n",
       "    <tr>\n",
       "      <th>240</th>\n",
       "      <td>0</td>\n",
       "      <td>0.012953</td>\n",
       "      <td>0</td>\n",
       "      <td>0</td>\n",
       "      <td>0</td>\n",
       "      <td>0</td>\n",
       "      <td>0</td>\n",
       "      <td>0</td>\n",
       "      <td>0</td>\n",
       "      <td>0</td>\n",
       "      <td>0</td>\n",
       "    </tr>\n",
       "    <tr>\n",
       "      <th>255</th>\n",
       "      <td>0</td>\n",
       "      <td>0.006528</td>\n",
       "      <td>0</td>\n",
       "      <td>0</td>\n",
       "      <td>0</td>\n",
       "      <td>0</td>\n",
       "      <td>0</td>\n",
       "      <td>0</td>\n",
       "      <td>0</td>\n",
       "      <td>0</td>\n",
       "      <td>0</td>\n",
       "    </tr>\n",
       "    <tr>\n",
       "      <th>73</th>\n",
       "      <td>1</td>\n",
       "      <td>0.721934</td>\n",
       "      <td>1</td>\n",
       "      <td>1</td>\n",
       "      <td>1</td>\n",
       "      <td>1</td>\n",
       "      <td>1</td>\n",
       "      <td>1</td>\n",
       "      <td>1</td>\n",
       "      <td>0</td>\n",
       "      <td>0</td>\n",
       "    </tr>\n",
       "    <tr>\n",
       "      <th>41</th>\n",
       "      <td>1</td>\n",
       "      <td>0.800193</td>\n",
       "      <td>1</td>\n",
       "      <td>1</td>\n",
       "      <td>1</td>\n",
       "      <td>1</td>\n",
       "      <td>1</td>\n",
       "      <td>1</td>\n",
       "      <td>1</td>\n",
       "      <td>1</td>\n",
       "      <td>0</td>\n",
       "    </tr>\n",
       "    <tr>\n",
       "      <th>290</th>\n",
       "      <td>0</td>\n",
       "      <td>0.148145</td>\n",
       "      <td>1</td>\n",
       "      <td>0</td>\n",
       "      <td>0</td>\n",
       "      <td>0</td>\n",
       "      <td>0</td>\n",
       "      <td>0</td>\n",
       "      <td>0</td>\n",
       "      <td>0</td>\n",
       "      <td>0</td>\n",
       "    </tr>\n",
       "    <tr>\n",
       "      <th>...</th>\n",
       "      <td>...</td>\n",
       "      <td>...</td>\n",
       "      <td>...</td>\n",
       "      <td>...</td>\n",
       "      <td>...</td>\n",
       "      <td>...</td>\n",
       "      <td>...</td>\n",
       "      <td>...</td>\n",
       "      <td>...</td>\n",
       "      <td>...</td>\n",
       "      <td>...</td>\n",
       "    </tr>\n",
       "    <tr>\n",
       "      <th>201</th>\n",
       "      <td>0</td>\n",
       "      <td>0.006406</td>\n",
       "      <td>0</td>\n",
       "      <td>0</td>\n",
       "      <td>0</td>\n",
       "      <td>0</td>\n",
       "      <td>0</td>\n",
       "      <td>0</td>\n",
       "      <td>0</td>\n",
       "      <td>0</td>\n",
       "      <td>0</td>\n",
       "    </tr>\n",
       "    <tr>\n",
       "      <th>18</th>\n",
       "      <td>1</td>\n",
       "      <td>0.828225</td>\n",
       "      <td>1</td>\n",
       "      <td>1</td>\n",
       "      <td>1</td>\n",
       "      <td>1</td>\n",
       "      <td>1</td>\n",
       "      <td>1</td>\n",
       "      <td>1</td>\n",
       "      <td>1</td>\n",
       "      <td>0</td>\n",
       "    </tr>\n",
       "    <tr>\n",
       "      <th>264</th>\n",
       "      <td>0</td>\n",
       "      <td>0.127650</td>\n",
       "      <td>1</td>\n",
       "      <td>0</td>\n",
       "      <td>0</td>\n",
       "      <td>0</td>\n",
       "      <td>0</td>\n",
       "      <td>0</td>\n",
       "      <td>0</td>\n",
       "      <td>0</td>\n",
       "      <td>0</td>\n",
       "    </tr>\n",
       "    <tr>\n",
       "      <th>157</th>\n",
       "      <td>1</td>\n",
       "      <td>0.939172</td>\n",
       "      <td>1</td>\n",
       "      <td>1</td>\n",
       "      <td>1</td>\n",
       "      <td>1</td>\n",
       "      <td>1</td>\n",
       "      <td>1</td>\n",
       "      <td>1</td>\n",
       "      <td>1</td>\n",
       "      <td>1</td>\n",
       "    </tr>\n",
       "    <tr>\n",
       "      <th>55</th>\n",
       "      <td>1</td>\n",
       "      <td>0.459751</td>\n",
       "      <td>1</td>\n",
       "      <td>1</td>\n",
       "      <td>1</td>\n",
       "      <td>1</td>\n",
       "      <td>0</td>\n",
       "      <td>0</td>\n",
       "      <td>0</td>\n",
       "      <td>0</td>\n",
       "      <td>0</td>\n",
       "    </tr>\n",
       "  </tbody>\n",
       "</table>\n",
       "<p>210 rows × 11 columns</p>\n",
       "</div>"
      ],
      "text/plain": [
       "     target      prob  0.1  0.2  0.3  0.4  0.5  0.6  0.7  0.8  0.9\n",
       "240       0  0.012953    0    0    0    0    0    0    0    0    0\n",
       "255       0  0.006528    0    0    0    0    0    0    0    0    0\n",
       "73        1  0.721934    1    1    1    1    1    1    1    0    0\n",
       "41        1  0.800193    1    1    1    1    1    1    1    1    0\n",
       "290       0  0.148145    1    0    0    0    0    0    0    0    0\n",
       "..      ...       ...  ...  ...  ...  ...  ...  ...  ...  ...  ...\n",
       "201       0  0.006406    0    0    0    0    0    0    0    0    0\n",
       "18        1  0.828225    1    1    1    1    1    1    1    1    0\n",
       "264       0  0.127650    1    0    0    0    0    0    0    0    0\n",
       "157       1  0.939172    1    1    1    1    1    1    1    1    1\n",
       "55        1  0.459751    1    1    1    1    0    0    0    0    0\n",
       "\n",
       "[210 rows x 11 columns]"
      ]
     },
     "execution_count": 59,
     "metadata": {},
     "output_type": "execute_result"
    }
   ],
   "source": [
    "proba = [0.1, 0.2, 0.3, 0.4, 0.5, 0.6, 0.7, 0.8, 0.9]\n",
    "\n",
    "\n",
    "train_pred = pd.DataFrame({'target':y_train.values})\n",
    "train_pred.index = y_train.index\n",
    "train_pred['prob'] = res7.predict(X_train_sm)\n",
    "    \n",
    "for i in proba:\n",
    "    train_pred[i] = res7.predict(X_train_sm).apply(lambda x: 1 if x>i else 0)\n",
    "    \n",
    "\n",
    "train_pred\n"
   ]
  },
  {
   "cell_type": "code",
   "execution_count": 60,
   "metadata": {
    "scrolled": true
   },
   "outputs": [],
   "source": [
    "# Tradeoff\n",
    "mat = []\n",
    "for i in proba:\n",
    "    cm = confusion_matrix(train_pred.target, train_pred[i])\n",
    "    acc = (cm[0,0] + cm[1,1])/(cm[0,0] + cm[1,1] + cm[0,1] + cm[1,0])\n",
    "    sens = cm[1,1] / float(cm[1,1]+cm[1,0])\n",
    "    spec = cm[0,0] / float(cm[0,0]+cm[0,1])\n",
    "    prec = cm[1,1] / float(cm[1,1]+cm[0,1])\n",
    "    rec = sens\n",
    "    mat.append([i, acc, sens, spec, prec, rec])\n",
    "    \n",
    "dist = pd.DataFrame(mat, columns=['cut-off','acc', 'sens', 'spec', 'prec', 'rec'])"
   ]
  },
  {
   "cell_type": "code",
   "execution_count": 61,
   "metadata": {},
   "outputs": [
    {
     "data": {
      "text/plain": [
       "<AxesSubplot:xlabel='cut-off'>"
      ]
     },
     "execution_count": 61,
     "metadata": {},
     "output_type": "execute_result"
    },
    {
     "data": {
      "image/png": "[encoded data removed]",
      "text/plain": [
       "<Figure size 432x288 with 1 Axes>"
      ]
     },
     "metadata": {
      "needs_background": "light"
     },
     "output_type": "display_data"
    }
   ],
   "source": [
    "# Sens Vs Spec\n",
    "dist.plot.line(x='cut-off', y=['acc', 'sens', 'spec'])"
   ]
  },
  {
   "cell_type": "code",
   "execution_count": 62,
   "metadata": {},
   "outputs": [
    {
     "data": {
      "text/plain": [
       "<AxesSubplot:xlabel='cut-off'>"
      ]
     },
     "execution_count": 62,
     "metadata": {},
     "output_type": "execute_result"
    },
    {
     "data": {
      "image/png": "[encoded data removed]",
      "text/plain": [
       "<Figure size 432x288 with 1 Axes>"
      ]
     },
     "metadata": {
      "needs_background": "light"
     },
     "output_type": "display_data"
    }
   ],
   "source": [
    "# Prec Vs Recall\n",
    "\n",
    "dist.plot.line(x='cut-off', y=['prec', 'rec'])"
   ]
  },
  {
   "cell_type": "markdown",
   "metadata": {},
   "source": [
    "Observation,\n",
    "- 0.6 is the tradeoff point between sensitivity and specificity.\n",
    "- 0.55 is the tradeoff point between precision and recall.\n",
    "\n",
    "\n",
    "Choice of probability cutoff value dependes upon the problem we are solving.\n",
    "Here we need to detect all the people with heart disease and also avoid falsely detecting healthy people. So, both precision and recall should be high. Hence, we would use prec Vs recall cutoff which is 0.55."
   ]
  },
  {
   "cell_type": "code",
   "execution_count": 63,
   "metadata": {},
   "outputs": [
    {
     "data": {
      "text/html": [
       "<div>\n",
       "<style scoped>\n",
       "    .dataframe tbody tr th:only-of-type {\n",
       "        vertical-align: middle;\n",
       "    }\n",
       "\n",
       "    .dataframe tbody tr th {\n",
       "        vertical-align: top;\n",
       "    }\n",
       "\n",
       "    .dataframe thead th {\n",
       "        text-align: right;\n",
       "    }\n",
       "</style>\n",
       "<table border=\"1\" class=\"dataframe\">\n",
       "  <thead>\n",
       "    <tr style=\"text-align: right;\">\n",
       "      <th></th>\n",
       "      <th>target</th>\n",
       "      <th>prob</th>\n",
       "      <th>0.1</th>\n",
       "      <th>0.2</th>\n",
       "      <th>0.3</th>\n",
       "      <th>0.4</th>\n",
       "      <th>0.5</th>\n",
       "      <th>0.6</th>\n",
       "      <th>0.7</th>\n",
       "      <th>0.8</th>\n",
       "      <th>0.9</th>\n",
       "      <th>prediction</th>\n",
       "    </tr>\n",
       "  </thead>\n",
       "  <tbody>\n",
       "    <tr>\n",
       "      <th>240</th>\n",
       "      <td>0</td>\n",
       "      <td>0.012953</td>\n",
       "      <td>0</td>\n",
       "      <td>0</td>\n",
       "      <td>0</td>\n",
       "      <td>0</td>\n",
       "      <td>0</td>\n",
       "      <td>0</td>\n",
       "      <td>0</td>\n",
       "      <td>0</td>\n",
       "      <td>0</td>\n",
       "      <td>0</td>\n",
       "    </tr>\n",
       "    <tr>\n",
       "      <th>255</th>\n",
       "      <td>0</td>\n",
       "      <td>0.006528</td>\n",
       "      <td>0</td>\n",
       "      <td>0</td>\n",
       "      <td>0</td>\n",
       "      <td>0</td>\n",
       "      <td>0</td>\n",
       "      <td>0</td>\n",
       "      <td>0</td>\n",
       "      <td>0</td>\n",
       "      <td>0</td>\n",
       "      <td>0</td>\n",
       "    </tr>\n",
       "    <tr>\n",
       "      <th>73</th>\n",
       "      <td>1</td>\n",
       "      <td>0.721934</td>\n",
       "      <td>1</td>\n",
       "      <td>1</td>\n",
       "      <td>1</td>\n",
       "      <td>1</td>\n",
       "      <td>1</td>\n",
       "      <td>1</td>\n",
       "      <td>1</td>\n",
       "      <td>0</td>\n",
       "      <td>0</td>\n",
       "      <td>1</td>\n",
       "    </tr>\n",
       "    <tr>\n",
       "      <th>41</th>\n",
       "      <td>1</td>\n",
       "      <td>0.800193</td>\n",
       "      <td>1</td>\n",
       "      <td>1</td>\n",
       "      <td>1</td>\n",
       "      <td>1</td>\n",
       "      <td>1</td>\n",
       "      <td>1</td>\n",
       "      <td>1</td>\n",
       "      <td>1</td>\n",
       "      <td>0</td>\n",
       "      <td>1</td>\n",
       "    </tr>\n",
       "    <tr>\n",
       "      <th>290</th>\n",
       "      <td>0</td>\n",
       "      <td>0.148145</td>\n",
       "      <td>1</td>\n",
       "      <td>0</td>\n",
       "      <td>0</td>\n",
       "      <td>0</td>\n",
       "      <td>0</td>\n",
       "      <td>0</td>\n",
       "      <td>0</td>\n",
       "      <td>0</td>\n",
       "      <td>0</td>\n",
       "      <td>0</td>\n",
       "    </tr>\n",
       "    <tr>\n",
       "      <th>...</th>\n",
       "      <td>...</td>\n",
       "      <td>...</td>\n",
       "      <td>...</td>\n",
       "      <td>...</td>\n",
       "      <td>...</td>\n",
       "      <td>...</td>\n",
       "      <td>...</td>\n",
       "      <td>...</td>\n",
       "      <td>...</td>\n",
       "      <td>...</td>\n",
       "      <td>...</td>\n",
       "      <td>...</td>\n",
       "    </tr>\n",
       "    <tr>\n",
       "      <th>201</th>\n",
       "      <td>0</td>\n",
       "      <td>0.006406</td>\n",
       "      <td>0</td>\n",
       "      <td>0</td>\n",
       "      <td>0</td>\n",
       "      <td>0</td>\n",
       "      <td>0</td>\n",
       "      <td>0</td>\n",
       "      <td>0</td>\n",
       "      <td>0</td>\n",
       "      <td>0</td>\n",
       "      <td>0</td>\n",
       "    </tr>\n",
       "    <tr>\n",
       "      <th>18</th>\n",
       "      <td>1</td>\n",
       "      <td>0.828225</td>\n",
       "      <td>1</td>\n",
       "      <td>1</td>\n",
       "      <td>1</td>\n",
       "      <td>1</td>\n",
       "      <td>1</td>\n",
       "      <td>1</td>\n",
       "      <td>1</td>\n",
       "      <td>1</td>\n",
       "      <td>0</td>\n",
       "      <td>1</td>\n",
       "    </tr>\n",
       "    <tr>\n",
       "      <th>264</th>\n",
       "      <td>0</td>\n",
       "      <td>0.127650</td>\n",
       "      <td>1</td>\n",
       "      <td>0</td>\n",
       "      <td>0</td>\n",
       "      <td>0</td>\n",
       "      <td>0</td>\n",
       "      <td>0</td>\n",
       "      <td>0</td>\n",
       "      <td>0</td>\n",
       "      <td>0</td>\n",
       "      <td>0</td>\n",
       "    </tr>\n",
       "    <tr>\n",
       "      <th>157</th>\n",
       "      <td>1</td>\n",
       "      <td>0.939172</td>\n",
       "      <td>1</td>\n",
       "      <td>1</td>\n",
       "      <td>1</td>\n",
       "      <td>1</td>\n",
       "      <td>1</td>\n",
       "      <td>1</td>\n",
       "      <td>1</td>\n",
       "      <td>1</td>\n",
       "      <td>1</td>\n",
       "      <td>1</td>\n",
       "    </tr>\n",
       "    <tr>\n",
       "      <th>55</th>\n",
       "      <td>1</td>\n",
       "      <td>0.459751</td>\n",
       "      <td>1</td>\n",
       "      <td>1</td>\n",
       "      <td>1</td>\n",
       "      <td>1</td>\n",
       "      <td>0</td>\n",
       "      <td>0</td>\n",
       "      <td>0</td>\n",
       "      <td>0</td>\n",
       "      <td>0</td>\n",
       "      <td>0</td>\n",
       "    </tr>\n",
       "  </tbody>\n",
       "</table>\n",
       "<p>210 rows × 12 columns</p>\n",
       "</div>"
      ],
      "text/plain": [
       "     target      prob  0.1  0.2  0.3  0.4  0.5  0.6  0.7  0.8  0.9  prediction\n",
       "240       0  0.012953    0    0    0    0    0    0    0    0    0           0\n",
       "255       0  0.006528    0    0    0    0    0    0    0    0    0           0\n",
       "73        1  0.721934    1    1    1    1    1    1    1    0    0           1\n",
       "41        1  0.800193    1    1    1    1    1    1    1    1    0           1\n",
       "290       0  0.148145    1    0    0    0    0    0    0    0    0           0\n",
       "..      ...       ...  ...  ...  ...  ...  ...  ...  ...  ...  ...         ...\n",
       "201       0  0.006406    0    0    0    0    0    0    0    0    0           0\n",
       "18        1  0.828225    1    1    1    1    1    1    1    1    0           1\n",
       "264       0  0.127650    1    0    0    0    0    0    0    0    0           0\n",
       "157       1  0.939172    1    1    1    1    1    1    1    1    1           1\n",
       "55        1  0.459751    1    1    1    1    0    0    0    0    0           0\n",
       "\n",
       "[210 rows x 12 columns]"
      ]
     },
     "execution_count": 63,
     "metadata": {},
     "output_type": "execute_result"
    }
   ],
   "source": [
    "# updating the prediction using cut-off probability of 0.55\n",
    "train_pred['prediction'] = res7.predict(X_train_sm).apply(lambda x: 1 if x>0.55 else 0)\n",
    "\n",
    "train_pred"
   ]
  },
  {
   "cell_type": "code",
   "execution_count": 64,
   "metadata": {},
   "outputs": [
    {
     "name": "stdout",
     "output_type": "stream",
     "text": [
      "[[82 14]\n",
      " [16 98]]\n",
      "accuracy: 0.8571428571428571\n",
      "sensitivity/recall: 0.8596491228070176\n",
      "specificity: 0.8541666666666666\n",
      "precision: 0.875\n"
     ]
    }
   ],
   "source": [
    "# updated confusion matrix using cut-off probability of 0.55 \n",
    "cm = confusion_matrix(train_pred.target, train_pred.prediction)\n",
    "print(cm)\n",
    "\n",
    "acc = (cm[0,0] + cm[1,1])/(cm[0,0] + cm[1,1] + cm[0,1] + cm[1,0])\n",
    "sens = cm[1,1] / float(cm[1,1]+cm[1,0])\n",
    "spec = cm[0,0] / float(cm[0,0]+cm[0,1])\n",
    "prec = cm[1,1] / float(cm[1,1]+cm[0,1])\n",
    "rec = sens\n",
    "\n",
    "print('accuracy:',acc)\n",
    "print('sensitivity/recall:',sens)\n",
    "print('specificity:',spec)\n",
    "print('precision:',prec)"
   ]
  },
  {
   "cell_type": "markdown",
   "metadata": {},
   "source": [
    "#### ROC Curve"
   ]
  },
  {
   "cell_type": "markdown",
   "metadata": {},
   "source": [
    "An ROC curve shows:\n",
    "\n",
    "- tradeoff between sensitivity and specificity \n",
    "- The cureve shoud have as high as possible area under it. Hence it should ideally follow closely to y axis and then to top."
   ]
  },
  {
   "cell_type": "code",
   "execution_count": 65,
   "metadata": {},
   "outputs": [
    {
     "data": {
      "text/plain": [
       "<sklearn.metrics._plot.roc_curve.RocCurveDisplay at 0x7fd6637ecdd0>"
      ]
     },
     "execution_count": 65,
     "metadata": {},
     "output_type": "execute_result"
    },
    {
     "data": {
      "image/png": "[encoded data removed]",
      "text/plain": [
       "<Figure size 432x288 with 1 Axes>"
      ]
     },
     "metadata": {
      "needs_background": "light"
     },
     "output_type": "display_data"
    }
   ],
   "source": [
    "# Checking the perfomanrce \n",
    "lm8 = LogisticRegression()\n",
    "lm8.fit(X_train, y_train)\n",
    "plot_roc_curve(lm8, X_train, y_train)"
   ]
  },
  {
   "cell_type": "markdown",
   "metadata": {},
   "source": [
    "Observation,\n",
    "- AUC is having values 0.93 which is quite good performance."
   ]
  },
  {
   "cell_type": "markdown",
   "metadata": {},
   "source": [
    "### Evaluation on test dataset"
   ]
  },
  {
   "cell_type": "code",
   "execution_count": 66,
   "metadata": {},
   "outputs": [
    {
     "data": {
      "text/html": [
       "<div>\n",
       "<style scoped>\n",
       "    .dataframe tbody tr th:only-of-type {\n",
       "        vertical-align: middle;\n",
       "    }\n",
       "\n",
       "    .dataframe tbody tr th {\n",
       "        vertical-align: top;\n",
       "    }\n",
       "\n",
       "    .dataframe thead th {\n",
       "        text-align: right;\n",
       "    }\n",
       "</style>\n",
       "<table border=\"1\" class=\"dataframe\">\n",
       "  <thead>\n",
       "    <tr style=\"text-align: right;\">\n",
       "      <th></th>\n",
       "      <th>prediction</th>\n",
       "      <th>target</th>\n",
       "    </tr>\n",
       "  </thead>\n",
       "  <tbody>\n",
       "    <tr>\n",
       "      <th>214</th>\n",
       "      <td>0</td>\n",
       "      <td>0</td>\n",
       "    </tr>\n",
       "    <tr>\n",
       "      <th>25</th>\n",
       "      <td>1</td>\n",
       "      <td>1</td>\n",
       "    </tr>\n",
       "    <tr>\n",
       "      <th>22</th>\n",
       "      <td>1</td>\n",
       "      <td>1</td>\n",
       "    </tr>\n",
       "    <tr>\n",
       "      <th>256</th>\n",
       "      <td>0</td>\n",
       "      <td>0</td>\n",
       "    </tr>\n",
       "    <tr>\n",
       "      <th>94</th>\n",
       "      <td>1</td>\n",
       "      <td>1</td>\n",
       "    </tr>\n",
       "    <tr>\n",
       "      <th>...</th>\n",
       "      <td>...</td>\n",
       "      <td>...</td>\n",
       "    </tr>\n",
       "    <tr>\n",
       "      <th>64</th>\n",
       "      <td>1</td>\n",
       "      <td>1</td>\n",
       "    </tr>\n",
       "    <tr>\n",
       "      <th>24</th>\n",
       "      <td>0</td>\n",
       "      <td>1</td>\n",
       "    </tr>\n",
       "    <tr>\n",
       "      <th>295</th>\n",
       "      <td>0</td>\n",
       "      <td>0</td>\n",
       "    </tr>\n",
       "    <tr>\n",
       "      <th>196</th>\n",
       "      <td>1</td>\n",
       "      <td>0</td>\n",
       "    </tr>\n",
       "    <tr>\n",
       "      <th>178</th>\n",
       "      <td>0</td>\n",
       "      <td>0</td>\n",
       "    </tr>\n",
       "  </tbody>\n",
       "</table>\n",
       "<p>91 rows × 2 columns</p>\n",
       "</div>"
      ],
      "text/plain": [
       "     prediction  target\n",
       "214           0       0\n",
       "25            1       1\n",
       "22            1       1\n",
       "256           0       0\n",
       "94            1       1\n",
       "..          ...     ...\n",
       "64            1       1\n",
       "24            0       1\n",
       "295           0       0\n",
       "196           1       0\n",
       "178           0       0\n",
       "\n",
       "[91 rows x 2 columns]"
      ]
     },
     "execution_count": 66,
     "metadata": {},
     "output_type": "execute_result"
    }
   ],
   "source": [
    "X_test_sm = sm.add_constant(X_test)\n",
    "test_pred = pd.DataFrame(res7.predict(X_test_sm).apply(lambda x: 1 if x>0.55 else 0), columns=['prediction'])\n",
    "test_pred['target'] = y_test\n",
    "\n",
    "test_pred"
   ]
  },
  {
   "cell_type": "code",
   "execution_count": 67,
   "metadata": {},
   "outputs": [
    {
     "name": "stdout",
     "output_type": "stream",
     "text": [
      "[[34  7]\n",
      " [11 39]]\n",
      "accuracy: 0.8021978021978022\n",
      "sensitivity/recall: 0.78\n",
      "specificity: 0.8292682926829268\n",
      "precision: 0.8478260869565217\n"
     ]
    }
   ],
   "source": [
    "cm = confusion_matrix(test_pred.target, test_pred.prediction)\n",
    "print(cm)\n",
    "\n",
    "acc = (cm[0,0] + cm[1,1])/(cm[0,0] + cm[1,1] + cm[0,1] + cm[1,0])\n",
    "sens = cm[1,1] / float(cm[1,1]+cm[1,0])\n",
    "spec = cm[0,0] / float(cm[0,0]+cm[0,1])\n",
    "prec = cm[1,1] / float(cm[1,1]+cm[0,1])\n",
    "rec = sens\n",
    "\n",
    "print('accuracy:',acc)\n",
    "print('sensitivity/recall:',sens)\n",
    "print('specificity:',spec)\n",
    "print('precision:',prec)"
   ]
  },
  {
   "cell_type": "markdown",
   "metadata": {},
   "source": [
    "#### Feature Importance"
   ]
  },
  {
   "cell_type": "code",
   "execution_count": 68,
   "metadata": {},
   "outputs": [
    {
     "name": "stdout",
     "output_type": "stream",
     "text": [
      "Bottom 5 features:                     betas\n",
      "ca_3_ves        -1.641079\n",
      "ca_1_ves        -1.527794\n",
      "ca_2_ves        -1.520854\n",
      "thal_rev_defect -1.385229\n",
      "oldpeak         -1.281213\n",
      "Top 5 features:                betas\n",
      "cp_cat_2    1.052167\n",
      "sex_male   -0.774831\n",
      "trestbps   -0.867527\n",
      "slope_flat -0.958157\n",
      "exang_yes  -1.171099\n"
     ]
    }
   ],
   "source": [
    "betas = pd.DataFrame(index=X_train.columns)\n",
    "betas['betas'] = lm8.coef_.reshape(X_train.shape[1],-1)\n",
    "\n",
    "print('Bottom 5 features:', betas.sort_values('betas').head(5))\n",
    "print('Top 5 features:', betas.sort_values('betas', ascending=False).head(5))"
   ]
  },
  {
   "cell_type": "markdown",
   "metadata": {},
   "source": [
    "## 7. Conclusion/Recommendation"
   ]
  },
  {
   "cell_type": "markdown",
   "metadata": {},
   "source": [
    "Conclusion:\n",
    "- Final model is having test accuracy of ~0.80 and train accuracy of ~0.85.\n",
    "- Model is having test sensitivity of ~0.78 and precision of ~0.84.\n",
    "- There are many matrix available for logistic regression. The choice of matrix purely depends upon the nature of problem being solved.\n",
    "- Final model is having 10 features.\n",
    "- Top 5 features are: 'ca_3_ves', 'ca_1_ves', 'ca_2_ves', 'thal_rev_defect', 'oldpeak'"
   ]
  },
  {
   "cell_type": "markdown",
   "metadata": {},
   "source": [
    "-----------"
   ]
  }
 ],
 "metadata": {
  "kernelspec": {
   "display_name": "Python 3",
   "language": "python",
   "name": "python3"
  },
  "language_info": {
   "codemirror_mode": {
    "name": "ipython",
    "version": 3
   },
   "file_extension": ".py",
   "mimetype": "text/x-python",
   "name": "python",
   "nbconvert_exporter": "python",
   "pygments_lexer": "ipython3",
   "version": "3.7.6"
  }
 },
 "nbformat": 4,
 "nbformat_minor": 4
}
