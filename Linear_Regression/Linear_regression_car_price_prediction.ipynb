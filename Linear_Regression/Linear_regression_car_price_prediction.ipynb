{
 "cells": [
  {
   "cell_type": "markdown",
   "metadata": {},
   "source": [
    "# Problem Statement\n",
    "\n",
    "\n",
    "This database contains attributes related to car price. Our aim is to use linear regresssion and develop a model which explains the relationship between independent and dependent variables. \n",
    "\n",
    "### Methodology\n",
    "\n",
    "Linear regresion model development is divided into multiple stpes as mentioned below,\n",
    "1. Data exploring and understanding: This step involves preliminary level data understanding and exploring.\n",
    "\n",
    "2. Data Cleaning: This step includes cleaning the existing data. We check the data for any missing values and treat them as per the requirements. We also need to look for constant value colulmns as that is not going to add any additional value to out analysis. Sometimes columns with very high proportion of any particular value also doesn't add any values. Hence, getting rid of them helps with further analysis. \n",
    "\n",
    "3. Data Visualization: This step involves visualizing our dataset and check for relationship amongst independent variables. We can also reduce some feature columns here but it should not be aggressive.\n",
    "\n",
    "4. Data Preparation: This step is mainly usefull for feeding in the data into the model. It involves steps like creating dummy variables, scaling etc. depending upond the data type. \n",
    "\n",
    "5. Train-test split: This step involves spliting the dataset into train and test parts.\n",
    "\n",
    "6. Model Development-validation and evaluaiton: This steps involves training the model and validate it. It involves evaluating hte model using relevant matrics.\n",
    "    - Model development using all the feature columns.\n",
    "    - RFE and model development.\n",
    "    - Manual feature elimination using VIF and model development.\n",
    "    - Model using Ridge regularizaton. \n",
    "    - Model using Lasso regularizaton. \n",
    "    - Residual Analysis\n",
    "\n",
    "7. Conclusion/Recommendation: It involves drawing conclusions and recommendations to business."
   ]
  },
  {
   "cell_type": "markdown",
   "metadata": {},
   "source": [
    "### Importing Dependancies"
   ]
  },
  {
   "cell_type": "code",
   "execution_count": 1,
   "metadata": {},
   "outputs": [],
   "source": [
    "import pandas as pd\n",
    "import numpy as np\n",
    "\n",
    "import matplotlib.pyplot as plt\n",
    "import seaborn as sns\n",
    "\n",
    "import warnings\n",
    "warnings.filterwarnings('ignore')\n",
    "\n",
    "from sklearn.model_selection import train_test_split\n",
    "from sklearn.preprocessing import MinMaxScaler\n",
    "\n",
    "from sklearn.feature_selection import RFE\n",
    "from sklearn.linear_model import LinearRegression\n",
    "from sklearn.linear_model import LinearRegression, Lasso, Ridge\n",
    "from sklearn.metrics import r2_score, mean_squared_error\n",
    "from sklearn.model_selection import GridSearchCV\n",
    "\n",
    "import statsmodels.api as sm\n",
    "from statsmodels.stats.outliers_influence import variance_inflation_factor"
   ]
  },
  {
   "cell_type": "markdown",
   "metadata": {},
   "source": [
    "### Reading Dataset"
   ]
  },
  {
   "cell_type": "code",
   "execution_count": 2,
   "metadata": {
    "scrolled": true
   },
   "outputs": [
    {
     "data": {
      "text/html": [
       "<div>\n",
       "<style scoped>\n",
       "    .dataframe tbody tr th:only-of-type {\n",
       "        vertical-align: middle;\n",
       "    }\n",
       "\n",
       "    .dataframe tbody tr th {\n",
       "        vertical-align: top;\n",
       "    }\n",
       "\n",
       "    .dataframe thead th {\n",
       "        text-align: right;\n",
       "    }\n",
       "</style>\n",
       "<table border=\"1\" class=\"dataframe\">\n",
       "  <thead>\n",
       "    <tr style=\"text-align: right;\">\n",
       "      <th></th>\n",
       "      <th>car_ID</th>\n",
       "      <th>symboling</th>\n",
       "      <th>CarName</th>\n",
       "      <th>fueltype</th>\n",
       "      <th>aspiration</th>\n",
       "      <th>doornumber</th>\n",
       "      <th>carbody</th>\n",
       "      <th>drivewheel</th>\n",
       "      <th>enginelocation</th>\n",
       "      <th>wheelbase</th>\n",
       "      <th>...</th>\n",
       "      <th>enginesize</th>\n",
       "      <th>fuelsystem</th>\n",
       "      <th>boreratio</th>\n",
       "      <th>stroke</th>\n",
       "      <th>compressionratio</th>\n",
       "      <th>horsepower</th>\n",
       "      <th>peakrpm</th>\n",
       "      <th>citympg</th>\n",
       "      <th>highwaympg</th>\n",
       "      <th>price</th>\n",
       "    </tr>\n",
       "  </thead>\n",
       "  <tbody>\n",
       "    <tr>\n",
       "      <th>0</th>\n",
       "      <td>1</td>\n",
       "      <td>3</td>\n",
       "      <td>alfa-romero giulia</td>\n",
       "      <td>gas</td>\n",
       "      <td>std</td>\n",
       "      <td>two</td>\n",
       "      <td>convertible</td>\n",
       "      <td>rwd</td>\n",
       "      <td>front</td>\n",
       "      <td>88.6</td>\n",
       "      <td>...</td>\n",
       "      <td>130</td>\n",
       "      <td>mpfi</td>\n",
       "      <td>3.47</td>\n",
       "      <td>2.68</td>\n",
       "      <td>9.0</td>\n",
       "      <td>111</td>\n",
       "      <td>5000</td>\n",
       "      <td>21</td>\n",
       "      <td>27</td>\n",
       "      <td>13495.0</td>\n",
       "    </tr>\n",
       "    <tr>\n",
       "      <th>1</th>\n",
       "      <td>2</td>\n",
       "      <td>3</td>\n",
       "      <td>alfa-romero stelvio</td>\n",
       "      <td>gas</td>\n",
       "      <td>std</td>\n",
       "      <td>two</td>\n",
       "      <td>convertible</td>\n",
       "      <td>rwd</td>\n",
       "      <td>front</td>\n",
       "      <td>88.6</td>\n",
       "      <td>...</td>\n",
       "      <td>130</td>\n",
       "      <td>mpfi</td>\n",
       "      <td>3.47</td>\n",
       "      <td>2.68</td>\n",
       "      <td>9.0</td>\n",
       "      <td>111</td>\n",
       "      <td>5000</td>\n",
       "      <td>21</td>\n",
       "      <td>27</td>\n",
       "      <td>16500.0</td>\n",
       "    </tr>\n",
       "    <tr>\n",
       "      <th>2</th>\n",
       "      <td>3</td>\n",
       "      <td>1</td>\n",
       "      <td>alfa-romero Quadrifoglio</td>\n",
       "      <td>gas</td>\n",
       "      <td>std</td>\n",
       "      <td>two</td>\n",
       "      <td>hatchback</td>\n",
       "      <td>rwd</td>\n",
       "      <td>front</td>\n",
       "      <td>94.5</td>\n",
       "      <td>...</td>\n",
       "      <td>152</td>\n",
       "      <td>mpfi</td>\n",
       "      <td>2.68</td>\n",
       "      <td>3.47</td>\n",
       "      <td>9.0</td>\n",
       "      <td>154</td>\n",
       "      <td>5000</td>\n",
       "      <td>19</td>\n",
       "      <td>26</td>\n",
       "      <td>16500.0</td>\n",
       "    </tr>\n",
       "    <tr>\n",
       "      <th>3</th>\n",
       "      <td>4</td>\n",
       "      <td>2</td>\n",
       "      <td>audi 100 ls</td>\n",
       "      <td>gas</td>\n",
       "      <td>std</td>\n",
       "      <td>four</td>\n",
       "      <td>sedan</td>\n",
       "      <td>fwd</td>\n",
       "      <td>front</td>\n",
       "      <td>99.8</td>\n",
       "      <td>...</td>\n",
       "      <td>109</td>\n",
       "      <td>mpfi</td>\n",
       "      <td>3.19</td>\n",
       "      <td>3.40</td>\n",
       "      <td>10.0</td>\n",
       "      <td>102</td>\n",
       "      <td>5500</td>\n",
       "      <td>24</td>\n",
       "      <td>30</td>\n",
       "      <td>13950.0</td>\n",
       "    </tr>\n",
       "    <tr>\n",
       "      <th>4</th>\n",
       "      <td>5</td>\n",
       "      <td>2</td>\n",
       "      <td>audi 100ls</td>\n",
       "      <td>gas</td>\n",
       "      <td>std</td>\n",
       "      <td>four</td>\n",
       "      <td>sedan</td>\n",
       "      <td>4wd</td>\n",
       "      <td>front</td>\n",
       "      <td>99.4</td>\n",
       "      <td>...</td>\n",
       "      <td>136</td>\n",
       "      <td>mpfi</td>\n",
       "      <td>3.19</td>\n",
       "      <td>3.40</td>\n",
       "      <td>8.0</td>\n",
       "      <td>115</td>\n",
       "      <td>5500</td>\n",
       "      <td>18</td>\n",
       "      <td>22</td>\n",
       "      <td>17450.0</td>\n",
       "    </tr>\n",
       "    <tr>\n",
       "      <th>...</th>\n",
       "      <td>...</td>\n",
       "      <td>...</td>\n",
       "      <td>...</td>\n",
       "      <td>...</td>\n",
       "      <td>...</td>\n",
       "      <td>...</td>\n",
       "      <td>...</td>\n",
       "      <td>...</td>\n",
       "      <td>...</td>\n",
       "      <td>...</td>\n",
       "      <td>...</td>\n",
       "      <td>...</td>\n",
       "      <td>...</td>\n",
       "      <td>...</td>\n",
       "      <td>...</td>\n",
       "      <td>...</td>\n",
       "      <td>...</td>\n",
       "      <td>...</td>\n",
       "      <td>...</td>\n",
       "      <td>...</td>\n",
       "      <td>...</td>\n",
       "    </tr>\n",
       "    <tr>\n",
       "      <th>200</th>\n",
       "      <td>201</td>\n",
       "      <td>-1</td>\n",
       "      <td>volvo 145e (sw)</td>\n",
       "      <td>gas</td>\n",
       "      <td>std</td>\n",
       "      <td>four</td>\n",
       "      <td>sedan</td>\n",
       "      <td>rwd</td>\n",
       "      <td>front</td>\n",
       "      <td>109.1</td>\n",
       "      <td>...</td>\n",
       "      <td>141</td>\n",
       "      <td>mpfi</td>\n",
       "      <td>3.78</td>\n",
       "      <td>3.15</td>\n",
       "      <td>9.5</td>\n",
       "      <td>114</td>\n",
       "      <td>5400</td>\n",
       "      <td>23</td>\n",
       "      <td>28</td>\n",
       "      <td>16845.0</td>\n",
       "    </tr>\n",
       "    <tr>\n",
       "      <th>201</th>\n",
       "      <td>202</td>\n",
       "      <td>-1</td>\n",
       "      <td>volvo 144ea</td>\n",
       "      <td>gas</td>\n",
       "      <td>turbo</td>\n",
       "      <td>four</td>\n",
       "      <td>sedan</td>\n",
       "      <td>rwd</td>\n",
       "      <td>front</td>\n",
       "      <td>109.1</td>\n",
       "      <td>...</td>\n",
       "      <td>141</td>\n",
       "      <td>mpfi</td>\n",
       "      <td>3.78</td>\n",
       "      <td>3.15</td>\n",
       "      <td>8.7</td>\n",
       "      <td>160</td>\n",
       "      <td>5300</td>\n",
       "      <td>19</td>\n",
       "      <td>25</td>\n",
       "      <td>19045.0</td>\n",
       "    </tr>\n",
       "    <tr>\n",
       "      <th>202</th>\n",
       "      <td>203</td>\n",
       "      <td>-1</td>\n",
       "      <td>volvo 244dl</td>\n",
       "      <td>gas</td>\n",
       "      <td>std</td>\n",
       "      <td>four</td>\n",
       "      <td>sedan</td>\n",
       "      <td>rwd</td>\n",
       "      <td>front</td>\n",
       "      <td>109.1</td>\n",
       "      <td>...</td>\n",
       "      <td>173</td>\n",
       "      <td>mpfi</td>\n",
       "      <td>3.58</td>\n",
       "      <td>2.87</td>\n",
       "      <td>8.8</td>\n",
       "      <td>134</td>\n",
       "      <td>5500</td>\n",
       "      <td>18</td>\n",
       "      <td>23</td>\n",
       "      <td>21485.0</td>\n",
       "    </tr>\n",
       "    <tr>\n",
       "      <th>203</th>\n",
       "      <td>204</td>\n",
       "      <td>-1</td>\n",
       "      <td>volvo 246</td>\n",
       "      <td>diesel</td>\n",
       "      <td>turbo</td>\n",
       "      <td>four</td>\n",
       "      <td>sedan</td>\n",
       "      <td>rwd</td>\n",
       "      <td>front</td>\n",
       "      <td>109.1</td>\n",
       "      <td>...</td>\n",
       "      <td>145</td>\n",
       "      <td>idi</td>\n",
       "      <td>3.01</td>\n",
       "      <td>3.40</td>\n",
       "      <td>23.0</td>\n",
       "      <td>106</td>\n",
       "      <td>4800</td>\n",
       "      <td>26</td>\n",
       "      <td>27</td>\n",
       "      <td>22470.0</td>\n",
       "    </tr>\n",
       "    <tr>\n",
       "      <th>204</th>\n",
       "      <td>205</td>\n",
       "      <td>-1</td>\n",
       "      <td>volvo 264gl</td>\n",
       "      <td>gas</td>\n",
       "      <td>turbo</td>\n",
       "      <td>four</td>\n",
       "      <td>sedan</td>\n",
       "      <td>rwd</td>\n",
       "      <td>front</td>\n",
       "      <td>109.1</td>\n",
       "      <td>...</td>\n",
       "      <td>141</td>\n",
       "      <td>mpfi</td>\n",
       "      <td>3.78</td>\n",
       "      <td>3.15</td>\n",
       "      <td>9.5</td>\n",
       "      <td>114</td>\n",
       "      <td>5400</td>\n",
       "      <td>19</td>\n",
       "      <td>25</td>\n",
       "      <td>22625.0</td>\n",
       "    </tr>\n",
       "  </tbody>\n",
       "</table>\n",
       "<p>205 rows × 26 columns</p>\n",
       "</div>"
      ],
      "text/plain": [
       "     car_ID  symboling                   CarName fueltype aspiration  \\\n",
       "0         1          3        alfa-romero giulia      gas        std   \n",
       "1         2          3       alfa-romero stelvio      gas        std   \n",
       "2         3          1  alfa-romero Quadrifoglio      gas        std   \n",
       "3         4          2               audi 100 ls      gas        std   \n",
       "4         5          2                audi 100ls      gas        std   \n",
       "..      ...        ...                       ...      ...        ...   \n",
       "200     201         -1           volvo 145e (sw)      gas        std   \n",
       "201     202         -1               volvo 144ea      gas      turbo   \n",
       "202     203         -1               volvo 244dl      gas        std   \n",
       "203     204         -1                 volvo 246   diesel      turbo   \n",
       "204     205         -1               volvo 264gl      gas      turbo   \n",
       "\n",
       "    doornumber      carbody drivewheel enginelocation  wheelbase  ...  \\\n",
       "0          two  convertible        rwd          front       88.6  ...   \n",
       "1          two  convertible        rwd          front       88.6  ...   \n",
       "2          two    hatchback        rwd          front       94.5  ...   \n",
       "3         four        sedan        fwd          front       99.8  ...   \n",
       "4         four        sedan        4wd          front       99.4  ...   \n",
       "..         ...          ...        ...            ...        ...  ...   \n",
       "200       four        sedan        rwd          front      109.1  ...   \n",
       "201       four        sedan        rwd          front      109.1  ...   \n",
       "202       four        sedan        rwd          front      109.1  ...   \n",
       "203       four        sedan        rwd          front      109.1  ...   \n",
       "204       four        sedan        rwd          front      109.1  ...   \n",
       "\n",
       "     enginesize  fuelsystem  boreratio  stroke compressionratio horsepower  \\\n",
       "0           130        mpfi       3.47    2.68              9.0        111   \n",
       "1           130        mpfi       3.47    2.68              9.0        111   \n",
       "2           152        mpfi       2.68    3.47              9.0        154   \n",
       "3           109        mpfi       3.19    3.40             10.0        102   \n",
       "4           136        mpfi       3.19    3.40              8.0        115   \n",
       "..          ...         ...        ...     ...              ...        ...   \n",
       "200         141        mpfi       3.78    3.15              9.5        114   \n",
       "201         141        mpfi       3.78    3.15              8.7        160   \n",
       "202         173        mpfi       3.58    2.87              8.8        134   \n",
       "203         145         idi       3.01    3.40             23.0        106   \n",
       "204         141        mpfi       3.78    3.15              9.5        114   \n",
       "\n",
       "     peakrpm citympg  highwaympg    price  \n",
       "0       5000      21          27  13495.0  \n",
       "1       5000      21          27  16500.0  \n",
       "2       5000      19          26  16500.0  \n",
       "3       5500      24          30  13950.0  \n",
       "4       5500      18          22  17450.0  \n",
       "..       ...     ...         ...      ...  \n",
       "200     5400      23          28  16845.0  \n",
       "201     5300      19          25  19045.0  \n",
       "202     5500      18          23  21485.0  \n",
       "203     4800      26          27  22470.0  \n",
       "204     5400      19          25  22625.0  \n",
       "\n",
       "[205 rows x 26 columns]"
      ]
     },
     "execution_count": 2,
     "metadata": {},
     "output_type": "execute_result"
    }
   ],
   "source": [
    "data = pd.read_csv('CarPrice.csv')\n",
    "data"
   ]
  },
  {
   "cell_type": "markdown",
   "metadata": {},
   "source": [
    "It can be observed that,\n",
    "- dataset is having 26 columns, which includes 1 target column that is 'price'.\n",
    "- dataset has 205 entries\n"
   ]
  },
  {
   "cell_type": "code",
   "execution_count": 3,
   "metadata": {
    "scrolled": true
   },
   "outputs": [
    {
     "name": "stdout",
     "output_type": "stream",
     "text": [
      "<class 'pandas.core.frame.DataFrame'>\n",
      "RangeIndex: 205 entries, 0 to 204\n",
      "Data columns (total 26 columns):\n",
      " #   Column            Non-Null Count  Dtype  \n",
      "---  ------            --------------  -----  \n",
      " 0   car_ID            205 non-null    int64  \n",
      " 1   symboling         205 non-null    int64  \n",
      " 2   CarName           205 non-null    object \n",
      " 3   fueltype          205 non-null    object \n",
      " 4   aspiration        205 non-null    object \n",
      " 5   doornumber        205 non-null    object \n",
      " 6   carbody           205 non-null    object \n",
      " 7   drivewheel        205 non-null    object \n",
      " 8   enginelocation    205 non-null    object \n",
      " 9   wheelbase         205 non-null    float64\n",
      " 10  carlength         205 non-null    float64\n",
      " 11  carwidth          205 non-null    float64\n",
      " 12  carheight         205 non-null    float64\n",
      " 13  curbweight        205 non-null    int64  \n",
      " 14  enginetype        205 non-null    object \n",
      " 15  cylindernumber    205 non-null    object \n",
      " 16  enginesize        205 non-null    int64  \n",
      " 17  fuelsystem        205 non-null    object \n",
      " 18  boreratio         205 non-null    float64\n",
      " 19  stroke            205 non-null    float64\n",
      " 20  compressionratio  205 non-null    float64\n",
      " 21  horsepower        205 non-null    int64  \n",
      " 22  peakrpm           205 non-null    int64  \n",
      " 23  citympg           205 non-null    int64  \n",
      " 24  highwaympg        205 non-null    int64  \n",
      " 25  price             205 non-null    float64\n",
      "dtypes: float64(8), int64(8), object(10)\n",
      "memory usage: 41.8+ KB\n"
     ]
    }
   ],
   "source": [
    "# Getting insights into dataset\n",
    "\n",
    "data.info()"
   ]
  },
  {
   "cell_type": "markdown",
   "metadata": {},
   "source": [
    "As per above, \n",
    "- data is having 16 numeric columns and 10 object columns.\n",
    "- dataset isn't having any missing values. "
   ]
  },
  {
   "cell_type": "markdown",
   "metadata": {},
   "source": [
    "## 1. Data exploring and understanding"
   ]
  },
  {
   "cell_type": "code",
   "execution_count": 4,
   "metadata": {},
   "outputs": [
    {
     "data": {
      "text/plain": [
       " 0    67\n",
       " 1    54\n",
       " 2    32\n",
       " 3    27\n",
       "-1    22\n",
       "-2     3\n",
       "Name: symboling, dtype: int64"
      ]
     },
     "execution_count": 4,
     "metadata": {},
     "output_type": "execute_result"
    }
   ],
   "source": [
    "# symboling:assigned insurance risk rating (+3: risky, -3:pretty safe)\n",
    "\n",
    "data.symboling.value_counts()"
   ]
  },
  {
   "cell_type": "markdown",
   "metadata": {},
   "source": [
    "Insuracne risk rating are reasonably uniform in nature. We need to convert this column to 'object' type"
   ]
  },
  {
   "cell_type": "code",
   "execution_count": 5,
   "metadata": {},
   "outputs": [],
   "source": [
    "# Changing dtype for 'symboling' column\n",
    "\n",
    "data.symboling = data.symboling.astype('object')"
   ]
  },
  {
   "cell_type": "code",
   "execution_count": 6,
   "metadata": {},
   "outputs": [
    {
     "name": "stdout",
     "output_type": "stream",
     "text": [
      "toyota corona               6\n",
      "peugeot 504                 6\n",
      "toyota corolla              6\n",
      "subaru dl                   4\n",
      "mitsubishi mirage g4        3\n",
      "                           ..\n",
      "renault 5 gtl               1\n",
      "bmw x5                      1\n",
      "isuzu MU-X                  1\n",
      "subaru brz                  1\n",
      "buick century luxus (sw)    1\n",
      "Name: CarName, Length: 147, dtype: int64\n",
      " \n",
      "No. of unique car models: 147\n"
     ]
    }
   ],
   "source": [
    "# CarName: Car model name (cmanufacturer + model)\n",
    "\n",
    "print(data.CarName.value_counts())\n",
    "\n",
    "print(' ')\n",
    "\n",
    "print('No. of unique car models:', data.CarName.nunique())"
   ]
  },
  {
   "cell_type": "markdown",
   "metadata": {},
   "source": [
    "Observations,\n",
    "- There are 147 different car models and many of them have single entries.\n",
    "- We may require to extract car brand name (manufacturer) to make this feature column useful in our model building."
   ]
  },
  {
   "cell_type": "code",
   "execution_count": 7,
   "metadata": {},
   "outputs": [
    {
     "data": {
      "text/plain": [
       "gas       185\n",
       "diesel     20\n",
       "Name: fueltype, dtype: int64"
      ]
     },
     "execution_count": 7,
     "metadata": {},
     "output_type": "execute_result"
    }
   ],
   "source": [
    "# fueltype: fuel type used in the car\n",
    "\n",
    "data.fueltype.value_counts()"
   ]
  },
  {
   "cell_type": "markdown",
   "metadata": {},
   "source": [
    "The distrubution is little skewed, ~90% data belongs to one category (i.e. 'gas). But we can still extract some meaningful insights from this."
   ]
  },
  {
   "cell_type": "code",
   "execution_count": 8,
   "metadata": {},
   "outputs": [
    {
     "data": {
      "text/plain": [
       "std      168\n",
       "turbo     37\n",
       "Name: aspiration, dtype: int64"
      ]
     },
     "execution_count": 8,
     "metadata": {},
     "output_type": "execute_result"
    }
   ],
   "source": [
    "# aspiration: Aspiration used in the car\n",
    "\n",
    "data.aspiration.value_counts()"
   ]
  },
  {
   "cell_type": "code",
   "execution_count": 9,
   "metadata": {},
   "outputs": [
    {
     "data": {
      "text/plain": [
       "four    115\n",
       "two      90\n",
       "Name: doornumber, dtype: int64"
      ]
     },
     "execution_count": 9,
     "metadata": {},
     "output_type": "execute_result"
    }
   ],
   "source": [
    "# doornumber: Number of doors in the car\n",
    "\n",
    "data.doornumber.value_counts()"
   ]
  },
  {
   "cell_type": "code",
   "execution_count": 10,
   "metadata": {},
   "outputs": [
    {
     "data": {
      "text/plain": [
       "sedan          96\n",
       "hatchback      70\n",
       "wagon          25\n",
       "hardtop         8\n",
       "convertible     6\n",
       "Name: carbody, dtype: int64"
      ]
     },
     "execution_count": 10,
     "metadata": {},
     "output_type": "execute_result"
    }
   ],
   "source": [
    "# carbody: body type of the car\n",
    "\n",
    "data.carbody.value_counts()"
   ]
  },
  {
   "cell_type": "code",
   "execution_count": 11,
   "metadata": {},
   "outputs": [
    {
     "data": {
      "text/plain": [
       "fwd    120\n",
       "rwd     76\n",
       "4wd      9\n",
       "Name: drivewheel, dtype: int64"
      ]
     },
     "execution_count": 11,
     "metadata": {},
     "output_type": "execute_result"
    }
   ],
   "source": [
    "# drivewheel: power wheels arrangement\n",
    "\n",
    "data.drivewheel.value_counts()"
   ]
  },
  {
   "cell_type": "markdown",
   "metadata": {},
   "source": [
    " It can be observed that '4wd' category is having only 9 entries. But still we may get some meaningful insight from this feature column."
   ]
  },
  {
   "cell_type": "code",
   "execution_count": 12,
   "metadata": {},
   "outputs": [
    {
     "data": {
      "text/plain": [
       "front    202\n",
       "rear       3\n",
       "Name: enginelocation, dtype: int64"
      ]
     },
     "execution_count": 12,
     "metadata": {},
     "output_type": "execute_result"
    }
   ],
   "source": [
    "# enginelocation: location of the engine in the car\n",
    "\n",
    "data.enginelocation.value_counts()"
   ]
  },
  {
   "cell_type": "markdown",
   "metadata": {},
   "source": [
    "This column is highly skewed hence we are going to drop this one."
   ]
  },
  {
   "cell_type": "code",
   "execution_count": 13,
   "metadata": {},
   "outputs": [],
   "source": [
    "# Dropping 'enginelocation' column\n",
    "\n",
    "data = data.drop('enginelocation', axis=1)"
   ]
  },
  {
   "cell_type": "code",
   "execution_count": 14,
   "metadata": {},
   "outputs": [
    {
     "data": {
      "text/plain": [
       "<AxesSubplot:xlabel='wheelbase'>"
      ]
     },
     "execution_count": 14,
     "metadata": {},
     "output_type": "execute_result"
    },
    {
     "data": {
      "image/png": "[encoded data removed]",
      "text/plain": [
       "<Figure size 432x288 with 2 Axes>"
      ]
     },
     "metadata": {
      "needs_background": "light"
     },
     "output_type": "display_data"
    }
   ],
   "source": [
    "# wheelbase: wheelbase of the car\n",
    "\n",
    "plt.subplot(2,1,1)\n",
    "sns.distplot(data.wheelbase)\n",
    "\n",
    "plt.subplot(2,1,2)\n",
    "sns.boxplot(data.wheelbase)"
   ]
  },
  {
   "cell_type": "markdown",
   "metadata": {},
   "source": [
    "Observations,\n",
    "- wheelbase size is distributed between 80 to 120 units.\n",
    "- Median value is near 96 units."
   ]
  },
  {
   "cell_type": "code",
   "execution_count": 15,
   "metadata": {},
   "outputs": [
    {
     "data": {
      "text/plain": [
       "<AxesSubplot:xlabel='carlength'>"
      ]
     },
     "execution_count": 15,
     "metadata": {},
     "output_type": "execute_result"
    },
    {
     "data": {
      "image/png": "[encoded data removed]",
      "text/plain": [
       "<Figure size 432x288 with 2 Axes>"
      ]
     },
     "metadata": {
      "needs_background": "light"
     },
     "output_type": "display_data"
    }
   ],
   "source": [
    "# Car length\n",
    "\n",
    "plt.subplot(2,1,1)\n",
    "sns.distplot(data.carlength)\n",
    "\n",
    "plt.subplot(2,1,2)\n",
    "sns.boxplot(data.carlength)"
   ]
  },
  {
   "cell_type": "markdown",
   "metadata": {},
   "source": [
    "Observations,\n",
    "- Car length is distributed between 140 to 210 units.\n",
    "- Median value is near 172 units."
   ]
  },
  {
   "cell_type": "code",
   "execution_count": 16,
   "metadata": {},
   "outputs": [
    {
     "data": {
      "text/plain": [
       "<AxesSubplot:xlabel='carwidth'>"
      ]
     },
     "execution_count": 16,
     "metadata": {},
     "output_type": "execute_result"
    },
    {
     "data": {
      "image/png": "[encoded data removed]",
      "text/plain": [
       "<Figure size 432x288 with 2 Axes>"
      ]
     },
     "metadata": {
      "needs_background": "light"
     },
     "output_type": "display_data"
    }
   ],
   "source": [
    "# Car width\n",
    "\n",
    "plt.subplot(2,1,1)\n",
    "sns.distplot(data.carwidth)\n",
    "\n",
    "plt.subplot(2,1,2)\n",
    "sns.boxplot(data.carwidth)"
   ]
  },
  {
   "cell_type": "markdown",
   "metadata": {},
   "source": [
    "Observations,\n",
    "- Car width is distributed between 57.5 to 75 units.\n",
    "- Median value is near 65.5 units."
   ]
  },
  {
   "cell_type": "code",
   "execution_count": 17,
   "metadata": {},
   "outputs": [
    {
     "data": {
      "text/plain": [
       "<AxesSubplot:xlabel='carheight'>"
      ]
     },
     "execution_count": 17,
     "metadata": {},
     "output_type": "execute_result"
    },
    {
     "data": {
      "image/png": "[encoded data removed]",
      "text/plain": [
       "<Figure size 432x288 with 2 Axes>"
      ]
     },
     "metadata": {
      "needs_background": "light"
     },
     "output_type": "display_data"
    }
   ],
   "source": [
    "# Car height\n",
    "\n",
    "plt.subplot(2,1,1)\n",
    "sns.distplot(data.carheight)\n",
    "\n",
    "plt.subplot(2,1,2)\n",
    "sns.boxplot(data.carheight)"
   ]
  },
  {
   "cell_type": "markdown",
   "metadata": {},
   "source": [
    "Observations,\n",
    "- Car height is distributed between 45 to 62 units.\n",
    "- Median value is near 54 units."
   ]
  },
  {
   "cell_type": "code",
   "execution_count": 18,
   "metadata": {},
   "outputs": [
    {
     "data": {
      "text/plain": [
       "<AxesSubplot:xlabel='curbweight'>"
      ]
     },
     "execution_count": 18,
     "metadata": {},
     "output_type": "execute_result"
    },
    {
     "data": {
      "image/png": "[encoded data removed]",
      "text/plain": [
       "<Figure size 432x288 with 2 Axes>"
      ]
     },
     "metadata": {
      "needs_background": "light"
     },
     "output_type": "display_data"
    }
   ],
   "source": [
    "# Car curbweight\n",
    "\n",
    "plt.subplot(2,1,1)\n",
    "sns.distplot(data.curbweight)\n",
    "\n",
    "plt.subplot(2,1,2)\n",
    "sns.boxplot(data.curbweight)"
   ]
  },
  {
   "cell_type": "markdown",
   "metadata": {},
   "source": [
    "Observations,\n",
    "- Car weight is distributed between 1000 to 4500 units.\n",
    "- Median value is near 2400 units."
   ]
  },
  {
   "cell_type": "code",
   "execution_count": 19,
   "metadata": {},
   "outputs": [
    {
     "data": {
      "text/plain": [
       "ohc      148\n",
       "ohcf      15\n",
       "ohcv      13\n",
       "l         12\n",
       "dohc      12\n",
       "rotor      4\n",
       "dohcv      1\n",
       "Name: enginetype, dtype: int64"
      ]
     },
     "execution_count": 19,
     "metadata": {},
     "output_type": "execute_result"
    }
   ],
   "source": [
    "# enginetype: car engine type\n",
    "\n",
    "data.enginetype.value_counts()"
   ]
  },
  {
   "cell_type": "markdown",
   "metadata": {},
   "source": [
    "This feature column is slightly skewed but can be utilised for getting some meaningful insights. One more option is to delete lower frequency entries."
   ]
  },
  {
   "cell_type": "code",
   "execution_count": 20,
   "metadata": {},
   "outputs": [
    {
     "data": {
      "text/plain": [
       "four      159\n",
       "six        24\n",
       "five       11\n",
       "eight       5\n",
       "two         4\n",
       "twelve      1\n",
       "three       1\n",
       "Name: cylindernumber, dtype: int64"
      ]
     },
     "execution_count": 20,
     "metadata": {},
     "output_type": "execute_result"
    }
   ],
   "source": [
    "# cylindertype: number of cylinders in engine\n",
    "\n",
    "data.cylindernumber.value_counts()"
   ]
  },
  {
   "cell_type": "markdown",
   "metadata": {},
   "source": [
    "This feature column is slightly skewed but can be utilised for getting some meaningful insights. One more option is to delete lower frequency entries."
   ]
  },
  {
   "cell_type": "code",
   "execution_count": 21,
   "metadata": {},
   "outputs": [
    {
     "data": {
      "text/plain": [
       "<AxesSubplot:xlabel='enginesize'>"
      ]
     },
     "execution_count": 21,
     "metadata": {},
     "output_type": "execute_result"
    },
    {
     "data": {
      "image/png": "[encoded data removed]",
      "text/plain": [
       "<Figure size 432x288 with 2 Axes>"
      ]
     },
     "metadata": {
      "needs_background": "light"
     },
     "output_type": "display_data"
    }
   ],
   "source": [
    "# Engine size\n",
    "\n",
    "plt.subplot(2,1,1)\n",
    "sns.distplot(data.enginesize)\n",
    "\n",
    "plt.subplot(2,1,2)\n",
    "sns.boxplot(data.enginesize)"
   ]
  },
  {
   "cell_type": "markdown",
   "metadata": {},
   "source": [
    "Observations,\n",
    "- Engine size is distributed between 50 to 350 units.\n",
    "- Median value is near 125 units."
   ]
  },
  {
   "cell_type": "code",
   "execution_count": 22,
   "metadata": {},
   "outputs": [
    {
     "data": {
      "text/plain": [
       "mpfi    94\n",
       "2bbl    66\n",
       "idi     20\n",
       "1bbl    11\n",
       "spdi     9\n",
       "4bbl     3\n",
       "spfi     1\n",
       "mfi      1\n",
       "Name: fuelsystem, dtype: int64"
      ]
     },
     "execution_count": 22,
     "metadata": {},
     "output_type": "execute_result"
    }
   ],
   "source": [
    "# fuelsystem: kind of fuel system in car\n",
    "\n",
    "data.fuelsystem.value_counts()"
   ]
  },
  {
   "cell_type": "code",
   "execution_count": 23,
   "metadata": {},
   "outputs": [
    {
     "data": {
      "text/plain": [
       "<AxesSubplot:xlabel='boreratio'>"
      ]
     },
     "execution_count": 23,
     "metadata": {},
     "output_type": "execute_result"
    },
    {
     "data": {
      "image/png": "[encoded data removed]",
      "text/plain": [
       "<Figure size 432x288 with 2 Axes>"
      ]
     },
     "metadata": {
      "needs_background": "light"
     },
     "output_type": "display_data"
    }
   ],
   "source": [
    "# boreratio\n",
    "\n",
    "plt.subplot(2,1,1)\n",
    "sns.distplot(data.boreratio)\n",
    "\n",
    "plt.subplot(2,1,2)\n",
    "sns.boxplot(data.boreratio)"
   ]
  },
  {
   "cell_type": "markdown",
   "metadata": {},
   "source": [
    "Observations,\n",
    "- Engine Bore ratio is distributed between 2.25 to 4.25 units.\n",
    "- Median value is near 3.3 units."
   ]
  },
  {
   "cell_type": "code",
   "execution_count": 24,
   "metadata": {},
   "outputs": [
    {
     "data": {
      "text/plain": [
       "<AxesSubplot:xlabel='stroke'>"
      ]
     },
     "execution_count": 24,
     "metadata": {},
     "output_type": "execute_result"
    },
    {
     "data": {
      "image/png": "[encoded data removed]",
      "text/plain": [
       "<Figure size 432x288 with 2 Axes>"
      ]
     },
     "metadata": {
      "needs_background": "light"
     },
     "output_type": "display_data"
    }
   ],
   "source": [
    "# stroke: Engien stroke size\n",
    "\n",
    "plt.subplot(2,1,1)\n",
    "sns.distplot(data.stroke)\n",
    "\n",
    "plt.subplot(2,1,2)\n",
    "sns.boxplot(data.stroke)"
   ]
  },
  {
   "cell_type": "markdown",
   "metadata": {},
   "source": [
    "Observations,\n",
    "- Engine stoke length is distributed between 2 to 4.5 units.\n",
    "- Median value is near 3.3 units."
   ]
  },
  {
   "cell_type": "code",
   "execution_count": 25,
   "metadata": {},
   "outputs": [
    {
     "data": {
      "text/plain": [
       "<AxesSubplot:xlabel='compressionratio'>"
      ]
     },
     "execution_count": 25,
     "metadata": {},
     "output_type": "execute_result"
    },
    {
     "data": {
      "image/png": "[encoded data removed]",
      "text/plain": [
       "<Figure size 432x288 with 2 Axes>"
      ]
     },
     "metadata": {
      "needs_background": "light"
     },
     "output_type": "display_data"
    }
   ],
   "source": [
    "# Compressionratio: Engine compression ratio\n",
    "\n",
    "plt.subplot(2,1,1)\n",
    "sns.distplot(data.compressionratio)\n",
    "\n",
    "plt.subplot(2,1,2)\n",
    "sns.boxplot(data.compressionratio)"
   ]
  },
  {
   "cell_type": "markdown",
   "metadata": {},
   "source": [
    "Observation,\n",
    "- outliers are present in this column. That is becasue gas and diesel engine have different range of compression ratio."
   ]
  },
  {
   "cell_type": "code",
   "execution_count": 26,
   "metadata": {},
   "outputs": [
    {
     "data": {
      "text/plain": [
       "<AxesSubplot:xlabel='horsepower'>"
      ]
     },
     "execution_count": 26,
     "metadata": {},
     "output_type": "execute_result"
    },
    {
     "data": {
      "image/png": "[encoded data removed]",
      "text/plain": [
       "<Figure size 432x288 with 2 Axes>"
      ]
     },
     "metadata": {
      "needs_background": "light"
     },
     "output_type": "display_data"
    }
   ],
   "source": [
    "# horsepower: engien power\n",
    "\n",
    "plt.subplot(2,1,1)\n",
    "sns.distplot(data.horsepower)\n",
    "\n",
    "plt.subplot(2,1,2)\n",
    "sns.boxplot(data.horsepower)"
   ]
  },
  {
   "cell_type": "markdown",
   "metadata": {},
   "source": [
    "Observations,\n",
    "- Engine power is distributed between 50 to 300 units.\n",
    "- Median value is near 95 units."
   ]
  },
  {
   "cell_type": "code",
   "execution_count": 27,
   "metadata": {},
   "outputs": [
    {
     "data": {
      "text/plain": [
       "<AxesSubplot:xlabel='peakrpm'>"
      ]
     },
     "execution_count": 27,
     "metadata": {},
     "output_type": "execute_result"
    },
    {
     "data": {
      "image/png": "[encoded data removed]",
      "text/plain": [
       "<Figure size 432x288 with 2 Axes>"
      ]
     },
     "metadata": {
      "needs_background": "light"
     },
     "output_type": "display_data"
    }
   ],
   "source": [
    "# peakrpm: peak rpm of the engine\n",
    "\n",
    "plt.subplot(2,1,1)\n",
    "sns.distplot(data.peakrpm)\n",
    "\n",
    "plt.subplot(2,1,2)\n",
    "sns.boxplot(data.peakrpm)"
   ]
  },
  {
   "cell_type": "markdown",
   "metadata": {},
   "source": [
    "Observations,\n",
    "- Engine peak rpm is distributed between 3500 to 7000 units.\n",
    "- Median value is near 5250 units."
   ]
  },
  {
   "cell_type": "code",
   "execution_count": 28,
   "metadata": {},
   "outputs": [
    {
     "data": {
      "text/plain": [
       "<AxesSubplot:xlabel='citympg'>"
      ]
     },
     "execution_count": 28,
     "metadata": {},
     "output_type": "execute_result"
    },
    {
     "data": {
      "image/png": "[encoded data removed]",
      "text/plain": [
       "<Figure size 432x288 with 2 Axes>"
      ]
     },
     "metadata": {
      "needs_background": "light"
     },
     "output_type": "display_data"
    }
   ],
   "source": [
    "# citympg: mileage of car in city\n",
    "\n",
    "plt.subplot(2,1,1)\n",
    "sns.distplot(data.citympg)\n",
    "\n",
    "plt.subplot(2,1,2)\n",
    "sns.boxplot(data.citympg)"
   ]
  },
  {
   "cell_type": "markdown",
   "metadata": {},
   "source": [
    "Observations,\n",
    "- Car mileage is distributed between 10 to 50 mpg.\n",
    "- Median value is near 24 mpg."
   ]
  },
  {
   "cell_type": "code",
   "execution_count": 29,
   "metadata": {},
   "outputs": [
    {
     "data": {
      "text/plain": [
       "<AxesSubplot:xlabel='highwaympg'>"
      ]
     },
     "execution_count": 29,
     "metadata": {},
     "output_type": "execute_result"
    },
    {
     "data": {
      "image/png": "[encoded data removed]",
      "text/plain": [
       "<Figure size 432x288 with 2 Axes>"
      ]
     },
     "metadata": {
      "needs_background": "light"
     },
     "output_type": "display_data"
    }
   ],
   "source": [
    "# highwaympg: mileage of car in city\n",
    "\n",
    "plt.subplot(2,1,1)\n",
    "sns.distplot(data.highwaympg)\n",
    "\n",
    "plt.subplot(2,1,2)\n",
    "sns.boxplot(data.highwaympg)"
   ]
  },
  {
   "cell_type": "markdown",
   "metadata": {},
   "source": [
    "Observations,\n",
    "- Car mileage (highway) is distributed between 10 to 60 mpg.\n",
    "- Median value is near 30 mpg."
   ]
  },
  {
   "cell_type": "markdown",
   "metadata": {},
   "source": [
    "## 2. Data Cleaning"
   ]
  },
  {
   "cell_type": "code",
   "execution_count": 30,
   "metadata": {},
   "outputs": [],
   "source": [
    "# droppping 'CarID' column: It is a unique reference number to each car\n",
    "\n",
    "data = data.drop('car_ID', axis=1)"
   ]
  },
  {
   "cell_type": "markdown",
   "metadata": {},
   "source": [
    "## 3. Data Visualization"
   ]
  },
  {
   "cell_type": "code",
   "execution_count": 31,
   "metadata": {
    "scrolled": true
   },
   "outputs": [
    {
     "data": {
      "text/plain": [
       "<AxesSubplot:>"
      ]
     },
     "execution_count": 31,
     "metadata": {},
     "output_type": "execute_result"
    },
    {
     "data": {
      "image/png": "[encoded data removed]",
      "text/plain": [
       "<Figure size 1080x1080 with 2 Axes>"
      ]
     },
     "metadata": {
      "needs_background": "light"
     },
     "output_type": "display_data"
    }
   ],
   "source": [
    "# Pearson's correlation: numeric data columns\n",
    "\n",
    "# numeric columns\n",
    "num_cols = data.select_dtypes(include=('int64', 'float64')).columns\n",
    "\n",
    "# heatmap\n",
    "plt.subplots(figsize=(15,15))\n",
    "sns.heatmap(data[num_cols].corr(), annot=True, cmap='YlGnBu')\n"
   ]
  },
  {
   "cell_type": "markdown",
   "metadata": {},
   "source": [
    "Observation,\n",
    "1. Carlength and wheelbase are having high correlaton of 0.87. Here, we would be dropping wheelbase.\n",
    "2. Carlength and curbweight are having high correlaton of 0.88. Here, we would be dropping curbweight.\n",
    "3. Carwidth and curbweight are having high correlaton of 0.87. Here, we would be dropping curbweight.\n",
    "4. highwaympg and citympg are having high correlaton of 0.97. Here, we would be dropping citympg.\n",
    "\n",
    "\n",
    "Here, we would be dropping the feature when it is having absolute value of Pearson's correlation more that 0.85. The selection of dropped variable is based on domain knowledge or the feature which is non-standard or tough to obtain."
   ]
  },
  {
   "cell_type": "code",
   "execution_count": 32,
   "metadata": {},
   "outputs": [],
   "source": [
    "# Dropping featues\n",
    "\n",
    "data = data.drop(['wheelbase', 'curbweight', 'citympg'], axis=1)"
   ]
  },
  {
   "cell_type": "code",
   "execution_count": 33,
   "metadata": {},
   "outputs": [
    {
     "data": {
      "text/html": [
       "<div>\n",
       "<style scoped>\n",
       "    .dataframe tbody tr th:only-of-type {\n",
       "        vertical-align: middle;\n",
       "    }\n",
       "\n",
       "    .dataframe tbody tr th {\n",
       "        vertical-align: top;\n",
       "    }\n",
       "\n",
       "    .dataframe thead th {\n",
       "        text-align: right;\n",
       "    }\n",
       "</style>\n",
       "<table border=\"1\" class=\"dataframe\">\n",
       "  <thead>\n",
       "    <tr style=\"text-align: right;\">\n",
       "      <th></th>\n",
       "      <th>symboling</th>\n",
       "      <th>CarName</th>\n",
       "      <th>fueltype</th>\n",
       "      <th>aspiration</th>\n",
       "      <th>doornumber</th>\n",
       "      <th>carbody</th>\n",
       "      <th>drivewheel</th>\n",
       "      <th>carlength</th>\n",
       "      <th>carwidth</th>\n",
       "      <th>carheight</th>\n",
       "      <th>...</th>\n",
       "      <th>cylindernumber</th>\n",
       "      <th>enginesize</th>\n",
       "      <th>fuelsystem</th>\n",
       "      <th>boreratio</th>\n",
       "      <th>stroke</th>\n",
       "      <th>compressionratio</th>\n",
       "      <th>horsepower</th>\n",
       "      <th>peakrpm</th>\n",
       "      <th>highwaympg</th>\n",
       "      <th>price</th>\n",
       "    </tr>\n",
       "  </thead>\n",
       "  <tbody>\n",
       "    <tr>\n",
       "      <th>0</th>\n",
       "      <td>3</td>\n",
       "      <td>alfa-romero giulia</td>\n",
       "      <td>gas</td>\n",
       "      <td>std</td>\n",
       "      <td>two</td>\n",
       "      <td>convertible</td>\n",
       "      <td>rwd</td>\n",
       "      <td>168.8</td>\n",
       "      <td>64.1</td>\n",
       "      <td>48.8</td>\n",
       "      <td>...</td>\n",
       "      <td>four</td>\n",
       "      <td>130</td>\n",
       "      <td>mpfi</td>\n",
       "      <td>3.47</td>\n",
       "      <td>2.68</td>\n",
       "      <td>9.0</td>\n",
       "      <td>111</td>\n",
       "      <td>5000</td>\n",
       "      <td>27</td>\n",
       "      <td>13495.0</td>\n",
       "    </tr>\n",
       "    <tr>\n",
       "      <th>1</th>\n",
       "      <td>3</td>\n",
       "      <td>alfa-romero stelvio</td>\n",
       "      <td>gas</td>\n",
       "      <td>std</td>\n",
       "      <td>two</td>\n",
       "      <td>convertible</td>\n",
       "      <td>rwd</td>\n",
       "      <td>168.8</td>\n",
       "      <td>64.1</td>\n",
       "      <td>48.8</td>\n",
       "      <td>...</td>\n",
       "      <td>four</td>\n",
       "      <td>130</td>\n",
       "      <td>mpfi</td>\n",
       "      <td>3.47</td>\n",
       "      <td>2.68</td>\n",
       "      <td>9.0</td>\n",
       "      <td>111</td>\n",
       "      <td>5000</td>\n",
       "      <td>27</td>\n",
       "      <td>16500.0</td>\n",
       "    </tr>\n",
       "    <tr>\n",
       "      <th>2</th>\n",
       "      <td>1</td>\n",
       "      <td>alfa-romero Quadrifoglio</td>\n",
       "      <td>gas</td>\n",
       "      <td>std</td>\n",
       "      <td>two</td>\n",
       "      <td>hatchback</td>\n",
       "      <td>rwd</td>\n",
       "      <td>171.2</td>\n",
       "      <td>65.5</td>\n",
       "      <td>52.4</td>\n",
       "      <td>...</td>\n",
       "      <td>six</td>\n",
       "      <td>152</td>\n",
       "      <td>mpfi</td>\n",
       "      <td>2.68</td>\n",
       "      <td>3.47</td>\n",
       "      <td>9.0</td>\n",
       "      <td>154</td>\n",
       "      <td>5000</td>\n",
       "      <td>26</td>\n",
       "      <td>16500.0</td>\n",
       "    </tr>\n",
       "    <tr>\n",
       "      <th>3</th>\n",
       "      <td>2</td>\n",
       "      <td>audi 100 ls</td>\n",
       "      <td>gas</td>\n",
       "      <td>std</td>\n",
       "      <td>four</td>\n",
       "      <td>sedan</td>\n",
       "      <td>fwd</td>\n",
       "      <td>176.6</td>\n",
       "      <td>66.2</td>\n",
       "      <td>54.3</td>\n",
       "      <td>...</td>\n",
       "      <td>four</td>\n",
       "      <td>109</td>\n",
       "      <td>mpfi</td>\n",
       "      <td>3.19</td>\n",
       "      <td>3.40</td>\n",
       "      <td>10.0</td>\n",
       "      <td>102</td>\n",
       "      <td>5500</td>\n",
       "      <td>30</td>\n",
       "      <td>13950.0</td>\n",
       "    </tr>\n",
       "    <tr>\n",
       "      <th>4</th>\n",
       "      <td>2</td>\n",
       "      <td>audi 100ls</td>\n",
       "      <td>gas</td>\n",
       "      <td>std</td>\n",
       "      <td>four</td>\n",
       "      <td>sedan</td>\n",
       "      <td>4wd</td>\n",
       "      <td>176.6</td>\n",
       "      <td>66.4</td>\n",
       "      <td>54.3</td>\n",
       "      <td>...</td>\n",
       "      <td>five</td>\n",
       "      <td>136</td>\n",
       "      <td>mpfi</td>\n",
       "      <td>3.19</td>\n",
       "      <td>3.40</td>\n",
       "      <td>8.0</td>\n",
       "      <td>115</td>\n",
       "      <td>5500</td>\n",
       "      <td>22</td>\n",
       "      <td>17450.0</td>\n",
       "    </tr>\n",
       "  </tbody>\n",
       "</table>\n",
       "<p>5 rows × 21 columns</p>\n",
       "</div>"
      ],
      "text/plain": [
       "  symboling                   CarName fueltype aspiration doornumber  \\\n",
       "0         3        alfa-romero giulia      gas        std        two   \n",
       "1         3       alfa-romero stelvio      gas        std        two   \n",
       "2         1  alfa-romero Quadrifoglio      gas        std        two   \n",
       "3         2               audi 100 ls      gas        std       four   \n",
       "4         2                audi 100ls      gas        std       four   \n",
       "\n",
       "       carbody drivewheel  carlength  carwidth  carheight  ... cylindernumber  \\\n",
       "0  convertible        rwd      168.8      64.1       48.8  ...           four   \n",
       "1  convertible        rwd      168.8      64.1       48.8  ...           four   \n",
       "2    hatchback        rwd      171.2      65.5       52.4  ...            six   \n",
       "3        sedan        fwd      176.6      66.2       54.3  ...           four   \n",
       "4        sedan        4wd      176.6      66.4       54.3  ...           five   \n",
       "\n",
       "  enginesize  fuelsystem boreratio  stroke  compressionratio  horsepower  \\\n",
       "0        130        mpfi      3.47    2.68               9.0         111   \n",
       "1        130        mpfi      3.47    2.68               9.0         111   \n",
       "2        152        mpfi      2.68    3.47               9.0         154   \n",
       "3        109        mpfi      3.19    3.40              10.0         102   \n",
       "4        136        mpfi      3.19    3.40               8.0         115   \n",
       "\n",
       "   peakrpm  highwaympg    price  \n",
       "0     5000          27  13495.0  \n",
       "1     5000          27  16500.0  \n",
       "2     5000          26  16500.0  \n",
       "3     5500          30  13950.0  \n",
       "4     5500          22  17450.0  \n",
       "\n",
       "[5 rows x 21 columns]"
      ]
     },
     "execution_count": 33,
     "metadata": {},
     "output_type": "execute_result"
    }
   ],
   "source": [
    "data.head()"
   ]
  },
  {
   "cell_type": "code",
   "execution_count": 34,
   "metadata": {
    "scrolled": true
   },
   "outputs": [
    {
     "data": {
      "image/png": "[encoded data removed]",
      "text/plain": [
       "<Figure size 1440x2160 with 9 Axes>"
      ]
     },
     "metadata": {
      "needs_background": "light"
     },
     "output_type": "display_data"
    }
   ],
   "source": [
    "# boxplot: categorical columns Vs dependent variable (price)\n",
    "\n",
    "cat_cols = data.select_dtypes(include = 'object').columns\n",
    "\n",
    "# removing 'CarName' column with high number of categories\n",
    "cat_cols = cat_cols.drop('CarName')\n",
    "\n",
    "plt.subplots(figsize=(20,30))\n",
    "i = 1\n",
    "\n",
    "for col in cat_cols:\n",
    "    plt.subplot(int(len(cat_cols)/2)+1, 2 , i)\n",
    "    sns.boxplot(x=col, y='price', data=data)\n",
    "    i = i + 1\n",
    "    \n",
    "    "
   ]
  },
  {
   "cell_type": "markdown",
   "metadata": {},
   "source": [
    "Observations,\n",
    "- Cars with insurance rating 1 are the cheapest.\n",
    "- Diesel, turbo based cars are expensive.\n",
    "- rwd cars are expensive as compared to fwd and 4wd.\n",
    "- Convertibles and hardtop are expensive car segments.\n",
    "- 8 cylinder cars are most expensive. Probably super cars"
   ]
  },
  {
   "cell_type": "markdown",
   "metadata": {},
   "source": [
    "## 4. Data Preparation"
   ]
  },
  {
   "cell_type": "code",
   "execution_count": 35,
   "metadata": {},
   "outputs": [],
   "source": [
    "# brand: Extracting car brand name from 'CarName' column\n",
    "\n",
    "data['brand'] = data.CarName.str.split(' ', expand=True)[0]"
   ]
  },
  {
   "cell_type": "code",
   "execution_count": 36,
   "metadata": {},
   "outputs": [
    {
     "data": {
      "text/plain": [
       "toyota         31\n",
       "nissan         17\n",
       "mazda          15\n",
       "mitsubishi     13\n",
       "honda          13\n",
       "subaru         12\n",
       "peugeot        11\n",
       "volvo          11\n",
       "dodge           9\n",
       "volkswagen      9\n",
       "bmw             8\n",
       "buick           8\n",
       "plymouth        7\n",
       "audi            7\n",
       "saab            6\n",
       "isuzu           4\n",
       "porsche         4\n",
       "alfa-romero     3\n",
       "chevrolet       3\n",
       "jaguar          3\n",
       "maxda           2\n",
       "vw              2\n",
       "renault         2\n",
       "mercury         1\n",
       "porcshce        1\n",
       "Nissan          1\n",
       "vokswagen       1\n",
       "toyouta         1\n",
       "Name: brand, dtype: int64"
      ]
     },
     "execution_count": 36,
     "metadata": {},
     "output_type": "execute_result"
    }
   ],
   "source": [
    "# Analysing quality of brand column\n",
    "\n",
    "data.brand.value_counts()"
   ]
  },
  {
   "cell_type": "markdown",
   "metadata": {},
   "source": [
    "Observation,\n",
    "- 'maxda' is an error. Should be replaced with 'mazda'.\n",
    "- 'vw' and 'vokswagen' should be replaced with 'volkswagen'.\n",
    "- 'porcshce' should be replaced with 'porsche'.\n",
    "- 'Nissan' to be replaced with 'nissan'.\n",
    "- 'toyouta' to be replaced with 'toyota'"
   ]
  },
  {
   "cell_type": "code",
   "execution_count": 37,
   "metadata": {},
   "outputs": [
    {
     "data": {
      "text/plain": [
       "toyota         32\n",
       "mazda          20\n",
       "nissan         18\n",
       "mitsubishi     13\n",
       "honda          13\n",
       "subaru         12\n",
       "volvo          11\n",
       "peugeot        11\n",
       "dodge           9\n",
       "volkswagen      9\n",
       "bmw             8\n",
       "buick           8\n",
       "plymouth        7\n",
       "audi            7\n",
       "saab            6\n",
       "porsche         5\n",
       "isuzu           4\n",
       "chevrolet       3\n",
       "alfa-romero     3\n",
       "jaguar          3\n",
       "renault         2\n",
       "mercury         1\n",
       "Name: brand, dtype: int64"
      ]
     },
     "execution_count": 37,
     "metadata": {},
     "output_type": "execute_result"
    }
   ],
   "source": [
    "# replacing faulty entries\n",
    "\n",
    "data.brand = data.brand.replace('maxda', 'mazda')\n",
    "data.brand = data.brand.replace(['vw', 'vokswagen'], 'mazda')\n",
    "data.brand = data.brand.replace('porcshce', 'porsche')\n",
    "data.brand = data.brand.replace('Nissan', 'nissan')\n",
    "data.brand = data.brand.replace('toyouta', 'toyota')\n",
    "\n",
    "# rechecking\n",
    "data.brand.value_counts()"
   ]
  },
  {
   "cell_type": "code",
   "execution_count": 38,
   "metadata": {},
   "outputs": [],
   "source": [
    "# Dropping 'CarName' column\n",
    "\n",
    "data = data.drop('CarName', axis=1)"
   ]
  },
  {
   "cell_type": "code",
   "execution_count": 39,
   "metadata": {},
   "outputs": [],
   "source": [
    "# Dummies\n",
    "\n",
    "cat_cols = data.select_dtypes(include='object').columns\n",
    "\n",
    "dummies = pd.get_dummies(data[cat_cols], drop_first=True)"
   ]
  },
  {
   "cell_type": "code",
   "execution_count": 40,
   "metadata": {},
   "outputs": [],
   "source": [
    "# data1 = Combining dimmies with numeric columns\n",
    "\n",
    "# num_cols\n",
    "num_cols = data.select_dtypes(include=('int64', 'float64')).columns\n",
    "\n",
    "data1 = pd.concat([data[num_cols], dummies], axis=1)"
   ]
  },
  {
   "cell_type": "code",
   "execution_count": 41,
   "metadata": {},
   "outputs": [
    {
     "data": {
      "text/html": [
       "<div>\n",
       "<style scoped>\n",
       "    .dataframe tbody tr th:only-of-type {\n",
       "        vertical-align: middle;\n",
       "    }\n",
       "\n",
       "    .dataframe tbody tr th {\n",
       "        vertical-align: top;\n",
       "    }\n",
       "\n",
       "    .dataframe thead th {\n",
       "        text-align: right;\n",
       "    }\n",
       "</style>\n",
       "<table border=\"1\" class=\"dataframe\">\n",
       "  <thead>\n",
       "    <tr style=\"text-align: right;\">\n",
       "      <th></th>\n",
       "      <th>carlength</th>\n",
       "      <th>carwidth</th>\n",
       "      <th>carheight</th>\n",
       "      <th>enginesize</th>\n",
       "      <th>boreratio</th>\n",
       "      <th>stroke</th>\n",
       "      <th>compressionratio</th>\n",
       "      <th>horsepower</th>\n",
       "      <th>peakrpm</th>\n",
       "      <th>highwaympg</th>\n",
       "      <th>...</th>\n",
       "      <th>brand_nissan</th>\n",
       "      <th>brand_peugeot</th>\n",
       "      <th>brand_plymouth</th>\n",
       "      <th>brand_porsche</th>\n",
       "      <th>brand_renault</th>\n",
       "      <th>brand_saab</th>\n",
       "      <th>brand_subaru</th>\n",
       "      <th>brand_toyota</th>\n",
       "      <th>brand_volkswagen</th>\n",
       "      <th>brand_volvo</th>\n",
       "    </tr>\n",
       "  </thead>\n",
       "  <tbody>\n",
       "    <tr>\n",
       "      <th>0</th>\n",
       "      <td>168.8</td>\n",
       "      <td>64.1</td>\n",
       "      <td>48.8</td>\n",
       "      <td>130</td>\n",
       "      <td>3.47</td>\n",
       "      <td>2.68</td>\n",
       "      <td>9.0</td>\n",
       "      <td>111</td>\n",
       "      <td>5000</td>\n",
       "      <td>27</td>\n",
       "      <td>...</td>\n",
       "      <td>0</td>\n",
       "      <td>0</td>\n",
       "      <td>0</td>\n",
       "      <td>0</td>\n",
       "      <td>0</td>\n",
       "      <td>0</td>\n",
       "      <td>0</td>\n",
       "      <td>0</td>\n",
       "      <td>0</td>\n",
       "      <td>0</td>\n",
       "    </tr>\n",
       "    <tr>\n",
       "      <th>1</th>\n",
       "      <td>168.8</td>\n",
       "      <td>64.1</td>\n",
       "      <td>48.8</td>\n",
       "      <td>130</td>\n",
       "      <td>3.47</td>\n",
       "      <td>2.68</td>\n",
       "      <td>9.0</td>\n",
       "      <td>111</td>\n",
       "      <td>5000</td>\n",
       "      <td>27</td>\n",
       "      <td>...</td>\n",
       "      <td>0</td>\n",
       "      <td>0</td>\n",
       "      <td>0</td>\n",
       "      <td>0</td>\n",
       "      <td>0</td>\n",
       "      <td>0</td>\n",
       "      <td>0</td>\n",
       "      <td>0</td>\n",
       "      <td>0</td>\n",
       "      <td>0</td>\n",
       "    </tr>\n",
       "    <tr>\n",
       "      <th>2</th>\n",
       "      <td>171.2</td>\n",
       "      <td>65.5</td>\n",
       "      <td>52.4</td>\n",
       "      <td>152</td>\n",
       "      <td>2.68</td>\n",
       "      <td>3.47</td>\n",
       "      <td>9.0</td>\n",
       "      <td>154</td>\n",
       "      <td>5000</td>\n",
       "      <td>26</td>\n",
       "      <td>...</td>\n",
       "      <td>0</td>\n",
       "      <td>0</td>\n",
       "      <td>0</td>\n",
       "      <td>0</td>\n",
       "      <td>0</td>\n",
       "      <td>0</td>\n",
       "      <td>0</td>\n",
       "      <td>0</td>\n",
       "      <td>0</td>\n",
       "      <td>0</td>\n",
       "    </tr>\n",
       "    <tr>\n",
       "      <th>3</th>\n",
       "      <td>176.6</td>\n",
       "      <td>66.2</td>\n",
       "      <td>54.3</td>\n",
       "      <td>109</td>\n",
       "      <td>3.19</td>\n",
       "      <td>3.40</td>\n",
       "      <td>10.0</td>\n",
       "      <td>102</td>\n",
       "      <td>5500</td>\n",
       "      <td>30</td>\n",
       "      <td>...</td>\n",
       "      <td>0</td>\n",
       "      <td>0</td>\n",
       "      <td>0</td>\n",
       "      <td>0</td>\n",
       "      <td>0</td>\n",
       "      <td>0</td>\n",
       "      <td>0</td>\n",
       "      <td>0</td>\n",
       "      <td>0</td>\n",
       "      <td>0</td>\n",
       "    </tr>\n",
       "    <tr>\n",
       "      <th>4</th>\n",
       "      <td>176.6</td>\n",
       "      <td>66.4</td>\n",
       "      <td>54.3</td>\n",
       "      <td>136</td>\n",
       "      <td>3.19</td>\n",
       "      <td>3.40</td>\n",
       "      <td>8.0</td>\n",
       "      <td>115</td>\n",
       "      <td>5500</td>\n",
       "      <td>22</td>\n",
       "      <td>...</td>\n",
       "      <td>0</td>\n",
       "      <td>0</td>\n",
       "      <td>0</td>\n",
       "      <td>0</td>\n",
       "      <td>0</td>\n",
       "      <td>0</td>\n",
       "      <td>0</td>\n",
       "      <td>0</td>\n",
       "      <td>0</td>\n",
       "      <td>0</td>\n",
       "    </tr>\n",
       "  </tbody>\n",
       "</table>\n",
       "<p>5 rows × 65 columns</p>\n",
       "</div>"
      ],
      "text/plain": [
       "   carlength  carwidth  carheight  enginesize  boreratio  stroke  \\\n",
       "0      168.8      64.1       48.8         130       3.47    2.68   \n",
       "1      168.8      64.1       48.8         130       3.47    2.68   \n",
       "2      171.2      65.5       52.4         152       2.68    3.47   \n",
       "3      176.6      66.2       54.3         109       3.19    3.40   \n",
       "4      176.6      66.4       54.3         136       3.19    3.40   \n",
       "\n",
       "   compressionratio  horsepower  peakrpm  highwaympg  ...  brand_nissan  \\\n",
       "0               9.0         111     5000          27  ...             0   \n",
       "1               9.0         111     5000          27  ...             0   \n",
       "2               9.0         154     5000          26  ...             0   \n",
       "3              10.0         102     5500          30  ...             0   \n",
       "4               8.0         115     5500          22  ...             0   \n",
       "\n",
       "   brand_peugeot  brand_plymouth  brand_porsche  brand_renault  brand_saab  \\\n",
       "0              0               0              0              0           0   \n",
       "1              0               0              0              0           0   \n",
       "2              0               0              0              0           0   \n",
       "3              0               0              0              0           0   \n",
       "4              0               0              0              0           0   \n",
       "\n",
       "   brand_subaru  brand_toyota  brand_volkswagen  brand_volvo  \n",
       "0             0             0                 0            0  \n",
       "1             0             0                 0            0  \n",
       "2             0             0                 0            0  \n",
       "3             0             0                 0            0  \n",
       "4             0             0                 0            0  \n",
       "\n",
       "[5 rows x 65 columns]"
      ]
     },
     "execution_count": 41,
     "metadata": {},
     "output_type": "execute_result"
    }
   ],
   "source": [
    "# Final dataset\n",
    "\n",
    "data1.head()"
   ]
  },
  {
   "cell_type": "code",
   "execution_count": 42,
   "metadata": {},
   "outputs": [],
   "source": [
    "# splitting into X and y\n",
    "\n",
    "X = data1.drop('price', axis=1)\n",
    "y = data1['price']"
   ]
  },
  {
   "cell_type": "markdown",
   "metadata": {},
   "source": [
    "## 5. Train-Test split"
   ]
  },
  {
   "cell_type": "code",
   "execution_count": 43,
   "metadata": {},
   "outputs": [],
   "source": [
    "# train-test split\n",
    "\n",
    "X_train, X_test, y_train, y_test = train_test_split(X, y, \n",
    "                                     train_size = 0.7, \n",
    "                                     test_size = 0.3, \n",
    "                                     random_state = 100)"
   ]
  },
  {
   "cell_type": "code",
   "execution_count": 44,
   "metadata": {},
   "outputs": [
    {
     "name": "stdout",
     "output_type": "stream",
     "text": [
      "Train X data shape: (143, 64)\n",
      "Test X data shape: (62, 64)\n",
      "Train y data shape: (143,)\n",
      "Test y data shape: (62,)\n"
     ]
    }
   ],
   "source": [
    "print('Train X data shape:', X_train.shape)\n",
    "print('Test X data shape:', X_test.shape)\n",
    "print('Train y data shape:', y_train.shape)\n",
    "print('Test y data shape:', y_test.shape)"
   ]
  },
  {
   "cell_type": "markdown",
   "metadata": {},
   "source": [
    "#### Rescaling the dataset"
   ]
  },
  {
   "cell_type": "code",
   "execution_count": 45,
   "metadata": {},
   "outputs": [],
   "source": [
    "# instantiating the scalers\n",
    "\n",
    "scaler_X = MinMaxScaler()\n",
    "scaler_y = MinMaxScaler()"
   ]
  },
  {
   "cell_type": "code",
   "execution_count": 46,
   "metadata": {},
   "outputs": [],
   "source": [
    "# Minmax scaling\n",
    "\n",
    "X_train = pd.DataFrame(scaler_X.fit_transform(X_train), index=X_train.index, columns=X_train.columns)\n",
    "X_test = pd.DataFrame(scaler_X.transform(X_test), index=X_test.index, columns=X_test.columns)\n",
    "\n",
    "y_train = scaler_y.fit_transform(y_train.values.reshape(-1,1))\n",
    "y_test = scaler_y.transform(y_test.values.reshape(-1,1))"
   ]
  },
  {
   "cell_type": "markdown",
   "metadata": {},
   "source": [
    "## 6. Model Development - Validation and Evaluation"
   ]
  },
  {
   "cell_type": "code",
   "execution_count": 47,
   "metadata": {},
   "outputs": [],
   "source": [
    "# Initial level Linear regression model using all the features\n",
    "\n",
    "lm1 = LinearRegression()  # instantiating Linear Regression model\n",
    "lm1.fit(X_train, y_train)\n",
    "\n",
    "\n",
    "# Prediction using model\n",
    "y_pred_train1 = lm1.predict(X_train)\n",
    "y_pred_test1 = lm1.predict(X_test)"
   ]
  },
  {
   "cell_type": "code",
   "execution_count": 48,
   "metadata": {},
   "outputs": [
    {
     "data": {
      "text/plain": [
       "[['r2_train:', 0.9731408484969457],\n",
       " ['r2_test:', 0.796074591361536],\n",
       " ['rss_train:', 0.1774221917934684],\n",
       " ['rss_test:', 0.6757660947088983],\n",
       " ['rmse_train:', 0.03522377929646892],\n",
       " ['rmse_test:', 0.10440044607407624]]"
      ]
     },
     "execution_count": 48,
     "metadata": {},
     "output_type": "execute_result"
    }
   ],
   "source": [
    "# Evaluation matrices\n",
    "\n",
    "metric = []\n",
    "r2_train_lr = r2_score(y_train, y_pred_train1)\n",
    "metric.append(['r2_train:',r2_train_lr])\n",
    "\n",
    "r2_test_lr = r2_score(y_test, y_pred_test1)\n",
    "metric.append(['r2_test:',r2_test_lr])\n",
    "\n",
    "rss_train_lr = np.sum(np.square(y_train - y_pred_train1))\n",
    "metric.append(['rss_train:',rss_train_lr])\n",
    "\n",
    "rss_test_lr = np.sum(np.square(y_test - y_pred_test1))\n",
    "metric.append(['rss_test:',rss_test_lr])\n",
    "\n",
    "mse_train_lr = mean_squared_error(y_train, y_pred_train1)\n",
    "metric.append(['rmse_train:', mse_train_lr**0.5])\n",
    "\n",
    "mse_test_lr = mean_squared_error(y_test, y_pred_test1)\n",
    "metric.append(['rmse_test:', mse_test_lr**0.5])\n",
    "\n",
    "\n",
    "metric"
   ]
  },
  {
   "cell_type": "markdown",
   "metadata": {},
   "source": [
    "Observations,\n",
    "- training r2 score is 0.97 and test r2 score is 0.80. That means this is the case of 'overfitting'.\n",
    "- We need to reduce the number of features and try developing the model again.\n",
    "- We would be using RFE, an aggressive feature elimination technique."
   ]
  },
  {
   "cell_type": "code",
   "execution_count": 49,
   "metadata": {},
   "outputs": [],
   "source": [
    "# Running Recursive Feaetue elimination (RFE) with the output number of the variable equal to 30\n",
    "\n",
    "lm2 = LinearRegression()  # instantiating Linear Regression model\n",
    "lm2.fit(X_train, y_train)\n",
    "\n",
    "rfe = RFE(lm2, 30)             # instantiating RFE \n",
    "rfe = rfe.fit(X_train, y_train)"
   ]
  },
  {
   "cell_type": "code",
   "execution_count": 50,
   "metadata": {
    "scrolled": true
   },
   "outputs": [
    {
     "data": {
      "text/plain": [
       "[('carlength', False, 32),\n",
       " ('carwidth', True, 1),\n",
       " ('carheight', False, 2),\n",
       " ('enginesize', True, 1),\n",
       " ('boreratio', True, 1),\n",
       " ('stroke', True, 1),\n",
       " ('compressionratio', False, 9),\n",
       " ('horsepower', False, 14),\n",
       " ('peakrpm', True, 1),\n",
       " ('highwaympg', False, 28),\n",
       " ('symboling_-1', False, 8),\n",
       " ('symboling_0', False, 11),\n",
       " ('symboling_1', False, 12),\n",
       " ('symboling_2', False, 10),\n",
       " ('symboling_3', False, 24),\n",
       " ('fueltype_gas', False, 7),\n",
       " ('aspiration_turbo', True, 1),\n",
       " ('doornumber_two', False, 26),\n",
       " ('carbody_hardtop', False, 4),\n",
       " ('carbody_hatchback', False, 3),\n",
       " ('carbody_sedan', False, 5),\n",
       " ('carbody_wagon', False, 6),\n",
       " ('drivewheel_fwd', False, 15),\n",
       " ('drivewheel_rwd', False, 23),\n",
       " ('enginetype_dohcv', True, 1),\n",
       " ('enginetype_l', True, 1),\n",
       " ('enginetype_ohc', False, 22),\n",
       " ('enginetype_ohcf', True, 1),\n",
       " ('enginetype_ohcv', True, 1),\n",
       " ('enginetype_rotor', True, 1),\n",
       " ('cylindernumber_five', True, 1),\n",
       " ('cylindernumber_four', True, 1),\n",
       " ('cylindernumber_six', True, 1),\n",
       " ('cylindernumber_three', True, 1),\n",
       " ('cylindernumber_twelve', True, 1),\n",
       " ('cylindernumber_two', True, 1),\n",
       " ('fuelsystem_2bbl', False, 19),\n",
       " ('fuelsystem_4bbl', False, 30),\n",
       " ('fuelsystem_idi', False, 16),\n",
       " ('fuelsystem_mfi', False, 33),\n",
       " ('fuelsystem_mpfi', False, 21),\n",
       " ('fuelsystem_spdi', False, 20),\n",
       " ('fuelsystem_spfi', False, 34),\n",
       " ('brand_audi', True, 1),\n",
       " ('brand_bmw', True, 1),\n",
       " ('brand_buick', True, 1),\n",
       " ('brand_chevrolet', False, 31),\n",
       " ('brand_dodge', False, 18),\n",
       " ('brand_honda', False, 27),\n",
       " ('brand_isuzu', True, 1),\n",
       " ('brand_jaguar', False, 25),\n",
       " ('brand_mazda', True, 1),\n",
       " ('brand_mercury', False, 35),\n",
       " ('brand_mitsubishi', True, 1),\n",
       " ('brand_nissan', True, 1),\n",
       " ('brand_peugeot', True, 1),\n",
       " ('brand_plymouth', False, 17),\n",
       " ('brand_porsche', True, 1),\n",
       " ('brand_renault', False, 29),\n",
       " ('brand_saab', True, 1),\n",
       " ('brand_subaru', True, 1),\n",
       " ('brand_toyota', True, 1),\n",
       " ('brand_volkswagen', False, 13),\n",
       " ('brand_volvo', True, 1)]"
      ]
     },
     "execution_count": 50,
     "metadata": {},
     "output_type": "execute_result"
    }
   ],
   "source": [
    "# Features supported by RFE\n",
    "\n",
    "list(zip(X_train.columns, rfe.support_, rfe.ranking_))"
   ]
  },
  {
   "cell_type": "code",
   "execution_count": 51,
   "metadata": {},
   "outputs": [],
   "source": [
    "# Updating the dataset using RFE\n",
    "\n",
    "X_train_rfe = X_train[X_train.columns[rfe.support_]]\n",
    "X_test_rfe = X_test[X_test.columns[rfe.support_]]"
   ]
  },
  {
   "cell_type": "code",
   "execution_count": 52,
   "metadata": {},
   "outputs": [],
   "source": [
    "# Building linear model using RFE filtered features\n",
    "\n",
    "# Instantiate\n",
    "lm3 = LinearRegression()\n",
    "\n",
    "# Fit a line\n",
    "lm3.fit(X_train_rfe, y_train)\n",
    "\n",
    "# Prediction using model\n",
    "y_pred_train3 = lm3.predict(X_train_rfe)\n",
    "y_pred_test3 = lm3.predict(X_test_rfe)"
   ]
  },
  {
   "cell_type": "code",
   "execution_count": 53,
   "metadata": {},
   "outputs": [
    {
     "data": {
      "text/plain": [
       "[['r2_train:', 0.9621423568090136],\n",
       " ['r2_test:', 0.7829200517017292],\n",
       " ['rss_train:', 0.2500743938361598],\n",
       " ['rss_test:', 0.7193574840946168],\n",
       " ['rmse_train:', 0.04181832116271827],\n",
       " ['rmse_test:', 0.10771508745780327]]"
      ]
     },
     "execution_count": 53,
     "metadata": {},
     "output_type": "execute_result"
    }
   ],
   "source": [
    "# Evaluation matrices\n",
    "\n",
    "metric = []\n",
    "r2_train_lr = r2_score(y_train, y_pred_train3)\n",
    "metric.append(['r2_train:',r2_train_lr])\n",
    "\n",
    "r2_test_lr = r2_score(y_test, y_pred_test3)\n",
    "metric.append(['r2_test:',r2_test_lr])\n",
    "\n",
    "rss_train_lr = np.sum(np.square(y_train - y_pred_train3))\n",
    "metric.append(['rss_train:',rss_train_lr])\n",
    "\n",
    "rss_test_lr = np.sum(np.square(y_test - y_pred_test3))\n",
    "metric.append(['rss_test:',rss_test_lr])\n",
    "\n",
    "mse_train_lr = mean_squared_error(y_train, y_pred_train3)\n",
    "metric.append(['rmse_train:', mse_train_lr**0.5])\n",
    "\n",
    "mse_test_lr = mean_squared_error(y_test, y_pred_test3)\n",
    "metric.append(['rmse_test:', mse_test_lr**0.5])\n",
    "\n",
    "\n",
    "metric"
   ]
  },
  {
   "cell_type": "markdown",
   "metadata": {},
   "source": [
    "Observation,\n",
    "- We are still facing the problem of overfitting.\n",
    "- We would be using regularization techniques Ridge and Lasso and tune their hyper parameters using grid search."
   ]
  },
  {
   "cell_type": "markdown",
   "metadata": {},
   "source": [
    "#### Checking Variance inflantion factor (VIF) "
   ]
  },
  {
   "cell_type": "code",
   "execution_count": 54,
   "metadata": {},
   "outputs": [],
   "source": [
    "# creating vif function\n",
    "\n",
    "def get_VIF_table(X):\n",
    "    vif = pd.DataFrame()\n",
    "    vif['Features'] = X.columns\n",
    "    vif['VIF'] = [variance_inflation_factor(X.values, i) for i in range(X.shape[1])]\n",
    "    vif['VIF'] = round(vif['VIF'], 2)\n",
    "    vif = vif.sort_values(by = \"VIF\", ascending = False)\n",
    "    return vif"
   ]
  },
  {
   "cell_type": "code",
   "execution_count": 55,
   "metadata": {
    "scrolled": true
   },
   "outputs": [
    {
     "data": {
      "text/html": [
       "<div>\n",
       "<style scoped>\n",
       "    .dataframe tbody tr th:only-of-type {\n",
       "        vertical-align: middle;\n",
       "    }\n",
       "\n",
       "    .dataframe tbody tr th {\n",
       "        vertical-align: top;\n",
       "    }\n",
       "\n",
       "    .dataframe thead th {\n",
       "        text-align: right;\n",
       "    }\n",
       "</style>\n",
       "<table border=\"1\" class=\"dataframe\">\n",
       "  <thead>\n",
       "    <tr style=\"text-align: right;\">\n",
       "      <th></th>\n",
       "      <th>Features</th>\n",
       "      <th>VIF</th>\n",
       "    </tr>\n",
       "  </thead>\n",
       "  <tbody>\n",
       "    <tr>\n",
       "      <th>16</th>\n",
       "      <td>cylindernumber_two</td>\n",
       "      <td>inf</td>\n",
       "    </tr>\n",
       "    <tr>\n",
       "      <th>24</th>\n",
       "      <td>brand_peugeot</td>\n",
       "      <td>inf</td>\n",
       "    </tr>\n",
       "    <tr>\n",
       "      <th>7</th>\n",
       "      <td>enginetype_l</td>\n",
       "      <td>inf</td>\n",
       "    </tr>\n",
       "    <tr>\n",
       "      <th>10</th>\n",
       "      <td>enginetype_rotor</td>\n",
       "      <td>inf</td>\n",
       "    </tr>\n",
       "    <tr>\n",
       "      <th>14</th>\n",
       "      <td>cylindernumber_three</td>\n",
       "      <td>inf</td>\n",
       "    </tr>\n",
       "    <tr>\n",
       "      <th>1</th>\n",
       "      <td>enginesize</td>\n",
       "      <td>127.49</td>\n",
       "    </tr>\n",
       "    <tr>\n",
       "      <th>2</th>\n",
       "      <td>boreratio</td>\n",
       "      <td>90.33</td>\n",
       "    </tr>\n",
       "    <tr>\n",
       "      <th>3</th>\n",
       "      <td>stroke</td>\n",
       "      <td>58.17</td>\n",
       "    </tr>\n",
       "    <tr>\n",
       "      <th>12</th>\n",
       "      <td>cylindernumber_four</td>\n",
       "      <td>54.18</td>\n",
       "    </tr>\n",
       "    <tr>\n",
       "      <th>0</th>\n",
       "      <td>carwidth</td>\n",
       "      <td>53.67</td>\n",
       "    </tr>\n",
       "    <tr>\n",
       "      <th>27</th>\n",
       "      <td>brand_subaru</td>\n",
       "      <td>33.47</td>\n",
       "    </tr>\n",
       "    <tr>\n",
       "      <th>8</th>\n",
       "      <td>enginetype_ohcf</td>\n",
       "      <td>28.92</td>\n",
       "    </tr>\n",
       "    <tr>\n",
       "      <th>13</th>\n",
       "      <td>cylindernumber_six</td>\n",
       "      <td>15.87</td>\n",
       "    </tr>\n",
       "    <tr>\n",
       "      <th>4</th>\n",
       "      <td>peakrpm</td>\n",
       "      <td>9.85</td>\n",
       "    </tr>\n",
       "    <tr>\n",
       "      <th>11</th>\n",
       "      <td>cylindernumber_five</td>\n",
       "      <td>8.05</td>\n",
       "    </tr>\n",
       "    <tr>\n",
       "      <th>19</th>\n",
       "      <td>brand_buick</td>\n",
       "      <td>6.18</td>\n",
       "    </tr>\n",
       "    <tr>\n",
       "      <th>15</th>\n",
       "      <td>cylindernumber_twelve</td>\n",
       "      <td>5.52</td>\n",
       "    </tr>\n",
       "    <tr>\n",
       "      <th>17</th>\n",
       "      <td>brand_audi</td>\n",
       "      <td>5.29</td>\n",
       "    </tr>\n",
       "    <tr>\n",
       "      <th>25</th>\n",
       "      <td>brand_porsche</td>\n",
       "      <td>4.30</td>\n",
       "    </tr>\n",
       "    <tr>\n",
       "      <th>9</th>\n",
       "      <td>enginetype_ohcv</td>\n",
       "      <td>3.01</td>\n",
       "    </tr>\n",
       "    <tr>\n",
       "      <th>6</th>\n",
       "      <td>enginetype_dohcv</td>\n",
       "      <td>2.68</td>\n",
       "    </tr>\n",
       "    <tr>\n",
       "      <th>29</th>\n",
       "      <td>brand_volvo</td>\n",
       "      <td>2.57</td>\n",
       "    </tr>\n",
       "    <tr>\n",
       "      <th>28</th>\n",
       "      <td>brand_toyota</td>\n",
       "      <td>2.50</td>\n",
       "    </tr>\n",
       "    <tr>\n",
       "      <th>18</th>\n",
       "      <td>brand_bmw</td>\n",
       "      <td>2.43</td>\n",
       "    </tr>\n",
       "    <tr>\n",
       "      <th>21</th>\n",
       "      <td>brand_mazda</td>\n",
       "      <td>2.31</td>\n",
       "    </tr>\n",
       "    <tr>\n",
       "      <th>23</th>\n",
       "      <td>brand_nissan</td>\n",
       "      <td>2.07</td>\n",
       "    </tr>\n",
       "    <tr>\n",
       "      <th>5</th>\n",
       "      <td>aspiration_turbo</td>\n",
       "      <td>2.02</td>\n",
       "    </tr>\n",
       "    <tr>\n",
       "      <th>26</th>\n",
       "      <td>brand_saab</td>\n",
       "      <td>1.61</td>\n",
       "    </tr>\n",
       "    <tr>\n",
       "      <th>22</th>\n",
       "      <td>brand_mitsubishi</td>\n",
       "      <td>1.46</td>\n",
       "    </tr>\n",
       "    <tr>\n",
       "      <th>20</th>\n",
       "      <td>brand_isuzu</td>\n",
       "      <td>1.19</td>\n",
       "    </tr>\n",
       "  </tbody>\n",
       "</table>\n",
       "</div>"
      ],
      "text/plain": [
       "                 Features     VIF\n",
       "16     cylindernumber_two     inf\n",
       "24          brand_peugeot     inf\n",
       "7            enginetype_l     inf\n",
       "10       enginetype_rotor     inf\n",
       "14   cylindernumber_three     inf\n",
       "1              enginesize  127.49\n",
       "2               boreratio   90.33\n",
       "3                  stroke   58.17\n",
       "12    cylindernumber_four   54.18\n",
       "0                carwidth   53.67\n",
       "27           brand_subaru   33.47\n",
       "8         enginetype_ohcf   28.92\n",
       "13     cylindernumber_six   15.87\n",
       "4                 peakrpm    9.85\n",
       "11    cylindernumber_five    8.05\n",
       "19            brand_buick    6.18\n",
       "15  cylindernumber_twelve    5.52\n",
       "17             brand_audi    5.29\n",
       "25          brand_porsche    4.30\n",
       "9         enginetype_ohcv    3.01\n",
       "6        enginetype_dohcv    2.68\n",
       "29            brand_volvo    2.57\n",
       "28           brand_toyota    2.50\n",
       "18              brand_bmw    2.43\n",
       "21            brand_mazda    2.31\n",
       "23           brand_nissan    2.07\n",
       "5        aspiration_turbo    2.02\n",
       "26             brand_saab    1.61\n",
       "22       brand_mitsubishi    1.46\n",
       "20            brand_isuzu    1.19"
      ]
     },
     "execution_count": 55,
     "metadata": {},
     "output_type": "execute_result"
    }
   ],
   "source": [
    "# Checking VIF\n",
    "\n",
    "get_VIF_table(X_train_rfe)"
   ]
  },
  {
   "cell_type": "markdown",
   "metadata": {},
   "source": [
    "Few features have very high VIF (i.e. infinite), that is becasue of they aren't linearly independet of that other feature.Hecne we are going to drop features one by one."
   ]
  },
  {
   "cell_type": "code",
   "execution_count": 56,
   "metadata": {},
   "outputs": [],
   "source": [
    "# Dropping 'cylindernumber_two' from both the train and test data\n",
    "\n",
    "X_train_rfe = X_train_rfe.drop('cylindernumber_two', axis=1)\n",
    "X_test_rfe = X_test_rfe.drop('cylindernumber_two', axis=1)"
   ]
  },
  {
   "cell_type": "code",
   "execution_count": 57,
   "metadata": {
    "scrolled": true
   },
   "outputs": [
    {
     "data": {
      "text/html": [
       "<div>\n",
       "<style scoped>\n",
       "    .dataframe tbody tr th:only-of-type {\n",
       "        vertical-align: middle;\n",
       "    }\n",
       "\n",
       "    .dataframe tbody tr th {\n",
       "        vertical-align: top;\n",
       "    }\n",
       "\n",
       "    .dataframe thead th {\n",
       "        text-align: right;\n",
       "    }\n",
       "</style>\n",
       "<table border=\"1\" class=\"dataframe\">\n",
       "  <thead>\n",
       "    <tr style=\"text-align: right;\">\n",
       "      <th></th>\n",
       "      <th>Features</th>\n",
       "      <th>VIF</th>\n",
       "    </tr>\n",
       "  </thead>\n",
       "  <tbody>\n",
       "    <tr>\n",
       "      <th>14</th>\n",
       "      <td>cylindernumber_three</td>\n",
       "      <td>inf</td>\n",
       "    </tr>\n",
       "    <tr>\n",
       "      <th>7</th>\n",
       "      <td>enginetype_l</td>\n",
       "      <td>inf</td>\n",
       "    </tr>\n",
       "    <tr>\n",
       "      <th>23</th>\n",
       "      <td>brand_peugeot</td>\n",
       "      <td>inf</td>\n",
       "    </tr>\n",
       "    <tr>\n",
       "      <th>1</th>\n",
       "      <td>enginesize</td>\n",
       "      <td>127.49</td>\n",
       "    </tr>\n",
       "    <tr>\n",
       "      <th>2</th>\n",
       "      <td>boreratio</td>\n",
       "      <td>90.33</td>\n",
       "    </tr>\n",
       "    <tr>\n",
       "      <th>3</th>\n",
       "      <td>stroke</td>\n",
       "      <td>58.17</td>\n",
       "    </tr>\n",
       "    <tr>\n",
       "      <th>12</th>\n",
       "      <td>cylindernumber_four</td>\n",
       "      <td>54.18</td>\n",
       "    </tr>\n",
       "    <tr>\n",
       "      <th>0</th>\n",
       "      <td>carwidth</td>\n",
       "      <td>53.67</td>\n",
       "    </tr>\n",
       "    <tr>\n",
       "      <th>26</th>\n",
       "      <td>brand_subaru</td>\n",
       "      <td>33.47</td>\n",
       "    </tr>\n",
       "    <tr>\n",
       "      <th>8</th>\n",
       "      <td>enginetype_ohcf</td>\n",
       "      <td>28.92</td>\n",
       "    </tr>\n",
       "    <tr>\n",
       "      <th>13</th>\n",
       "      <td>cylindernumber_six</td>\n",
       "      <td>15.87</td>\n",
       "    </tr>\n",
       "    <tr>\n",
       "      <th>4</th>\n",
       "      <td>peakrpm</td>\n",
       "      <td>9.85</td>\n",
       "    </tr>\n",
       "    <tr>\n",
       "      <th>11</th>\n",
       "      <td>cylindernumber_five</td>\n",
       "      <td>8.05</td>\n",
       "    </tr>\n",
       "    <tr>\n",
       "      <th>10</th>\n",
       "      <td>enginetype_rotor</td>\n",
       "      <td>6.98</td>\n",
       "    </tr>\n",
       "    <tr>\n",
       "      <th>18</th>\n",
       "      <td>brand_buick</td>\n",
       "      <td>6.18</td>\n",
       "    </tr>\n",
       "    <tr>\n",
       "      <th>15</th>\n",
       "      <td>cylindernumber_twelve</td>\n",
       "      <td>5.52</td>\n",
       "    </tr>\n",
       "    <tr>\n",
       "      <th>16</th>\n",
       "      <td>brand_audi</td>\n",
       "      <td>5.29</td>\n",
       "    </tr>\n",
       "    <tr>\n",
       "      <th>24</th>\n",
       "      <td>brand_porsche</td>\n",
       "      <td>4.30</td>\n",
       "    </tr>\n",
       "    <tr>\n",
       "      <th>9</th>\n",
       "      <td>enginetype_ohcv</td>\n",
       "      <td>3.01</td>\n",
       "    </tr>\n",
       "    <tr>\n",
       "      <th>6</th>\n",
       "      <td>enginetype_dohcv</td>\n",
       "      <td>2.68</td>\n",
       "    </tr>\n",
       "    <tr>\n",
       "      <th>28</th>\n",
       "      <td>brand_volvo</td>\n",
       "      <td>2.57</td>\n",
       "    </tr>\n",
       "    <tr>\n",
       "      <th>27</th>\n",
       "      <td>brand_toyota</td>\n",
       "      <td>2.50</td>\n",
       "    </tr>\n",
       "    <tr>\n",
       "      <th>17</th>\n",
       "      <td>brand_bmw</td>\n",
       "      <td>2.43</td>\n",
       "    </tr>\n",
       "    <tr>\n",
       "      <th>20</th>\n",
       "      <td>brand_mazda</td>\n",
       "      <td>2.31</td>\n",
       "    </tr>\n",
       "    <tr>\n",
       "      <th>22</th>\n",
       "      <td>brand_nissan</td>\n",
       "      <td>2.07</td>\n",
       "    </tr>\n",
       "    <tr>\n",
       "      <th>5</th>\n",
       "      <td>aspiration_turbo</td>\n",
       "      <td>2.02</td>\n",
       "    </tr>\n",
       "    <tr>\n",
       "      <th>25</th>\n",
       "      <td>brand_saab</td>\n",
       "      <td>1.61</td>\n",
       "    </tr>\n",
       "    <tr>\n",
       "      <th>21</th>\n",
       "      <td>brand_mitsubishi</td>\n",
       "      <td>1.46</td>\n",
       "    </tr>\n",
       "    <tr>\n",
       "      <th>19</th>\n",
       "      <td>brand_isuzu</td>\n",
       "      <td>1.19</td>\n",
       "    </tr>\n",
       "  </tbody>\n",
       "</table>\n",
       "</div>"
      ],
      "text/plain": [
       "                 Features     VIF\n",
       "14   cylindernumber_three     inf\n",
       "7            enginetype_l     inf\n",
       "23          brand_peugeot     inf\n",
       "1              enginesize  127.49\n",
       "2               boreratio   90.33\n",
       "3                  stroke   58.17\n",
       "12    cylindernumber_four   54.18\n",
       "0                carwidth   53.67\n",
       "26           brand_subaru   33.47\n",
       "8         enginetype_ohcf   28.92\n",
       "13     cylindernumber_six   15.87\n",
       "4                 peakrpm    9.85\n",
       "11    cylindernumber_five    8.05\n",
       "10       enginetype_rotor    6.98\n",
       "18            brand_buick    6.18\n",
       "15  cylindernumber_twelve    5.52\n",
       "16             brand_audi    5.29\n",
       "24          brand_porsche    4.30\n",
       "9         enginetype_ohcv    3.01\n",
       "6        enginetype_dohcv    2.68\n",
       "28            brand_volvo    2.57\n",
       "27           brand_toyota    2.50\n",
       "17              brand_bmw    2.43\n",
       "20            brand_mazda    2.31\n",
       "22           brand_nissan    2.07\n",
       "5        aspiration_turbo    2.02\n",
       "25             brand_saab    1.61\n",
       "21       brand_mitsubishi    1.46\n",
       "19            brand_isuzu    1.19"
      ]
     },
     "execution_count": 57,
     "metadata": {},
     "output_type": "execute_result"
    }
   ],
   "source": [
    "# Checking VIF\n",
    "\n",
    "get_VIF_table(X_train_rfe)"
   ]
  },
  {
   "cell_type": "code",
   "execution_count": 58,
   "metadata": {},
   "outputs": [],
   "source": [
    "# Dropping 'cylindernumber_three' from both the train and test data\n",
    "\n",
    "X_train_rfe = X_train_rfe.drop('cylindernumber_three', axis=1)\n",
    "X_test_rfe = X_test_rfe.drop('cylindernumber_three', axis=1)"
   ]
  },
  {
   "cell_type": "code",
   "execution_count": 59,
   "metadata": {
    "scrolled": true
   },
   "outputs": [
    {
     "data": {
      "text/html": [
       "<div>\n",
       "<style scoped>\n",
       "    .dataframe tbody tr th:only-of-type {\n",
       "        vertical-align: middle;\n",
       "    }\n",
       "\n",
       "    .dataframe tbody tr th {\n",
       "        vertical-align: top;\n",
       "    }\n",
       "\n",
       "    .dataframe thead th {\n",
       "        text-align: right;\n",
       "    }\n",
       "</style>\n",
       "<table border=\"1\" class=\"dataframe\">\n",
       "  <thead>\n",
       "    <tr style=\"text-align: right;\">\n",
       "      <th></th>\n",
       "      <th>Features</th>\n",
       "      <th>VIF</th>\n",
       "    </tr>\n",
       "  </thead>\n",
       "  <tbody>\n",
       "    <tr>\n",
       "      <th>1</th>\n",
       "      <td>enginesize</td>\n",
       "      <td>127.49</td>\n",
       "    </tr>\n",
       "    <tr>\n",
       "      <th>2</th>\n",
       "      <td>boreratio</td>\n",
       "      <td>90.33</td>\n",
       "    </tr>\n",
       "    <tr>\n",
       "      <th>3</th>\n",
       "      <td>stroke</td>\n",
       "      <td>58.17</td>\n",
       "    </tr>\n",
       "    <tr>\n",
       "      <th>12</th>\n",
       "      <td>cylindernumber_four</td>\n",
       "      <td>54.18</td>\n",
       "    </tr>\n",
       "    <tr>\n",
       "      <th>0</th>\n",
       "      <td>carwidth</td>\n",
       "      <td>53.67</td>\n",
       "    </tr>\n",
       "    <tr>\n",
       "      <th>25</th>\n",
       "      <td>brand_subaru</td>\n",
       "      <td>33.47</td>\n",
       "    </tr>\n",
       "    <tr>\n",
       "      <th>8</th>\n",
       "      <td>enginetype_ohcf</td>\n",
       "      <td>28.92</td>\n",
       "    </tr>\n",
       "    <tr>\n",
       "      <th>22</th>\n",
       "      <td>brand_peugeot</td>\n",
       "      <td>16.64</td>\n",
       "    </tr>\n",
       "    <tr>\n",
       "      <th>13</th>\n",
       "      <td>cylindernumber_six</td>\n",
       "      <td>15.87</td>\n",
       "    </tr>\n",
       "    <tr>\n",
       "      <th>7</th>\n",
       "      <td>enginetype_l</td>\n",
       "      <td>13.43</td>\n",
       "    </tr>\n",
       "    <tr>\n",
       "      <th>4</th>\n",
       "      <td>peakrpm</td>\n",
       "      <td>9.85</td>\n",
       "    </tr>\n",
       "    <tr>\n",
       "      <th>11</th>\n",
       "      <td>cylindernumber_five</td>\n",
       "      <td>8.05</td>\n",
       "    </tr>\n",
       "    <tr>\n",
       "      <th>10</th>\n",
       "      <td>enginetype_rotor</td>\n",
       "      <td>6.98</td>\n",
       "    </tr>\n",
       "    <tr>\n",
       "      <th>17</th>\n",
       "      <td>brand_buick</td>\n",
       "      <td>6.18</td>\n",
       "    </tr>\n",
       "    <tr>\n",
       "      <th>14</th>\n",
       "      <td>cylindernumber_twelve</td>\n",
       "      <td>5.52</td>\n",
       "    </tr>\n",
       "    <tr>\n",
       "      <th>15</th>\n",
       "      <td>brand_audi</td>\n",
       "      <td>5.29</td>\n",
       "    </tr>\n",
       "    <tr>\n",
       "      <th>23</th>\n",
       "      <td>brand_porsche</td>\n",
       "      <td>4.30</td>\n",
       "    </tr>\n",
       "    <tr>\n",
       "      <th>9</th>\n",
       "      <td>enginetype_ohcv</td>\n",
       "      <td>3.01</td>\n",
       "    </tr>\n",
       "    <tr>\n",
       "      <th>6</th>\n",
       "      <td>enginetype_dohcv</td>\n",
       "      <td>2.68</td>\n",
       "    </tr>\n",
       "    <tr>\n",
       "      <th>27</th>\n",
       "      <td>brand_volvo</td>\n",
       "      <td>2.57</td>\n",
       "    </tr>\n",
       "    <tr>\n",
       "      <th>26</th>\n",
       "      <td>brand_toyota</td>\n",
       "      <td>2.50</td>\n",
       "    </tr>\n",
       "    <tr>\n",
       "      <th>16</th>\n",
       "      <td>brand_bmw</td>\n",
       "      <td>2.43</td>\n",
       "    </tr>\n",
       "    <tr>\n",
       "      <th>19</th>\n",
       "      <td>brand_mazda</td>\n",
       "      <td>2.31</td>\n",
       "    </tr>\n",
       "    <tr>\n",
       "      <th>21</th>\n",
       "      <td>brand_nissan</td>\n",
       "      <td>2.07</td>\n",
       "    </tr>\n",
       "    <tr>\n",
       "      <th>5</th>\n",
       "      <td>aspiration_turbo</td>\n",
       "      <td>2.02</td>\n",
       "    </tr>\n",
       "    <tr>\n",
       "      <th>24</th>\n",
       "      <td>brand_saab</td>\n",
       "      <td>1.61</td>\n",
       "    </tr>\n",
       "    <tr>\n",
       "      <th>20</th>\n",
       "      <td>brand_mitsubishi</td>\n",
       "      <td>1.46</td>\n",
       "    </tr>\n",
       "    <tr>\n",
       "      <th>18</th>\n",
       "      <td>brand_isuzu</td>\n",
       "      <td>1.19</td>\n",
       "    </tr>\n",
       "  </tbody>\n",
       "</table>\n",
       "</div>"
      ],
      "text/plain": [
       "                 Features     VIF\n",
       "1              enginesize  127.49\n",
       "2               boreratio   90.33\n",
       "3                  stroke   58.17\n",
       "12    cylindernumber_four   54.18\n",
       "0                carwidth   53.67\n",
       "25           brand_subaru   33.47\n",
       "8         enginetype_ohcf   28.92\n",
       "22          brand_peugeot   16.64\n",
       "13     cylindernumber_six   15.87\n",
       "7            enginetype_l   13.43\n",
       "4                 peakrpm    9.85\n",
       "11    cylindernumber_five    8.05\n",
       "10       enginetype_rotor    6.98\n",
       "17            brand_buick    6.18\n",
       "14  cylindernumber_twelve    5.52\n",
       "15             brand_audi    5.29\n",
       "23          brand_porsche    4.30\n",
       "9         enginetype_ohcv    3.01\n",
       "6        enginetype_dohcv    2.68\n",
       "27            brand_volvo    2.57\n",
       "26           brand_toyota    2.50\n",
       "16              brand_bmw    2.43\n",
       "19            brand_mazda    2.31\n",
       "21           brand_nissan    2.07\n",
       "5        aspiration_turbo    2.02\n",
       "24             brand_saab    1.61\n",
       "20       brand_mitsubishi    1.46\n",
       "18            brand_isuzu    1.19"
      ]
     },
     "execution_count": 59,
     "metadata": {},
     "output_type": "execute_result"
    }
   ],
   "source": [
    "# Checking VIF\n",
    "\n",
    "get_VIF_table(X_train_rfe)"
   ]
  },
  {
   "cell_type": "code",
   "execution_count": 60,
   "metadata": {},
   "outputs": [],
   "source": [
    "# Dropping 'enginesize' from both the train and test data\n",
    "\n",
    "X_train_rfe = X_train_rfe.drop('enginesize', axis=1)\n",
    "X_test_rfe = X_test_rfe.drop('enginesize', axis=1)"
   ]
  },
  {
   "cell_type": "code",
   "execution_count": 61,
   "metadata": {
    "scrolled": true
   },
   "outputs": [
    {
     "data": {
      "text/html": [
       "<div>\n",
       "<style scoped>\n",
       "    .dataframe tbody tr th:only-of-type {\n",
       "        vertical-align: middle;\n",
       "    }\n",
       "\n",
       "    .dataframe tbody tr th {\n",
       "        vertical-align: top;\n",
       "    }\n",
       "\n",
       "    .dataframe thead th {\n",
       "        text-align: right;\n",
       "    }\n",
       "</style>\n",
       "<table border=\"1\" class=\"dataframe\">\n",
       "  <thead>\n",
       "    <tr style=\"text-align: right;\">\n",
       "      <th></th>\n",
       "      <th>Features</th>\n",
       "      <th>VIF</th>\n",
       "    </tr>\n",
       "  </thead>\n",
       "  <tbody>\n",
       "    <tr>\n",
       "      <th>0</th>\n",
       "      <td>carwidth</td>\n",
       "      <td>50.02</td>\n",
       "    </tr>\n",
       "    <tr>\n",
       "      <th>11</th>\n",
       "      <td>cylindernumber_four</td>\n",
       "      <td>43.67</td>\n",
       "    </tr>\n",
       "    <tr>\n",
       "      <th>2</th>\n",
       "      <td>stroke</td>\n",
       "      <td>42.94</td>\n",
       "    </tr>\n",
       "    <tr>\n",
       "      <th>24</th>\n",
       "      <td>brand_subaru</td>\n",
       "      <td>31.27</td>\n",
       "    </tr>\n",
       "    <tr>\n",
       "      <th>7</th>\n",
       "      <td>enginetype_ohcf</td>\n",
       "      <td>28.57</td>\n",
       "    </tr>\n",
       "    <tr>\n",
       "      <th>1</th>\n",
       "      <td>boreratio</td>\n",
       "      <td>27.29</td>\n",
       "    </tr>\n",
       "    <tr>\n",
       "      <th>21</th>\n",
       "      <td>brand_peugeot</td>\n",
       "      <td>15.65</td>\n",
       "    </tr>\n",
       "    <tr>\n",
       "      <th>12</th>\n",
       "      <td>cylindernumber_six</td>\n",
       "      <td>12.90</td>\n",
       "    </tr>\n",
       "    <tr>\n",
       "      <th>6</th>\n",
       "      <td>enginetype_l</td>\n",
       "      <td>11.40</td>\n",
       "    </tr>\n",
       "    <tr>\n",
       "      <th>3</th>\n",
       "      <td>peakrpm</td>\n",
       "      <td>9.85</td>\n",
       "    </tr>\n",
       "    <tr>\n",
       "      <th>10</th>\n",
       "      <td>cylindernumber_five</td>\n",
       "      <td>6.12</td>\n",
       "    </tr>\n",
       "    <tr>\n",
       "      <th>14</th>\n",
       "      <td>brand_audi</td>\n",
       "      <td>4.74</td>\n",
       "    </tr>\n",
       "    <tr>\n",
       "      <th>16</th>\n",
       "      <td>brand_buick</td>\n",
       "      <td>4.59</td>\n",
       "    </tr>\n",
       "    <tr>\n",
       "      <th>22</th>\n",
       "      <td>brand_porsche</td>\n",
       "      <td>4.05</td>\n",
       "    </tr>\n",
       "    <tr>\n",
       "      <th>9</th>\n",
       "      <td>enginetype_rotor</td>\n",
       "      <td>3.98</td>\n",
       "    </tr>\n",
       "    <tr>\n",
       "      <th>8</th>\n",
       "      <td>enginetype_ohcv</td>\n",
       "      <td>2.94</td>\n",
       "    </tr>\n",
       "    <tr>\n",
       "      <th>5</th>\n",
       "      <td>enginetype_dohcv</td>\n",
       "      <td>2.63</td>\n",
       "    </tr>\n",
       "    <tr>\n",
       "      <th>25</th>\n",
       "      <td>brand_toyota</td>\n",
       "      <td>2.38</td>\n",
       "    </tr>\n",
       "    <tr>\n",
       "      <th>15</th>\n",
       "      <td>brand_bmw</td>\n",
       "      <td>2.31</td>\n",
       "    </tr>\n",
       "    <tr>\n",
       "      <th>26</th>\n",
       "      <td>brand_volvo</td>\n",
       "      <td>2.21</td>\n",
       "    </tr>\n",
       "    <tr>\n",
       "      <th>18</th>\n",
       "      <td>brand_mazda</td>\n",
       "      <td>2.19</td>\n",
       "    </tr>\n",
       "    <tr>\n",
       "      <th>4</th>\n",
       "      <td>aspiration_turbo</td>\n",
       "      <td>1.95</td>\n",
       "    </tr>\n",
       "    <tr>\n",
       "      <th>20</th>\n",
       "      <td>brand_nissan</td>\n",
       "      <td>1.83</td>\n",
       "    </tr>\n",
       "    <tr>\n",
       "      <th>13</th>\n",
       "      <td>cylindernumber_twelve</td>\n",
       "      <td>1.82</td>\n",
       "    </tr>\n",
       "    <tr>\n",
       "      <th>23</th>\n",
       "      <td>brand_saab</td>\n",
       "      <td>1.50</td>\n",
       "    </tr>\n",
       "    <tr>\n",
       "      <th>19</th>\n",
       "      <td>brand_mitsubishi</td>\n",
       "      <td>1.46</td>\n",
       "    </tr>\n",
       "    <tr>\n",
       "      <th>17</th>\n",
       "      <td>brand_isuzu</td>\n",
       "      <td>1.19</td>\n",
       "    </tr>\n",
       "  </tbody>\n",
       "</table>\n",
       "</div>"
      ],
      "text/plain": [
       "                 Features    VIF\n",
       "0                carwidth  50.02\n",
       "11    cylindernumber_four  43.67\n",
       "2                  stroke  42.94\n",
       "24           brand_subaru  31.27\n",
       "7         enginetype_ohcf  28.57\n",
       "1               boreratio  27.29\n",
       "21          brand_peugeot  15.65\n",
       "12     cylindernumber_six  12.90\n",
       "6            enginetype_l  11.40\n",
       "3                 peakrpm   9.85\n",
       "10    cylindernumber_five   6.12\n",
       "14             brand_audi   4.74\n",
       "16            brand_buick   4.59\n",
       "22          brand_porsche   4.05\n",
       "9        enginetype_rotor   3.98\n",
       "8         enginetype_ohcv   2.94\n",
       "5        enginetype_dohcv   2.63\n",
       "25           brand_toyota   2.38\n",
       "15              brand_bmw   2.31\n",
       "26            brand_volvo   2.21\n",
       "18            brand_mazda   2.19\n",
       "4        aspiration_turbo   1.95\n",
       "20           brand_nissan   1.83\n",
       "13  cylindernumber_twelve   1.82\n",
       "23             brand_saab   1.50\n",
       "19       brand_mitsubishi   1.46\n",
       "17            brand_isuzu   1.19"
      ]
     },
     "execution_count": 61,
     "metadata": {},
     "output_type": "execute_result"
    }
   ],
   "source": [
    "# Checking VIF\n",
    "\n",
    "get_VIF_table(X_train_rfe)"
   ]
  },
  {
   "cell_type": "code",
   "execution_count": 62,
   "metadata": {},
   "outputs": [],
   "source": [
    "# Dropping 'carwidth' from both the train and test data\n",
    "\n",
    "X_train_rfe = X_train_rfe.drop('carwidth', axis=1)\n",
    "X_test_rfe = X_test_rfe.drop('carwidth', axis=1)"
   ]
  },
  {
   "cell_type": "code",
   "execution_count": 63,
   "metadata": {
    "scrolled": true
   },
   "outputs": [
    {
     "data": {
      "text/html": [
       "<div>\n",
       "<style scoped>\n",
       "    .dataframe tbody tr th:only-of-type {\n",
       "        vertical-align: middle;\n",
       "    }\n",
       "\n",
       "    .dataframe tbody tr th {\n",
       "        vertical-align: top;\n",
       "    }\n",
       "\n",
       "    .dataframe thead th {\n",
       "        text-align: right;\n",
       "    }\n",
       "</style>\n",
       "<table border=\"1\" class=\"dataframe\">\n",
       "  <thead>\n",
       "    <tr style=\"text-align: right;\">\n",
       "      <th></th>\n",
       "      <th>Features</th>\n",
       "      <th>VIF</th>\n",
       "    </tr>\n",
       "  </thead>\n",
       "  <tbody>\n",
       "    <tr>\n",
       "      <th>10</th>\n",
       "      <td>cylindernumber_four</td>\n",
       "      <td>43.58</td>\n",
       "    </tr>\n",
       "    <tr>\n",
       "      <th>1</th>\n",
       "      <td>stroke</td>\n",
       "      <td>36.15</td>\n",
       "    </tr>\n",
       "    <tr>\n",
       "      <th>23</th>\n",
       "      <td>brand_subaru</td>\n",
       "      <td>28.74</td>\n",
       "    </tr>\n",
       "    <tr>\n",
       "      <th>6</th>\n",
       "      <td>enginetype_ohcf</td>\n",
       "      <td>26.41</td>\n",
       "    </tr>\n",
       "    <tr>\n",
       "      <th>0</th>\n",
       "      <td>boreratio</td>\n",
       "      <td>21.37</td>\n",
       "    </tr>\n",
       "    <tr>\n",
       "      <th>20</th>\n",
       "      <td>brand_peugeot</td>\n",
       "      <td>13.30</td>\n",
       "    </tr>\n",
       "    <tr>\n",
       "      <th>11</th>\n",
       "      <td>cylindernumber_six</td>\n",
       "      <td>12.04</td>\n",
       "    </tr>\n",
       "    <tr>\n",
       "      <th>5</th>\n",
       "      <td>enginetype_l</td>\n",
       "      <td>10.76</td>\n",
       "    </tr>\n",
       "    <tr>\n",
       "      <th>2</th>\n",
       "      <td>peakrpm</td>\n",
       "      <td>9.66</td>\n",
       "    </tr>\n",
       "    <tr>\n",
       "      <th>9</th>\n",
       "      <td>cylindernumber_five</td>\n",
       "      <td>6.10</td>\n",
       "    </tr>\n",
       "    <tr>\n",
       "      <th>13</th>\n",
       "      <td>brand_audi</td>\n",
       "      <td>4.14</td>\n",
       "    </tr>\n",
       "    <tr>\n",
       "      <th>8</th>\n",
       "      <td>enginetype_rotor</td>\n",
       "      <td>3.98</td>\n",
       "    </tr>\n",
       "    <tr>\n",
       "      <th>21</th>\n",
       "      <td>brand_porsche</td>\n",
       "      <td>3.98</td>\n",
       "    </tr>\n",
       "    <tr>\n",
       "      <th>15</th>\n",
       "      <td>brand_buick</td>\n",
       "      <td>3.46</td>\n",
       "    </tr>\n",
       "    <tr>\n",
       "      <th>7</th>\n",
       "      <td>enginetype_ohcv</td>\n",
       "      <td>2.88</td>\n",
       "    </tr>\n",
       "    <tr>\n",
       "      <th>4</th>\n",
       "      <td>enginetype_dohcv</td>\n",
       "      <td>2.46</td>\n",
       "    </tr>\n",
       "    <tr>\n",
       "      <th>24</th>\n",
       "      <td>brand_toyota</td>\n",
       "      <td>2.37</td>\n",
       "    </tr>\n",
       "    <tr>\n",
       "      <th>14</th>\n",
       "      <td>brand_bmw</td>\n",
       "      <td>2.31</td>\n",
       "    </tr>\n",
       "    <tr>\n",
       "      <th>17</th>\n",
       "      <td>brand_mazda</td>\n",
       "      <td>2.16</td>\n",
       "    </tr>\n",
       "    <tr>\n",
       "      <th>25</th>\n",
       "      <td>brand_volvo</td>\n",
       "      <td>2.04</td>\n",
       "    </tr>\n",
       "    <tr>\n",
       "      <th>3</th>\n",
       "      <td>aspiration_turbo</td>\n",
       "      <td>1.95</td>\n",
       "    </tr>\n",
       "    <tr>\n",
       "      <th>19</th>\n",
       "      <td>brand_nissan</td>\n",
       "      <td>1.76</td>\n",
       "    </tr>\n",
       "    <tr>\n",
       "      <th>12</th>\n",
       "      <td>cylindernumber_twelve</td>\n",
       "      <td>1.53</td>\n",
       "    </tr>\n",
       "    <tr>\n",
       "      <th>18</th>\n",
       "      <td>brand_mitsubishi</td>\n",
       "      <td>1.46</td>\n",
       "    </tr>\n",
       "    <tr>\n",
       "      <th>22</th>\n",
       "      <td>brand_saab</td>\n",
       "      <td>1.46</td>\n",
       "    </tr>\n",
       "    <tr>\n",
       "      <th>16</th>\n",
       "      <td>brand_isuzu</td>\n",
       "      <td>1.15</td>\n",
       "    </tr>\n",
       "  </tbody>\n",
       "</table>\n",
       "</div>"
      ],
      "text/plain": [
       "                 Features    VIF\n",
       "10    cylindernumber_four  43.58\n",
       "1                  stroke  36.15\n",
       "23           brand_subaru  28.74\n",
       "6         enginetype_ohcf  26.41\n",
       "0               boreratio  21.37\n",
       "20          brand_peugeot  13.30\n",
       "11     cylindernumber_six  12.04\n",
       "5            enginetype_l  10.76\n",
       "2                 peakrpm   9.66\n",
       "9     cylindernumber_five   6.10\n",
       "13             brand_audi   4.14\n",
       "8        enginetype_rotor   3.98\n",
       "21          brand_porsche   3.98\n",
       "15            brand_buick   3.46\n",
       "7         enginetype_ohcv   2.88\n",
       "4        enginetype_dohcv   2.46\n",
       "24           brand_toyota   2.37\n",
       "14              brand_bmw   2.31\n",
       "17            brand_mazda   2.16\n",
       "25            brand_volvo   2.04\n",
       "3        aspiration_turbo   1.95\n",
       "19           brand_nissan   1.76\n",
       "12  cylindernumber_twelve   1.53\n",
       "18       brand_mitsubishi   1.46\n",
       "22             brand_saab   1.46\n",
       "16            brand_isuzu   1.15"
      ]
     },
     "execution_count": 63,
     "metadata": {},
     "output_type": "execute_result"
    }
   ],
   "source": [
    "# Checking VIF\n",
    "\n",
    "get_VIF_table(X_train_rfe)"
   ]
  },
  {
   "cell_type": "code",
   "execution_count": 64,
   "metadata": {},
   "outputs": [],
   "source": [
    "# Dropping 'cylindernumber_four' from both the train and test data\n",
    "\n",
    "X_train_rfe = X_train_rfe.drop('cylindernumber_four', axis=1)\n",
    "X_test_rfe = X_test_rfe.drop('cylindernumber_four', axis=1)"
   ]
  },
  {
   "cell_type": "code",
   "execution_count": 65,
   "metadata": {
    "scrolled": true
   },
   "outputs": [
    {
     "data": {
      "text/html": [
       "<div>\n",
       "<style scoped>\n",
       "    .dataframe tbody tr th:only-of-type {\n",
       "        vertical-align: middle;\n",
       "    }\n",
       "\n",
       "    .dataframe tbody tr th {\n",
       "        vertical-align: top;\n",
       "    }\n",
       "\n",
       "    .dataframe thead th {\n",
       "        text-align: right;\n",
       "    }\n",
       "</style>\n",
       "<table border=\"1\" class=\"dataframe\">\n",
       "  <thead>\n",
       "    <tr style=\"text-align: right;\">\n",
       "      <th></th>\n",
       "      <th>Features</th>\n",
       "      <th>VIF</th>\n",
       "    </tr>\n",
       "  </thead>\n",
       "  <tbody>\n",
       "    <tr>\n",
       "      <th>22</th>\n",
       "      <td>brand_subaru</td>\n",
       "      <td>27.71</td>\n",
       "    </tr>\n",
       "    <tr>\n",
       "      <th>6</th>\n",
       "      <td>enginetype_ohcf</td>\n",
       "      <td>26.35</td>\n",
       "    </tr>\n",
       "    <tr>\n",
       "      <th>0</th>\n",
       "      <td>boreratio</td>\n",
       "      <td>21.30</td>\n",
       "    </tr>\n",
       "    <tr>\n",
       "      <th>1</th>\n",
       "      <td>stroke</td>\n",
       "      <td>16.99</td>\n",
       "    </tr>\n",
       "    <tr>\n",
       "      <th>19</th>\n",
       "      <td>brand_peugeot</td>\n",
       "      <td>10.30</td>\n",
       "    </tr>\n",
       "    <tr>\n",
       "      <th>5</th>\n",
       "      <td>enginetype_l</td>\n",
       "      <td>9.15</td>\n",
       "    </tr>\n",
       "    <tr>\n",
       "      <th>2</th>\n",
       "      <td>peakrpm</td>\n",
       "      <td>6.13</td>\n",
       "    </tr>\n",
       "    <tr>\n",
       "      <th>9</th>\n",
       "      <td>cylindernumber_five</td>\n",
       "      <td>5.07</td>\n",
       "    </tr>\n",
       "    <tr>\n",
       "      <th>20</th>\n",
       "      <td>brand_porsche</td>\n",
       "      <td>3.95</td>\n",
       "    </tr>\n",
       "    <tr>\n",
       "      <th>12</th>\n",
       "      <td>brand_audi</td>\n",
       "      <td>3.76</td>\n",
       "    </tr>\n",
       "    <tr>\n",
       "      <th>14</th>\n",
       "      <td>brand_buick</td>\n",
       "      <td>3.01</td>\n",
       "    </tr>\n",
       "    <tr>\n",
       "      <th>10</th>\n",
       "      <td>cylindernumber_six</td>\n",
       "      <td>2.97</td>\n",
       "    </tr>\n",
       "    <tr>\n",
       "      <th>7</th>\n",
       "      <td>enginetype_ohcv</td>\n",
       "      <td>2.88</td>\n",
       "    </tr>\n",
       "    <tr>\n",
       "      <th>13</th>\n",
       "      <td>brand_bmw</td>\n",
       "      <td>2.02</td>\n",
       "    </tr>\n",
       "    <tr>\n",
       "      <th>4</th>\n",
       "      <td>enginetype_dohcv</td>\n",
       "      <td>2.00</td>\n",
       "    </tr>\n",
       "    <tr>\n",
       "      <th>3</th>\n",
       "      <td>aspiration_turbo</td>\n",
       "      <td>1.95</td>\n",
       "    </tr>\n",
       "    <tr>\n",
       "      <th>24</th>\n",
       "      <td>brand_volvo</td>\n",
       "      <td>1.92</td>\n",
       "    </tr>\n",
       "    <tr>\n",
       "      <th>16</th>\n",
       "      <td>brand_mazda</td>\n",
       "      <td>1.89</td>\n",
       "    </tr>\n",
       "    <tr>\n",
       "      <th>23</th>\n",
       "      <td>brand_toyota</td>\n",
       "      <td>1.70</td>\n",
       "    </tr>\n",
       "    <tr>\n",
       "      <th>18</th>\n",
       "      <td>brand_nissan</td>\n",
       "      <td>1.59</td>\n",
       "    </tr>\n",
       "    <tr>\n",
       "      <th>8</th>\n",
       "      <td>enginetype_rotor</td>\n",
       "      <td>1.58</td>\n",
       "    </tr>\n",
       "    <tr>\n",
       "      <th>17</th>\n",
       "      <td>brand_mitsubishi</td>\n",
       "      <td>1.45</td>\n",
       "    </tr>\n",
       "    <tr>\n",
       "      <th>11</th>\n",
       "      <td>cylindernumber_twelve</td>\n",
       "      <td>1.39</td>\n",
       "    </tr>\n",
       "    <tr>\n",
       "      <th>21</th>\n",
       "      <td>brand_saab</td>\n",
       "      <td>1.39</td>\n",
       "    </tr>\n",
       "    <tr>\n",
       "      <th>15</th>\n",
       "      <td>brand_isuzu</td>\n",
       "      <td>1.07</td>\n",
       "    </tr>\n",
       "  </tbody>\n",
       "</table>\n",
       "</div>"
      ],
      "text/plain": [
       "                 Features    VIF\n",
       "22           brand_subaru  27.71\n",
       "6         enginetype_ohcf  26.35\n",
       "0               boreratio  21.30\n",
       "1                  stroke  16.99\n",
       "19          brand_peugeot  10.30\n",
       "5            enginetype_l   9.15\n",
       "2                 peakrpm   6.13\n",
       "9     cylindernumber_five   5.07\n",
       "20          brand_porsche   3.95\n",
       "12             brand_audi   3.76\n",
       "14            brand_buick   3.01\n",
       "10     cylindernumber_six   2.97\n",
       "7         enginetype_ohcv   2.88\n",
       "13              brand_bmw   2.02\n",
       "4        enginetype_dohcv   2.00\n",
       "3        aspiration_turbo   1.95\n",
       "24            brand_volvo   1.92\n",
       "16            brand_mazda   1.89\n",
       "23           brand_toyota   1.70\n",
       "18           brand_nissan   1.59\n",
       "8        enginetype_rotor   1.58\n",
       "17       brand_mitsubishi   1.45\n",
       "11  cylindernumber_twelve   1.39\n",
       "21             brand_saab   1.39\n",
       "15            brand_isuzu   1.07"
      ]
     },
     "execution_count": 65,
     "metadata": {},
     "output_type": "execute_result"
    }
   ],
   "source": [
    "# Checking VIF\n",
    "\n",
    "get_VIF_table(X_train_rfe)"
   ]
  },
  {
   "cell_type": "markdown",
   "metadata": {},
   "source": [
    "- Ideal value of VIF in linear regression should be below 5. Here have still got many features with VIF above 5. "
   ]
  },
  {
   "cell_type": "code",
   "execution_count": 66,
   "metadata": {},
   "outputs": [],
   "source": [
    "# Building linear model using RFE filtered features\n",
    "\n",
    "# Instantiate\n",
    "lm3_1 = LinearRegression()\n",
    "\n",
    "# Fit a line\n",
    "lm3_1.fit(X_train_rfe, y_train)\n",
    "\n",
    "# Prediction using model\n",
    "y_pred_train3_1 = lm3_1.predict(X_train_rfe)\n",
    "y_pred_test3_1 = lm3_1.predict(X_test_rfe)"
   ]
  },
  {
   "cell_type": "code",
   "execution_count": 67,
   "metadata": {},
   "outputs": [
    {
     "data": {
      "text/plain": [
       "[['r2_train:', 0.8845345668065672],\n",
       " ['r2_test:', 0.83999152997789],\n",
       " ['rss_train:', 0.7627244007031128],\n",
       " ['rss_test:', 0.5302345579647018],\n",
       " ['rmse_train:', 0.07303243846301406],\n",
       " ['rmse_test:', 0.09247794488283817]]"
      ]
     },
     "execution_count": 67,
     "metadata": {},
     "output_type": "execute_result"
    }
   ],
   "source": [
    "# Evaluation matrices\n",
    "\n",
    "metric = []\n",
    "r2_train_lr = r2_score(y_train, y_pred_train3_1)\n",
    "metric.append(['r2_train:',r2_train_lr])\n",
    "\n",
    "r2_test_lr = r2_score(y_test, y_pred_test3_1)\n",
    "metric.append(['r2_test:',r2_test_lr])\n",
    "\n",
    "rss_train_lr = np.sum(np.square(y_train - y_pred_train3_1))\n",
    "metric.append(['rss_train:',rss_train_lr])\n",
    "\n",
    "rss_test_lr = np.sum(np.square(y_test - y_pred_test3_1))\n",
    "metric.append(['rss_test:',rss_test_lr])\n",
    "\n",
    "mse_train_lr = mean_squared_error(y_train, y_pred_train3_1)\n",
    "metric.append(['rmse_train:', mse_train_lr**0.5])\n",
    "\n",
    "mse_test_lr = mean_squared_error(y_test, y_pred_test3_1)\n",
    "metric.append(['rmse_test:', mse_test_lr**0.5])\n",
    "\n",
    "\n",
    "metric"
   ]
  },
  {
   "cell_type": "markdown",
   "metadata": {},
   "source": [
    "Observation,\n",
    "\n",
    "\n",
    "- We are still facing overfitting. Hence, we would move towards regularization.\n",
    "- Regularization is the sophisticated way of reducing overfitting."
   ]
  },
  {
   "cell_type": "markdown",
   "metadata": {},
   "source": [
    "#### Ridge regression and grid search"
   ]
  },
  {
   "cell_type": "code",
   "execution_count": 68,
   "metadata": {},
   "outputs": [
    {
     "name": "stdout",
     "output_type": "stream",
     "text": [
      "Fitting 5 folds for each of 28 candidates, totalling 140 fits\n"
     ]
    },
    {
     "name": "stderr",
     "output_type": "stream",
     "text": [
      "[Parallel(n_jobs=1)]: Using backend SequentialBackend with 1 concurrent workers.\n",
      "[Parallel(n_jobs=1)]: Done 140 out of 140 | elapsed:    0.6s finished\n"
     ]
    },
    {
     "data": {
      "text/plain": [
       "GridSearchCV(cv=5, error_score=nan,\n",
       "             estimator=Ridge(alpha=1.0, copy_X=True, fit_intercept=True,\n",
       "                             max_iter=None, normalize=False, random_state=None,\n",
       "                             solver='auto', tol=0.001),\n",
       "             iid='deprecated', n_jobs=None,\n",
       "             param_grid={'alpha': [0.0001, 0.001, 0.01, 0.05, 0.1, 0.2, 0.3,\n",
       "                                   0.4, 0.5, 0.6, 0.7, 0.8, 0.9, 1.0, 2.0, 3.0,\n",
       "                                   4.0, 5.0, 6.0, 7.0, 8.0, 9.0, 10.0, 20, 50,\n",
       "                                   100, 500, 1000]},\n",
       "             pre_dispatch='2*n_jobs', refit=True, return_train_score=True,\n",
       "             scoring='neg_mean_absolute_error', verbose=1)"
      ]
     },
     "execution_count": 68,
     "metadata": {},
     "output_type": "execute_result"
    }
   ],
   "source": [
    "# parameters grid\n",
    "params = {'alpha': [0.0001, 0.001, 0.01, 0.05, 0.1, \n",
    " 0.2, 0.3, 0.4, 0.5, 0.6, 0.7, 0.8, 0.9, 1.0, 2.0, 3.0, \n",
    " 4.0, 5.0, 6.0, 7.0, 8.0, 9.0, 10.0, 20, 50, 100, 500, 1000 ]}\n",
    "\n",
    "ridge = Ridge()\n",
    "\n",
    "# cross validation\n",
    "folds = 5\n",
    "model_cv = GridSearchCV(estimator = ridge, \n",
    "                        param_grid = params, \n",
    "                        scoring= 'neg_mean_absolute_error',  \n",
    "                        cv = folds, \n",
    "                        return_train_score=True,\n",
    "                        verbose = 1)    \n",
    "\n",
    "\n",
    "model_cv.fit(X_train_rfe, y_train) "
   ]
  },
  {
   "cell_type": "code",
   "execution_count": 69,
   "metadata": {},
   "outputs": [
    {
     "name": "stdout",
     "output_type": "stream",
     "text": [
      "{'alpha': 0.9}\n"
     ]
    }
   ],
   "source": [
    "# Best hyper parameter value\n",
    "print(model_cv.best_params_)"
   ]
  },
  {
   "cell_type": "code",
   "execution_count": 70,
   "metadata": {},
   "outputs": [
    {
     "name": "stdout",
     "output_type": "stream",
     "text": [
      "[[ 0.36857873  0.04004911 -0.00244263  0.05443076  0.1035364  -0.02779922\n",
      "  -0.01715624  0.0759983   0.05029334  0.04196992  0.2325943   0.28142398\n",
      "   0.13431095  0.15982786  0.31420599 -0.03304184 -0.03335022 -0.08361173\n",
      "  -0.11123789  0.01089193  0.16357539  0.01191415 -0.14690262 -0.0656359\n",
      "   0.00269422]]\n"
     ]
    }
   ],
   "source": [
    "# building model using best value for hyper parameter\n",
    "\n",
    "alpha = model_cv.best_params_['alpha']\n",
    "ridge = Ridge(alpha=alpha)\n",
    "\n",
    "ridge.fit(X_train_rfe, y_train)\n",
    "print(ridge.coef_)   # printing the coefficients"
   ]
  },
  {
   "cell_type": "markdown",
   "metadata": {},
   "source": [
    "Observation,\n",
    "- Values for the coefficients are near to 0, which is highly desirable in linear regression model. It signifies the  better fitting."
   ]
  },
  {
   "cell_type": "code",
   "execution_count": 71,
   "metadata": {},
   "outputs": [],
   "source": [
    "# Prediction using model\n",
    "\n",
    "y_pred_train4 = ridge.predict(X_train_rfe)\n",
    "y_pred_test4 = ridge.predict(X_test_rfe)"
   ]
  },
  {
   "cell_type": "code",
   "execution_count": 72,
   "metadata": {},
   "outputs": [
    {
     "data": {
      "text/plain": [
       "[['r2_train:', 0.8528759190191071],\n",
       " ['r2_test:', 0.8124914665118814],\n",
       " ['rss_train:', 0.9718503918584878],\n",
       " ['rss_test:', 0.6213640087611842],\n",
       " ['rmse_train:', 0.08243880510065021],\n",
       " ['rmse_test:', 0.10010994027222983]]"
      ]
     },
     "execution_count": 72,
     "metadata": {},
     "output_type": "execute_result"
    }
   ],
   "source": [
    "# Evaluation matrices\n",
    "\n",
    "metric = []\n",
    "r2_train_lr = r2_score(y_train, y_pred_train4)\n",
    "metric.append(['r2_train:',r2_train_lr])\n",
    "\n",
    "r2_test_lr = r2_score(y_test, y_pred_test4)\n",
    "metric.append(['r2_test:',r2_test_lr])\n",
    "\n",
    "rss_train_lr = np.sum(np.square(y_train - y_pred_train4))\n",
    "metric.append(['rss_train:',rss_train_lr])\n",
    "\n",
    "rss_test_lr = np.sum(np.square(y_test - y_pred_test4))\n",
    "metric.append(['rss_test:',rss_test_lr])\n",
    "\n",
    "mse_train_lr = mean_squared_error(y_train, y_pred_train4)\n",
    "metric.append(['rmse_train:', mse_train_lr**0.5])\n",
    "\n",
    "mse_test_lr = mean_squared_error(y_test, y_pred_test4)\n",
    "metric.append(['rmse_test:', mse_test_lr**0.5])\n",
    "\n",
    "\n",
    "metric"
   ]
  },
  {
   "cell_type": "markdown",
   "metadata": {},
   "source": [
    "Observation,\n",
    "- r2 score for training is ~0.85 but for test it is ~0.81. This indicates that model is performing good but little oberfitting.\n",
    "- Next, we would try lasso regularisation. This technique can help making coefficinet values to 0 which is equivalent to dropping those features completely."
   ]
  },
  {
   "cell_type": "markdown",
   "metadata": {},
   "source": [
    "#### Lasso regression and grid search"
   ]
  },
  {
   "cell_type": "code",
   "execution_count": 73,
   "metadata": {},
   "outputs": [
    {
     "name": "stderr",
     "output_type": "stream",
     "text": [
      "[Parallel(n_jobs=1)]: Using backend SequentialBackend with 1 concurrent workers.\n"
     ]
    },
    {
     "name": "stdout",
     "output_type": "stream",
     "text": [
      "Fitting 5 folds for each of 28 candidates, totalling 140 fits\n"
     ]
    },
    {
     "name": "stderr",
     "output_type": "stream",
     "text": [
      "[Parallel(n_jobs=1)]: Done 140 out of 140 | elapsed:    0.6s finished\n"
     ]
    },
    {
     "data": {
      "text/plain": [
       "GridSearchCV(cv=5, error_score=nan,\n",
       "             estimator=Lasso(alpha=1.0, copy_X=True, fit_intercept=True,\n",
       "                             max_iter=1000, normalize=False, positive=False,\n",
       "                             precompute=False, random_state=None,\n",
       "                             selection='cyclic', tol=0.0001, warm_start=False),\n",
       "             iid='deprecated', n_jobs=None,\n",
       "             param_grid={'alpha': [0.0001, 0.001, 0.01, 0.05, 0.1, 0.2, 0.3,\n",
       "                                   0.4, 0.5, 0.6, 0.7, 0.8, 0.9, 1.0, 2.0, 3.0,\n",
       "                                   4.0, 5.0, 6.0, 7.0, 8.0, 9.0, 10.0, 20, 50,\n",
       "                                   100, 500, 1000]},\n",
       "             pre_dispatch='2*n_jobs', refit=True, return_train_score=True,\n",
       "             scoring='neg_mean_absolute_error', verbose=1)"
      ]
     },
     "execution_count": 73,
     "metadata": {},
     "output_type": "execute_result"
    }
   ],
   "source": [
    "# parameters grid\n",
    "params = {'alpha': [0.0001, 0.001, 0.01, 0.05, 0.1, \n",
    " 0.2, 0.3, 0.4, 0.5, 0.6, 0.7, 0.8, 0.9, 1.0, 2.0, 3.0, \n",
    " 4.0, 5.0, 6.0, 7.0, 8.0, 9.0, 10.0, 20, 50, 100, 500, 1000 ]}\n",
    "\n",
    "lasso = Lasso()\n",
    "\n",
    "# cross validation\n",
    "folds = 5\n",
    "model_cv = GridSearchCV(estimator = lasso, \n",
    "                        param_grid = params, \n",
    "                        scoring= 'neg_mean_absolute_error',  \n",
    "                        cv = folds, \n",
    "                        return_train_score=True,\n",
    "                        verbose = 1)    \n",
    "\n",
    "\n",
    "model_cv.fit(X_train_rfe, y_train) "
   ]
  },
  {
   "cell_type": "code",
   "execution_count": 74,
   "metadata": {},
   "outputs": [
    {
     "name": "stdout",
     "output_type": "stream",
     "text": [
      "{'alpha': 0.001}\n"
     ]
    }
   ],
   "source": [
    "# Best hyper parameter value\n",
    "print(model_cv.best_params_)"
   ]
  },
  {
   "cell_type": "code",
   "execution_count": 75,
   "metadata": {},
   "outputs": [
    {
     "name": "stdout",
     "output_type": "stream",
     "text": [
      "[ 0.41557912  0.          0.01357677  0.04396094  0.05185615 -0.\n",
      " -0.          0.          0.          0.          0.26966287  0.45912894\n",
      "  0.19109644  0.13348562  0.4123829  -0.         -0.00077177 -0.0547878\n",
      " -0.08336801 -0.          0.14409817  0.         -0.17443171 -0.05541516\n",
      "  0.        ]\n"
     ]
    }
   ],
   "source": [
    "# building model using best value for hyper parameter\n",
    "\n",
    "alpha = model_cv.best_params_['alpha']\n",
    "lasso = Lasso(alpha=alpha)\n",
    "\n",
    "lasso.fit(X_train_rfe, y_train)\n",
    "print(lasso.coef_)   # printing the coefficients"
   ]
  },
  {
   "cell_type": "markdown",
   "metadata": {},
   "source": [
    "Observation,\n",
    "- Can see some paramaters have their value is suppressed to 0."
   ]
  },
  {
   "cell_type": "code",
   "execution_count": 76,
   "metadata": {},
   "outputs": [],
   "source": [
    "# Prediction using model\n",
    "\n",
    "y_pred_train5 = lasso.predict(X_train_rfe)\n",
    "y_pred_test5 = lasso.predict(X_test_rfe)"
   ]
  },
  {
   "cell_type": "code",
   "execution_count": 77,
   "metadata": {},
   "outputs": [
    {
     "data": {
      "text/plain": [
       "[['r2_train:', 0.8659636330934841],\n",
       " ['r2_test:', 0.8313634323573756],\n",
       " ['rss_train:', 1660.210249740087],\n",
       " ['rss_test:', 350.41825147666356],\n",
       " ['rmse_train:', 0.07868666350905813],\n",
       " ['rmse_test:', 0.09493854263684466]]"
      ]
     },
     "execution_count": 77,
     "metadata": {},
     "output_type": "execute_result"
    }
   ],
   "source": [
    "# Evaluation matrices\n",
    "\n",
    "metric = []\n",
    "r2_train_lr = r2_score(y_train, y_pred_train5)\n",
    "metric.append(['r2_train:',r2_train_lr])\n",
    "\n",
    "r2_test_lr = r2_score(y_test, y_pred_test5)\n",
    "metric.append(['r2_test:',r2_test_lr])\n",
    "\n",
    "rss_train_lr = np.sum(np.square(y_train - y_pred_train5))\n",
    "metric.append(['rss_train:',rss_train_lr])\n",
    "\n",
    "rss_test_lr = np.sum(np.square(y_test - y_pred_test5))\n",
    "metric.append(['rss_test:',rss_test_lr])\n",
    "\n",
    "mse_train_lr = mean_squared_error(y_train, y_pred_train5)\n",
    "metric.append(['rmse_train:', mse_train_lr**0.5])\n",
    "\n",
    "mse_test_lr = mean_squared_error(y_test, y_pred_test5)\n",
    "metric.append(['rmse_test:', mse_test_lr**0.5])\n",
    "\n",
    "\n",
    "metric"
   ]
  },
  {
   "cell_type": "markdown",
   "metadata": {},
   "source": [
    "Observation,\n",
    "- r2 score for training is ~0.86 but for test it is ~0.83. Model is performing good."
   ]
  },
  {
   "cell_type": "markdown",
   "metadata": {},
   "source": [
    "#### Checking VIF for lasso model"
   ]
  },
  {
   "cell_type": "code",
   "execution_count": 78,
   "metadata": {
    "scrolled": true
   },
   "outputs": [
    {
     "data": {
      "text/html": [
       "<div>\n",
       "<style scoped>\n",
       "    .dataframe tbody tr th:only-of-type {\n",
       "        vertical-align: middle;\n",
       "    }\n",
       "\n",
       "    .dataframe tbody tr th {\n",
       "        vertical-align: top;\n",
       "    }\n",
       "\n",
       "    .dataframe thead th {\n",
       "        text-align: right;\n",
       "    }\n",
       "</style>\n",
       "<table border=\"1\" class=\"dataframe\">\n",
       "  <thead>\n",
       "    <tr style=\"text-align: right;\">\n",
       "      <th></th>\n",
       "      <th>Linear</th>\n",
       "      <th>Ridge</th>\n",
       "      <th>Lasso</th>\n",
       "    </tr>\n",
       "  </thead>\n",
       "  <tbody>\n",
       "    <tr>\n",
       "      <th>boreratio</th>\n",
       "      <td>0.415435</td>\n",
       "      <td>0.368579</td>\n",
       "      <td>0.415579</td>\n",
       "    </tr>\n",
       "    <tr>\n",
       "      <th>stroke</th>\n",
       "      <td>0.051997</td>\n",
       "      <td>0.040049</td>\n",
       "      <td>0.000000</td>\n",
       "    </tr>\n",
       "    <tr>\n",
       "      <th>peakrpm</th>\n",
       "      <td>0.031892</td>\n",
       "      <td>-0.002443</td>\n",
       "      <td>0.013577</td>\n",
       "    </tr>\n",
       "    <tr>\n",
       "      <th>aspiration_turbo</th>\n",
       "      <td>0.054645</td>\n",
       "      <td>0.054431</td>\n",
       "      <td>0.043961</td>\n",
       "    </tr>\n",
       "    <tr>\n",
       "      <th>enginetype_dohcv</th>\n",
       "      <td>0.255952</td>\n",
       "      <td>0.103536</td>\n",
       "      <td>0.051856</td>\n",
       "    </tr>\n",
       "    <tr>\n",
       "      <th>enginetype_l</th>\n",
       "      <td>-0.037715</td>\n",
       "      <td>-0.027799</td>\n",
       "      <td>-0.000000</td>\n",
       "    </tr>\n",
       "    <tr>\n",
       "      <th>enginetype_ohcf</th>\n",
       "      <td>0.115637</td>\n",
       "      <td>-0.017156</td>\n",
       "      <td>-0.000000</td>\n",
       "    </tr>\n",
       "    <tr>\n",
       "      <th>enginetype_ohcv</th>\n",
       "      <td>-0.043811</td>\n",
       "      <td>0.075998</td>\n",
       "      <td>0.000000</td>\n",
       "    </tr>\n",
       "    <tr>\n",
       "      <th>enginetype_rotor</th>\n",
       "      <td>0.050235</td>\n",
       "      <td>0.050293</td>\n",
       "      <td>0.000000</td>\n",
       "    </tr>\n",
       "    <tr>\n",
       "      <th>cylindernumber_five</th>\n",
       "      <td>-0.136525</td>\n",
       "      <td>0.041970</td>\n",
       "      <td>0.000000</td>\n",
       "    </tr>\n",
       "    <tr>\n",
       "      <th>cylindernumber_six</th>\n",
       "      <td>0.282408</td>\n",
       "      <td>0.232594</td>\n",
       "      <td>0.269663</td>\n",
       "    </tr>\n",
       "    <tr>\n",
       "      <th>cylindernumber_twelve</th>\n",
       "      <td>0.659024</td>\n",
       "      <td>0.281424</td>\n",
       "      <td>0.459129</td>\n",
       "    </tr>\n",
       "    <tr>\n",
       "      <th>brand_audi</th>\n",
       "      <td>0.344445</td>\n",
       "      <td>0.134311</td>\n",
       "      <td>0.191096</td>\n",
       "    </tr>\n",
       "    <tr>\n",
       "      <th>brand_bmw</th>\n",
       "      <td>0.149246</td>\n",
       "      <td>0.159828</td>\n",
       "      <td>0.133486</td>\n",
       "    </tr>\n",
       "    <tr>\n",
       "      <th>brand_buick</th>\n",
       "      <td>0.533322</td>\n",
       "      <td>0.314206</td>\n",
       "      <td>0.412383</td>\n",
       "    </tr>\n",
       "    <tr>\n",
       "      <th>brand_isuzu</th>\n",
       "      <td>-0.028107</td>\n",
       "      <td>-0.033042</td>\n",
       "      <td>-0.000000</td>\n",
       "    </tr>\n",
       "    <tr>\n",
       "      <th>brand_mazda</th>\n",
       "      <td>-0.026658</td>\n",
       "      <td>-0.033350</td>\n",
       "      <td>-0.000772</td>\n",
       "    </tr>\n",
       "    <tr>\n",
       "      <th>brand_mitsubishi</th>\n",
       "      <td>-0.084807</td>\n",
       "      <td>-0.083612</td>\n",
       "      <td>-0.054788</td>\n",
       "    </tr>\n",
       "    <tr>\n",
       "      <th>brand_nissan</th>\n",
       "      <td>-0.088143</td>\n",
       "      <td>-0.111238</td>\n",
       "      <td>-0.083368</td>\n",
       "    </tr>\n",
       "    <tr>\n",
       "      <th>brand_peugeot</th>\n",
       "      <td>0.026277</td>\n",
       "      <td>0.010892</td>\n",
       "      <td>-0.000000</td>\n",
       "    </tr>\n",
       "    <tr>\n",
       "      <th>brand_porsche</th>\n",
       "      <td>0.081354</td>\n",
       "      <td>0.163575</td>\n",
       "      <td>0.144098</td>\n",
       "    </tr>\n",
       "    <tr>\n",
       "      <th>brand_saab</th>\n",
       "      <td>0.013384</td>\n",
       "      <td>0.011914</td>\n",
       "      <td>0.000000</td>\n",
       "    </tr>\n",
       "    <tr>\n",
       "      <th>brand_subaru</th>\n",
       "      <td>-0.286667</td>\n",
       "      <td>-0.146903</td>\n",
       "      <td>-0.174432</td>\n",
       "    </tr>\n",
       "    <tr>\n",
       "      <th>brand_toyota</th>\n",
       "      <td>-0.063551</td>\n",
       "      <td>-0.065636</td>\n",
       "      <td>-0.055415</td>\n",
       "    </tr>\n",
       "    <tr>\n",
       "      <th>brand_volvo</th>\n",
       "      <td>0.002882</td>\n",
       "      <td>0.002694</td>\n",
       "      <td>0.000000</td>\n",
       "    </tr>\n",
       "  </tbody>\n",
       "</table>\n",
       "</div>"
      ],
      "text/plain": [
       "                         Linear     Ridge     Lasso\n",
       "boreratio              0.415435  0.368579  0.415579\n",
       "stroke                 0.051997  0.040049  0.000000\n",
       "peakrpm                0.031892 -0.002443  0.013577\n",
       "aspiration_turbo       0.054645  0.054431  0.043961\n",
       "enginetype_dohcv       0.255952  0.103536  0.051856\n",
       "enginetype_l          -0.037715 -0.027799 -0.000000\n",
       "enginetype_ohcf        0.115637 -0.017156 -0.000000\n",
       "enginetype_ohcv       -0.043811  0.075998  0.000000\n",
       "enginetype_rotor       0.050235  0.050293  0.000000\n",
       "cylindernumber_five   -0.136525  0.041970  0.000000\n",
       "cylindernumber_six     0.282408  0.232594  0.269663\n",
       "cylindernumber_twelve  0.659024  0.281424  0.459129\n",
       "brand_audi             0.344445  0.134311  0.191096\n",
       "brand_bmw              0.149246  0.159828  0.133486\n",
       "brand_buick            0.533322  0.314206  0.412383\n",
       "brand_isuzu           -0.028107 -0.033042 -0.000000\n",
       "brand_mazda           -0.026658 -0.033350 -0.000772\n",
       "brand_mitsubishi      -0.084807 -0.083612 -0.054788\n",
       "brand_nissan          -0.088143 -0.111238 -0.083368\n",
       "brand_peugeot          0.026277  0.010892 -0.000000\n",
       "brand_porsche          0.081354  0.163575  0.144098\n",
       "brand_saab             0.013384  0.011914  0.000000\n",
       "brand_subaru          -0.286667 -0.146903 -0.174432\n",
       "brand_toyota          -0.063551 -0.065636 -0.055415\n",
       "brand_volvo            0.002882  0.002694  0.000000"
      ]
     },
     "execution_count": 78,
     "metadata": {},
     "output_type": "execute_result"
    }
   ],
   "source": [
    "# beta table (coefficients of linear regression)\n",
    "\n",
    "betas = pd.DataFrame(index=X_train_rfe.columns)\n",
    "betas.rows = X_train_rfe.columns\n",
    "\n",
    "\n",
    "betas['Linear'] = lm3_1.coef_.reshape(X_train_rfe.shape[1],-1)\n",
    "betas['Ridge'] = ridge.coef_.reshape(X_train_rfe.shape[1],-1)\n",
    "betas['Lasso'] = lasso.coef_.reshape(X_train_rfe.shape[1],-1)\n",
    "\n",
    "betas"
   ]
  },
  {
   "cell_type": "code",
   "execution_count": 79,
   "metadata": {
    "scrolled": true
   },
   "outputs": [
    {
     "data": {
      "text/html": [
       "<div>\n",
       "<style scoped>\n",
       "    .dataframe tbody tr th:only-of-type {\n",
       "        vertical-align: middle;\n",
       "    }\n",
       "\n",
       "    .dataframe tbody tr th {\n",
       "        vertical-align: top;\n",
       "    }\n",
       "\n",
       "    .dataframe thead th {\n",
       "        text-align: right;\n",
       "    }\n",
       "</style>\n",
       "<table border=\"1\" class=\"dataframe\">\n",
       "  <thead>\n",
       "    <tr style=\"text-align: right;\">\n",
       "      <th></th>\n",
       "      <th>Features</th>\n",
       "      <th>VIF</th>\n",
       "    </tr>\n",
       "  </thead>\n",
       "  <tbody>\n",
       "    <tr>\n",
       "      <th>0</th>\n",
       "      <td>boreratio</td>\n",
       "      <td>5.71</td>\n",
       "    </tr>\n",
       "    <tr>\n",
       "      <th>1</th>\n",
       "      <td>peakrpm</td>\n",
       "      <td>3.26</td>\n",
       "    </tr>\n",
       "    <tr>\n",
       "      <th>12</th>\n",
       "      <td>brand_porsche</td>\n",
       "      <td>1.73</td>\n",
       "    </tr>\n",
       "    <tr>\n",
       "      <th>2</th>\n",
       "      <td>aspiration_turbo</td>\n",
       "      <td>1.65</td>\n",
       "    </tr>\n",
       "    <tr>\n",
       "      <th>4</th>\n",
       "      <td>cylindernumber_six</td>\n",
       "      <td>1.61</td>\n",
       "    </tr>\n",
       "    <tr>\n",
       "      <th>3</th>\n",
       "      <td>enginetype_dohcv</td>\n",
       "      <td>1.52</td>\n",
       "    </tr>\n",
       "    <tr>\n",
       "      <th>13</th>\n",
       "      <td>brand_subaru</td>\n",
       "      <td>1.51</td>\n",
       "    </tr>\n",
       "    <tr>\n",
       "      <th>7</th>\n",
       "      <td>brand_bmw</td>\n",
       "      <td>1.45</td>\n",
       "    </tr>\n",
       "    <tr>\n",
       "      <th>14</th>\n",
       "      <td>brand_toyota</td>\n",
       "      <td>1.33</td>\n",
       "    </tr>\n",
       "    <tr>\n",
       "      <th>9</th>\n",
       "      <td>brand_mazda</td>\n",
       "      <td>1.29</td>\n",
       "    </tr>\n",
       "    <tr>\n",
       "      <th>11</th>\n",
       "      <td>brand_nissan</td>\n",
       "      <td>1.27</td>\n",
       "    </tr>\n",
       "    <tr>\n",
       "      <th>10</th>\n",
       "      <td>brand_mitsubishi</td>\n",
       "      <td>1.22</td>\n",
       "    </tr>\n",
       "    <tr>\n",
       "      <th>8</th>\n",
       "      <td>brand_buick</td>\n",
       "      <td>1.21</td>\n",
       "    </tr>\n",
       "    <tr>\n",
       "      <th>6</th>\n",
       "      <td>brand_audi</td>\n",
       "      <td>1.12</td>\n",
       "    </tr>\n",
       "    <tr>\n",
       "      <th>5</th>\n",
       "      <td>cylindernumber_twelve</td>\n",
       "      <td>1.04</td>\n",
       "    </tr>\n",
       "  </tbody>\n",
       "</table>\n",
       "</div>"
      ],
      "text/plain": [
       "                 Features   VIF\n",
       "0               boreratio  5.71\n",
       "1                 peakrpm  3.26\n",
       "12          brand_porsche  1.73\n",
       "2        aspiration_turbo  1.65\n",
       "4      cylindernumber_six  1.61\n",
       "3        enginetype_dohcv  1.52\n",
       "13           brand_subaru  1.51\n",
       "7               brand_bmw  1.45\n",
       "14           brand_toyota  1.33\n",
       "9             brand_mazda  1.29\n",
       "11           brand_nissan  1.27\n",
       "10       brand_mitsubishi  1.22\n",
       "8             brand_buick  1.21\n",
       "6              brand_audi  1.12\n",
       "5   cylindernumber_twelve  1.04"
      ]
     },
     "execution_count": 79,
     "metadata": {},
     "output_type": "execute_result"
    }
   ],
   "source": [
    "# VIF for lasso regressor model\n",
    "\n",
    "\n",
    "get_VIF_table(X_train_rfe[X_train_rfe[X_train_rfe.columns[betas.Lasso!=0]].columns])"
   ]
  },
  {
   "cell_type": "markdown",
   "metadata": {},
   "source": [
    "Observations,\n",
    "- Lasso model features have RFE values 5 or below, which is highly desirable in linear regression models.\n",
    "- Number of features in lasso model is 15. 10 to 15 is considered to be a good range."
   ]
  },
  {
   "cell_type": "markdown",
   "metadata": {},
   "source": [
    "#### Optional Check: Checking feature and overall model significance using p and f statistics"
   ]
  },
  {
   "cell_type": "code",
   "execution_count": 80,
   "metadata": {
    "scrolled": false
   },
   "outputs": [
    {
     "name": "stdout",
     "output_type": "stream",
     "text": [
      "                            OLS Regression Results                            \n",
      "==============================================================================\n",
      "Dep. Variable:                      y   R-squared:                       0.876\n",
      "Model:                            OLS   Adj. R-squared:                  0.862\n",
      "Method:                 Least Squares   F-statistic:                     59.89\n",
      "Date:                Fri, 05 Feb 2021   Prob (F-statistic):           4.38e-50\n",
      "Time:                        13:24:09   Log-Likelihood:                 166.28\n",
      "No. Observations:                 143   AIC:                            -300.6\n",
      "Df Residuals:                     127   BIC:                            -253.2\n",
      "Df Model:                          15                                         \n",
      "Covariance Type:            nonrobust                                         \n",
      "=========================================================================================\n",
      "                            coef    std err          t      P>|t|      [0.025      0.975]\n",
      "-----------------------------------------------------------------------------------------\n",
      "const                    -0.0619      0.032     -1.937      0.055      -0.125       0.001\n",
      "boreratio                 0.4259      0.042     10.174      0.000       0.343       0.509\n",
      "peakrpm                   0.0511      0.041      1.232      0.220      -0.031       0.133\n",
      "aspiration_turbo          0.0534      0.020      2.621      0.010       0.013       0.094\n",
      "enginetype_dohcv          0.1971      0.099      1.989      0.049       0.001       0.393\n",
      "cylindernumber_six        0.2773      0.023     11.851      0.000       0.231       0.324\n",
      "cylindernumber_twelve     0.6067      0.082      7.408      0.000       0.445       0.769\n",
      "brand_audi                0.2159      0.038      5.668      0.000       0.141       0.291\n",
      "brand_bmw                 0.1579      0.040      3.981      0.000       0.079       0.236\n",
      "brand_buick               0.4474      0.040     11.186      0.000       0.368       0.527\n",
      "brand_mazda              -0.0068      0.024     -0.281      0.779      -0.054       0.041\n",
      "brand_mitsubishi         -0.0732      0.030     -2.462      0.015      -0.132      -0.014\n",
      "brand_nissan             -0.0920      0.025     -3.706      0.000      -0.141      -0.043\n",
      "brand_porsche             0.1316      0.063      2.096      0.038       0.007       0.256\n",
      "brand_subaru             -0.1823      0.030     -6.134      0.000      -0.241      -0.124\n",
      "brand_toyota             -0.0550      0.023     -2.392      0.018      -0.100      -0.010\n",
      "==============================================================================\n",
      "Omnibus:                       24.672   Durbin-Watson:                   2.177\n",
      "Prob(Omnibus):                  0.000   Jarque-Bera (JB):               44.199\n",
      "Skew:                           0.803   Prob(JB):                     2.53e-10\n",
      "Kurtosis:                       5.200   Cond. No.                         19.6\n",
      "==============================================================================\n",
      "\n",
      "Warnings:\n",
      "[1] Standard Errors assume that the covariance matrix of the errors is correctly specified.\n"
     ]
    }
   ],
   "source": [
    "# Checking model and features using statsmodels\n",
    "\n",
    "# lasso_X_cols: non-negative columns in lasso regression\n",
    "lasso_X_cols = X_train_rfe[X_train_rfe.columns[betas.Lasso!=0]].columns\n",
    "X_train_lm = sm.add_constant(X_train_rfe[lasso_X_cols])  # adding constant column as per reuqirement of statsmodels\n",
    "\n",
    "lm = sm.OLS(y_train, X_train_lm).fit() \n",
    "print(lm.summary())"
   ]
  },
  {
   "cell_type": "markdown",
   "metadata": {},
   "source": [
    "Observations,\n",
    "\n",
    "- Prob(F-statistics) value is very close to 0, which signifies that model is significant as compared to random guessing.\n",
    "- All the feature coefficients have p values less than 0.05, which signifies their individual importance in the model. Two fearues coefficients (peakrpm and brand_mazda) have p values more than 0.05. We can accept this as their coefficients have very low values.  "
   ]
  },
  {
   "cell_type": "markdown",
   "metadata": {},
   "source": [
    "#### Residual Analysis for lasso model"
   ]
  },
  {
   "cell_type": "code",
   "execution_count": 81,
   "metadata": {
    "scrolled": false
   },
   "outputs": [
    {
     "data": {
      "text/plain": [
       "Text(0.5, 0, 'error')"
      ]
     },
     "execution_count": 81,
     "metadata": {},
     "output_type": "execute_result"
    },
    {
     "data": {
      "image/png": "[encoded data removed]",
      "text/plain": [
       "<Figure size 720x360 with 2 Axes>"
      ]
     },
     "metadata": {
      "needs_background": "light"
     },
     "output_type": "display_data"
    }
   ],
   "source": [
    "# Error distribution\n",
    "\n",
    "plt.subplots(figsize=(10,5))\n",
    "plt.subplot(1,2,1)\n",
    "sns.distplot(y_train-y_pred_train5.reshape(-1,1))\n",
    "plt.title('Train Error Distribution')\n",
    "plt.xlabel('error')\n",
    "\n",
    "plt.subplot(1,2,2)\n",
    "sns.distplot(y_test-y_pred_test5.reshape(-1,1))\n",
    "plt.title('Test Error Distribution')\n",
    "plt.xlabel('error')"
   ]
  },
  {
   "cell_type": "code",
   "execution_count": 82,
   "metadata": {},
   "outputs": [
    {
     "data": {
      "text/plain": [
       "Text(0, 0.5, 'error')"
      ]
     },
     "execution_count": 82,
     "metadata": {},
     "output_type": "execute_result"
    },
    {
     "data": {
      "image/png": "[encoded data removed]",
      "text/plain": [
       "<Figure size 720x360 with 2 Axes>"
      ]
     },
     "metadata": {
      "needs_background": "light"
     },
     "output_type": "display_data"
    }
   ],
   "source": [
    "# Plotting error terms in test\n",
    "\n",
    "plt.subplots(figsize=(10,5))\n",
    "plt.subplot(1,2,1)\n",
    "x1= [i for i in range (1,y_train.shape[0]+1,1)]\n",
    "plt.scatter(x=x1, y=(y_train-y_pred_train5.reshape(-1,1)))\n",
    "plt.title('Train Error Distribution')\n",
    "plt.ylabel('error')\n",
    "\n",
    "plt.subplot(1,2,2)\n",
    "x2= [i for i in range (1,y_test.shape[0]+1,1)]\n",
    "plt.scatter(x=x2, y=(y_test-y_pred_test5.reshape(-1,1)))\n",
    "plt.title('Test Error Distribution')\n",
    "plt.ylabel('error')"
   ]
  },
  {
   "cell_type": "code",
   "execution_count": 83,
   "metadata": {},
   "outputs": [
    {
     "data": {
      "text/plain": [
       "Text(0.5, 1.0, 'Test Actual vs Predicted')"
      ]
     },
     "execution_count": 83,
     "metadata": {},
     "output_type": "execute_result"
    },
    {
     "data": {
      "image/png": "[encoded data removed]",
      "text/plain": [
       "<Figure size 720x360 with 2 Axes>"
      ]
     },
     "metadata": {
      "needs_background": "light"
     },
     "output_type": "display_data"
    }
   ],
   "source": [
    "# Plotting y_label Vs y_pred\n",
    "\n",
    "plt.subplots(figsize=(10,5))\n",
    "plt.subplot(1,2,1)\n",
    "plt.scatter(y_train, y_pred_train5, marker='*')\n",
    "plt.xlabel('Actual')\n",
    "plt.ylabel('Predicted')\n",
    "plt.title('Train Actual vs Predicted')\n",
    "\n",
    "\n",
    "plt.subplot(1,2,2)\n",
    "plt.scatter(y_test, y_pred_test5, marker='*')\n",
    "plt.xlabel('Actual')\n",
    "plt.ylabel('Predicted')\n",
    "plt.title('Test Actual vs Predicted')\n"
   ]
  },
  {
   "cell_type": "markdown",
   "metadata": {},
   "source": [
    "The residual analysis for both test and train data seem to fit the assumptions of the Linear Regression.\n",
    "- Residuals have mean of zero and closely normally distributed.\n",
    "- Residuals do not have any pattern hence it has homoscedasticity."
   ]
  },
  {
   "cell_type": "markdown",
   "metadata": {},
   "source": [
    "## 7. Conclusion/Recommendation"
   ]
  },
  {
   "cell_type": "code",
   "execution_count": 84,
   "metadata": {},
   "outputs": [
    {
     "name": "stdout",
     "output_type": "stream",
     "text": [
      "                       Linear     Ridge     Lasso\n",
      "brand_subaru        -0.286667 -0.146903 -0.174432\n",
      "cylindernumber_five -0.136525  0.041970  0.000000\n",
      "brand_nissan        -0.088143 -0.111238 -0.083368\n",
      "brand_mitsubishi    -0.084807 -0.083612 -0.054788\n",
      "brand_toyota        -0.063551 -0.065636 -0.055415\n",
      "                         Linear     Ridge     Lasso\n",
      "cylindernumber_twelve  0.659024  0.281424  0.459129\n",
      "brand_buick            0.533322  0.314206  0.412383\n",
      "boreratio              0.415435  0.368579  0.415579\n",
      "brand_audi             0.344445  0.134311  0.191096\n",
      "cylindernumber_six     0.282408  0.232594  0.269663\n"
     ]
    }
   ],
   "source": [
    "# top and bottom 5 features (linear)\n",
    "\n",
    "print(betas.sort_values('Linear').head(5))\n",
    "print(betas.sort_values('Linear', ascending=False).head(5))"
   ]
  },
  {
   "cell_type": "code",
   "execution_count": 85,
   "metadata": {},
   "outputs": [
    {
     "name": "stdout",
     "output_type": "stream",
     "text": [
      "                    Linear     Ridge     Lasso\n",
      "brand_subaru     -0.286667 -0.146903 -0.174432\n",
      "brand_nissan     -0.088143 -0.111238 -0.083368\n",
      "brand_mitsubishi -0.084807 -0.083612 -0.054788\n",
      "brand_toyota     -0.063551 -0.065636 -0.055415\n",
      "brand_mazda      -0.026658 -0.033350 -0.000772\n",
      "                         Linear     Ridge     Lasso\n",
      "boreratio              0.415435  0.368579  0.415579\n",
      "brand_buick            0.533322  0.314206  0.412383\n",
      "cylindernumber_twelve  0.659024  0.281424  0.459129\n",
      "cylindernumber_six     0.282408  0.232594  0.269663\n",
      "brand_porsche          0.081354  0.163575  0.144098\n"
     ]
    }
   ],
   "source": [
    "# top and bottom 5 features (ridge)\n",
    "\n",
    "print(betas.sort_values('Ridge').head(5))\n",
    "print(betas.sort_values('Ridge', ascending=False).head(5))"
   ]
  },
  {
   "cell_type": "code",
   "execution_count": 86,
   "metadata": {},
   "outputs": [
    {
     "name": "stdout",
     "output_type": "stream",
     "text": [
      "                    Linear     Ridge     Lasso\n",
      "brand_subaru     -0.286667 -0.146903 -0.174432\n",
      "brand_nissan     -0.088143 -0.111238 -0.083368\n",
      "brand_toyota     -0.063551 -0.065636 -0.055415\n",
      "brand_mitsubishi -0.084807 -0.083612 -0.054788\n",
      "brand_mazda      -0.026658 -0.033350 -0.000772\n",
      "                         Linear     Ridge     Lasso\n",
      "cylindernumber_twelve  0.659024  0.281424  0.459129\n",
      "boreratio              0.415435  0.368579  0.415579\n",
      "brand_buick            0.533322  0.314206  0.412383\n",
      "cylindernumber_six     0.282408  0.232594  0.269663\n",
      "brand_audi             0.344445  0.134311  0.191096\n"
     ]
    }
   ],
   "source": [
    "# top and bottom 5 features (lasso)\n",
    "\n",
    "print(betas.sort_values('Lasso').head(5))\n",
    "print(betas.sort_values('Lasso', ascending=False).head(5))"
   ]
  },
  {
   "cell_type": "markdown",
   "metadata": {},
   "source": [
    "Top 5 features,\n",
    "- Linear: cylindernumber_twelve, brand_buick, boreratio, brand_audi, brand_subaru\n",
    "- Ridge: boreratio, brand_buick, cylindernumber_twelve, cylindernumber_six, brand_porsche\n",
    "- Lasso: cylindernumber_twelve ,boreratio, brand_buick, cylindernumber_six, brand_audi "
   ]
  },
  {
   "cell_type": "markdown",
   "metadata": {},
   "source": [
    "### Conclusion:\n"
   ]
  },
  {
   "cell_type": "markdown",
   "metadata": {},
   "source": [
    "- Above mentioned features should be considered while defining the car price.\n",
    "- Final model (lasso regression) is having 15 features, which are easier to find.\n",
    "- Final model accuracy is 83%.\n",
    "- We can use the lasso model and predict the car price for any new data as per the required format. While using the new data we would need to transform as per scaler_X and then feed into the model. After that we get y which we need to reverse transform to get the price in actual units."
   ]
  },
  {
   "cell_type": "markdown",
   "metadata": {},
   "source": [
    "-------------------"
   ]
  }
 ],
 "metadata": {
  "kernelspec": {
   "display_name": "Python 3",
   "language": "python",
   "name": "python3"
  },
  "language_info": {
   "codemirror_mode": {
    "name": "ipython",
    "version": 3
   },
   "file_extension": ".py",
   "mimetype": "text/x-python",
   "name": "python",
   "nbconvert_exporter": "python",
   "pygments_lexer": "ipython3",
   "version": "3.7.6"
  }
 },
 "nbformat": 4,
 "nbformat_minor": 4
}
