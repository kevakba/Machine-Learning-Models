{
 "cells": [
  {
   "cell_type": "markdown",
   "metadata": {},
   "source": [
    "# Problem Statement\n",
    "\n",
    "\n",
    "Any natural language is a medium of communication used by human beings. Natural languages are quite difficult to process using algorithms considering its complexity and variants. Natural Language Processing (NLP) mainly includes three tasks,\n",
    "\n",
    "- Lexical Processing: Statistical analysis of words present in the given corpora and gain inferences out of it. This can be used for document classification, spam/non-spam classification etc. \n",
    "\n",
    "- Syntactic Processing: This includes parsing of sentences and their grammatical structure without considering its meaning. It includes Parts Of Speech (POS) tagging, Information Extraction etc.\n",
    "\n",
    "- Semantic Processing: This final part includes gaining the meaningful insights out of given corpora. It can be used for higher level application like building program to chat with users to assist them (e.g. customer service).\n",
    "\n",
    "Here, we are going to focus on POS tagging part of NLP using Viterbi algorithm and regular expression.\n",
    "\n",
    "POS Tagging: POS (Parts Of Speech) tagging includes tagging English POS (in this case) to each word in the given corpora. The purpose of POS tagging in NLP is to understand correctness of grammatical integrity and extract relationship between each word.\n",
    "\n",
    "Viterbi Algorithm: It is based on an assumption that POS tag for current words depends upon POS tag for previous word and current word itself (Hidden Markov Model - HMM). It does steps by step maximization of ***P(word_n|POS_n) * P(POS_n|POS_n-1)***. \n",
    "\n",
    "For more insights on Viterbi algorithm please check this link:\n",
    "https://www.freecodecamp.org/news/a-deep-dive-into-part-of-speech-tagging-using-viterbi-algorithm-17c8de32e8bc/"
   ]
  },
  {
   "cell_type": "markdown",
   "metadata": {},
   "source": [
    "### Dependancies"
   ]
  },
  {
   "cell_type": "code",
   "execution_count": 1,
   "metadata": {},
   "outputs": [
    {
     "name": "stderr",
     "output_type": "stream",
     "text": [
      "[nltk_data] Downloading package treebank to\n",
      "[nltk_data]     /Users/kishanakbari/nltk_data...\n",
      "[nltk_data]   Package treebank is already up-to-date!\n"
     ]
    }
   ],
   "source": [
    "# Importing libraries\n",
    "\n",
    "import nltk\n",
    "nltk.download('treebank')\n",
    "from nltk.probability import FreqDist\n",
    "\n",
    "import numpy as np\n",
    "import pandas as pd\n",
    "\n",
    "import matplotlib.pyplot as plt\n",
    "import seaborn as sns\n",
    "\n",
    "import time\n",
    "import random\n",
    "from sklearn.model_selection import train_test_split"
   ]
  },
  {
   "cell_type": "markdown",
   "metadata": {},
   "source": [
    "## 1. Reading Dataset"
   ]
  },
  {
   "cell_type": "markdown",
   "metadata": {},
   "source": [
    "NLTK (Natural Language Took-Kit) is having many corpora (datasets). Here, we would be using **treebank corpus** for our algorithm. Here, we would be using universal tag-set as it contains only 12 tags which are easier to parse and computationally less expensive."
   ]
  },
  {
   "cell_type": "code",
   "execution_count": 2,
   "metadata": {},
   "outputs": [],
   "source": [
    "# reading the Treebank tagged sentences\n",
    "nltk_data = list(nltk.corpus.treebank.tagged_sents(tagset='universal'))"
   ]
  },
  {
   "cell_type": "code",
   "execution_count": 3,
   "metadata": {},
   "outputs": [
    {
     "data": {
      "text/plain": [
       "3914"
      ]
     },
     "execution_count": 3,
     "metadata": {},
     "output_type": "execute_result"
    }
   ],
   "source": [
    "len(nltk_data)"
   ]
  },
  {
   "cell_type": "markdown",
   "metadata": {},
   "source": [
    "There are 3914 sentenses in the treebank dataset."
   ]
  },
  {
   "cell_type": "code",
   "execution_count": 4,
   "metadata": {},
   "outputs": [
    {
     "data": {
      "text/plain": [
       "[[('Pierre', 'NOUN'),\n",
       "  ('Vinken', 'NOUN'),\n",
       "  (',', '.'),\n",
       "  ('61', 'NUM'),\n",
       "  ('years', 'NOUN'),\n",
       "  ('old', 'ADJ'),\n",
       "  (',', '.'),\n",
       "  ('will', 'VERB'),\n",
       "  ('join', 'VERB'),\n",
       "  ('the', 'DET'),\n",
       "  ('board', 'NOUN'),\n",
       "  ('as', 'ADP'),\n",
       "  ('a', 'DET'),\n",
       "  ('nonexecutive', 'ADJ'),\n",
       "  ('director', 'NOUN'),\n",
       "  ('Nov.', 'NOUN'),\n",
       "  ('29', 'NUM'),\n",
       "  ('.', '.')],\n",
       " [('Mr.', 'NOUN'),\n",
       "  ('Vinken', 'NOUN'),\n",
       "  ('is', 'VERB'),\n",
       "  ('chairman', 'NOUN'),\n",
       "  ('of', 'ADP'),\n",
       "  ('Elsevier', 'NOUN'),\n",
       "  ('N.V.', 'NOUN'),\n",
       "  (',', '.'),\n",
       "  ('the', 'DET'),\n",
       "  ('Dutch', 'NOUN'),\n",
       "  ('publishing', 'VERB'),\n",
       "  ('group', 'NOUN'),\n",
       "  ('.', '.')]]"
      ]
     },
     "execution_count": 4,
     "metadata": {},
     "output_type": "execute_result"
    }
   ],
   "source": [
    "nltk_data[0:2]"
   ]
  },
  {
   "cell_type": "markdown",
   "metadata": {},
   "source": [
    "Dataset is in the form of list of sentences where each sentence is a list of tuples. Each tuple contains a word and corresponding POS tag.\n",
    "\n",
    "Dataset format:\n",
    "data = [[sent_1], [sent_2], [sent_3],....[sent_n]]\n",
    "\n",
    "where,\n",
    "sent_n = [(word_1, POS_1), (word_2, POS_2),....(word_n, POS_n)]"
   ]
  },
  {
   "cell_type": "markdown",
   "metadata": {},
   "source": [
    "## 2. Train-Test Split"
   ]
  },
  {
   "cell_type": "code",
   "execution_count": 5,
   "metadata": {},
   "outputs": [
    {
     "name": "stdout",
     "output_type": "stream",
     "text": [
      "Train set size: 3718\n",
      " \n",
      "Test set size: 196\n"
     ]
    }
   ],
   "source": [
    "# Splitting into train and test\n",
    "\n",
    "random.seed(42)\n",
    "train_set, test_set = train_test_split(nltk_data, test_size=0.05)\n",
    "\n",
    "print('Train set size:', len(train_set))\n",
    "\n",
    "print(' ')\n",
    "\n",
    "print('Test set size:', len(test_set))"
   ]
  },
  {
   "cell_type": "markdown",
   "metadata": {},
   "source": [
    "We would be using only 5% of the data as test set because Viterbi is a computationally expensive algorithm."
   ]
  },
  {
   "cell_type": "markdown",
   "metadata": {},
   "source": [
    "## 3. EDA"
   ]
  },
  {
   "cell_type": "code",
   "execution_count": 6,
   "metadata": {},
   "outputs": [
    {
     "data": {
      "text/plain": [
       "95725"
      ]
     },
     "execution_count": 6,
     "metadata": {},
     "output_type": "execute_result"
    }
   ],
   "source": [
    "# train tagged words\n",
    "\n",
    "train_tagged_words = [x for y in train_set for x in y]\n",
    "len(train_tagged_words)"
   ]
  },
  {
   "cell_type": "markdown",
   "metadata": {},
   "source": [
    "Train set is having total 95558 tagged words. It can be repeating as well in line to corpus. Same words can be having different POS tags based on its applicability in the sentence."
   ]
  },
  {
   "cell_type": "code",
   "execution_count": 7,
   "metadata": {},
   "outputs": [
    {
     "name": "stdout",
     "output_type": "stream",
     "text": [
      "['But', 'in', 'one', 'of', 'the', 'auctions', 'in', 'question', ',', 'International', 'Business', 'Machines', 'Corp.', 'made', 'a', 'bid', 'substantially', 'higher', 'than', 'the', 'Fujitsu', 'offer', ',', 'according', 'to', 'the', 'municipality', '.', 'Both', 'Moody', \"'s\", 'and', 'S&P', 'cited', 'First', 'Boston', \"'s\", 'reliance', 'in', 'recent', 'years', 'on', 'merchant', 'banking', ',', 'which', '*T*-1', 'has', 'been', 'responsible']\n"
     ]
    }
   ],
   "source": [
    "# train_words: words in train set\n",
    "\n",
    "train_words = [x[0] for x in train_tagged_words]\n",
    "print(train_words[:50])"
   ]
  },
  {
   "cell_type": "code",
   "execution_count": 8,
   "metadata": {},
   "outputs": [
    {
     "name": "stdout",
     "output_type": "stream",
     "text": [
      "12093\n"
     ]
    }
   ],
   "source": [
    "# train set vocabulary\n",
    "\n",
    "train_vocab = set(train_words)\n",
    "print(len(train_vocab))"
   ]
  },
  {
   "cell_type": "markdown",
   "metadata": {},
   "source": [
    "Total vocabulary size for train set is 12076."
   ]
  },
  {
   "cell_type": "code",
   "execution_count": 9,
   "metadata": {},
   "outputs": [
    {
     "name": "stdout",
     "output_type": "stream",
     "text": [
      "{'.', 'PRON', 'ADV', 'NOUN', 'ADJ', 'NUM', 'DET', 'CONJ', 'VERB', 'PRT', 'X', 'ADP'}\n",
      " \n",
      "12\n"
     ]
    }
   ],
   "source": [
    "# tags from train set\n",
    "tags = set([x[1] for x in train_tagged_words])\n",
    "\n",
    "print(tags)\n",
    "\n",
    "print(' ')\n",
    "\n",
    "print(len(tags))"
   ]
  },
  {
   "cell_type": "markdown",
   "metadata": {},
   "source": [
    "Total 12 unique POS tags as per universal tagger standards."
   ]
  },
  {
   "cell_type": "markdown",
   "metadata": {},
   "source": [
    "### Developing Tagger as per Viterbi Algorithm\n",
    "\n",
    "Bayes Theorem:\n",
    "\n",
    "**P(POS|word) = P(word|POS)P(POS)/P(word)**\n",
    "\n",
    "Emission Probability = P(word|POS)\n",
    "\n",
    "Transition Probability = P(POS_n|POS_n-1) \n",
    "\n",
    "Where, \n",
    "\n",
    "`P(POS|word)` is conditional probability of the tag for a given word,\n",
    "\n",
    "`p(word|POS)` is the emission probability or conditional probability of the word for given tag,\n",
    "\n",
    "`p(POS_n|POS_n-1)` is the transition probability or conditional probability of the POS tag for the given previous POS tag."
   ]
  },
  {
   "cell_type": "code",
   "execution_count": 10,
   "metadata": {},
   "outputs": [],
   "source": [
    "# Emission Probability\n",
    "# Here, 'tag' stands for POS tag\n",
    "\n",
    "def emission(word, tag, train = train_tagged_words):\n",
    "    tag_list = [x for x in train if x[1]==tag]\n",
    "    w_given_tag_list = [x[0] for x in tag_list if x[0]==word]\n",
    "    count_tag = len(tag_list)\n",
    "    count_w_given_tag = len(w_given_tag_list)\n",
    "    \n",
    "    return (count_w_given_tag/count_tag)"
   ]
  },
  {
   "cell_type": "code",
   "execution_count": 11,
   "metadata": {},
   "outputs": [],
   "source": [
    "# Transition Probability\n",
    "\n",
    "def transition(t2, t1, train = train_tagged_words):\n",
    "    tags = [x[1] for x in train]\n",
    "    count_t1 = len([x for x in tags if x==t1])\n",
    "    count_t2_t1 = 0\n",
    "    for index in range(len(tags)-1):\n",
    "        if tags[index]==t1 and tags[index+1] == t2:\n",
    "            count_t2_t1 += 1\n",
    "    return (count_t2_t1/count_t1)"
   ]
  },
  {
   "cell_type": "code",
   "execution_count": 12,
   "metadata": {},
   "outputs": [],
   "source": [
    "# creating t x t transition matrix of tags\n",
    "# each column is t2, each row is t1\n",
    "\n",
    "tags_matrix = np.zeros((len(tags), len(tags)), dtype='float32')\n",
    "for i, t1 in enumerate(list(tags)):\n",
    "    for j, t2 in enumerate(list(tags)): \n",
    "        tags_matrix[i, j] = transition(t2, t1)"
   ]
  },
  {
   "cell_type": "code",
   "execution_count": 13,
   "metadata": {},
   "outputs": [
    {
     "data": {
      "text/html": [
       "<div>\n",
       "<style scoped>\n",
       "    .dataframe tbody tr th:only-of-type {\n",
       "        vertical-align: middle;\n",
       "    }\n",
       "\n",
       "    .dataframe tbody tr th {\n",
       "        vertical-align: top;\n",
       "    }\n",
       "\n",
       "    .dataframe thead th {\n",
       "        text-align: right;\n",
       "    }\n",
       "</style>\n",
       "<table border=\"1\" class=\"dataframe\">\n",
       "  <thead>\n",
       "    <tr style=\"text-align: right;\">\n",
       "      <th></th>\n",
       "      <th>.</th>\n",
       "      <th>PRON</th>\n",
       "      <th>ADV</th>\n",
       "      <th>NOUN</th>\n",
       "      <th>ADJ</th>\n",
       "      <th>NUM</th>\n",
       "      <th>DET</th>\n",
       "      <th>CONJ</th>\n",
       "      <th>VERB</th>\n",
       "      <th>PRT</th>\n",
       "      <th>X</th>\n",
       "      <th>ADP</th>\n",
       "    </tr>\n",
       "  </thead>\n",
       "  <tbody>\n",
       "    <tr>\n",
       "      <th>.</th>\n",
       "      <td>0.093317</td>\n",
       "      <td>0.065934</td>\n",
       "      <td>0.052873</td>\n",
       "      <td>0.221131</td>\n",
       "      <td>0.043596</td>\n",
       "      <td>0.079625</td>\n",
       "      <td>0.174293</td>\n",
       "      <td>0.059359</td>\n",
       "      <td>0.089894</td>\n",
       "      <td>0.002432</td>\n",
       "      <td>0.027382</td>\n",
       "      <td>0.090074</td>\n",
       "    </tr>\n",
       "    <tr>\n",
       "      <th>PRON</th>\n",
       "      <td>0.039908</td>\n",
       "      <td>0.008058</td>\n",
       "      <td>0.031850</td>\n",
       "      <td>0.211051</td>\n",
       "      <td>0.074444</td>\n",
       "      <td>0.007675</td>\n",
       "      <td>0.008058</td>\n",
       "      <td>0.005372</td>\n",
       "      <td>0.485035</td>\n",
       "      <td>0.013047</td>\n",
       "      <td>0.092863</td>\n",
       "      <td>0.022640</td>\n",
       "    </tr>\n",
       "    <tr>\n",
       "      <th>ADV</th>\n",
       "      <td>0.137645</td>\n",
       "      <td>0.014925</td>\n",
       "      <td>0.079602</td>\n",
       "      <td>0.031841</td>\n",
       "      <td>0.130017</td>\n",
       "      <td>0.030846</td>\n",
       "      <td>0.068325</td>\n",
       "      <td>0.006965</td>\n",
       "      <td>0.342620</td>\n",
       "      <td>0.014262</td>\n",
       "      <td>0.023217</td>\n",
       "      <td>0.119735</td>\n",
       "    </tr>\n",
       "    <tr>\n",
       "      <th>NOUN</th>\n",
       "      <td>0.239840</td>\n",
       "      <td>0.004839</td>\n",
       "      <td>0.017282</td>\n",
       "      <td>0.264508</td>\n",
       "      <td>0.012225</td>\n",
       "      <td>0.009460</td>\n",
       "      <td>0.013280</td>\n",
       "      <td>0.042350</td>\n",
       "      <td>0.146771</td>\n",
       "      <td>0.043769</td>\n",
       "      <td>0.028925</td>\n",
       "      <td>0.176751</td>\n",
       "    </tr>\n",
       "    <tr>\n",
       "      <th>ADJ</th>\n",
       "      <td>0.064277</td>\n",
       "      <td>0.000658</td>\n",
       "      <td>0.004439</td>\n",
       "      <td>0.699984</td>\n",
       "      <td>0.067401</td>\n",
       "      <td>0.020549</td>\n",
       "      <td>0.004767</td>\n",
       "      <td>0.016932</td>\n",
       "      <td>0.012329</td>\n",
       "      <td>0.011014</td>\n",
       "      <td>0.020878</td>\n",
       "      <td>0.076771</td>\n",
       "    </tr>\n",
       "    <tr>\n",
       "      <th>NUM</th>\n",
       "      <td>0.116175</td>\n",
       "      <td>0.001489</td>\n",
       "      <td>0.002979</td>\n",
       "      <td>0.355973</td>\n",
       "      <td>0.033065</td>\n",
       "      <td>0.184987</td>\n",
       "      <td>0.002979</td>\n",
       "      <td>0.013405</td>\n",
       "      <td>0.017873</td>\n",
       "      <td>0.027703</td>\n",
       "      <td>0.207626</td>\n",
       "      <td>0.035746</td>\n",
       "    </tr>\n",
       "    <tr>\n",
       "      <th>DET</th>\n",
       "      <td>0.017252</td>\n",
       "      <td>0.003619</td>\n",
       "      <td>0.012788</td>\n",
       "      <td>0.639884</td>\n",
       "      <td>0.203523</td>\n",
       "      <td>0.021957</td>\n",
       "      <td>0.005550</td>\n",
       "      <td>0.000483</td>\n",
       "      <td>0.039932</td>\n",
       "      <td>0.000241</td>\n",
       "      <td>0.045120</td>\n",
       "      <td>0.009651</td>\n",
       "    </tr>\n",
       "    <tr>\n",
       "      <th>CONJ</th>\n",
       "      <td>0.036111</td>\n",
       "      <td>0.056944</td>\n",
       "      <td>0.055093</td>\n",
       "      <td>0.346759</td>\n",
       "      <td>0.117593</td>\n",
       "      <td>0.040741</td>\n",
       "      <td>0.120833</td>\n",
       "      <td>0.000463</td>\n",
       "      <td>0.157870</td>\n",
       "      <td>0.004630</td>\n",
       "      <td>0.008796</td>\n",
       "      <td>0.054167</td>\n",
       "    </tr>\n",
       "    <tr>\n",
       "      <th>VERB</th>\n",
       "      <td>0.033930</td>\n",
       "      <td>0.036099</td>\n",
       "      <td>0.081339</td>\n",
       "      <td>0.110775</td>\n",
       "      <td>0.065458</td>\n",
       "      <td>0.023085</td>\n",
       "      <td>0.133550</td>\n",
       "      <td>0.005345</td>\n",
       "      <td>0.168487</td>\n",
       "      <td>0.031606</td>\n",
       "      <td>0.218297</td>\n",
       "      <td>0.092029</td>\n",
       "    </tr>\n",
       "    <tr>\n",
       "      <th>PRT</th>\n",
       "      <td>0.041844</td>\n",
       "      <td>0.017980</td>\n",
       "      <td>0.010461</td>\n",
       "      <td>0.247793</td>\n",
       "      <td>0.085649</td>\n",
       "      <td>0.057862</td>\n",
       "      <td>0.101667</td>\n",
       "      <td>0.002288</td>\n",
       "      <td>0.399150</td>\n",
       "      <td>0.001635</td>\n",
       "      <td>0.013076</td>\n",
       "      <td>0.020595</td>\n",
       "    </tr>\n",
       "    <tr>\n",
       "      <th>X</th>\n",
       "      <td>0.162235</td>\n",
       "      <td>0.056042</td>\n",
       "      <td>0.025155</td>\n",
       "      <td>0.061614</td>\n",
       "      <td>0.017195</td>\n",
       "      <td>0.002866</td>\n",
       "      <td>0.054291</td>\n",
       "      <td>0.010508</td>\n",
       "      <td>0.206177</td>\n",
       "      <td>0.183729</td>\n",
       "      <td>0.074351</td>\n",
       "      <td>0.145837</td>\n",
       "    </tr>\n",
       "    <tr>\n",
       "      <th>ADP</th>\n",
       "      <td>0.039237</td>\n",
       "      <td>0.068238</td>\n",
       "      <td>0.013648</td>\n",
       "      <td>0.323382</td>\n",
       "      <td>0.106621</td>\n",
       "      <td>0.063013</td>\n",
       "      <td>0.324128</td>\n",
       "      <td>0.000640</td>\n",
       "      <td>0.008743</td>\n",
       "      <td>0.001386</td>\n",
       "      <td>0.034972</td>\n",
       "      <td>0.015993</td>\n",
       "    </tr>\n",
       "  </tbody>\n",
       "</table>\n",
       "</div>"
      ],
      "text/plain": [
       "             .      PRON       ADV      NOUN       ADJ       NUM       DET  \\\n",
       ".     0.093317  0.065934  0.052873  0.221131  0.043596  0.079625  0.174293   \n",
       "PRON  0.039908  0.008058  0.031850  0.211051  0.074444  0.007675  0.008058   \n",
       "ADV   0.137645  0.014925  0.079602  0.031841  0.130017  0.030846  0.068325   \n",
       "NOUN  0.239840  0.004839  0.017282  0.264508  0.012225  0.009460  0.013280   \n",
       "ADJ   0.064277  0.000658  0.004439  0.699984  0.067401  0.020549  0.004767   \n",
       "NUM   0.116175  0.001489  0.002979  0.355973  0.033065  0.184987  0.002979   \n",
       "DET   0.017252  0.003619  0.012788  0.639884  0.203523  0.021957  0.005550   \n",
       "CONJ  0.036111  0.056944  0.055093  0.346759  0.117593  0.040741  0.120833   \n",
       "VERB  0.033930  0.036099  0.081339  0.110775  0.065458  0.023085  0.133550   \n",
       "PRT   0.041844  0.017980  0.010461  0.247793  0.085649  0.057862  0.101667   \n",
       "X     0.162235  0.056042  0.025155  0.061614  0.017195  0.002866  0.054291   \n",
       "ADP   0.039237  0.068238  0.013648  0.323382  0.106621  0.063013  0.324128   \n",
       "\n",
       "          CONJ      VERB       PRT         X       ADP  \n",
       ".     0.059359  0.089894  0.002432  0.027382  0.090074  \n",
       "PRON  0.005372  0.485035  0.013047  0.092863  0.022640  \n",
       "ADV   0.006965  0.342620  0.014262  0.023217  0.119735  \n",
       "NOUN  0.042350  0.146771  0.043769  0.028925  0.176751  \n",
       "ADJ   0.016932  0.012329  0.011014  0.020878  0.076771  \n",
       "NUM   0.013405  0.017873  0.027703  0.207626  0.035746  \n",
       "DET   0.000483  0.039932  0.000241  0.045120  0.009651  \n",
       "CONJ  0.000463  0.157870  0.004630  0.008796  0.054167  \n",
       "VERB  0.005345  0.168487  0.031606  0.218297  0.092029  \n",
       "PRT   0.002288  0.399150  0.001635  0.013076  0.020595  \n",
       "X     0.010508  0.206177  0.183729  0.074351  0.145837  \n",
       "ADP   0.000640  0.008743  0.001386  0.034972  0.015993  "
      ]
     },
     "execution_count": 13,
     "metadata": {},
     "output_type": "execute_result"
    }
   ],
   "source": [
    "# convert the matrix to a df for better readability\n",
    "\n",
    "tags_df = pd.DataFrame(tags_matrix, columns = list(tags), index=list(tags))\n",
    "tags_df"
   ]
  },
  {
   "cell_type": "code",
   "execution_count": 14,
   "metadata": {},
   "outputs": [
    {
     "data": {
      "image/png": "[encoded data removed]",
      "text/plain": [
       "<Figure size 1080x1080 with 2 Axes>"
      ]
     },
     "metadata": {
      "needs_background": "light"
     },
     "output_type": "display_data"
    }
   ],
   "source": [
    "# transition map\n",
    "\n",
    "plt.figure(figsize=(15, 15))\n",
    "sns.heatmap(tags_df, cmap='YlGnBu', annot=True)\n",
    "plt.show()"
   ]
  },
  {
   "cell_type": "markdown",
   "metadata": {},
   "source": [
    "Observation,\n",
    "- DET followed by NOUN is having probability of 0.64.\n",
    "- ADJ followed by NOUN is having probability of 0.7.\n",
    "- PRON followed by VERB is having probability of 0.49."
   ]
  },
  {
   "cell_type": "code",
   "execution_count": 15,
   "metadata": {},
   "outputs": [],
   "source": [
    "# Developing Viterbi algorithm funcation: Returns words and corresponding predicted POS tag\n",
    "\n",
    "\n",
    "def Viter1(words, train_bag = train_tagged_words):\n",
    "    count1 = 0\n",
    "    state = []\n",
    "    \n",
    "    for key, word in enumerate(words):\n",
    "        p = [] \n",
    "        for tag in tags:\n",
    "            if key == 0:\n",
    "                transition_p = tags_df.loc['.', tag]\n",
    "            else:\n",
    "                transition_p = tags_df.loc[state[-1], tag]\n",
    "                \n",
    "            emission_p = emission(word, tag)\n",
    "            state_probability = emission_p * transition_p    \n",
    "            p.append(state_probability)\n",
    "                       \n",
    "        pmax = max(p)\n",
    "        T = list(tags)\n",
    "        state_max = T[p.index(pmax)] \n",
    "        state.append(state_max)\n",
    "        # print(count1, word, state_max)\n",
    "        count1 += 1\n",
    "    return list(zip(words, state))"
   ]
  },
  {
   "cell_type": "code",
   "execution_count": 16,
   "metadata": {
    "scrolled": true
   },
   "outputs": [
    {
     "name": "stdout",
     "output_type": "stream",
     "text": [
      "Time taken (in seconds):  622.1105971336365\n"
     ]
    }
   ],
   "source": [
    "start = time.time()\n",
    "test_pred = Viter1([x[0] for y in test_set for x in y])\n",
    "end = time.time()\n",
    "difference = end-start\n",
    "print(\"Time taken (in seconds): \", difference)"
   ]
  },
  {
   "cell_type": "code",
   "execution_count": 17,
   "metadata": {},
   "outputs": [
    {
     "data": {
      "text/plain": [
       "0.9048677034942436"
      ]
     },
     "execution_count": 17,
     "metadata": {},
     "output_type": "execute_result"
    }
   ],
   "source": [
    "# accuracy check\n",
    "# wrong_pos --> there are words which are wrongly tagged by our tagger\n",
    "\n",
    "test_tagged_words = [x for y in test_set for x in y]\n",
    "wrong_pos = [(i,j,k) for i,j,k in list(zip([x[0] for x in test_tagged_words],\n",
    "                                  [x[1] for x in test_tagged_words],\n",
    "                                  [x[1] for x in test_pred])) if j != k]\n",
    "accuracy1 = 1-len(wrong_pos)/len(test_tagged_words)\n",
    "accuracy1"
   ]
  },
  {
   "cell_type": "markdown",
   "metadata": {},
   "source": [
    "We are getting accuracy of ~90% on the test set, which is good. But let's try to improve it further."
   ]
  },
  {
   "cell_type": "markdown",
   "metadata": {},
   "source": [
    "#### Checking unknown words\n",
    "\n",
    "- Words which are not present in train set but are there in test set. These words would be having emission probability of 0.\n",
    "- We would be using `Regular Expression` based tagger for unknown words instead of using Viterbi method\n",
    "\n",
    "`Regular Expression` based Tagger: We use a set of rules to define the POS for the given word. Rules can be related to alphabets in word itself. e.g. words ending with 'ing' should be tagged as VERB. "
   ]
  },
  {
   "cell_type": "code",
   "execution_count": 18,
   "metadata": {
    "scrolled": true
   },
   "outputs": [
    {
     "data": {
      "text/plain": [
       "[('beds', 'NOUN', '.'),\n",
       " ('Bowery', 'NOUN', '.'),\n",
       " ('Mission', 'NOUN', '.'),\n",
       " ('drearier', 'ADV', '.'),\n",
       " ('tuck', 'VERB', '.'),\n",
       " ('Garret', 'NOUN', '.'),\n",
       " ('teaches', 'VERB', '.'),\n",
       " ('Earlham', 'NOUN', '.'),\n",
       " ('structure', 'NOUN', '.'),\n",
       " ('ugly', 'ADJ', '.')]"
      ]
     },
     "execution_count": 18,
     "metadata": {},
     "output_type": "execute_result"
    }
   ],
   "source": [
    "unknown_words_pos = [x for x in wrong_pos if x[0] not in train_vocab]\n",
    "unknown_words_pos[0:10]"
   ]
  },
  {
   "cell_type": "markdown",
   "metadata": {},
   "source": [
    "This is a subset of wrongly tagged words which are not present in training set."
   ]
  },
  {
   "cell_type": "code",
   "execution_count": 19,
   "metadata": {},
   "outputs": [
    {
     "data": {
      "image/png": "[encoded data removed]",
      "text/plain": [
       "<Figure size 432x288 with 1 Axes>"
      ]
     },
     "metadata": {
      "needs_background": "light"
     },
     "output_type": "display_data"
    },
    {
     "data": {
      "text/plain": [
       "<AxesSubplot:xlabel='Samples', ylabel='Counts'>"
      ]
     },
     "execution_count": 19,
     "metadata": {},
     "output_type": "execute_result"
    }
   ],
   "source": [
    "# Checking distribution of unknown words POs tags\n",
    "\n",
    "FreqDist([x[1] for x in unknown_words_pos]).plot()"
   ]
  },
  {
   "cell_type": "markdown",
   "metadata": {},
   "source": [
    "Observation,\n",
    "- Tagger unable to tag `NOUN`, `VERB`, `ADJ`, `NUM`, `X` and `ADV` from unknown group of words. It is assigning all above kind to `ADP` because `ADP` is the first tag in out transition probability matrix. \n",
    "\n",
    "\n",
    "Next, lets do analysis of words from unknown group and try to develop a set of rules to tag them correctly."
   ]
  },
  {
   "cell_type": "markdown",
   "metadata": {},
   "source": [
    "#### VERB analysis"
   ]
  },
  {
   "cell_type": "code",
   "execution_count": 20,
   "metadata": {
    "scrolled": true
   },
   "outputs": [
    {
     "name": "stdout",
     "output_type": "stream",
     "text": [
      "[('tuck', 'VERB', '.'), ('teaches', 'VERB', '.'), ('dominating', 'VERB', '.'), ('trail', 'VERB', '.'), ('lessening', 'VERB', '.'), ('sabotage', 'VERB', '.'), ('reimbursed', 'VERB', '.'), ('impede', 'VERB', '.'), ('APPEARS', 'VERB', '.'), ('slated', 'VERB', '.'), ('sliding', 'VERB', '.'), ('zoomed', 'VERB', '.'), ('enclosed', 'VERB', '.'), ('transporting', 'VERB', '.'), ('queuing', 'VERB', '.'), ('helps', 'VERB', '.'), ('delisted', 'VERB', '.'), ('TRIMMING', 'VERB', '.'), ('soliciting', 'VERB', '.'), ('pulled', 'VERB', '.'), ('agreeing', 'VERB', '.'), ('frightened', 'VERB', '.'), ('Getting', 'VERB', '.'), ('encourages', 'VERB', '.'), ('broaden', 'VERB', '.'), ('floated', 'VERB', '.'), ('ratcheting', 'VERB', '.'), ('urge', 'VERB', '.'), ('stresses', 'VERB', '.'), ('clashed', 'VERB', '.'), ('tanked', 'VERB', '.'), ('laid', 'VERB', '.'), ('wrecking', 'VERB', '.'), ('investigate', 'VERB', '.'), ('burn', 'VERB', '.'), ('transforming', 'VERB', '.'), ('acquires', 'VERB', '.'), ('generated', 'VERB', '.'), ('approves', 'VERB', '.'), ('clearing', 'VERB', '.'), ('noticed', 'VERB', '.'), ('lengthened', 'VERB', '.'), ('photocopying', 'VERB', '.'), ('Performing', 'VERB', '.'), ('develops', 'VERB', '.'), ('exhausted', 'VERB', '.'), ('wrestling', 'VERB', '.'), ('justified', 'VERB', '.'), ('depended', 'VERB', '.'), ('appealing', 'VERB', '.'), ('appealing', 'VERB', '.'), ('UPHELD', 'VERB', '.'), ('fend', 'VERB', '.'), ('picks', 'VERB', '.'), ('reprove', 'VERB', '.'), ('scuttle', 'VERB', '.'), ('broadcasting', 'VERB', '.'), ('analyze', 'VERB', '.'), ('rallying', 'VERB', '.')]\n",
      " \n",
      "59\n"
     ]
    }
   ],
   "source": [
    "print([x for x in unknown_words_pos if x[1] =='VERB'])\n",
    "\n",
    "print(' ')\n",
    "\n",
    "print(len([x for x in unknown_words_pos if x[1] =='VERB']))"
   ]
  },
  {
   "cell_type": "code",
   "execution_count": 21,
   "metadata": {},
   "outputs": [
    {
     "name": "stdout",
     "output_type": "stream",
     "text": [
      "['dominating', 'lessening', 'sliding', 'transporting', 'queuing', 'soliciting', 'agreeing', 'Getting', 'ratcheting', 'wrecking', 'transforming', 'clearing', 'photocopying', 'Performing', 'wrestling', 'appealing', 'appealing', 'broadcasting', 'rallying']\n",
      " \n",
      "19\n"
     ]
    }
   ],
   "source": [
    "print([x[0] for x in unknown_words_pos if x[1] =='VERB' and x[0].endswith('ing')])\n",
    "\n",
    "print(' ')\n",
    "\n",
    "print(len([x[0] for x in unknown_words_pos if x[1] =='VERB' and x[0].endswith('ing')]))"
   ]
  },
  {
   "cell_type": "code",
   "execution_count": 22,
   "metadata": {},
   "outputs": [
    {
     "name": "stdout",
     "output_type": "stream",
     "text": [
      "['reimbursed', 'slated', 'zoomed', 'enclosed', 'delisted', 'pulled', 'frightened', 'floated', 'clashed', 'tanked', 'generated', 'noticed', 'lengthened', 'exhausted', 'justified', 'depended']\n",
      " \n",
      "16\n"
     ]
    }
   ],
   "source": [
    "print([x[0] for x in unknown_words_pos if x[1] =='VERB' and x[0].endswith('ed')])\n",
    "\n",
    "print(' ')\n",
    "\n",
    "print(len([x[0] for x in unknown_words_pos if x[1] =='VERB' and x[0].endswith('ed')]))"
   ]
  },
  {
   "cell_type": "code",
   "execution_count": 23,
   "metadata": {},
   "outputs": [
    {
     "name": "stdout",
     "output_type": "stream",
     "text": [
      "['teaches', 'encourages', 'stresses', 'acquires', 'approves']\n",
      " \n",
      "5\n"
     ]
    }
   ],
   "source": [
    "print([x[0] for x in unknown_words_pos if x[1] =='VERB' and x[0].endswith('es')])\n",
    "\n",
    "print(' ')\n",
    "\n",
    "print(len([x[0] for x in unknown_words_pos if x[1] =='VERB' and x[0].endswith('es')]))"
   ]
  },
  {
   "cell_type": "markdown",
   "metadata": {},
   "source": [
    "We can see many words which are ending with 'ing' or 'ed' or 'es' which are actually verbs but tagged as 'ADP'. Hence we would defined rules for that."
   ]
  },
  {
   "cell_type": "code",
   "execution_count": 24,
   "metadata": {},
   "outputs": [],
   "source": [
    "patterns_verb = [\n",
    "    (r'.*ing$', 'VERB'),              # gerund\n",
    "    (r'.*ed$', 'VERB'),               # past tense\n",
    "    (r'.*es$', 'VERB'),               # 3rd singular present\n",
    "]"
   ]
  },
  {
   "cell_type": "markdown",
   "metadata": {},
   "source": [
    "#### ADV analysis"
   ]
  },
  {
   "cell_type": "code",
   "execution_count": 25,
   "metadata": {},
   "outputs": [
    {
     "name": "stdout",
     "output_type": "stream",
     "text": [
      "[('drearier', 'ADV', '.'), ('twice', 'ADV', '.'), ('implicitly', 'ADV', '.'), ('apart', 'ADV', '.'), ('scarcely', 'ADV', '.'), ('rhythmically', 'ADV', '.')]\n",
      " \n",
      "6\n"
     ]
    }
   ],
   "source": [
    "print([x for x in unknown_words_pos if x[1] =='ADV'])\n",
    "\n",
    "print(' ')\n",
    "\n",
    "print(len([x for x in unknown_words_pos if x[1] =='ADV']))"
   ]
  },
  {
   "cell_type": "code",
   "execution_count": 26,
   "metadata": {},
   "outputs": [
    {
     "name": "stdout",
     "output_type": "stream",
     "text": [
      "['implicitly', 'scarcely', 'rhythmically']\n",
      " \n",
      "3\n"
     ]
    }
   ],
   "source": [
    "print([x[0] for x in unknown_words_pos if x[1] =='ADV' and x[0].endswith('ly')])\n",
    "\n",
    "print(' ')\n",
    "\n",
    "print(len([x[0] for x in unknown_words_pos if x[1] =='ADV' and x[0].endswith('ly')]))"
   ]
  },
  {
   "cell_type": "markdown",
   "metadata": {},
   "source": [
    "We can see many words which are ending with 'ly' which are actually 'ADV' but tagged as 'ADP'. Hence we would defined rule for that."
   ]
  },
  {
   "cell_type": "code",
   "execution_count": 27,
   "metadata": {},
   "outputs": [],
   "source": [
    "patterns_adv = [\n",
    "    (r'.*ly$', 'ADV')\n",
    "]"
   ]
  },
  {
   "cell_type": "markdown",
   "metadata": {},
   "source": [
    "#### X Analysis"
   ]
  },
  {
   "cell_type": "code",
   "execution_count": 28,
   "metadata": {},
   "outputs": [
    {
     "name": "stdout",
     "output_type": "stream",
     "text": [
      "[('*-119', 'X', '.'), ('*-118', 'X', '.'), ('*T*-192', 'X', '.'), ('*T*-206', 'X', '.'), ('*-102', 'X', '.'), ('*-102', 'X', '.'), ('*T*-89', 'X', '.'), ('*-152', 'X', '.'), ('*T*-165', 'X', '.'), ('*T*-50', 'X', '.'), ('*T*-220', 'X', '.'), ('*T*-50', 'X', '.'), ('*-166', 'X', '.')]\n",
      " \n",
      "13\n"
     ]
    }
   ],
   "source": [
    "print([x for x in unknown_words_pos if x[1] =='X'])\n",
    "\n",
    "print(' ')\n",
    "\n",
    "print(len([x for x in unknown_words_pos if x[1] =='X']))"
   ]
  },
  {
   "cell_type": "markdown",
   "metadata": {},
   "source": [
    "These are the foreign words which should be tagged as 'X' but are predicted as 'ADP'. We can't define as any rule for such words. Hence, we would leave them as it is."
   ]
  },
  {
   "cell_type": "markdown",
   "metadata": {},
   "source": [
    "#### NOUN Analysis"
   ]
  },
  {
   "cell_type": "code",
   "execution_count": 29,
   "metadata": {},
   "outputs": [
    {
     "name": "stdout",
     "output_type": "stream",
     "text": [
      "[('beds', 'NOUN', '.'), ('Bowery', 'NOUN', '.'), ('Mission', 'NOUN', '.'), ('Garret', 'NOUN', '.'), ('Earlham', 'NOUN', '.'), ('structure', 'NOUN', '.'), ('brat', 'NOUN', '.'), ('pack', 'NOUN', '.'), ('best-seller', 'NOUN', '.'), ('charts', 'NOUN', '.'), ('heavy-truck', 'NOUN', '.'), ('passenger-car', 'NOUN', '.'), ('AIDS', 'NOUN', '.'), ('sky', 'NOUN', '.'), ('likelihood', 'NOUN', '.'), ('Guerrilla', 'NOUN', '.'), ('Namibia', 'NOUN', '.'), ('printing-press', 'NOUN', '.'), ('India', 'NOUN', '.'), ('Experts', 'NOUN', '.'), ('Kathryn', 'NOUN', '.'), ('McAuley', 'NOUN', '.'), ('reserve', 'NOUN', '.'), ('brakes', 'NOUN', '.'), ('Ark', 'NOUN', '.'), ('skill', 'NOUN', '.'), ('stigma', 'NOUN', '.'), ('campaigner', 'NOUN', '.'), ('Rozell', 'NOUN', '.'), ('mininum-wage', 'NOUN', '.'), ('employers', 'NOUN', '.'), ('elimination', 'NOUN', '.'), ('Silicon', 'NOUN', '.'), ('trading-company', 'NOUN', '.'), ('Stockbrokers', 'NOUN', '.'), ('departures', 'NOUN', '.'), ('Ensrud', 'NOUN', '.'), ('GROWTH', 'NOUN', '.'), ('Fantasy', 'NOUN', '.'), ('adjustment', 'NOUN', '.'), ('bomber', 'NOUN', '.'), ('sewing-machine', 'NOUN', '.'), ('Jerritts', 'NOUN', '.'), ('Rail', 'NOUN', '.'), ('autos', 'NOUN', '.'), ('reluctance', 'NOUN', '.'), ('lobbies', 'NOUN', '.'), ('genie', 'NOUN', '.'), ('property\\\\/casualty', 'NOUN', '.'), ('property\\\\/casualty', 'NOUN', '.'), ('TXO', 'NOUN', '.'), ('lotter', 'NOUN', '.'), ('Zicklin', 'NOUN', '.'), ('burdens', 'NOUN', '.'), ('doors', 'NOUN', '.'), ('balloon', 'NOUN', '.'), ('Mellon', 'NOUN', '.'), ('billing', 'NOUN', '.'), ('referenda', 'NOUN', '.'), ('Democracy', 'NOUN', '.'), ('smattering', 'NOUN', '.'), ('desires', 'NOUN', '.'), ('dilemma', 'NOUN', '.'), ('Syracuse', 'NOUN', '.'), ('DyDee', 'NOUN', '.'), ('awareness', 'NOUN', '.'), ('S.I.', 'NOUN', '.'), ('Advance', 'NOUN', '.'), ('Steve', 'NOUN', '.'), ('waiver', 'NOUN', '.'), ('incentives', 'NOUN', '.'), ('Jerritts', 'NOUN', '.'), ('sweater', 'NOUN', '.'), ('cleanup', 'NOUN', '.'), ('fuels', 'NOUN', '.'), ('incest', 'NOUN', '.'), ('centennial', 'NOUN', '.'), ('milestones', 'NOUN', '.'), ('Austin', 'NOUN', '.'), ('kilobytes', 'NOUN', '.'), ('monitor', 'NOUN', '.'), ('expectation', 'NOUN', '.'), ('Disputado', 'NOUN', '.'), ('acquirers', 'NOUN', '.'), ('Donoghue', 'NOUN', '.'), ('courage', 'NOUN', '.'), ('A.D.', 'NOUN', '.'), ('Fracturing', 'NOUN', '.'), ('Lovett', 'NOUN', '.'), ('Mitchell', 'NOUN', '.'), ('Webb', 'NOUN', '.'), ('Garrison', 'NOUN', '.'), ('Blunt', 'NOUN', '.'), ('Ellis', 'NOUN', '.'), ('Loewi', 'NOUN', '.'), ('conferees', 'NOUN', '.'), ('floors', 'NOUN', '.'), ('counter', 'NOUN', '.'), ('tapes', 'NOUN', '.'), ('mainland', 'NOUN', '.'), ('AIDS', 'NOUN', '.'), ('recommendation', 'NOUN', '.'), ('Monopolies', 'NOUN', '.'), ('Mergers', 'NOUN', '.'), ('tires', 'NOUN', '.'), ('arbs', 'NOUN', '.'), ('disadvantage', 'NOUN', '.'), ('rivals', 'NOUN', '.'), ('Works', 'NOUN', '.'), ('CALL', 'NOUN', '.'), ('MONEY', 'NOUN', '.'), ('Environmental', 'NOUN', '.'), ('Protection', 'NOUN', '.'), ('Pharaoh', 'NOUN', '.'), ('Scotia', 'NOUN', '.'), ('McLeod', 'NOUN', '.'), ('RBC', 'NOUN', '.'), ('Dominion', 'NOUN', '.'), ('newsstand', 'NOUN', '.'), ('freeway', 'NOUN', '.'), ('ABORTION', 'NOUN', '.'), ('RULING', 'NOUN', '.'), ('dummies', 'NOUN', '.'), ('deprivation', 'NOUN', '.'), ('Sebastian', 'NOUN', '.'), ('impetus', 'NOUN', '.'), ('Value', 'NOUN', '.'), ('substitute', 'NOUN', '.'), ('Chivas', 'NOUN', '.'), ('Regal', 'NOUN', '.'), ('phobias', 'NOUN', '.'), ('depressions', 'NOUN', '.'), ('structure', 'NOUN', '.'), ('variables', 'NOUN', '.'), ('Sandoz', 'NOUN', '.'), ('fret', 'NOUN', '.'), ('rancor', 'NOUN', '.'), ('track', 'NOUN', '.'), ('achievement-test', 'NOUN', '.'), ('Reasons', 'NOUN', '.'), ('walkout', 'NOUN', '.'), ('Institutions', 'NOUN', '.'), ('Wohlstetter', 'NOUN', '.'), ('Fishman', 'NOUN', '.'), ('Longwood', 'NOUN', '.'), ('Floyd', 'NOUN', '.'), ('Amin', 'NOUN', '.'), ('Jalaalwalikraam', 'NOUN', '.'), ('Glenham', 'NOUN', '.'), ('Knapp', 'NOUN', '.'), ('Deborah', 'NOUN', '.'), ('Renee', 'NOUN', '.'), ('Muscolina', 'NOUN', '.'), ('Palisades', 'NOUN', '.'), ('Najarian', 'NOUN', '.'), ('Minn.', 'NOUN', '.'), ('Norwick', 'NOUN', '.'), ('Nesconset', 'NOUN', '.'), ('beers', 'NOUN', '.'), ('Andy', 'NOUN', '.'), ('Furillo', 'NOUN', '.'), ('Marietta', 'NOUN', '.'), ('low-altitude', 'NOUN', '.'), ('navigation', 'NOUN', '.')]\n",
      " \n",
      "164\n"
     ]
    }
   ],
   "source": [
    "print([x for x in unknown_words_pos if x[1] =='NOUN'])\n",
    "\n",
    "print(' ')\n",
    "\n",
    "print(len([x for x in unknown_words_pos if x[1] =='NOUN']))"
   ]
  },
  {
   "cell_type": "code",
   "execution_count": 30,
   "metadata": {},
   "outputs": [
    {
     "name": "stdout",
     "output_type": "stream",
     "text": [
      "['beds', 'charts', 'printing-press', 'Experts', 'brakes', 'employers', 'Stockbrokers', 'departures', 'Jerritts', 'autos', 'lobbies', 'burdens', 'doors', 'desires', 'awareness', 'incentives', 'Jerritts', 'fuels', 'milestones', 'kilobytes', 'acquirers', 'Ellis', 'conferees', 'floors', 'tapes', 'Monopolies', 'Mergers', 'tires', 'arbs', 'rivals', 'Works', 'dummies', 'impetus', 'Chivas', 'phobias', 'depressions', 'variables', 'Reasons', 'Institutions', 'Palisades', 'beers']\n",
      " \n",
      "41\n"
     ]
    }
   ],
   "source": [
    "print([x[0] for x in unknown_words_pos if x[1] =='NOUN' and x[0].endswith('s')])\n",
    "\n",
    "print(' ')\n",
    "\n",
    "print(len([x[0] for x in unknown_words_pos if x[1] =='NOUN' and x[0].endswith('s')]))"
   ]
  },
  {
   "cell_type": "markdown",
   "metadata": {},
   "source": [
    "We can see many words which are ending with 's' which are actually 'NOUN' but tagged as 'ADP'. Hence we would defined rule for that."
   ]
  },
  {
   "cell_type": "code",
   "execution_count": 31,
   "metadata": {},
   "outputs": [],
   "source": [
    "patterns_noun = [\n",
    "        (r'.*s$', 'NOUN'),              # plural nouns\n",
    "]"
   ]
  },
  {
   "cell_type": "markdown",
   "metadata": {},
   "source": [
    "#### ADJ Analysis"
   ]
  },
  {
   "cell_type": "code",
   "execution_count": 32,
   "metadata": {},
   "outputs": [
    {
     "name": "stdout",
     "output_type": "stream",
     "text": [
      "[('ugly', 'ADJ', '.'), ('youthful', 'ADJ', '.'), ('dismal', 'ADJ', '.'), ('benevolent', 'ADJ', '.'), ('altruistic', 'ADJ', '.'), ('tired', 'ADJ', '.'), ('Abrupt', 'ADJ', '.'), ('unheard', 'ADJ', '.'), ('free-lance', 'ADJ', '.'), ('ECONOMIC', 'ADJ', '.'), ('2,050-passenger', 'ADJ', '.'), ('prior-year', 'ADJ', '.'), ('high-quality', 'ADJ', '.'), ('priciest', 'ADJ', '.'), ('unsympathetic', 'ADJ', '.'), ('TIRED', 'ADJ', '.'), ('intentioned', 'ADJ', '.'), ('cleaner-burning', 'ADJ', '.'), ('Texas-based', 'ADJ', '.'), ('40-megabyte', 'ADJ', '.'), ('when-issued', 'ADJ', '.'), ('longest', 'ADJ', '.'), ('sprawling', 'ADJ', '.'), ('balkanized', 'ADJ', '.'), ('mammoth', 'ADJ', '.'), ('87-store', 'ADJ', '.'), ('food-shop', 'ADJ', '.'), ('low-cost', 'ADJ', '.'), ('muzzling', 'ADJ', '.'), ('overleveraged', 'ADJ', '.'), ('intelligent', 'ADJ', '.'), ('insane', 'ADJ', '.'), ('gradual', 'ADJ', '.'), ('Egyptian', 'ADJ', '.'), ('Lead', 'ADJ', '.'), ('student-test', 'ADJ', '.'), ('inevitable', 'ADJ', '.'), ('Odd-year', 'ADJ', '.'), ('band-wagon', 'ADJ', '.'), ('scarce', 'ADJ', '.'), ('less-than-brilliant', 'ADJ', '.'), ('preclinical', 'ADJ', '.'), ('procedural', 'ADJ', '.'), ('anti-program', 'ADJ', '.'), ('countless', 'ADJ', '.'), ('drunk', 'ADJ', '.'), ('leery', 'ADJ', '.')]\n",
      " \n",
      "47\n"
     ]
    }
   ],
   "source": [
    "print([x for x in unknown_words_pos if x[1] =='ADJ'])\n",
    "\n",
    "print(' ')\n",
    "\n",
    "print(len([x for x in unknown_words_pos if x[1] =='ADJ']))"
   ]
  },
  {
   "cell_type": "code",
   "execution_count": 33,
   "metadata": {},
   "outputs": [
    {
     "name": "stdout",
     "output_type": "stream",
     "text": [
      "['priciest', 'longest', 'student-test']\n",
      " \n",
      "3\n"
     ]
    }
   ],
   "source": [
    "print([x[0] for x in unknown_words_pos if x[1] =='ADJ' and x[0].endswith('est')])\n",
    "\n",
    "print(' ')\n",
    "\n",
    "print(len([x[0] for x in unknown_words_pos if x[1] =='ADJ' and x[0].endswith('est')]))"
   ]
  },
  {
   "cell_type": "markdown",
   "metadata": {},
   "source": [
    "There are a few words ending with 'est' should be considered as 'ADJ'. These words are very less in count. Hence, we would not try to assign any rule. This is to avoid any sort of over-fitting and try to define as generic rules as possible."
   ]
  },
  {
   "cell_type": "markdown",
   "metadata": {},
   "source": [
    "#### NUM Analysis"
   ]
  },
  {
   "cell_type": "code",
   "execution_count": 34,
   "metadata": {},
   "outputs": [
    {
     "name": "stdout",
     "output_type": "stream",
     "text": [
      "[('169.9', 'NUM', '.'), ('1933', 'NUM', '.'), ('1961', 'NUM', '.'), ('1968', 'NUM', '.'), ('185.9', 'NUM', '.'), ('737.5', 'NUM', '.'), ('3.01', 'NUM', '.'), ('23.25', 'NUM', '.'), ('20.07', 'NUM', '.'), ('87.5', 'NUM', '.'), ('38.875', 'NUM', '.'), ('210', 'NUM', '.'), ('512', 'NUM', '.'), ('374.20', 'NUM', '.'), ('2,099', 'NUM', '.'), ('49.9', 'NUM', '.'), ('47.1', 'NUM', '.'), ('339', 'NUM', '.'), ('2.15', 'NUM', '.'), (\"'40s\", 'NUM', '.'), (\"'50s\", 'NUM', '.'), ('71,309', 'NUM', '.'), ('550,000', 'NUM', '.'), ('1.56', 'NUM', '.'), ('372.14', 'NUM', '.'), ('191.9', 'NUM', '.'), ('1614', 'NUM', '.'), ('5.1', 'NUM', '.'), ('29.3', 'NUM', '.'), ('28.4', 'NUM', '.'), ('29.9', 'NUM', '.')]\n",
      " \n",
      "31\n"
     ]
    }
   ],
   "source": [
    "print([x for x in unknown_words_pos if x[1] =='NUM'])\n",
    "\n",
    "print(' ')\n",
    "\n",
    "print(len([x for x in unknown_words_pos if x[1] =='NUM']))"
   ]
  },
  {
   "cell_type": "code",
   "execution_count": 35,
   "metadata": {},
   "outputs": [],
   "source": [
    "patterns_numbers = [\n",
    "        (r'^-?[0-9]+(.[0-9]+)?$', 'NUM'), # cardinal numbers\n",
    "]"
   ]
  },
  {
   "cell_type": "markdown",
   "metadata": {},
   "source": [
    "#### Final pattern for Regex"
   ]
  },
  {
   "cell_type": "markdown",
   "metadata": {},
   "source": [
    "We need to assign some POS for the words which aren't aligned to any rule. Since we know that most of the words which are unknown belong to `NOUN` category, we would be using that as default tag."
   ]
  },
  {
   "cell_type": "code",
   "execution_count": 36,
   "metadata": {},
   "outputs": [],
   "source": [
    "# Final pattern\n",
    "\n",
    "pattern = [\n",
    "    (r'.*ing$', 'VERB'),            # gerund\n",
    "    (r'.*ed$', 'VERB'),             # past tense\n",
    "    (r'.*es$', 'VERB'),             # 3rd singular present\n",
    "    (r'.*ly$', 'ADV'),              # gerund\n",
    "    (r'^-?[0-9]+(.[0-9]+)?$', 'NUM'), # cardinal numbers\n",
    "    (r'.*s$', 'NOUN'),              # plural nouns\n",
    "    (r'.*', 'NOUN')                 # nouns\n",
    "]"
   ]
  },
  {
   "cell_type": "code",
   "execution_count": 37,
   "metadata": {},
   "outputs": [],
   "source": [
    "# Defining Regex based tagger\n",
    "\n",
    "regexp_tagger = nltk.RegexpTagger(pattern)"
   ]
  },
  {
   "cell_type": "code",
   "execution_count": 38,
   "metadata": {},
   "outputs": [],
   "source": [
    "# Viterbi  and Regex tagger: Viterbi with added condition for unknown words\n",
    "\n",
    "\n",
    "def Viter2(words, train_bag = train_tagged_words):\n",
    "    count1 = 0\n",
    "    state = []\n",
    "    T = list(tags)\n",
    "    \n",
    "    for key, word in enumerate(words):\n",
    "        if word in train_vocab: \n",
    "            p = [] \n",
    "            for tag in tags:\n",
    "                if key == 0:\n",
    "                    transition_p = tags_df.loc['.', tag]\n",
    "                else:\n",
    "                    transition_p = tags_df.loc[state[-1], tag]\n",
    "                \n",
    "                emission_p = emission(word, tag)\n",
    "                state_probability = emission_p * transition_p    \n",
    "                p.append(state_probability)\n",
    "            \n",
    "            pmax = max(p)\n",
    "            state_max = T[p.index(pmax)]\n",
    "        \n",
    "        else:\n",
    "            # print('unknown trigger!')\n",
    "            state_max = regexp_tagger.tag([word])[0][1]\n",
    "        \n",
    "        state.append(state_max)\n",
    "        # print(count1, word, state_max)\n",
    "        count1 += 1\n",
    "    return list(zip(words, state))"
   ]
  },
  {
   "cell_type": "code",
   "execution_count": 39,
   "metadata": {
    "scrolled": true
   },
   "outputs": [
    {
     "name": "stdout",
     "output_type": "stream",
     "text": [
      "Time taken in seconds:  546.0527780056\n"
     ]
    }
   ],
   "source": [
    "start = time.time()\n",
    "test_pred2 = Viter2([x[0] for y in test_set for x in y])\n",
    "end = time.time()\n",
    "difference = end-start\n",
    "print(\"Time taken in seconds: \", difference)"
   ]
  },
  {
   "cell_type": "code",
   "execution_count": 40,
   "metadata": {},
   "outputs": [
    {
     "data": {
      "text/plain": [
       "0.9503130680670572"
      ]
     },
     "execution_count": 40,
     "metadata": {},
     "output_type": "execute_result"
    }
   ],
   "source": [
    "# accuracy\n",
    "\n",
    "wrong_pos2 = [(i,j,k) for i,j,k in list(zip([x[0] for x in test_tagged_words],\n",
    "                                  [x[1] for x in test_tagged_words],\n",
    "                                  [x[1] for x in test_pred2])) if j != k]\n",
    "accuracy2 = 1-len(wrong_pos2)/len(test_tagged_words)\n",
    "accuracy2"
   ]
  },
  {
   "cell_type": "markdown",
   "metadata": {},
   "source": [
    "We can observe some improvement in the accuracy a compared to only Viterbi based model."
   ]
  },
  {
   "cell_type": "code",
   "execution_count": 41,
   "metadata": {},
   "outputs": [
    {
     "name": "stdout",
     "output_type": "stream",
     "text": [
      "[('drearier', 'ADV', 'NOUN'), ('tuck', 'VERB', 'NOUN'), ('ugly', 'ADJ', 'ADV'), ('youthful', 'ADJ', 'NOUN'), ('trail', 'VERB', 'NOUN'), ('sabotage', 'VERB', 'NOUN'), ('twice', 'ADV', 'NOUN'), ('brakes', 'NOUN', 'VERB'), ('impede', 'VERB', 'NOUN'), ('dismal', 'ADJ', 'NOUN'), ('benevolent', 'ADJ', 'NOUN'), ('altruistic', 'ADJ', 'NOUN'), ('tired', 'ADJ', 'VERB'), ('*-119', 'X', 'NOUN'), ('Abrupt', 'ADJ', 'NOUN'), ('departures', 'NOUN', 'VERB'), ('unheard', 'ADJ', 'NOUN'), ('free-lance', 'ADJ', 'NOUN'), ('ECONOMIC', 'ADJ', 'NOUN'), ('APPEARS', 'VERB', 'NOUN'), ('2,050-passenger', 'ADJ', 'NOUN'), ('prior-year', 'ADJ', 'NOUN'), ('high-quality', 'ADJ', 'NOUN'), ('priciest', 'ADJ', 'NOUN'), ('unsympathetic', 'ADJ', 'NOUN'), ('helps', 'VERB', 'NOUN'), ('lobbies', 'NOUN', 'VERB'), ('TIRED', 'ADJ', 'NOUN'), ('TRIMMING', 'VERB', 'NOUN'), ('*-118', 'X', 'NOUN'), ('*T*-192', 'X', 'NOUN'), ('*T*-206', 'X', 'NOUN'), ('broaden', 'VERB', 'NOUN'), ('billing', 'NOUN', 'VERB'), ('urge', 'VERB', 'NOUN'), ('smattering', 'NOUN', 'VERB'), ('desires', 'NOUN', 'VERB'), ('laid', 'VERB', 'NOUN'), ('*-102', 'X', 'NOUN'), ('*-102', 'X', 'NOUN'), ('intentioned', 'ADJ', 'VERB'), ('incentives', 'NOUN', 'VERB'), ('Above', 'ADP', 'NOUN'), ('investigate', 'VERB', 'NOUN'), ('burn', 'VERB', 'NOUN'), ('cleaner-burning', 'ADJ', 'VERB'), ('milestones', 'NOUN', 'VERB'), ('Texas-based', 'ADJ', 'VERB'), ('kilobytes', 'NOUN', 'VERB'), ('40-megabyte', 'ADJ', 'NOUN'), ('when-issued', 'ADJ', 'VERB'), ('Though', 'ADP', 'NOUN'), ('longest', 'ADJ', 'NOUN'), ('sprawling', 'ADJ', 'VERB'), ('balkanized', 'ADJ', 'VERB'), ('mammoth', 'ADJ', 'NOUN'), ('*T*-89', 'X', 'NOUN'), ('87-store', 'ADJ', 'NOUN'), ('Fracturing', 'NOUN', 'VERB'), ('conferees', 'NOUN', 'VERB'), ('tapes', 'NOUN', 'VERB'), ('food-shop', 'ADJ', 'NOUN'), ('develops', 'VERB', 'NOUN'), ('low-cost', 'ADJ', 'NOUN'), ('muzzling', 'ADJ', 'VERB'), ('*-152', 'X', 'NOUN'), (\"'40s\", 'NUM', 'NOUN'), (\"'50s\", 'NUM', 'NOUN'), ('*T*-165', 'X', 'NOUN'), ('Monopolies', 'NOUN', 'VERB'), ('tires', 'NOUN', 'VERB'), ('overleveraged', 'ADJ', 'VERB'), ('apart', 'ADV', 'NOUN'), ('intelligent', 'ADJ', 'NOUN'), ('insane', 'ADJ', 'NOUN'), ('gradual', 'ADJ', 'NOUN'), ('Egyptian', 'ADJ', 'NOUN'), ('Lead', 'ADJ', 'NOUN'), ('student-test', 'ADJ', 'NOUN'), ('inevitable', 'ADJ', 'NOUN'), ('Odd-year', 'ADJ', 'NOUN'), ('UPHELD', 'VERB', 'NOUN'), ('dummies', 'NOUN', 'VERB'), ('fend', 'VERB', 'NOUN'), ('band-wagon', 'ADJ', 'NOUN'), ('picks', 'VERB', 'NOUN'), ('scarce', 'ADJ', 'NOUN'), ('*T*-50', 'X', 'NOUN'), ('less-than-brilliant', 'ADJ', 'NOUN'), ('reprove', 'VERB', 'NOUN'), ('variables', 'NOUN', 'VERB'), ('*T*-220', 'X', 'NOUN'), ('scuttle', 'VERB', 'NOUN'), ('preclinical', 'ADJ', 'NOUN'), ('procedural', 'ADJ', 'NOUN'), ('analyze', 'VERB', 'NOUN'), ('anti-program', 'ADJ', 'NOUN'), ('countless', 'ADJ', 'NOUN'), ('Palisades', 'NOUN', 'VERB'), ('drunk', 'ADJ', 'NOUN'), ('*T*-50', 'X', 'NOUN'), ('*-166', 'X', 'NOUN'), ('leery', 'ADJ', 'NOUN')]\n",
      " \n",
      "103\n"
     ]
    }
   ],
   "source": [
    "unknown_words_pos2 = [x for x in wrong_pos2 if x[0] not in train_vocab]\n",
    "print(unknown_words_pos2)\n",
    "\n",
    "print(' ')\n",
    "\n",
    "print(len(unknown_words_pos2))"
   ]
  },
  {
   "cell_type": "code",
   "execution_count": 42,
   "metadata": {},
   "outputs": [
    {
     "data": {
      "image/png": "[encoded data removed]",
      "text/plain": [
       "<Figure size 432x288 with 1 Axes>"
      ]
     },
     "metadata": {
      "needs_background": "light"
     },
     "output_type": "display_data"
    },
    {
     "data": {
      "text/plain": [
       "<AxesSubplot:xlabel='Samples', ylabel='Counts'>"
      ]
     },
     "execution_count": 42,
     "metadata": {},
     "output_type": "execute_result"
    }
   ],
   "source": [
    "# Checking distribution of unknown words POS tags\n",
    "\n",
    "FreqDist([x[1] for x in unknown_words_pos2]).plot()"
   ]
  },
  {
   "cell_type": "code",
   "execution_count": 43,
   "metadata": {},
   "outputs": [
    {
     "name": "stdout",
     "output_type": "stream",
     "text": [
      "[('ugly', 'ADJ', 'ADV'), ('youthful', 'ADJ', 'NOUN'), ('dismal', 'ADJ', 'NOUN'), ('benevolent', 'ADJ', 'NOUN'), ('altruistic', 'ADJ', 'NOUN'), ('tired', 'ADJ', 'VERB'), ('Abrupt', 'ADJ', 'NOUN'), ('unheard', 'ADJ', 'NOUN'), ('free-lance', 'ADJ', 'NOUN'), ('ECONOMIC', 'ADJ', 'NOUN'), ('2,050-passenger', 'ADJ', 'NOUN'), ('prior-year', 'ADJ', 'NOUN'), ('high-quality', 'ADJ', 'NOUN'), ('priciest', 'ADJ', 'NOUN'), ('unsympathetic', 'ADJ', 'NOUN'), ('TIRED', 'ADJ', 'NOUN'), ('intentioned', 'ADJ', 'VERB'), ('cleaner-burning', 'ADJ', 'VERB'), ('Texas-based', 'ADJ', 'VERB'), ('40-megabyte', 'ADJ', 'NOUN'), ('when-issued', 'ADJ', 'VERB'), ('longest', 'ADJ', 'NOUN'), ('sprawling', 'ADJ', 'VERB'), ('balkanized', 'ADJ', 'VERB'), ('mammoth', 'ADJ', 'NOUN'), ('87-store', 'ADJ', 'NOUN'), ('food-shop', 'ADJ', 'NOUN'), ('low-cost', 'ADJ', 'NOUN'), ('muzzling', 'ADJ', 'VERB'), ('overleveraged', 'ADJ', 'VERB'), ('intelligent', 'ADJ', 'NOUN'), ('insane', 'ADJ', 'NOUN'), ('gradual', 'ADJ', 'NOUN'), ('Egyptian', 'ADJ', 'NOUN'), ('Lead', 'ADJ', 'NOUN'), ('student-test', 'ADJ', 'NOUN'), ('inevitable', 'ADJ', 'NOUN'), ('Odd-year', 'ADJ', 'NOUN'), ('band-wagon', 'ADJ', 'NOUN'), ('scarce', 'ADJ', 'NOUN'), ('less-than-brilliant', 'ADJ', 'NOUN'), ('preclinical', 'ADJ', 'NOUN'), ('procedural', 'ADJ', 'NOUN'), ('anti-program', 'ADJ', 'NOUN'), ('countless', 'ADJ', 'NOUN'), ('drunk', 'ADJ', 'NOUN'), ('leery', 'ADJ', 'NOUN')]\n",
      " \n",
      "47\n"
     ]
    }
   ],
   "source": [
    "print([x for x in unknown_words_pos2 if x[1] =='ADJ'])\n",
    "\n",
    "print(' ')\n",
    "\n",
    "print(len([x for x in unknown_words_pos2 if x[1] =='ADJ']))"
   ]
  },
  {
   "cell_type": "markdown",
   "metadata": {},
   "source": [
    "Here, we don't see any further possible rules for 'ADJ' words. Hence, we would finalize `Viter2` as model for POS tagging."
   ]
  },
  {
   "cell_type": "markdown",
   "metadata": {},
   "source": [
    "#### Testing on new sentences"
   ]
  },
  {
   "cell_type": "code",
   "execution_count": 44,
   "metadata": {},
   "outputs": [],
   "source": [
    "# input sentence\n",
    "\n",
    "sent = 'Hurray!!! This is summer time. Let us have fun!'"
   ]
  },
  {
   "cell_type": "code",
   "execution_count": 45,
   "metadata": {},
   "outputs": [],
   "source": [
    "# Dependancy\n",
    "\n",
    "from nltk import word_tokenize"
   ]
  },
  {
   "cell_type": "code",
   "execution_count": 46,
   "metadata": {},
   "outputs": [
    {
     "data": {
      "text/plain": [
       "['Hurray',\n",
       " '!',\n",
       " '!',\n",
       " '!',\n",
       " 'This',\n",
       " 'is',\n",
       " 'summer',\n",
       " 'time',\n",
       " '.',\n",
       " 'Let',\n",
       " 'us',\n",
       " 'have',\n",
       " 'fun',\n",
       " '!']"
      ]
     },
     "execution_count": 46,
     "metadata": {},
     "output_type": "execute_result"
    }
   ],
   "source": [
    "# tokenize sentence\n",
    "\n",
    "sent_tokens = word_tokenize(sent)\n",
    "sent_tokens"
   ]
  },
  {
   "cell_type": "code",
   "execution_count": 47,
   "metadata": {},
   "outputs": [
    {
     "data": {
      "text/plain": [
       "[('Hurray', 'NOUN'),\n",
       " ('!', '.'),\n",
       " ('!', '.'),\n",
       " ('!', '.'),\n",
       " ('This', 'DET'),\n",
       " ('is', 'VERB'),\n",
       " ('summer', 'NOUN'),\n",
       " ('time', 'NOUN'),\n",
       " ('.', '.'),\n",
       " ('Let', 'NOUN'),\n",
       " ('us', 'PRON'),\n",
       " ('have', 'VERB'),\n",
       " ('fun', 'NOUN'),\n",
       " ('!', '.')]"
      ]
     },
     "execution_count": 47,
     "metadata": {},
     "output_type": "execute_result"
    }
   ],
   "source": [
    "Viter2(sent_tokens)"
   ]
  },
  {
   "cell_type": "markdown",
   "metadata": {},
   "source": [
    "## Conclusion"
   ]
  },
  {
   "cell_type": "markdown",
   "metadata": {},
   "source": [
    "- Viterbi is a powerful algorithm for POS tagging. It is time consuming but gives accurate results.\n",
    "- Viterbi can be further improved using algorithms like Regex tagger."
   ]
  },
  {
   "cell_type": "markdown",
   "metadata": {},
   "source": [
    "---------------------"
   ]
  }
 ],
 "metadata": {
  "kernelspec": {
   "display_name": "Python 3",
   "language": "python",
   "name": "python3"
  },
  "language_info": {
   "codemirror_mode": {
    "name": "ipython",
    "version": 3
   },
   "file_extension": ".py",
   "mimetype": "text/x-python",
   "name": "python",
   "nbconvert_exporter": "python",
   "pygments_lexer": "ipython3",
   "version": "3.7.6"
  }
 },
 "nbformat": 4,
 "nbformat_minor": 2
}
